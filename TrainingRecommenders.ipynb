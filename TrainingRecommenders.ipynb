{
 "cells": [
  {
   "cell_type": "code",
   "execution_count": 102,
   "id": "9cf11ddb",
   "metadata": {},
   "outputs": [
    {
     "data": {
      "text/html": [
       "        <script type=\"text/javascript\">\n",
       "        window.PlotlyConfig = {MathJaxConfig: 'local'};\n",
       "        if (window.MathJax && window.MathJax.Hub && window.MathJax.Hub.Config) {window.MathJax.Hub.Config({SVG: {font: \"STIX-Web\"}});}\n",
       "        if (typeof require !== 'undefined') {\n",
       "        require.undef(\"plotly\");\n",
       "        requirejs.config({\n",
       "            paths: {\n",
       "                'plotly': ['https://cdn.plot.ly/plotly-2.12.1.min']\n",
       "            }\n",
       "        });\n",
       "        require(['plotly'], function(Plotly) {\n",
       "            window._Plotly = Plotly;\n",
       "        });\n",
       "        }\n",
       "        </script>\n",
       "        "
      ]
     },
     "metadata": {},
     "output_type": "display_data"
    }
   ],
   "source": [
    "import pandas as pd\n",
    "import numpy as np\n",
    "import seaborn as sns\n",
    "import matplotlib.pyplot as plt\n",
    "from plotly.offline import init_notebook_mode, plot, iplot\n",
    "import plotly.graph_objs as go\n",
    "init_notebook_mode(connected=True)\n",
    "from collections import deque\n",
    "\n",
    "# To compute similarities between vectors\n",
    "from sklearn.metrics import mean_squared_error\n",
    "from sklearn.metrics.pairwise import cosine_similarity\n",
    "from sklearn.feature_extraction.text import TfidfVectorizer\n",
    "\n",
    "# To create deep learning models\n",
    "from keras.layers import Input, Embedding, Reshape, Dot, Concatenate, Dense, Dropout\n",
    "from keras.models import Model\n",
    "from sklearn.model_selection import train_test_split\n",
    "\n",
    "# To create sparse matrices\n",
    "from scipy.sparse import coo_matrix\n",
    "\n",
    "# To stack sparse matrices\n",
    "from scipy.sparse import vstack"
   ]
  },
  {
   "cell_type": "code",
   "execution_count": 103,
   "id": "997fa44f",
   "metadata": {},
   "outputs": [],
   "source": [
    "df_use = pd.read_csv('df_use.csv')\n",
    "users = pd.read_parquet('reviewed_users.parquet', engine='pyarrow')\n",
    "reviews = pd.read_parquet('reviews.parq', engine='pyarrow')\n",
    "df_titles = pd.read_csv(\"df_titles.csv\", index_col='sid')"
   ]
  },
  {
   "cell_type": "code",
   "execution_count": 104,
   "id": "a9726d70",
   "metadata": {},
   "outputs": [
    {
     "data": {
      "text/html": [
       "<div>\n",
       "<style scoped>\n",
       "    .dataframe tbody tr th:only-of-type {\n",
       "        vertical-align: middle;\n",
       "    }\n",
       "\n",
       "    .dataframe tbody tr th {\n",
       "        vertical-align: top;\n",
       "    }\n",
       "\n",
       "    .dataframe thead th {\n",
       "        text-align: right;\n",
       "    }\n",
       "</style>\n",
       "<table border=\"1\" class=\"dataframe\">\n",
       "  <thead>\n",
       "    <tr style=\"text-align: right;\">\n",
       "      <th></th>\n",
       "      <th>Name</th>\n",
       "    </tr>\n",
       "    <tr>\n",
       "      <th>sid</th>\n",
       "      <th></th>\n",
       "    </tr>\n",
       "  </thead>\n",
       "  <tbody>\n",
       "    <tr>\n",
       "      <th>15673</th>\n",
       "      <td>tunnel</td>\n",
       "    </tr>\n",
       "    <tr>\n",
       "      <th>40541</th>\n",
       "      <td>twenty-five twenty-one</td>\n",
       "    </tr>\n",
       "    <tr>\n",
       "      <th>26981</th>\n",
       "      <td>dr. romantic season 2</td>\n",
       "    </tr>\n",
       "    <tr>\n",
       "      <th>29419</th>\n",
       "      <td>move to heaven</td>\n",
       "    </tr>\n",
       "    <tr>\n",
       "      <th>17517</th>\n",
       "      <td>the king’s avatar</td>\n",
       "    </tr>\n",
       "  </tbody>\n",
       "</table>\n",
       "</div>"
      ],
      "text/plain": [
       "                         Name\n",
       "sid                          \n",
       "15673                  tunnel\n",
       "40541  twenty-five twenty-one\n",
       "26981   dr. romantic season 2\n",
       "29419          move to heaven\n",
       "17517       the king’s avatar"
      ]
     },
     "execution_count": 104,
     "metadata": {},
     "output_type": "execute_result"
    }
   ],
   "source": [
    "df_titles.head()"
   ]
  },
  {
   "cell_type": "markdown",
   "id": "95d3089a",
   "metadata": {},
   "source": [
    "## Starting the training and recomm"
   ]
  },
  {
   "cell_type": "code",
   "execution_count": 105,
   "id": "631b8dab",
   "metadata": {},
   "outputs": [],
   "source": [
    "## lets take only a sample for training and testing first\n",
    "# this shuffles and takes random samples\n",
    "# for a fixed number of samples\n",
    "#reviews = reviews.sample(n=1000000)\n",
    "\n",
    "# for a percentage \n",
    "reviews = reviews.sample(frac=1).reset_index(drop=True)"
   ]
  },
  {
   "cell_type": "code",
   "execution_count": 106,
   "id": "e66f48d9",
   "metadata": {},
   "outputs": [
    {
     "name": "stdout",
     "output_type": "stream",
     "text": [
      "<class 'pandas.core.frame.DataFrame'>\n",
      "RangeIndex: 3595051 entries, 0 to 3595050\n",
      "Data columns (total 3 columns):\n",
      " #   Column  Dtype  \n",
      "---  ------  -----  \n",
      " 0   User    int64  \n",
      " 1   Rating  float64\n",
      " 2   Drama   int64  \n",
      "dtypes: float64(1), int64(2)\n",
      "memory usage: 82.3 MB\n"
     ]
    }
   ],
   "source": [
    "reviews.info()"
   ]
  },
  {
   "cell_type": "code",
   "execution_count": 107,
   "id": "105b0b4e",
   "metadata": {},
   "outputs": [],
   "source": [
    "#for deep learning, think about taking only a certain amount not the whole amount. cos df has over 3 million reviews"
   ]
  },
  {
   "cell_type": "code",
   "execution_count": 108,
   "id": "588e914f",
   "metadata": {},
   "outputs": [],
   "source": [
    "# splitting into test and train \n",
    "# Testingsize\n",
    "# n = 100000\n",
    "\n",
    "# # Split train- & testset\n",
    "# df_train = reviews[:-n]\n",
    "# df_test = reviews[-n:]\n",
    "\n",
    "# taking only 10% of data for testing \n",
    "df_train, df_test = train_test_split(reviews, test_size=0.10, random_state=42)"
   ]
  },
  {
   "cell_type": "code",
   "execution_count": 109,
   "id": "2243744b",
   "metadata": {},
   "outputs": [
    {
     "name": "stdout",
     "output_type": "stream",
     "text": [
      "<class 'pandas.core.frame.DataFrame'>\n",
      "Int64Index: 3235545 entries, 1224085 to 2219110\n",
      "Data columns (total 3 columns):\n",
      " #   Column  Dtype  \n",
      "---  ------  -----  \n",
      " 0   User    int64  \n",
      " 1   Rating  float64\n",
      " 2   Drama   int64  \n",
      "dtypes: float64(1), int64(2)\n",
      "memory usage: 98.7 MB\n"
     ]
    }
   ],
   "source": [
    "df_train.info()"
   ]
  },
  {
   "cell_type": "code",
   "execution_count": 110,
   "id": "3cda37b2",
   "metadata": {},
   "outputs": [
    {
     "name": "stdout",
     "output_type": "stream",
     "text": [
      "Shape User-Drama-Matrix:\t(10873, 3346)\n"
     ]
    },
    {
     "data": {
      "text/html": [
       "<div>\n",
       "<style scoped>\n",
       "    .dataframe tbody tr th:only-of-type {\n",
       "        vertical-align: middle;\n",
       "    }\n",
       "\n",
       "    .dataframe tbody tr th {\n",
       "        vertical-align: top;\n",
       "    }\n",
       "\n",
       "    .dataframe thead th {\n",
       "        text-align: right;\n",
       "    }\n",
       "</style>\n",
       "<table border=\"1\" class=\"dataframe\">\n",
       "  <thead>\n",
       "    <tr style=\"text-align: right;\">\n",
       "      <th>Drama</th>\n",
       "      <th>1</th>\n",
       "      <th>7</th>\n",
       "      <th>9</th>\n",
       "      <th>10</th>\n",
       "      <th>11</th>\n",
       "      <th>13</th>\n",
       "      <th>14</th>\n",
       "      <th>15</th>\n",
       "      <th>17</th>\n",
       "      <th>18</th>\n",
       "      <th>...</th>\n",
       "      <th>44437</th>\n",
       "      <th>44472</th>\n",
       "      <th>44543</th>\n",
       "      <th>44690</th>\n",
       "      <th>44721</th>\n",
       "      <th>44909</th>\n",
       "      <th>45026</th>\n",
       "      <th>45472</th>\n",
       "      <th>45613</th>\n",
       "      <th>45877</th>\n",
       "    </tr>\n",
       "    <tr>\n",
       "      <th>User</th>\n",
       "      <th></th>\n",
       "      <th></th>\n",
       "      <th></th>\n",
       "      <th></th>\n",
       "      <th></th>\n",
       "      <th></th>\n",
       "      <th></th>\n",
       "      <th></th>\n",
       "      <th></th>\n",
       "      <th></th>\n",
       "      <th></th>\n",
       "      <th></th>\n",
       "      <th></th>\n",
       "      <th></th>\n",
       "      <th></th>\n",
       "      <th></th>\n",
       "      <th></th>\n",
       "      <th></th>\n",
       "      <th></th>\n",
       "      <th></th>\n",
       "      <th></th>\n",
       "    </tr>\n",
       "  </thead>\n",
       "  <tbody>\n",
       "    <tr>\n",
       "      <th>1</th>\n",
       "      <td>NaN</td>\n",
       "      <td>NaN</td>\n",
       "      <td>NaN</td>\n",
       "      <td>NaN</td>\n",
       "      <td>NaN</td>\n",
       "      <td>NaN</td>\n",
       "      <td>NaN</td>\n",
       "      <td>NaN</td>\n",
       "      <td>NaN</td>\n",
       "      <td>NaN</td>\n",
       "      <td>...</td>\n",
       "      <td>NaN</td>\n",
       "      <td>NaN</td>\n",
       "      <td>NaN</td>\n",
       "      <td>NaN</td>\n",
       "      <td>NaN</td>\n",
       "      <td>NaN</td>\n",
       "      <td>NaN</td>\n",
       "      <td>NaN</td>\n",
       "      <td>NaN</td>\n",
       "      <td>NaN</td>\n",
       "    </tr>\n",
       "    <tr>\n",
       "      <th>6</th>\n",
       "      <td>9.0</td>\n",
       "      <td>6.5</td>\n",
       "      <td>NaN</td>\n",
       "      <td>NaN</td>\n",
       "      <td>NaN</td>\n",
       "      <td>NaN</td>\n",
       "      <td>NaN</td>\n",
       "      <td>NaN</td>\n",
       "      <td>NaN</td>\n",
       "      <td>8.0</td>\n",
       "      <td>...</td>\n",
       "      <td>NaN</td>\n",
       "      <td>NaN</td>\n",
       "      <td>NaN</td>\n",
       "      <td>NaN</td>\n",
       "      <td>NaN</td>\n",
       "      <td>NaN</td>\n",
       "      <td>NaN</td>\n",
       "      <td>NaN</td>\n",
       "      <td>NaN</td>\n",
       "      <td>NaN</td>\n",
       "    </tr>\n",
       "    <tr>\n",
       "      <th>10</th>\n",
       "      <td>NaN</td>\n",
       "      <td>9.5</td>\n",
       "      <td>NaN</td>\n",
       "      <td>NaN</td>\n",
       "      <td>NaN</td>\n",
       "      <td>NaN</td>\n",
       "      <td>NaN</td>\n",
       "      <td>NaN</td>\n",
       "      <td>9.0</td>\n",
       "      <td>10.0</td>\n",
       "      <td>...</td>\n",
       "      <td>NaN</td>\n",
       "      <td>NaN</td>\n",
       "      <td>NaN</td>\n",
       "      <td>NaN</td>\n",
       "      <td>NaN</td>\n",
       "      <td>NaN</td>\n",
       "      <td>NaN</td>\n",
       "      <td>NaN</td>\n",
       "      <td>NaN</td>\n",
       "      <td>NaN</td>\n",
       "    </tr>\n",
       "    <tr>\n",
       "      <th>12</th>\n",
       "      <td>9.5</td>\n",
       "      <td>8.5</td>\n",
       "      <td>NaN</td>\n",
       "      <td>NaN</td>\n",
       "      <td>NaN</td>\n",
       "      <td>NaN</td>\n",
       "      <td>NaN</td>\n",
       "      <td>NaN</td>\n",
       "      <td>NaN</td>\n",
       "      <td>NaN</td>\n",
       "      <td>...</td>\n",
       "      <td>NaN</td>\n",
       "      <td>NaN</td>\n",
       "      <td>NaN</td>\n",
       "      <td>NaN</td>\n",
       "      <td>NaN</td>\n",
       "      <td>NaN</td>\n",
       "      <td>NaN</td>\n",
       "      <td>NaN</td>\n",
       "      <td>NaN</td>\n",
       "      <td>NaN</td>\n",
       "    </tr>\n",
       "    <tr>\n",
       "      <th>23</th>\n",
       "      <td>10.0</td>\n",
       "      <td>10.0</td>\n",
       "      <td>NaN</td>\n",
       "      <td>NaN</td>\n",
       "      <td>NaN</td>\n",
       "      <td>NaN</td>\n",
       "      <td>NaN</td>\n",
       "      <td>NaN</td>\n",
       "      <td>9.0</td>\n",
       "      <td>9.0</td>\n",
       "      <td>...</td>\n",
       "      <td>NaN</td>\n",
       "      <td>NaN</td>\n",
       "      <td>NaN</td>\n",
       "      <td>NaN</td>\n",
       "      <td>NaN</td>\n",
       "      <td>NaN</td>\n",
       "      <td>NaN</td>\n",
       "      <td>NaN</td>\n",
       "      <td>NaN</td>\n",
       "      <td>NaN</td>\n",
       "    </tr>\n",
       "    <tr>\n",
       "      <th>...</th>\n",
       "      <td>...</td>\n",
       "      <td>...</td>\n",
       "      <td>...</td>\n",
       "      <td>...</td>\n",
       "      <td>...</td>\n",
       "      <td>...</td>\n",
       "      <td>...</td>\n",
       "      <td>...</td>\n",
       "      <td>...</td>\n",
       "      <td>...</td>\n",
       "      <td>...</td>\n",
       "      <td>...</td>\n",
       "      <td>...</td>\n",
       "      <td>...</td>\n",
       "      <td>...</td>\n",
       "      <td>...</td>\n",
       "      <td>...</td>\n",
       "      <td>...</td>\n",
       "      <td>...</td>\n",
       "      <td>...</td>\n",
       "      <td>...</td>\n",
       "    </tr>\n",
       "    <tr>\n",
       "      <th>84562</th>\n",
       "      <td>8.0</td>\n",
       "      <td>8.0</td>\n",
       "      <td>NaN</td>\n",
       "      <td>NaN</td>\n",
       "      <td>7.0</td>\n",
       "      <td>NaN</td>\n",
       "      <td>NaN</td>\n",
       "      <td>NaN</td>\n",
       "      <td>NaN</td>\n",
       "      <td>9.0</td>\n",
       "      <td>...</td>\n",
       "      <td>NaN</td>\n",
       "      <td>NaN</td>\n",
       "      <td>NaN</td>\n",
       "      <td>NaN</td>\n",
       "      <td>NaN</td>\n",
       "      <td>NaN</td>\n",
       "      <td>NaN</td>\n",
       "      <td>NaN</td>\n",
       "      <td>NaN</td>\n",
       "      <td>NaN</td>\n",
       "    </tr>\n",
       "    <tr>\n",
       "      <th>84581</th>\n",
       "      <td>NaN</td>\n",
       "      <td>NaN</td>\n",
       "      <td>NaN</td>\n",
       "      <td>NaN</td>\n",
       "      <td>NaN</td>\n",
       "      <td>NaN</td>\n",
       "      <td>NaN</td>\n",
       "      <td>NaN</td>\n",
       "      <td>NaN</td>\n",
       "      <td>NaN</td>\n",
       "      <td>...</td>\n",
       "      <td>NaN</td>\n",
       "      <td>NaN</td>\n",
       "      <td>NaN</td>\n",
       "      <td>NaN</td>\n",
       "      <td>NaN</td>\n",
       "      <td>NaN</td>\n",
       "      <td>NaN</td>\n",
       "      <td>NaN</td>\n",
       "      <td>NaN</td>\n",
       "      <td>NaN</td>\n",
       "    </tr>\n",
       "    <tr>\n",
       "      <th>84597</th>\n",
       "      <td>NaN</td>\n",
       "      <td>7.5</td>\n",
       "      <td>NaN</td>\n",
       "      <td>NaN</td>\n",
       "      <td>NaN</td>\n",
       "      <td>NaN</td>\n",
       "      <td>NaN</td>\n",
       "      <td>NaN</td>\n",
       "      <td>NaN</td>\n",
       "      <td>NaN</td>\n",
       "      <td>...</td>\n",
       "      <td>NaN</td>\n",
       "      <td>NaN</td>\n",
       "      <td>NaN</td>\n",
       "      <td>NaN</td>\n",
       "      <td>NaN</td>\n",
       "      <td>NaN</td>\n",
       "      <td>NaN</td>\n",
       "      <td>NaN</td>\n",
       "      <td>NaN</td>\n",
       "      <td>NaN</td>\n",
       "    </tr>\n",
       "    <tr>\n",
       "      <th>84600</th>\n",
       "      <td>NaN</td>\n",
       "      <td>NaN</td>\n",
       "      <td>NaN</td>\n",
       "      <td>NaN</td>\n",
       "      <td>NaN</td>\n",
       "      <td>NaN</td>\n",
       "      <td>NaN</td>\n",
       "      <td>NaN</td>\n",
       "      <td>NaN</td>\n",
       "      <td>NaN</td>\n",
       "      <td>...</td>\n",
       "      <td>NaN</td>\n",
       "      <td>NaN</td>\n",
       "      <td>NaN</td>\n",
       "      <td>NaN</td>\n",
       "      <td>NaN</td>\n",
       "      <td>NaN</td>\n",
       "      <td>NaN</td>\n",
       "      <td>NaN</td>\n",
       "      <td>NaN</td>\n",
       "      <td>NaN</td>\n",
       "    </tr>\n",
       "    <tr>\n",
       "      <th>84605</th>\n",
       "      <td>NaN</td>\n",
       "      <td>8.5</td>\n",
       "      <td>NaN</td>\n",
       "      <td>NaN</td>\n",
       "      <td>NaN</td>\n",
       "      <td>NaN</td>\n",
       "      <td>NaN</td>\n",
       "      <td>NaN</td>\n",
       "      <td>NaN</td>\n",
       "      <td>8.0</td>\n",
       "      <td>...</td>\n",
       "      <td>NaN</td>\n",
       "      <td>NaN</td>\n",
       "      <td>NaN</td>\n",
       "      <td>NaN</td>\n",
       "      <td>NaN</td>\n",
       "      <td>NaN</td>\n",
       "      <td>NaN</td>\n",
       "      <td>NaN</td>\n",
       "      <td>NaN</td>\n",
       "      <td>NaN</td>\n",
       "    </tr>\n",
       "  </tbody>\n",
       "</table>\n",
       "<p>10873 rows × 3346 columns</p>\n",
       "</div>"
      ],
      "text/plain": [
       "Drama  1      7      9      10     11     13     14     15     17     18     \\\n",
       "User                                                                          \n",
       "1        NaN    NaN    NaN    NaN    NaN    NaN    NaN    NaN    NaN    NaN   \n",
       "6        9.0    6.5    NaN    NaN    NaN    NaN    NaN    NaN    NaN    8.0   \n",
       "10       NaN    9.5    NaN    NaN    NaN    NaN    NaN    NaN    9.0   10.0   \n",
       "12       9.5    8.5    NaN    NaN    NaN    NaN    NaN    NaN    NaN    NaN   \n",
       "23      10.0   10.0    NaN    NaN    NaN    NaN    NaN    NaN    9.0    9.0   \n",
       "...      ...    ...    ...    ...    ...    ...    ...    ...    ...    ...   \n",
       "84562    8.0    8.0    NaN    NaN    7.0    NaN    NaN    NaN    NaN    9.0   \n",
       "84581    NaN    NaN    NaN    NaN    NaN    NaN    NaN    NaN    NaN    NaN   \n",
       "84597    NaN    7.5    NaN    NaN    NaN    NaN    NaN    NaN    NaN    NaN   \n",
       "84600    NaN    NaN    NaN    NaN    NaN    NaN    NaN    NaN    NaN    NaN   \n",
       "84605    NaN    8.5    NaN    NaN    NaN    NaN    NaN    NaN    NaN    8.0   \n",
       "\n",
       "Drama  ...  44437  44472  44543  44690  44721  44909  45026  45472  45613  \\\n",
       "User   ...                                                                  \n",
       "1      ...    NaN    NaN    NaN    NaN    NaN    NaN    NaN    NaN    NaN   \n",
       "6      ...    NaN    NaN    NaN    NaN    NaN    NaN    NaN    NaN    NaN   \n",
       "10     ...    NaN    NaN    NaN    NaN    NaN    NaN    NaN    NaN    NaN   \n",
       "12     ...    NaN    NaN    NaN    NaN    NaN    NaN    NaN    NaN    NaN   \n",
       "23     ...    NaN    NaN    NaN    NaN    NaN    NaN    NaN    NaN    NaN   \n",
       "...    ...    ...    ...    ...    ...    ...    ...    ...    ...    ...   \n",
       "84562  ...    NaN    NaN    NaN    NaN    NaN    NaN    NaN    NaN    NaN   \n",
       "84581  ...    NaN    NaN    NaN    NaN    NaN    NaN    NaN    NaN    NaN   \n",
       "84597  ...    NaN    NaN    NaN    NaN    NaN    NaN    NaN    NaN    NaN   \n",
       "84600  ...    NaN    NaN    NaN    NaN    NaN    NaN    NaN    NaN    NaN   \n",
       "84605  ...    NaN    NaN    NaN    NaN    NaN    NaN    NaN    NaN    NaN   \n",
       "\n",
       "Drama  45877  \n",
       "User          \n",
       "1        NaN  \n",
       "6        NaN  \n",
       "10       NaN  \n",
       "12       NaN  \n",
       "23       NaN  \n",
       "...      ...  \n",
       "84562    NaN  \n",
       "84581    NaN  \n",
       "84597    NaN  \n",
       "84600    NaN  \n",
       "84605    NaN  \n",
       "\n",
       "[10873 rows x 3346 columns]"
      ]
     },
     "execution_count": 110,
     "metadata": {},
     "output_type": "execute_result"
    }
   ],
   "source": [
    "# Create a user-movie matrix with empty values\n",
    "df_p = df_train.pivot_table(index='User', columns='Drama', values='Rating')\n",
    "print('Shape User-Drama-Matrix:\\t{}'.format(df_p.shape))\n",
    "df_p"
   ]
  },
  {
   "cell_type": "code",
   "execution_count": 111,
   "id": "65281cc6",
   "metadata": {},
   "outputs": [
    {
     "name": "stdout",
     "output_type": "stream",
     "text": [
      "NaNs in y_true: 0\n",
      "NaNs in y_pred: 0\n"
     ]
    }
   ],
   "source": [
    "# Top n movies\n",
    "n = 10\n",
    "\n",
    "# Computing the mean rating for all movies\n",
    "ratings_mean = df_p.mean(axis=0).sort_values(ascending=False).rename('Rating-Mean').to_frame()\n",
    "\n",
    "# Counting the ratings for all movies\n",
    "ratings_count = df_p.count(axis=0).rename('Rating-Count').to_frame()\n",
    "\n",
    "# Combining the ratings_mean, ratings_count and movie_titles\n",
    "ranking_mean_rating = ratings_mean.head(n).join(ratings_count).join(df_titles)\n",
    "\n",
    "\n",
    "# Join labels and predictions\n",
    "df_prediction = df_test.set_index('Drama').join(ratings_mean)[['Rating', 'Rating-Mean']]\n",
    "y_true = df_prediction['Rating']\n",
    "y_pred = df_prediction['Rating-Mean']\n",
    "\n",
    "# Check for NaNs in both y_true and y_pred\n",
    "nan_in_y_true = y_true.isna().sum()\n",
    "nan_in_y_pred = y_pred.isna().sum()\n",
    "\n",
    "print(f\"NaNs in y_true: {nan_in_y_true}\")\n",
    "print(f\"NaNs in y_pred: {nan_in_y_pred}\")\n",
    "\n",
    "# had a problem with NAN values in my dataset. \n",
    "# so may have to remove rows with NaNs in either column beforehand\n",
    "#df_prediction = df_prediction.dropna(subset=['Rating', 'Rating-Mean'])\n",
    "\n",
    "# Or we can impute NaNs instead by using the mean\n",
    "df_prediction['Rating'].fillna(df_prediction['Rating'].mean(), inplace=True)\n",
    "df_prediction['Rating-Mean'].fillna(df_prediction['Rating-Mean'].mean(), inplace=True)\n",
    "\n",
    "# Update y_true and y_pred after handling NaNs\n",
    "y_true = df_prediction['Rating']\n",
    "y_pred = df_prediction['Rating-Mean']\n",
    "\n",
    "# Compute RMSE\n",
    "rmse = np.sqrt(mean_squared_error(y_true=y_true, y_pred=y_pred))\n",
    "\n",
    "# must check if nans in data:"
   ]
  },
  {
   "cell_type": "code",
   "execution_count": 112,
   "id": "3bafbc8c",
   "metadata": {},
   "outputs": [
    {
     "data": {
      "application/vnd.plotly.v1+json": {
       "config": {
        "linkText": "Export to plot.ly",
        "plotlyServerURL": "https://plot.ly",
        "showLink": false
       },
       "data": [
        {
         "marker": {
          "color": "#db0000"
         },
         "orientation": "h",
         "text": [
          "move to heaven: 3502 Ratings",
          "reset: 1989 Ratings",
          "hospital playlist season 2: 3053 Ratings",
          "flower of evil: 5095 Ratings",
          "bad buddy: 2312 Ratings",
          "prison playbook: 3729 Ratings",
          "hospital playlist: 4452 Ratings",
          "healer: 7623 Ratings",
          "the untamed: 3183 Ratings",
          "it's okay to not be okay: 6737 Ratings"
         ],
         "textfont": {
          "color": "#000000"
         },
         "textposition": "outside",
         "type": "bar",
         "x": [
          8.710308395202741,
          8.540221216691805,
          8.512610547002948,
          8.463199214916585,
          8.397058823529411,
          8.381201394475731,
          8.377920035938903,
          8.3627836809655,
          8.36129437637449,
          8.352233932017219
         ],
         "y": [
          1,
          2,
          3,
          4,
          5,
          6,
          7,
          8,
          9,
          10
         ]
        }
       ],
       "layout": {
        "template": {
         "data": {
          "bar": [
           {
            "error_x": {
             "color": "#2a3f5f"
            },
            "error_y": {
             "color": "#2a3f5f"
            },
            "marker": {
             "line": {
              "color": "#E5ECF6",
              "width": 0.5
             },
             "pattern": {
              "fillmode": "overlay",
              "size": 10,
              "solidity": 0.2
             }
            },
            "type": "bar"
           }
          ],
          "barpolar": [
           {
            "marker": {
             "line": {
              "color": "#E5ECF6",
              "width": 0.5
             },
             "pattern": {
              "fillmode": "overlay",
              "size": 10,
              "solidity": 0.2
             }
            },
            "type": "barpolar"
           }
          ],
          "carpet": [
           {
            "aaxis": {
             "endlinecolor": "#2a3f5f",
             "gridcolor": "white",
             "linecolor": "white",
             "minorgridcolor": "white",
             "startlinecolor": "#2a3f5f"
            },
            "baxis": {
             "endlinecolor": "#2a3f5f",
             "gridcolor": "white",
             "linecolor": "white",
             "minorgridcolor": "white",
             "startlinecolor": "#2a3f5f"
            },
            "type": "carpet"
           }
          ],
          "choropleth": [
           {
            "colorbar": {
             "outlinewidth": 0,
             "ticks": ""
            },
            "type": "choropleth"
           }
          ],
          "contour": [
           {
            "colorbar": {
             "outlinewidth": 0,
             "ticks": ""
            },
            "colorscale": [
             [
              0,
              "#0d0887"
             ],
             [
              0.1111111111111111,
              "#46039f"
             ],
             [
              0.2222222222222222,
              "#7201a8"
             ],
             [
              0.3333333333333333,
              "#9c179e"
             ],
             [
              0.4444444444444444,
              "#bd3786"
             ],
             [
              0.5555555555555556,
              "#d8576b"
             ],
             [
              0.6666666666666666,
              "#ed7953"
             ],
             [
              0.7777777777777778,
              "#fb9f3a"
             ],
             [
              0.8888888888888888,
              "#fdca26"
             ],
             [
              1,
              "#f0f921"
             ]
            ],
            "type": "contour"
           }
          ],
          "contourcarpet": [
           {
            "colorbar": {
             "outlinewidth": 0,
             "ticks": ""
            },
            "type": "contourcarpet"
           }
          ],
          "heatmap": [
           {
            "colorbar": {
             "outlinewidth": 0,
             "ticks": ""
            },
            "colorscale": [
             [
              0,
              "#0d0887"
             ],
             [
              0.1111111111111111,
              "#46039f"
             ],
             [
              0.2222222222222222,
              "#7201a8"
             ],
             [
              0.3333333333333333,
              "#9c179e"
             ],
             [
              0.4444444444444444,
              "#bd3786"
             ],
             [
              0.5555555555555556,
              "#d8576b"
             ],
             [
              0.6666666666666666,
              "#ed7953"
             ],
             [
              0.7777777777777778,
              "#fb9f3a"
             ],
             [
              0.8888888888888888,
              "#fdca26"
             ],
             [
              1,
              "#f0f921"
             ]
            ],
            "type": "heatmap"
           }
          ],
          "heatmapgl": [
           {
            "colorbar": {
             "outlinewidth": 0,
             "ticks": ""
            },
            "colorscale": [
             [
              0,
              "#0d0887"
             ],
             [
              0.1111111111111111,
              "#46039f"
             ],
             [
              0.2222222222222222,
              "#7201a8"
             ],
             [
              0.3333333333333333,
              "#9c179e"
             ],
             [
              0.4444444444444444,
              "#bd3786"
             ],
             [
              0.5555555555555556,
              "#d8576b"
             ],
             [
              0.6666666666666666,
              "#ed7953"
             ],
             [
              0.7777777777777778,
              "#fb9f3a"
             ],
             [
              0.8888888888888888,
              "#fdca26"
             ],
             [
              1,
              "#f0f921"
             ]
            ],
            "type": "heatmapgl"
           }
          ],
          "histogram": [
           {
            "marker": {
             "pattern": {
              "fillmode": "overlay",
              "size": 10,
              "solidity": 0.2
             }
            },
            "type": "histogram"
           }
          ],
          "histogram2d": [
           {
            "colorbar": {
             "outlinewidth": 0,
             "ticks": ""
            },
            "colorscale": [
             [
              0,
              "#0d0887"
             ],
             [
              0.1111111111111111,
              "#46039f"
             ],
             [
              0.2222222222222222,
              "#7201a8"
             ],
             [
              0.3333333333333333,
              "#9c179e"
             ],
             [
              0.4444444444444444,
              "#bd3786"
             ],
             [
              0.5555555555555556,
              "#d8576b"
             ],
             [
              0.6666666666666666,
              "#ed7953"
             ],
             [
              0.7777777777777778,
              "#fb9f3a"
             ],
             [
              0.8888888888888888,
              "#fdca26"
             ],
             [
              1,
              "#f0f921"
             ]
            ],
            "type": "histogram2d"
           }
          ],
          "histogram2dcontour": [
           {
            "colorbar": {
             "outlinewidth": 0,
             "ticks": ""
            },
            "colorscale": [
             [
              0,
              "#0d0887"
             ],
             [
              0.1111111111111111,
              "#46039f"
             ],
             [
              0.2222222222222222,
              "#7201a8"
             ],
             [
              0.3333333333333333,
              "#9c179e"
             ],
             [
              0.4444444444444444,
              "#bd3786"
             ],
             [
              0.5555555555555556,
              "#d8576b"
             ],
             [
              0.6666666666666666,
              "#ed7953"
             ],
             [
              0.7777777777777778,
              "#fb9f3a"
             ],
             [
              0.8888888888888888,
              "#fdca26"
             ],
             [
              1,
              "#f0f921"
             ]
            ],
            "type": "histogram2dcontour"
           }
          ],
          "mesh3d": [
           {
            "colorbar": {
             "outlinewidth": 0,
             "ticks": ""
            },
            "type": "mesh3d"
           }
          ],
          "parcoords": [
           {
            "line": {
             "colorbar": {
              "outlinewidth": 0,
              "ticks": ""
             }
            },
            "type": "parcoords"
           }
          ],
          "pie": [
           {
            "automargin": true,
            "type": "pie"
           }
          ],
          "scatter": [
           {
            "fillpattern": {
             "fillmode": "overlay",
             "size": 10,
             "solidity": 0.2
            },
            "type": "scatter"
           }
          ],
          "scatter3d": [
           {
            "line": {
             "colorbar": {
              "outlinewidth": 0,
              "ticks": ""
             }
            },
            "marker": {
             "colorbar": {
              "outlinewidth": 0,
              "ticks": ""
             }
            },
            "type": "scatter3d"
           }
          ],
          "scattercarpet": [
           {
            "marker": {
             "colorbar": {
              "outlinewidth": 0,
              "ticks": ""
             }
            },
            "type": "scattercarpet"
           }
          ],
          "scattergeo": [
           {
            "marker": {
             "colorbar": {
              "outlinewidth": 0,
              "ticks": ""
             }
            },
            "type": "scattergeo"
           }
          ],
          "scattergl": [
           {
            "marker": {
             "colorbar": {
              "outlinewidth": 0,
              "ticks": ""
             }
            },
            "type": "scattergl"
           }
          ],
          "scattermapbox": [
           {
            "marker": {
             "colorbar": {
              "outlinewidth": 0,
              "ticks": ""
             }
            },
            "type": "scattermapbox"
           }
          ],
          "scatterpolar": [
           {
            "marker": {
             "colorbar": {
              "outlinewidth": 0,
              "ticks": ""
             }
            },
            "type": "scatterpolar"
           }
          ],
          "scatterpolargl": [
           {
            "marker": {
             "colorbar": {
              "outlinewidth": 0,
              "ticks": ""
             }
            },
            "type": "scatterpolargl"
           }
          ],
          "scatterternary": [
           {
            "marker": {
             "colorbar": {
              "outlinewidth": 0,
              "ticks": ""
             }
            },
            "type": "scatterternary"
           }
          ],
          "surface": [
           {
            "colorbar": {
             "outlinewidth": 0,
             "ticks": ""
            },
            "colorscale": [
             [
              0,
              "#0d0887"
             ],
             [
              0.1111111111111111,
              "#46039f"
             ],
             [
              0.2222222222222222,
              "#7201a8"
             ],
             [
              0.3333333333333333,
              "#9c179e"
             ],
             [
              0.4444444444444444,
              "#bd3786"
             ],
             [
              0.5555555555555556,
              "#d8576b"
             ],
             [
              0.6666666666666666,
              "#ed7953"
             ],
             [
              0.7777777777777778,
              "#fb9f3a"
             ],
             [
              0.8888888888888888,
              "#fdca26"
             ],
             [
              1,
              "#f0f921"
             ]
            ],
            "type": "surface"
           }
          ],
          "table": [
           {
            "cells": {
             "fill": {
              "color": "#EBF0F8"
             },
             "line": {
              "color": "white"
             }
            },
            "header": {
             "fill": {
              "color": "#C8D4E3"
             },
             "line": {
              "color": "white"
             }
            },
            "type": "table"
           }
          ]
         },
         "layout": {
          "annotationdefaults": {
           "arrowcolor": "#2a3f5f",
           "arrowhead": 0,
           "arrowwidth": 1
          },
          "autotypenumbers": "strict",
          "coloraxis": {
           "colorbar": {
            "outlinewidth": 0,
            "ticks": ""
           }
          },
          "colorscale": {
           "diverging": [
            [
             0,
             "#8e0152"
            ],
            [
             0.1,
             "#c51b7d"
            ],
            [
             0.2,
             "#de77ae"
            ],
            [
             0.3,
             "#f1b6da"
            ],
            [
             0.4,
             "#fde0ef"
            ],
            [
             0.5,
             "#f7f7f7"
            ],
            [
             0.6,
             "#e6f5d0"
            ],
            [
             0.7,
             "#b8e186"
            ],
            [
             0.8,
             "#7fbc41"
            ],
            [
             0.9,
             "#4d9221"
            ],
            [
             1,
             "#276419"
            ]
           ],
           "sequential": [
            [
             0,
             "#0d0887"
            ],
            [
             0.1111111111111111,
             "#46039f"
            ],
            [
             0.2222222222222222,
             "#7201a8"
            ],
            [
             0.3333333333333333,
             "#9c179e"
            ],
            [
             0.4444444444444444,
             "#bd3786"
            ],
            [
             0.5555555555555556,
             "#d8576b"
            ],
            [
             0.6666666666666666,
             "#ed7953"
            ],
            [
             0.7777777777777778,
             "#fb9f3a"
            ],
            [
             0.8888888888888888,
             "#fdca26"
            ],
            [
             1,
             "#f0f921"
            ]
           ],
           "sequentialminus": [
            [
             0,
             "#0d0887"
            ],
            [
             0.1111111111111111,
             "#46039f"
            ],
            [
             0.2222222222222222,
             "#7201a8"
            ],
            [
             0.3333333333333333,
             "#9c179e"
            ],
            [
             0.4444444444444444,
             "#bd3786"
            ],
            [
             0.5555555555555556,
             "#d8576b"
            ],
            [
             0.6666666666666666,
             "#ed7953"
            ],
            [
             0.7777777777777778,
             "#fb9f3a"
            ],
            [
             0.8888888888888888,
             "#fdca26"
            ],
            [
             1,
             "#f0f921"
            ]
           ]
          },
          "colorway": [
           "#636efa",
           "#EF553B",
           "#00cc96",
           "#ab63fa",
           "#FFA15A",
           "#19d3f3",
           "#FF6692",
           "#B6E880",
           "#FF97FF",
           "#FECB52"
          ],
          "font": {
           "color": "#2a3f5f"
          },
          "geo": {
           "bgcolor": "white",
           "lakecolor": "white",
           "landcolor": "#E5ECF6",
           "showlakes": true,
           "showland": true,
           "subunitcolor": "white"
          },
          "hoverlabel": {
           "align": "left"
          },
          "hovermode": "closest",
          "mapbox": {
           "style": "light"
          },
          "paper_bgcolor": "white",
          "plot_bgcolor": "#E5ECF6",
          "polar": {
           "angularaxis": {
            "gridcolor": "white",
            "linecolor": "white",
            "ticks": ""
           },
           "bgcolor": "#E5ECF6",
           "radialaxis": {
            "gridcolor": "white",
            "linecolor": "white",
            "ticks": ""
           }
          },
          "scene": {
           "xaxis": {
            "backgroundcolor": "#E5ECF6",
            "gridcolor": "white",
            "gridwidth": 2,
            "linecolor": "white",
            "showbackground": true,
            "ticks": "",
            "zerolinecolor": "white"
           },
           "yaxis": {
            "backgroundcolor": "#E5ECF6",
            "gridcolor": "white",
            "gridwidth": 2,
            "linecolor": "white",
            "showbackground": true,
            "ticks": "",
            "zerolinecolor": "white"
           },
           "zaxis": {
            "backgroundcolor": "#E5ECF6",
            "gridcolor": "white",
            "gridwidth": 2,
            "linecolor": "white",
            "showbackground": true,
            "ticks": "",
            "zerolinecolor": "white"
           }
          },
          "shapedefaults": {
           "line": {
            "color": "#2a3f5f"
           }
          },
          "ternary": {
           "aaxis": {
            "gridcolor": "white",
            "linecolor": "white",
            "ticks": ""
           },
           "baxis": {
            "gridcolor": "white",
            "linecolor": "white",
            "ticks": ""
           },
           "bgcolor": "#E5ECF6",
           "caxis": {
            "gridcolor": "white",
            "linecolor": "white",
            "ticks": ""
           }
          },
          "title": {
           "x": 0.05
          },
          "xaxis": {
           "automargin": true,
           "gridcolor": "white",
           "linecolor": "white",
           "ticks": "",
           "title": {
            "standoff": 15
           },
           "zerolinecolor": "white",
           "zerolinewidth": 2
          },
          "yaxis": {
           "automargin": true,
           "gridcolor": "white",
           "linecolor": "white",
           "ticks": "",
           "title": {
            "standoff": 15
           },
           "zerolinecolor": "white",
           "zerolinewidth": 2
          }
         }
        },
        "title": {
         "text": "Ranking Of Top 10 Mean-Drama-Ratings: 2.9271 RMSE"
        },
        "xaxis": {
         "range": [
          8,
          10
         ],
         "title": {
          "text": "Mean-Rating"
         }
        },
        "yaxis": {
         "title": {
          "text": "Drama"
         }
        }
       }
      },
      "text/html": [
       "<div>                            <div id=\"2ea8cc9f-ee66-42cd-9d70-22115f510421\" class=\"plotly-graph-div\" style=\"height:525px; width:100%;\"></div>            <script type=\"text/javascript\">                require([\"plotly\"], function(Plotly) {                    window.PLOTLYENV=window.PLOTLYENV || {};                                    if (document.getElementById(\"2ea8cc9f-ee66-42cd-9d70-22115f510421\")) {                    Plotly.newPlot(                        \"2ea8cc9f-ee66-42cd-9d70-22115f510421\",                        [{\"marker\":{\"color\":\"#db0000\"},\"orientation\":\"h\",\"text\":[\"move to heaven: 3502 Ratings\",\"reset: 1989 Ratings\",\"hospital playlist season 2: 3053 Ratings\",\"flower of evil: 5095 Ratings\",\"bad buddy: 2312 Ratings\",\"prison playbook: 3729 Ratings\",\"hospital playlist: 4452 Ratings\",\"healer: 7623 Ratings\",\"the untamed: 3183 Ratings\",\"it's okay to not be okay: 6737 Ratings\"],\"textfont\":{\"color\":\"#000000\"},\"textposition\":\"outside\",\"x\":[8.710308395202741,8.540221216691805,8.512610547002948,8.463199214916585,8.397058823529411,8.381201394475731,8.377920035938903,8.3627836809655,8.36129437637449,8.352233932017219],\"y\":[1,2,3,4,5,6,7,8,9,10],\"type\":\"bar\"}],                        {\"template\":{\"data\":{\"barpolar\":[{\"marker\":{\"line\":{\"color\":\"#E5ECF6\",\"width\":0.5},\"pattern\":{\"fillmode\":\"overlay\",\"size\":10,\"solidity\":0.2}},\"type\":\"barpolar\"}],\"bar\":[{\"error_x\":{\"color\":\"#2a3f5f\"},\"error_y\":{\"color\":\"#2a3f5f\"},\"marker\":{\"line\":{\"color\":\"#E5ECF6\",\"width\":0.5},\"pattern\":{\"fillmode\":\"overlay\",\"size\":10,\"solidity\":0.2}},\"type\":\"bar\"}],\"carpet\":[{\"aaxis\":{\"endlinecolor\":\"#2a3f5f\",\"gridcolor\":\"white\",\"linecolor\":\"white\",\"minorgridcolor\":\"white\",\"startlinecolor\":\"#2a3f5f\"},\"baxis\":{\"endlinecolor\":\"#2a3f5f\",\"gridcolor\":\"white\",\"linecolor\":\"white\",\"minorgridcolor\":\"white\",\"startlinecolor\":\"#2a3f5f\"},\"type\":\"carpet\"}],\"choropleth\":[{\"colorbar\":{\"outlinewidth\":0,\"ticks\":\"\"},\"type\":\"choropleth\"}],\"contourcarpet\":[{\"colorbar\":{\"outlinewidth\":0,\"ticks\":\"\"},\"type\":\"contourcarpet\"}],\"contour\":[{\"colorbar\":{\"outlinewidth\":0,\"ticks\":\"\"},\"colorscale\":[[0.0,\"#0d0887\"],[0.1111111111111111,\"#46039f\"],[0.2222222222222222,\"#7201a8\"],[0.3333333333333333,\"#9c179e\"],[0.4444444444444444,\"#bd3786\"],[0.5555555555555556,\"#d8576b\"],[0.6666666666666666,\"#ed7953\"],[0.7777777777777778,\"#fb9f3a\"],[0.8888888888888888,\"#fdca26\"],[1.0,\"#f0f921\"]],\"type\":\"contour\"}],\"heatmapgl\":[{\"colorbar\":{\"outlinewidth\":0,\"ticks\":\"\"},\"colorscale\":[[0.0,\"#0d0887\"],[0.1111111111111111,\"#46039f\"],[0.2222222222222222,\"#7201a8\"],[0.3333333333333333,\"#9c179e\"],[0.4444444444444444,\"#bd3786\"],[0.5555555555555556,\"#d8576b\"],[0.6666666666666666,\"#ed7953\"],[0.7777777777777778,\"#fb9f3a\"],[0.8888888888888888,\"#fdca26\"],[1.0,\"#f0f921\"]],\"type\":\"heatmapgl\"}],\"heatmap\":[{\"colorbar\":{\"outlinewidth\":0,\"ticks\":\"\"},\"colorscale\":[[0.0,\"#0d0887\"],[0.1111111111111111,\"#46039f\"],[0.2222222222222222,\"#7201a8\"],[0.3333333333333333,\"#9c179e\"],[0.4444444444444444,\"#bd3786\"],[0.5555555555555556,\"#d8576b\"],[0.6666666666666666,\"#ed7953\"],[0.7777777777777778,\"#fb9f3a\"],[0.8888888888888888,\"#fdca26\"],[1.0,\"#f0f921\"]],\"type\":\"heatmap\"}],\"histogram2dcontour\":[{\"colorbar\":{\"outlinewidth\":0,\"ticks\":\"\"},\"colorscale\":[[0.0,\"#0d0887\"],[0.1111111111111111,\"#46039f\"],[0.2222222222222222,\"#7201a8\"],[0.3333333333333333,\"#9c179e\"],[0.4444444444444444,\"#bd3786\"],[0.5555555555555556,\"#d8576b\"],[0.6666666666666666,\"#ed7953\"],[0.7777777777777778,\"#fb9f3a\"],[0.8888888888888888,\"#fdca26\"],[1.0,\"#f0f921\"]],\"type\":\"histogram2dcontour\"}],\"histogram2d\":[{\"colorbar\":{\"outlinewidth\":0,\"ticks\":\"\"},\"colorscale\":[[0.0,\"#0d0887\"],[0.1111111111111111,\"#46039f\"],[0.2222222222222222,\"#7201a8\"],[0.3333333333333333,\"#9c179e\"],[0.4444444444444444,\"#bd3786\"],[0.5555555555555556,\"#d8576b\"],[0.6666666666666666,\"#ed7953\"],[0.7777777777777778,\"#fb9f3a\"],[0.8888888888888888,\"#fdca26\"],[1.0,\"#f0f921\"]],\"type\":\"histogram2d\"}],\"histogram\":[{\"marker\":{\"pattern\":{\"fillmode\":\"overlay\",\"size\":10,\"solidity\":0.2}},\"type\":\"histogram\"}],\"mesh3d\":[{\"colorbar\":{\"outlinewidth\":0,\"ticks\":\"\"},\"type\":\"mesh3d\"}],\"parcoords\":[{\"line\":{\"colorbar\":{\"outlinewidth\":0,\"ticks\":\"\"}},\"type\":\"parcoords\"}],\"pie\":[{\"automargin\":true,\"type\":\"pie\"}],\"scatter3d\":[{\"line\":{\"colorbar\":{\"outlinewidth\":0,\"ticks\":\"\"}},\"marker\":{\"colorbar\":{\"outlinewidth\":0,\"ticks\":\"\"}},\"type\":\"scatter3d\"}],\"scattercarpet\":[{\"marker\":{\"colorbar\":{\"outlinewidth\":0,\"ticks\":\"\"}},\"type\":\"scattercarpet\"}],\"scattergeo\":[{\"marker\":{\"colorbar\":{\"outlinewidth\":0,\"ticks\":\"\"}},\"type\":\"scattergeo\"}],\"scattergl\":[{\"marker\":{\"colorbar\":{\"outlinewidth\":0,\"ticks\":\"\"}},\"type\":\"scattergl\"}],\"scattermapbox\":[{\"marker\":{\"colorbar\":{\"outlinewidth\":0,\"ticks\":\"\"}},\"type\":\"scattermapbox\"}],\"scatterpolargl\":[{\"marker\":{\"colorbar\":{\"outlinewidth\":0,\"ticks\":\"\"}},\"type\":\"scatterpolargl\"}],\"scatterpolar\":[{\"marker\":{\"colorbar\":{\"outlinewidth\":0,\"ticks\":\"\"}},\"type\":\"scatterpolar\"}],\"scatter\":[{\"fillpattern\":{\"fillmode\":\"overlay\",\"size\":10,\"solidity\":0.2},\"type\":\"scatter\"}],\"scatterternary\":[{\"marker\":{\"colorbar\":{\"outlinewidth\":0,\"ticks\":\"\"}},\"type\":\"scatterternary\"}],\"surface\":[{\"colorbar\":{\"outlinewidth\":0,\"ticks\":\"\"},\"colorscale\":[[0.0,\"#0d0887\"],[0.1111111111111111,\"#46039f\"],[0.2222222222222222,\"#7201a8\"],[0.3333333333333333,\"#9c179e\"],[0.4444444444444444,\"#bd3786\"],[0.5555555555555556,\"#d8576b\"],[0.6666666666666666,\"#ed7953\"],[0.7777777777777778,\"#fb9f3a\"],[0.8888888888888888,\"#fdca26\"],[1.0,\"#f0f921\"]],\"type\":\"surface\"}],\"table\":[{\"cells\":{\"fill\":{\"color\":\"#EBF0F8\"},\"line\":{\"color\":\"white\"}},\"header\":{\"fill\":{\"color\":\"#C8D4E3\"},\"line\":{\"color\":\"white\"}},\"type\":\"table\"}]},\"layout\":{\"annotationdefaults\":{\"arrowcolor\":\"#2a3f5f\",\"arrowhead\":0,\"arrowwidth\":1},\"autotypenumbers\":\"strict\",\"coloraxis\":{\"colorbar\":{\"outlinewidth\":0,\"ticks\":\"\"}},\"colorscale\":{\"diverging\":[[0,\"#8e0152\"],[0.1,\"#c51b7d\"],[0.2,\"#de77ae\"],[0.3,\"#f1b6da\"],[0.4,\"#fde0ef\"],[0.5,\"#f7f7f7\"],[0.6,\"#e6f5d0\"],[0.7,\"#b8e186\"],[0.8,\"#7fbc41\"],[0.9,\"#4d9221\"],[1,\"#276419\"]],\"sequential\":[[0.0,\"#0d0887\"],[0.1111111111111111,\"#46039f\"],[0.2222222222222222,\"#7201a8\"],[0.3333333333333333,\"#9c179e\"],[0.4444444444444444,\"#bd3786\"],[0.5555555555555556,\"#d8576b\"],[0.6666666666666666,\"#ed7953\"],[0.7777777777777778,\"#fb9f3a\"],[0.8888888888888888,\"#fdca26\"],[1.0,\"#f0f921\"]],\"sequentialminus\":[[0.0,\"#0d0887\"],[0.1111111111111111,\"#46039f\"],[0.2222222222222222,\"#7201a8\"],[0.3333333333333333,\"#9c179e\"],[0.4444444444444444,\"#bd3786\"],[0.5555555555555556,\"#d8576b\"],[0.6666666666666666,\"#ed7953\"],[0.7777777777777778,\"#fb9f3a\"],[0.8888888888888888,\"#fdca26\"],[1.0,\"#f0f921\"]]},\"colorway\":[\"#636efa\",\"#EF553B\",\"#00cc96\",\"#ab63fa\",\"#FFA15A\",\"#19d3f3\",\"#FF6692\",\"#B6E880\",\"#FF97FF\",\"#FECB52\"],\"font\":{\"color\":\"#2a3f5f\"},\"geo\":{\"bgcolor\":\"white\",\"lakecolor\":\"white\",\"landcolor\":\"#E5ECF6\",\"showlakes\":true,\"showland\":true,\"subunitcolor\":\"white\"},\"hoverlabel\":{\"align\":\"left\"},\"hovermode\":\"closest\",\"mapbox\":{\"style\":\"light\"},\"paper_bgcolor\":\"white\",\"plot_bgcolor\":\"#E5ECF6\",\"polar\":{\"angularaxis\":{\"gridcolor\":\"white\",\"linecolor\":\"white\",\"ticks\":\"\"},\"bgcolor\":\"#E5ECF6\",\"radialaxis\":{\"gridcolor\":\"white\",\"linecolor\":\"white\",\"ticks\":\"\"}},\"scene\":{\"xaxis\":{\"backgroundcolor\":\"#E5ECF6\",\"gridcolor\":\"white\",\"gridwidth\":2,\"linecolor\":\"white\",\"showbackground\":true,\"ticks\":\"\",\"zerolinecolor\":\"white\"},\"yaxis\":{\"backgroundcolor\":\"#E5ECF6\",\"gridcolor\":\"white\",\"gridwidth\":2,\"linecolor\":\"white\",\"showbackground\":true,\"ticks\":\"\",\"zerolinecolor\":\"white\"},\"zaxis\":{\"backgroundcolor\":\"#E5ECF6\",\"gridcolor\":\"white\",\"gridwidth\":2,\"linecolor\":\"white\",\"showbackground\":true,\"ticks\":\"\",\"zerolinecolor\":\"white\"}},\"shapedefaults\":{\"line\":{\"color\":\"#2a3f5f\"}},\"ternary\":{\"aaxis\":{\"gridcolor\":\"white\",\"linecolor\":\"white\",\"ticks\":\"\"},\"baxis\":{\"gridcolor\":\"white\",\"linecolor\":\"white\",\"ticks\":\"\"},\"bgcolor\":\"#E5ECF6\",\"caxis\":{\"gridcolor\":\"white\",\"linecolor\":\"white\",\"ticks\":\"\"}},\"title\":{\"x\":0.05},\"xaxis\":{\"automargin\":true,\"gridcolor\":\"white\",\"linecolor\":\"white\",\"ticks\":\"\",\"title\":{\"standoff\":15},\"zerolinecolor\":\"white\",\"zerolinewidth\":2},\"yaxis\":{\"automargin\":true,\"gridcolor\":\"white\",\"linecolor\":\"white\",\"ticks\":\"\",\"title\":{\"standoff\":15},\"zerolinecolor\":\"white\",\"zerolinewidth\":2}}},\"title\":{\"text\":\"Ranking Of Top 10 Mean-Drama-Ratings: 2.9271 RMSE\"},\"xaxis\":{\"range\":[8,10],\"title\":{\"text\":\"Mean-Rating\"}},\"yaxis\":{\"title\":{\"text\":\"Drama\"}}},                        {\"responsive\": true}                    ).then(function(){\n",
       "                            \n",
       "var gd = document.getElementById('2ea8cc9f-ee66-42cd-9d70-22115f510421');\n",
       "var x = new MutationObserver(function (mutations, observer) {{\n",
       "        var display = window.getComputedStyle(gd).display;\n",
       "        if (!display || display === 'none') {{\n",
       "            console.log([gd, 'removed!']);\n",
       "            Plotly.purge(gd);\n",
       "            observer.disconnect();\n",
       "        }}\n",
       "}});\n",
       "\n",
       "// Listen for the removal of the full notebook cells\n",
       "var notebookContainer = gd.closest('#notebook-container');\n",
       "if (notebookContainer) {{\n",
       "    x.observe(notebookContainer, {childList: true});\n",
       "}}\n",
       "\n",
       "// Listen for the clearing of the current output cell\n",
       "var outputEl = gd.closest('.output');\n",
       "if (outputEl) {{\n",
       "    x.observe(outputEl, {childList: true});\n",
       "}}\n",
       "\n",
       "                        })                };                });            </script>        </div>"
      ]
     },
     "metadata": {},
     "output_type": "display_data"
    }
   ],
   "source": [
    "# creating the visual of the top mean ratings\n",
    "trace = go.Bar(x = ranking_mean_rating['Rating-Mean'],\n",
    "               text = ranking_mean_rating['Name'].astype(str) +': '+ ranking_mean_rating['Rating-Count'].astype(str) + ' Ratings',\n",
    "               textposition = 'outside',\n",
    "               textfont = dict(color = '#000000'),\n",
    "               orientation = 'h',\n",
    "               y = list(range(1, n+1)),\n",
    "               marker = dict(color = '#db0000'))\n",
    "# Create layout\n",
    "layout = dict(title = 'Ranking Of Top {} Mean-Drama-Ratings: {:.4f} RMSE'.format(n, rmse),\n",
    "              xaxis = dict(title = 'Mean-Rating',\n",
    "                          range = (8, 10)),\n",
    "              yaxis = dict(title = 'Drama'))\n",
    "# Create plot\n",
    "fig = go.Figure(data=[trace], layout=layout)\n",
    "iplot(fig)"
   ]
  },
  {
   "cell_type": "code",
   "execution_count": 113,
   "id": "bc77a417",
   "metadata": {},
   "outputs": [],
   "source": [
    "# most low rated dramas have been removed, but lets make it so minimum is 200\n",
    "m = 200\n",
    "\n",
    "# Mean rating for all dramas\n",
    "C = df_p.stack().mean()\n",
    "\n",
    "# Mean rating for all dramas separately\n",
    "R = df_p.mean(axis=0).values\n",
    "\n",
    "# Rating count for all dramas separately\n",
    "v = df_p.count().values\n",
    "\n",
    "\n",
    "# weighted formula\n",
    "weighted_score = (v/ (v+m) *R) + (m/ (v+m) *C)\n",
    "# Sort ids to ranking\n",
    "weighted_ranking = np.argsort(weighted_score)[::-1]\n",
    "# Sort scores to ranking\n",
    "weighted_score = np.sort(weighted_score)[::-1]\n",
    "# Get drama sids\n",
    "weighted_drama_ids = df_p.columns[weighted_ranking]\n",
    "\n",
    "\n",
    "# Join labels and predictions\n",
    "df_prediction = df_test.set_index('Drama').join(pd.DataFrame(weighted_score, index=weighted_drama_ids, columns=['Prediction']))[['Rating', 'Prediction']]\n",
    "y_true = df_prediction['Rating']\n",
    "y_pred = df_prediction['Prediction']\n",
    "\n",
    "# Compute RMSE\n",
    "rmse = np.sqrt(mean_squared_error(y_true=y_true, y_pred=y_pred))\n"
   ]
  },
  {
   "cell_type": "code",
   "execution_count": 114,
   "id": "6d120851",
   "metadata": {},
   "outputs": [
    {
     "data": {
      "application/vnd.plotly.v1+json": {
       "config": {
        "linkText": "Export to plot.ly",
        "plotlyServerURL": "https://plot.ly",
        "showLink": false
       },
       "data": [
        {
         "marker": {
          "color": "#db0000"
         },
         "orientation": "h",
         "text": [
          "move to heaven: 3502 Ratings",
          "hospital playlist season 2: 3053 Ratings",
          "flower of evil: 5095 Ratings",
          "reset: 1989 Ratings",
          "healer: 7623 Ratings",
          "hospital playlist: 4452 Ratings",
          "it's okay to not be okay: 6737 Ratings",
          "prison playbook: 3729 Ratings",
          "bad buddy: 2312 Ratings",
          "the untamed: 3183 Ratings"
         ],
         "textfont": {
          "color": "#000000"
         },
         "textposition": "outside",
         "type": "bar",
         "x": [
          8.61033653045386,
          8.41099472355985,
          8.402637551603437,
          8.386690651320325,
          8.32435968755467,
          8.312653876986282,
          8.30920654976794,
          8.303758166388443,
          8.274667928240522,
          8.2725290676146
         ],
         "y": [
          1,
          2,
          3,
          4,
          5,
          6,
          7,
          8,
          9,
          10
         ]
        }
       ],
       "layout": {
        "template": {
         "data": {
          "bar": [
           {
            "error_x": {
             "color": "#2a3f5f"
            },
            "error_y": {
             "color": "#2a3f5f"
            },
            "marker": {
             "line": {
              "color": "#E5ECF6",
              "width": 0.5
             },
             "pattern": {
              "fillmode": "overlay",
              "size": 10,
              "solidity": 0.2
             }
            },
            "type": "bar"
           }
          ],
          "barpolar": [
           {
            "marker": {
             "line": {
              "color": "#E5ECF6",
              "width": 0.5
             },
             "pattern": {
              "fillmode": "overlay",
              "size": 10,
              "solidity": 0.2
             }
            },
            "type": "barpolar"
           }
          ],
          "carpet": [
           {
            "aaxis": {
             "endlinecolor": "#2a3f5f",
             "gridcolor": "white",
             "linecolor": "white",
             "minorgridcolor": "white",
             "startlinecolor": "#2a3f5f"
            },
            "baxis": {
             "endlinecolor": "#2a3f5f",
             "gridcolor": "white",
             "linecolor": "white",
             "minorgridcolor": "white",
             "startlinecolor": "#2a3f5f"
            },
            "type": "carpet"
           }
          ],
          "choropleth": [
           {
            "colorbar": {
             "outlinewidth": 0,
             "ticks": ""
            },
            "type": "choropleth"
           }
          ],
          "contour": [
           {
            "colorbar": {
             "outlinewidth": 0,
             "ticks": ""
            },
            "colorscale": [
             [
              0,
              "#0d0887"
             ],
             [
              0.1111111111111111,
              "#46039f"
             ],
             [
              0.2222222222222222,
              "#7201a8"
             ],
             [
              0.3333333333333333,
              "#9c179e"
             ],
             [
              0.4444444444444444,
              "#bd3786"
             ],
             [
              0.5555555555555556,
              "#d8576b"
             ],
             [
              0.6666666666666666,
              "#ed7953"
             ],
             [
              0.7777777777777778,
              "#fb9f3a"
             ],
             [
              0.8888888888888888,
              "#fdca26"
             ],
             [
              1,
              "#f0f921"
             ]
            ],
            "type": "contour"
           }
          ],
          "contourcarpet": [
           {
            "colorbar": {
             "outlinewidth": 0,
             "ticks": ""
            },
            "type": "contourcarpet"
           }
          ],
          "heatmap": [
           {
            "colorbar": {
             "outlinewidth": 0,
             "ticks": ""
            },
            "colorscale": [
             [
              0,
              "#0d0887"
             ],
             [
              0.1111111111111111,
              "#46039f"
             ],
             [
              0.2222222222222222,
              "#7201a8"
             ],
             [
              0.3333333333333333,
              "#9c179e"
             ],
             [
              0.4444444444444444,
              "#bd3786"
             ],
             [
              0.5555555555555556,
              "#d8576b"
             ],
             [
              0.6666666666666666,
              "#ed7953"
             ],
             [
              0.7777777777777778,
              "#fb9f3a"
             ],
             [
              0.8888888888888888,
              "#fdca26"
             ],
             [
              1,
              "#f0f921"
             ]
            ],
            "type": "heatmap"
           }
          ],
          "heatmapgl": [
           {
            "colorbar": {
             "outlinewidth": 0,
             "ticks": ""
            },
            "colorscale": [
             [
              0,
              "#0d0887"
             ],
             [
              0.1111111111111111,
              "#46039f"
             ],
             [
              0.2222222222222222,
              "#7201a8"
             ],
             [
              0.3333333333333333,
              "#9c179e"
             ],
             [
              0.4444444444444444,
              "#bd3786"
             ],
             [
              0.5555555555555556,
              "#d8576b"
             ],
             [
              0.6666666666666666,
              "#ed7953"
             ],
             [
              0.7777777777777778,
              "#fb9f3a"
             ],
             [
              0.8888888888888888,
              "#fdca26"
             ],
             [
              1,
              "#f0f921"
             ]
            ],
            "type": "heatmapgl"
           }
          ],
          "histogram": [
           {
            "marker": {
             "pattern": {
              "fillmode": "overlay",
              "size": 10,
              "solidity": 0.2
             }
            },
            "type": "histogram"
           }
          ],
          "histogram2d": [
           {
            "colorbar": {
             "outlinewidth": 0,
             "ticks": ""
            },
            "colorscale": [
             [
              0,
              "#0d0887"
             ],
             [
              0.1111111111111111,
              "#46039f"
             ],
             [
              0.2222222222222222,
              "#7201a8"
             ],
             [
              0.3333333333333333,
              "#9c179e"
             ],
             [
              0.4444444444444444,
              "#bd3786"
             ],
             [
              0.5555555555555556,
              "#d8576b"
             ],
             [
              0.6666666666666666,
              "#ed7953"
             ],
             [
              0.7777777777777778,
              "#fb9f3a"
             ],
             [
              0.8888888888888888,
              "#fdca26"
             ],
             [
              1,
              "#f0f921"
             ]
            ],
            "type": "histogram2d"
           }
          ],
          "histogram2dcontour": [
           {
            "colorbar": {
             "outlinewidth": 0,
             "ticks": ""
            },
            "colorscale": [
             [
              0,
              "#0d0887"
             ],
             [
              0.1111111111111111,
              "#46039f"
             ],
             [
              0.2222222222222222,
              "#7201a8"
             ],
             [
              0.3333333333333333,
              "#9c179e"
             ],
             [
              0.4444444444444444,
              "#bd3786"
             ],
             [
              0.5555555555555556,
              "#d8576b"
             ],
             [
              0.6666666666666666,
              "#ed7953"
             ],
             [
              0.7777777777777778,
              "#fb9f3a"
             ],
             [
              0.8888888888888888,
              "#fdca26"
             ],
             [
              1,
              "#f0f921"
             ]
            ],
            "type": "histogram2dcontour"
           }
          ],
          "mesh3d": [
           {
            "colorbar": {
             "outlinewidth": 0,
             "ticks": ""
            },
            "type": "mesh3d"
           }
          ],
          "parcoords": [
           {
            "line": {
             "colorbar": {
              "outlinewidth": 0,
              "ticks": ""
             }
            },
            "type": "parcoords"
           }
          ],
          "pie": [
           {
            "automargin": true,
            "type": "pie"
           }
          ],
          "scatter": [
           {
            "fillpattern": {
             "fillmode": "overlay",
             "size": 10,
             "solidity": 0.2
            },
            "type": "scatter"
           }
          ],
          "scatter3d": [
           {
            "line": {
             "colorbar": {
              "outlinewidth": 0,
              "ticks": ""
             }
            },
            "marker": {
             "colorbar": {
              "outlinewidth": 0,
              "ticks": ""
             }
            },
            "type": "scatter3d"
           }
          ],
          "scattercarpet": [
           {
            "marker": {
             "colorbar": {
              "outlinewidth": 0,
              "ticks": ""
             }
            },
            "type": "scattercarpet"
           }
          ],
          "scattergeo": [
           {
            "marker": {
             "colorbar": {
              "outlinewidth": 0,
              "ticks": ""
             }
            },
            "type": "scattergeo"
           }
          ],
          "scattergl": [
           {
            "marker": {
             "colorbar": {
              "outlinewidth": 0,
              "ticks": ""
             }
            },
            "type": "scattergl"
           }
          ],
          "scattermapbox": [
           {
            "marker": {
             "colorbar": {
              "outlinewidth": 0,
              "ticks": ""
             }
            },
            "type": "scattermapbox"
           }
          ],
          "scatterpolar": [
           {
            "marker": {
             "colorbar": {
              "outlinewidth": 0,
              "ticks": ""
             }
            },
            "type": "scatterpolar"
           }
          ],
          "scatterpolargl": [
           {
            "marker": {
             "colorbar": {
              "outlinewidth": 0,
              "ticks": ""
             }
            },
            "type": "scatterpolargl"
           }
          ],
          "scatterternary": [
           {
            "marker": {
             "colorbar": {
              "outlinewidth": 0,
              "ticks": ""
             }
            },
            "type": "scatterternary"
           }
          ],
          "surface": [
           {
            "colorbar": {
             "outlinewidth": 0,
             "ticks": ""
            },
            "colorscale": [
             [
              0,
              "#0d0887"
             ],
             [
              0.1111111111111111,
              "#46039f"
             ],
             [
              0.2222222222222222,
              "#7201a8"
             ],
             [
              0.3333333333333333,
              "#9c179e"
             ],
             [
              0.4444444444444444,
              "#bd3786"
             ],
             [
              0.5555555555555556,
              "#d8576b"
             ],
             [
              0.6666666666666666,
              "#ed7953"
             ],
             [
              0.7777777777777778,
              "#fb9f3a"
             ],
             [
              0.8888888888888888,
              "#fdca26"
             ],
             [
              1,
              "#f0f921"
             ]
            ],
            "type": "surface"
           }
          ],
          "table": [
           {
            "cells": {
             "fill": {
              "color": "#EBF0F8"
             },
             "line": {
              "color": "white"
             }
            },
            "header": {
             "fill": {
              "color": "#C8D4E3"
             },
             "line": {
              "color": "white"
             }
            },
            "type": "table"
           }
          ]
         },
         "layout": {
          "annotationdefaults": {
           "arrowcolor": "#2a3f5f",
           "arrowhead": 0,
           "arrowwidth": 1
          },
          "autotypenumbers": "strict",
          "coloraxis": {
           "colorbar": {
            "outlinewidth": 0,
            "ticks": ""
           }
          },
          "colorscale": {
           "diverging": [
            [
             0,
             "#8e0152"
            ],
            [
             0.1,
             "#c51b7d"
            ],
            [
             0.2,
             "#de77ae"
            ],
            [
             0.3,
             "#f1b6da"
            ],
            [
             0.4,
             "#fde0ef"
            ],
            [
             0.5,
             "#f7f7f7"
            ],
            [
             0.6,
             "#e6f5d0"
            ],
            [
             0.7,
             "#b8e186"
            ],
            [
             0.8,
             "#7fbc41"
            ],
            [
             0.9,
             "#4d9221"
            ],
            [
             1,
             "#276419"
            ]
           ],
           "sequential": [
            [
             0,
             "#0d0887"
            ],
            [
             0.1111111111111111,
             "#46039f"
            ],
            [
             0.2222222222222222,
             "#7201a8"
            ],
            [
             0.3333333333333333,
             "#9c179e"
            ],
            [
             0.4444444444444444,
             "#bd3786"
            ],
            [
             0.5555555555555556,
             "#d8576b"
            ],
            [
             0.6666666666666666,
             "#ed7953"
            ],
            [
             0.7777777777777778,
             "#fb9f3a"
            ],
            [
             0.8888888888888888,
             "#fdca26"
            ],
            [
             1,
             "#f0f921"
            ]
           ],
           "sequentialminus": [
            [
             0,
             "#0d0887"
            ],
            [
             0.1111111111111111,
             "#46039f"
            ],
            [
             0.2222222222222222,
             "#7201a8"
            ],
            [
             0.3333333333333333,
             "#9c179e"
            ],
            [
             0.4444444444444444,
             "#bd3786"
            ],
            [
             0.5555555555555556,
             "#d8576b"
            ],
            [
             0.6666666666666666,
             "#ed7953"
            ],
            [
             0.7777777777777778,
             "#fb9f3a"
            ],
            [
             0.8888888888888888,
             "#fdca26"
            ],
            [
             1,
             "#f0f921"
            ]
           ]
          },
          "colorway": [
           "#636efa",
           "#EF553B",
           "#00cc96",
           "#ab63fa",
           "#FFA15A",
           "#19d3f3",
           "#FF6692",
           "#B6E880",
           "#FF97FF",
           "#FECB52"
          ],
          "font": {
           "color": "#2a3f5f"
          },
          "geo": {
           "bgcolor": "white",
           "lakecolor": "white",
           "landcolor": "#E5ECF6",
           "showlakes": true,
           "showland": true,
           "subunitcolor": "white"
          },
          "hoverlabel": {
           "align": "left"
          },
          "hovermode": "closest",
          "mapbox": {
           "style": "light"
          },
          "paper_bgcolor": "white",
          "plot_bgcolor": "#E5ECF6",
          "polar": {
           "angularaxis": {
            "gridcolor": "white",
            "linecolor": "white",
            "ticks": ""
           },
           "bgcolor": "#E5ECF6",
           "radialaxis": {
            "gridcolor": "white",
            "linecolor": "white",
            "ticks": ""
           }
          },
          "scene": {
           "xaxis": {
            "backgroundcolor": "#E5ECF6",
            "gridcolor": "white",
            "gridwidth": 2,
            "linecolor": "white",
            "showbackground": true,
            "ticks": "",
            "zerolinecolor": "white"
           },
           "yaxis": {
            "backgroundcolor": "#E5ECF6",
            "gridcolor": "white",
            "gridwidth": 2,
            "linecolor": "white",
            "showbackground": true,
            "ticks": "",
            "zerolinecolor": "white"
           },
           "zaxis": {
            "backgroundcolor": "#E5ECF6",
            "gridcolor": "white",
            "gridwidth": 2,
            "linecolor": "white",
            "showbackground": true,
            "ticks": "",
            "zerolinecolor": "white"
           }
          },
          "shapedefaults": {
           "line": {
            "color": "#2a3f5f"
           }
          },
          "ternary": {
           "aaxis": {
            "gridcolor": "white",
            "linecolor": "white",
            "ticks": ""
           },
           "baxis": {
            "gridcolor": "white",
            "linecolor": "white",
            "ticks": ""
           },
           "bgcolor": "#E5ECF6",
           "caxis": {
            "gridcolor": "white",
            "linecolor": "white",
            "ticks": ""
           }
          },
          "title": {
           "x": 0.05
          },
          "xaxis": {
           "automargin": true,
           "gridcolor": "white",
           "linecolor": "white",
           "ticks": "",
           "title": {
            "standoff": 15
           },
           "zerolinecolor": "white",
           "zerolinewidth": 2
          },
          "yaxis": {
           "automargin": true,
           "gridcolor": "white",
           "linecolor": "white",
           "ticks": "",
           "title": {
            "standoff": 15
           },
           "zerolinecolor": "white",
           "zerolinewidth": 2
          }
         }
        },
        "title": {
         "text": "Ranking Of Top 10 Weighted-Drama-Ratings: 2.9310 RMSE"
        },
        "xaxis": {
         "range": [
          7,
          10
         ],
         "title": {
          "text": "Weighted Rating"
         }
        },
        "yaxis": {
         "title": {
          "text": "Drama"
         }
        }
       }
      },
      "text/html": [
       "<div>                            <div id=\"2c769498-e98f-40c6-a3f1-7f32a1571627\" class=\"plotly-graph-div\" style=\"height:525px; width:100%;\"></div>            <script type=\"text/javascript\">                require([\"plotly\"], function(Plotly) {                    window.PLOTLYENV=window.PLOTLYENV || {};                                    if (document.getElementById(\"2c769498-e98f-40c6-a3f1-7f32a1571627\")) {                    Plotly.newPlot(                        \"2c769498-e98f-40c6-a3f1-7f32a1571627\",                        [{\"marker\":{\"color\":\"#db0000\"},\"orientation\":\"h\",\"text\":[\"move to heaven: 3502 Ratings\",\"hospital playlist season 2: 3053 Ratings\",\"flower of evil: 5095 Ratings\",\"reset: 1989 Ratings\",\"healer: 7623 Ratings\",\"hospital playlist: 4452 Ratings\",\"it's okay to not be okay: 6737 Ratings\",\"prison playbook: 3729 Ratings\",\"bad buddy: 2312 Ratings\",\"the untamed: 3183 Ratings\"],\"textfont\":{\"color\":\"#000000\"},\"textposition\":\"outside\",\"x\":[8.61033653045386,8.41099472355985,8.402637551603437,8.386690651320325,8.32435968755467,8.312653876986282,8.30920654976794,8.303758166388443,8.274667928240522,8.2725290676146],\"y\":[1,2,3,4,5,6,7,8,9,10],\"type\":\"bar\"}],                        {\"template\":{\"data\":{\"barpolar\":[{\"marker\":{\"line\":{\"color\":\"#E5ECF6\",\"width\":0.5},\"pattern\":{\"fillmode\":\"overlay\",\"size\":10,\"solidity\":0.2}},\"type\":\"barpolar\"}],\"bar\":[{\"error_x\":{\"color\":\"#2a3f5f\"},\"error_y\":{\"color\":\"#2a3f5f\"},\"marker\":{\"line\":{\"color\":\"#E5ECF6\",\"width\":0.5},\"pattern\":{\"fillmode\":\"overlay\",\"size\":10,\"solidity\":0.2}},\"type\":\"bar\"}],\"carpet\":[{\"aaxis\":{\"endlinecolor\":\"#2a3f5f\",\"gridcolor\":\"white\",\"linecolor\":\"white\",\"minorgridcolor\":\"white\",\"startlinecolor\":\"#2a3f5f\"},\"baxis\":{\"endlinecolor\":\"#2a3f5f\",\"gridcolor\":\"white\",\"linecolor\":\"white\",\"minorgridcolor\":\"white\",\"startlinecolor\":\"#2a3f5f\"},\"type\":\"carpet\"}],\"choropleth\":[{\"colorbar\":{\"outlinewidth\":0,\"ticks\":\"\"},\"type\":\"choropleth\"}],\"contourcarpet\":[{\"colorbar\":{\"outlinewidth\":0,\"ticks\":\"\"},\"type\":\"contourcarpet\"}],\"contour\":[{\"colorbar\":{\"outlinewidth\":0,\"ticks\":\"\"},\"colorscale\":[[0.0,\"#0d0887\"],[0.1111111111111111,\"#46039f\"],[0.2222222222222222,\"#7201a8\"],[0.3333333333333333,\"#9c179e\"],[0.4444444444444444,\"#bd3786\"],[0.5555555555555556,\"#d8576b\"],[0.6666666666666666,\"#ed7953\"],[0.7777777777777778,\"#fb9f3a\"],[0.8888888888888888,\"#fdca26\"],[1.0,\"#f0f921\"]],\"type\":\"contour\"}],\"heatmapgl\":[{\"colorbar\":{\"outlinewidth\":0,\"ticks\":\"\"},\"colorscale\":[[0.0,\"#0d0887\"],[0.1111111111111111,\"#46039f\"],[0.2222222222222222,\"#7201a8\"],[0.3333333333333333,\"#9c179e\"],[0.4444444444444444,\"#bd3786\"],[0.5555555555555556,\"#d8576b\"],[0.6666666666666666,\"#ed7953\"],[0.7777777777777778,\"#fb9f3a\"],[0.8888888888888888,\"#fdca26\"],[1.0,\"#f0f921\"]],\"type\":\"heatmapgl\"}],\"heatmap\":[{\"colorbar\":{\"outlinewidth\":0,\"ticks\":\"\"},\"colorscale\":[[0.0,\"#0d0887\"],[0.1111111111111111,\"#46039f\"],[0.2222222222222222,\"#7201a8\"],[0.3333333333333333,\"#9c179e\"],[0.4444444444444444,\"#bd3786\"],[0.5555555555555556,\"#d8576b\"],[0.6666666666666666,\"#ed7953\"],[0.7777777777777778,\"#fb9f3a\"],[0.8888888888888888,\"#fdca26\"],[1.0,\"#f0f921\"]],\"type\":\"heatmap\"}],\"histogram2dcontour\":[{\"colorbar\":{\"outlinewidth\":0,\"ticks\":\"\"},\"colorscale\":[[0.0,\"#0d0887\"],[0.1111111111111111,\"#46039f\"],[0.2222222222222222,\"#7201a8\"],[0.3333333333333333,\"#9c179e\"],[0.4444444444444444,\"#bd3786\"],[0.5555555555555556,\"#d8576b\"],[0.6666666666666666,\"#ed7953\"],[0.7777777777777778,\"#fb9f3a\"],[0.8888888888888888,\"#fdca26\"],[1.0,\"#f0f921\"]],\"type\":\"histogram2dcontour\"}],\"histogram2d\":[{\"colorbar\":{\"outlinewidth\":0,\"ticks\":\"\"},\"colorscale\":[[0.0,\"#0d0887\"],[0.1111111111111111,\"#46039f\"],[0.2222222222222222,\"#7201a8\"],[0.3333333333333333,\"#9c179e\"],[0.4444444444444444,\"#bd3786\"],[0.5555555555555556,\"#d8576b\"],[0.6666666666666666,\"#ed7953\"],[0.7777777777777778,\"#fb9f3a\"],[0.8888888888888888,\"#fdca26\"],[1.0,\"#f0f921\"]],\"type\":\"histogram2d\"}],\"histogram\":[{\"marker\":{\"pattern\":{\"fillmode\":\"overlay\",\"size\":10,\"solidity\":0.2}},\"type\":\"histogram\"}],\"mesh3d\":[{\"colorbar\":{\"outlinewidth\":0,\"ticks\":\"\"},\"type\":\"mesh3d\"}],\"parcoords\":[{\"line\":{\"colorbar\":{\"outlinewidth\":0,\"ticks\":\"\"}},\"type\":\"parcoords\"}],\"pie\":[{\"automargin\":true,\"type\":\"pie\"}],\"scatter3d\":[{\"line\":{\"colorbar\":{\"outlinewidth\":0,\"ticks\":\"\"}},\"marker\":{\"colorbar\":{\"outlinewidth\":0,\"ticks\":\"\"}},\"type\":\"scatter3d\"}],\"scattercarpet\":[{\"marker\":{\"colorbar\":{\"outlinewidth\":0,\"ticks\":\"\"}},\"type\":\"scattercarpet\"}],\"scattergeo\":[{\"marker\":{\"colorbar\":{\"outlinewidth\":0,\"ticks\":\"\"}},\"type\":\"scattergeo\"}],\"scattergl\":[{\"marker\":{\"colorbar\":{\"outlinewidth\":0,\"ticks\":\"\"}},\"type\":\"scattergl\"}],\"scattermapbox\":[{\"marker\":{\"colorbar\":{\"outlinewidth\":0,\"ticks\":\"\"}},\"type\":\"scattermapbox\"}],\"scatterpolargl\":[{\"marker\":{\"colorbar\":{\"outlinewidth\":0,\"ticks\":\"\"}},\"type\":\"scatterpolargl\"}],\"scatterpolar\":[{\"marker\":{\"colorbar\":{\"outlinewidth\":0,\"ticks\":\"\"}},\"type\":\"scatterpolar\"}],\"scatter\":[{\"fillpattern\":{\"fillmode\":\"overlay\",\"size\":10,\"solidity\":0.2},\"type\":\"scatter\"}],\"scatterternary\":[{\"marker\":{\"colorbar\":{\"outlinewidth\":0,\"ticks\":\"\"}},\"type\":\"scatterternary\"}],\"surface\":[{\"colorbar\":{\"outlinewidth\":0,\"ticks\":\"\"},\"colorscale\":[[0.0,\"#0d0887\"],[0.1111111111111111,\"#46039f\"],[0.2222222222222222,\"#7201a8\"],[0.3333333333333333,\"#9c179e\"],[0.4444444444444444,\"#bd3786\"],[0.5555555555555556,\"#d8576b\"],[0.6666666666666666,\"#ed7953\"],[0.7777777777777778,\"#fb9f3a\"],[0.8888888888888888,\"#fdca26\"],[1.0,\"#f0f921\"]],\"type\":\"surface\"}],\"table\":[{\"cells\":{\"fill\":{\"color\":\"#EBF0F8\"},\"line\":{\"color\":\"white\"}},\"header\":{\"fill\":{\"color\":\"#C8D4E3\"},\"line\":{\"color\":\"white\"}},\"type\":\"table\"}]},\"layout\":{\"annotationdefaults\":{\"arrowcolor\":\"#2a3f5f\",\"arrowhead\":0,\"arrowwidth\":1},\"autotypenumbers\":\"strict\",\"coloraxis\":{\"colorbar\":{\"outlinewidth\":0,\"ticks\":\"\"}},\"colorscale\":{\"diverging\":[[0,\"#8e0152\"],[0.1,\"#c51b7d\"],[0.2,\"#de77ae\"],[0.3,\"#f1b6da\"],[0.4,\"#fde0ef\"],[0.5,\"#f7f7f7\"],[0.6,\"#e6f5d0\"],[0.7,\"#b8e186\"],[0.8,\"#7fbc41\"],[0.9,\"#4d9221\"],[1,\"#276419\"]],\"sequential\":[[0.0,\"#0d0887\"],[0.1111111111111111,\"#46039f\"],[0.2222222222222222,\"#7201a8\"],[0.3333333333333333,\"#9c179e\"],[0.4444444444444444,\"#bd3786\"],[0.5555555555555556,\"#d8576b\"],[0.6666666666666666,\"#ed7953\"],[0.7777777777777778,\"#fb9f3a\"],[0.8888888888888888,\"#fdca26\"],[1.0,\"#f0f921\"]],\"sequentialminus\":[[0.0,\"#0d0887\"],[0.1111111111111111,\"#46039f\"],[0.2222222222222222,\"#7201a8\"],[0.3333333333333333,\"#9c179e\"],[0.4444444444444444,\"#bd3786\"],[0.5555555555555556,\"#d8576b\"],[0.6666666666666666,\"#ed7953\"],[0.7777777777777778,\"#fb9f3a\"],[0.8888888888888888,\"#fdca26\"],[1.0,\"#f0f921\"]]},\"colorway\":[\"#636efa\",\"#EF553B\",\"#00cc96\",\"#ab63fa\",\"#FFA15A\",\"#19d3f3\",\"#FF6692\",\"#B6E880\",\"#FF97FF\",\"#FECB52\"],\"font\":{\"color\":\"#2a3f5f\"},\"geo\":{\"bgcolor\":\"white\",\"lakecolor\":\"white\",\"landcolor\":\"#E5ECF6\",\"showlakes\":true,\"showland\":true,\"subunitcolor\":\"white\"},\"hoverlabel\":{\"align\":\"left\"},\"hovermode\":\"closest\",\"mapbox\":{\"style\":\"light\"},\"paper_bgcolor\":\"white\",\"plot_bgcolor\":\"#E5ECF6\",\"polar\":{\"angularaxis\":{\"gridcolor\":\"white\",\"linecolor\":\"white\",\"ticks\":\"\"},\"bgcolor\":\"#E5ECF6\",\"radialaxis\":{\"gridcolor\":\"white\",\"linecolor\":\"white\",\"ticks\":\"\"}},\"scene\":{\"xaxis\":{\"backgroundcolor\":\"#E5ECF6\",\"gridcolor\":\"white\",\"gridwidth\":2,\"linecolor\":\"white\",\"showbackground\":true,\"ticks\":\"\",\"zerolinecolor\":\"white\"},\"yaxis\":{\"backgroundcolor\":\"#E5ECF6\",\"gridcolor\":\"white\",\"gridwidth\":2,\"linecolor\":\"white\",\"showbackground\":true,\"ticks\":\"\",\"zerolinecolor\":\"white\"},\"zaxis\":{\"backgroundcolor\":\"#E5ECF6\",\"gridcolor\":\"white\",\"gridwidth\":2,\"linecolor\":\"white\",\"showbackground\":true,\"ticks\":\"\",\"zerolinecolor\":\"white\"}},\"shapedefaults\":{\"line\":{\"color\":\"#2a3f5f\"}},\"ternary\":{\"aaxis\":{\"gridcolor\":\"white\",\"linecolor\":\"white\",\"ticks\":\"\"},\"baxis\":{\"gridcolor\":\"white\",\"linecolor\":\"white\",\"ticks\":\"\"},\"bgcolor\":\"#E5ECF6\",\"caxis\":{\"gridcolor\":\"white\",\"linecolor\":\"white\",\"ticks\":\"\"}},\"title\":{\"x\":0.05},\"xaxis\":{\"automargin\":true,\"gridcolor\":\"white\",\"linecolor\":\"white\",\"ticks\":\"\",\"title\":{\"standoff\":15},\"zerolinecolor\":\"white\",\"zerolinewidth\":2},\"yaxis\":{\"automargin\":true,\"gridcolor\":\"white\",\"linecolor\":\"white\",\"ticks\":\"\",\"title\":{\"standoff\":15},\"zerolinecolor\":\"white\",\"zerolinewidth\":2}}},\"title\":{\"text\":\"Ranking Of Top 10 Weighted-Drama-Ratings: 2.9310 RMSE\"},\"xaxis\":{\"range\":[7,10],\"title\":{\"text\":\"Weighted Rating\"}},\"yaxis\":{\"title\":{\"text\":\"Drama\"}}},                        {\"responsive\": true}                    ).then(function(){\n",
       "                            \n",
       "var gd = document.getElementById('2c769498-e98f-40c6-a3f1-7f32a1571627');\n",
       "var x = new MutationObserver(function (mutations, observer) {{\n",
       "        var display = window.getComputedStyle(gd).display;\n",
       "        if (!display || display === 'none') {{\n",
       "            console.log([gd, 'removed!']);\n",
       "            Plotly.purge(gd);\n",
       "            observer.disconnect();\n",
       "        }}\n",
       "}});\n",
       "\n",
       "// Listen for the removal of the full notebook cells\n",
       "var notebookContainer = gd.closest('#notebook-container');\n",
       "if (notebookContainer) {{\n",
       "    x.observe(notebookContainer, {childList: true});\n",
       "}}\n",
       "\n",
       "// Listen for the clearing of the current output cell\n",
       "var outputEl = gd.closest('.output');\n",
       "if (outputEl) {{\n",
       "    x.observe(outputEl, {childList: true});\n",
       "}}\n",
       "\n",
       "                        })                };                });            </script>        </div>"
      ]
     },
     "metadata": {},
     "output_type": "display_data"
    }
   ],
   "source": [
    "# Create DataFrame for plotting\n",
    "df_plot = pd.DataFrame(weighted_score[:n], columns=['Rating'])\n",
    "df_plot.index = weighted_drama_ids[:10]\n",
    "ranking_weighted_rating = df_plot.join(ratings_count).join(df_titles)\n",
    "del df_plot\n",
    "\n",
    "\n",
    "# Create trace\n",
    "trace = go.Bar(x = ranking_weighted_rating['Rating'],\n",
    "               text = ranking_weighted_rating['Name'].astype(str) +': '+ ranking_weighted_rating['Rating-Count'].astype(str) + ' Ratings',\n",
    "               textposition = 'outside',\n",
    "               textfont = dict(color = '#000000'),\n",
    "               orientation = 'h',\n",
    "               y = list(range(1, n+1)),\n",
    "               marker = dict(color = '#db0000'))\n",
    "# Create layout\n",
    "layout = dict(title = 'Ranking Of Top {} Weighted-Drama-Ratings: {:.4f} RMSE'.format(n, rmse),\n",
    "              xaxis = dict(title = 'Weighted Rating',\n",
    "                          range = (7, 10)),\n",
    "              yaxis = dict(title = 'Drama'))\n",
    "# Create plot\n",
    "fig = go.Figure(data=[trace], layout=layout)\n",
    "iplot(fig)"
   ]
  },
  {
   "cell_type": "code",
   "execution_count": 115,
   "id": "8a90f982",
   "metadata": {},
   "outputs": [],
   "source": [
    "# lets take a sample of the data instead of the full amount, because, wow large\n",
    "# for a fixed number of samples\n",
    "reviews_small = reviews.sample(n=1000000)\n",
    "\n",
    "# for a percentage \n",
    "#reviews = reviews.sample(frac=1).reset_index(drop=True)\n",
    "\n",
    "# reviews_small = reviews"
   ]
  },
  {
   "cell_type": "code",
   "execution_count": 116,
   "id": "a48d3e19",
   "metadata": {},
   "outputs": [],
   "source": [
    "# splitting into test and train \n",
    "# Testingsize\n",
    "n = 100000\n",
    "\n",
    "# Split train- & testset\n",
    "df_train = reviews_small[:-n]\n",
    "df_test = reviews_small[-n:]"
   ]
  },
  {
   "cell_type": "code",
   "execution_count": 117,
   "id": "8963ee0b",
   "metadata": {},
   "outputs": [
    {
     "name": "stdout",
     "output_type": "stream",
     "text": [
      "Shape User-Drama-Matrix:\t(10873, 3346)\n"
     ]
    },
    {
     "data": {
      "text/html": [
       "<div>\n",
       "<style scoped>\n",
       "    .dataframe tbody tr th:only-of-type {\n",
       "        vertical-align: middle;\n",
       "    }\n",
       "\n",
       "    .dataframe tbody tr th {\n",
       "        vertical-align: top;\n",
       "    }\n",
       "\n",
       "    .dataframe thead th {\n",
       "        text-align: right;\n",
       "    }\n",
       "</style>\n",
       "<table border=\"1\" class=\"dataframe\">\n",
       "  <thead>\n",
       "    <tr style=\"text-align: right;\">\n",
       "      <th>Drama</th>\n",
       "      <th>1</th>\n",
       "      <th>7</th>\n",
       "      <th>9</th>\n",
       "      <th>10</th>\n",
       "      <th>11</th>\n",
       "      <th>13</th>\n",
       "      <th>14</th>\n",
       "      <th>15</th>\n",
       "      <th>17</th>\n",
       "      <th>18</th>\n",
       "      <th>...</th>\n",
       "      <th>44437</th>\n",
       "      <th>44472</th>\n",
       "      <th>44543</th>\n",
       "      <th>44690</th>\n",
       "      <th>44721</th>\n",
       "      <th>44909</th>\n",
       "      <th>45026</th>\n",
       "      <th>45472</th>\n",
       "      <th>45613</th>\n",
       "      <th>45877</th>\n",
       "    </tr>\n",
       "    <tr>\n",
       "      <th>User</th>\n",
       "      <th></th>\n",
       "      <th></th>\n",
       "      <th></th>\n",
       "      <th></th>\n",
       "      <th></th>\n",
       "      <th></th>\n",
       "      <th></th>\n",
       "      <th></th>\n",
       "      <th></th>\n",
       "      <th></th>\n",
       "      <th></th>\n",
       "      <th></th>\n",
       "      <th></th>\n",
       "      <th></th>\n",
       "      <th></th>\n",
       "      <th></th>\n",
       "      <th></th>\n",
       "      <th></th>\n",
       "      <th></th>\n",
       "      <th></th>\n",
       "      <th></th>\n",
       "    </tr>\n",
       "  </thead>\n",
       "  <tbody>\n",
       "    <tr>\n",
       "      <th>1</th>\n",
       "      <td>NaN</td>\n",
       "      <td>NaN</td>\n",
       "      <td>NaN</td>\n",
       "      <td>NaN</td>\n",
       "      <td>NaN</td>\n",
       "      <td>NaN</td>\n",
       "      <td>NaN</td>\n",
       "      <td>NaN</td>\n",
       "      <td>NaN</td>\n",
       "      <td>NaN</td>\n",
       "      <td>...</td>\n",
       "      <td>NaN</td>\n",
       "      <td>NaN</td>\n",
       "      <td>NaN</td>\n",
       "      <td>NaN</td>\n",
       "      <td>NaN</td>\n",
       "      <td>NaN</td>\n",
       "      <td>NaN</td>\n",
       "      <td>NaN</td>\n",
       "      <td>NaN</td>\n",
       "      <td>NaN</td>\n",
       "    </tr>\n",
       "    <tr>\n",
       "      <th>6</th>\n",
       "      <td>9.0</td>\n",
       "      <td>6.5</td>\n",
       "      <td>NaN</td>\n",
       "      <td>NaN</td>\n",
       "      <td>NaN</td>\n",
       "      <td>NaN</td>\n",
       "      <td>NaN</td>\n",
       "      <td>NaN</td>\n",
       "      <td>NaN</td>\n",
       "      <td>NaN</td>\n",
       "      <td>...</td>\n",
       "      <td>NaN</td>\n",
       "      <td>NaN</td>\n",
       "      <td>NaN</td>\n",
       "      <td>NaN</td>\n",
       "      <td>NaN</td>\n",
       "      <td>NaN</td>\n",
       "      <td>NaN</td>\n",
       "      <td>NaN</td>\n",
       "      <td>NaN</td>\n",
       "      <td>NaN</td>\n",
       "    </tr>\n",
       "    <tr>\n",
       "      <th>10</th>\n",
       "      <td>NaN</td>\n",
       "      <td>9.5</td>\n",
       "      <td>NaN</td>\n",
       "      <td>NaN</td>\n",
       "      <td>NaN</td>\n",
       "      <td>NaN</td>\n",
       "      <td>NaN</td>\n",
       "      <td>NaN</td>\n",
       "      <td>NaN</td>\n",
       "      <td>NaN</td>\n",
       "      <td>...</td>\n",
       "      <td>NaN</td>\n",
       "      <td>NaN</td>\n",
       "      <td>NaN</td>\n",
       "      <td>NaN</td>\n",
       "      <td>NaN</td>\n",
       "      <td>NaN</td>\n",
       "      <td>NaN</td>\n",
       "      <td>NaN</td>\n",
       "      <td>NaN</td>\n",
       "      <td>NaN</td>\n",
       "    </tr>\n",
       "    <tr>\n",
       "      <th>12</th>\n",
       "      <td>NaN</td>\n",
       "      <td>8.5</td>\n",
       "      <td>NaN</td>\n",
       "      <td>NaN</td>\n",
       "      <td>NaN</td>\n",
       "      <td>NaN</td>\n",
       "      <td>NaN</td>\n",
       "      <td>NaN</td>\n",
       "      <td>NaN</td>\n",
       "      <td>NaN</td>\n",
       "      <td>...</td>\n",
       "      <td>NaN</td>\n",
       "      <td>NaN</td>\n",
       "      <td>NaN</td>\n",
       "      <td>NaN</td>\n",
       "      <td>NaN</td>\n",
       "      <td>NaN</td>\n",
       "      <td>NaN</td>\n",
       "      <td>NaN</td>\n",
       "      <td>NaN</td>\n",
       "      <td>NaN</td>\n",
       "    </tr>\n",
       "    <tr>\n",
       "      <th>23</th>\n",
       "      <td>NaN</td>\n",
       "      <td>NaN</td>\n",
       "      <td>NaN</td>\n",
       "      <td>NaN</td>\n",
       "      <td>NaN</td>\n",
       "      <td>NaN</td>\n",
       "      <td>NaN</td>\n",
       "      <td>NaN</td>\n",
       "      <td>NaN</td>\n",
       "      <td>NaN</td>\n",
       "      <td>...</td>\n",
       "      <td>NaN</td>\n",
       "      <td>NaN</td>\n",
       "      <td>NaN</td>\n",
       "      <td>NaN</td>\n",
       "      <td>NaN</td>\n",
       "      <td>NaN</td>\n",
       "      <td>NaN</td>\n",
       "      <td>NaN</td>\n",
       "      <td>NaN</td>\n",
       "      <td>NaN</td>\n",
       "    </tr>\n",
       "    <tr>\n",
       "      <th>...</th>\n",
       "      <td>...</td>\n",
       "      <td>...</td>\n",
       "      <td>...</td>\n",
       "      <td>...</td>\n",
       "      <td>...</td>\n",
       "      <td>...</td>\n",
       "      <td>...</td>\n",
       "      <td>...</td>\n",
       "      <td>...</td>\n",
       "      <td>...</td>\n",
       "      <td>...</td>\n",
       "      <td>...</td>\n",
       "      <td>...</td>\n",
       "      <td>...</td>\n",
       "      <td>...</td>\n",
       "      <td>...</td>\n",
       "      <td>...</td>\n",
       "      <td>...</td>\n",
       "      <td>...</td>\n",
       "      <td>...</td>\n",
       "      <td>...</td>\n",
       "    </tr>\n",
       "    <tr>\n",
       "      <th>84562</th>\n",
       "      <td>NaN</td>\n",
       "      <td>NaN</td>\n",
       "      <td>NaN</td>\n",
       "      <td>NaN</td>\n",
       "      <td>NaN</td>\n",
       "      <td>NaN</td>\n",
       "      <td>NaN</td>\n",
       "      <td>NaN</td>\n",
       "      <td>NaN</td>\n",
       "      <td>NaN</td>\n",
       "      <td>...</td>\n",
       "      <td>NaN</td>\n",
       "      <td>NaN</td>\n",
       "      <td>NaN</td>\n",
       "      <td>NaN</td>\n",
       "      <td>NaN</td>\n",
       "      <td>NaN</td>\n",
       "      <td>NaN</td>\n",
       "      <td>NaN</td>\n",
       "      <td>NaN</td>\n",
       "      <td>NaN</td>\n",
       "    </tr>\n",
       "    <tr>\n",
       "      <th>84581</th>\n",
       "      <td>NaN</td>\n",
       "      <td>NaN</td>\n",
       "      <td>NaN</td>\n",
       "      <td>NaN</td>\n",
       "      <td>NaN</td>\n",
       "      <td>NaN</td>\n",
       "      <td>NaN</td>\n",
       "      <td>NaN</td>\n",
       "      <td>NaN</td>\n",
       "      <td>NaN</td>\n",
       "      <td>...</td>\n",
       "      <td>NaN</td>\n",
       "      <td>NaN</td>\n",
       "      <td>NaN</td>\n",
       "      <td>NaN</td>\n",
       "      <td>NaN</td>\n",
       "      <td>NaN</td>\n",
       "      <td>NaN</td>\n",
       "      <td>NaN</td>\n",
       "      <td>NaN</td>\n",
       "      <td>NaN</td>\n",
       "    </tr>\n",
       "    <tr>\n",
       "      <th>84597</th>\n",
       "      <td>NaN</td>\n",
       "      <td>NaN</td>\n",
       "      <td>NaN</td>\n",
       "      <td>NaN</td>\n",
       "      <td>NaN</td>\n",
       "      <td>NaN</td>\n",
       "      <td>NaN</td>\n",
       "      <td>NaN</td>\n",
       "      <td>NaN</td>\n",
       "      <td>NaN</td>\n",
       "      <td>...</td>\n",
       "      <td>NaN</td>\n",
       "      <td>NaN</td>\n",
       "      <td>NaN</td>\n",
       "      <td>NaN</td>\n",
       "      <td>NaN</td>\n",
       "      <td>NaN</td>\n",
       "      <td>NaN</td>\n",
       "      <td>NaN</td>\n",
       "      <td>NaN</td>\n",
       "      <td>NaN</td>\n",
       "    </tr>\n",
       "    <tr>\n",
       "      <th>84600</th>\n",
       "      <td>NaN</td>\n",
       "      <td>NaN</td>\n",
       "      <td>NaN</td>\n",
       "      <td>NaN</td>\n",
       "      <td>NaN</td>\n",
       "      <td>NaN</td>\n",
       "      <td>NaN</td>\n",
       "      <td>NaN</td>\n",
       "      <td>NaN</td>\n",
       "      <td>NaN</td>\n",
       "      <td>...</td>\n",
       "      <td>NaN</td>\n",
       "      <td>NaN</td>\n",
       "      <td>NaN</td>\n",
       "      <td>NaN</td>\n",
       "      <td>NaN</td>\n",
       "      <td>NaN</td>\n",
       "      <td>NaN</td>\n",
       "      <td>NaN</td>\n",
       "      <td>NaN</td>\n",
       "      <td>NaN</td>\n",
       "    </tr>\n",
       "    <tr>\n",
       "      <th>84605</th>\n",
       "      <td>NaN</td>\n",
       "      <td>NaN</td>\n",
       "      <td>NaN</td>\n",
       "      <td>NaN</td>\n",
       "      <td>NaN</td>\n",
       "      <td>NaN</td>\n",
       "      <td>NaN</td>\n",
       "      <td>NaN</td>\n",
       "      <td>NaN</td>\n",
       "      <td>NaN</td>\n",
       "      <td>...</td>\n",
       "      <td>NaN</td>\n",
       "      <td>NaN</td>\n",
       "      <td>NaN</td>\n",
       "      <td>NaN</td>\n",
       "      <td>NaN</td>\n",
       "      <td>NaN</td>\n",
       "      <td>NaN</td>\n",
       "      <td>NaN</td>\n",
       "      <td>NaN</td>\n",
       "      <td>NaN</td>\n",
       "    </tr>\n",
       "  </tbody>\n",
       "</table>\n",
       "<p>10873 rows × 3346 columns</p>\n",
       "</div>"
      ],
      "text/plain": [
       "Drama  1      7      9      10     11     13     14     15     17     18     \\\n",
       "User                                                                          \n",
       "1        NaN    NaN    NaN    NaN    NaN    NaN    NaN    NaN    NaN    NaN   \n",
       "6        9.0    6.5    NaN    NaN    NaN    NaN    NaN    NaN    NaN    NaN   \n",
       "10       NaN    9.5    NaN    NaN    NaN    NaN    NaN    NaN    NaN    NaN   \n",
       "12       NaN    8.5    NaN    NaN    NaN    NaN    NaN    NaN    NaN    NaN   \n",
       "23       NaN    NaN    NaN    NaN    NaN    NaN    NaN    NaN    NaN    NaN   \n",
       "...      ...    ...    ...    ...    ...    ...    ...    ...    ...    ...   \n",
       "84562    NaN    NaN    NaN    NaN    NaN    NaN    NaN    NaN    NaN    NaN   \n",
       "84581    NaN    NaN    NaN    NaN    NaN    NaN    NaN    NaN    NaN    NaN   \n",
       "84597    NaN    NaN    NaN    NaN    NaN    NaN    NaN    NaN    NaN    NaN   \n",
       "84600    NaN    NaN    NaN    NaN    NaN    NaN    NaN    NaN    NaN    NaN   \n",
       "84605    NaN    NaN    NaN    NaN    NaN    NaN    NaN    NaN    NaN    NaN   \n",
       "\n",
       "Drama  ...  44437  44472  44543  44690  44721  44909  45026  45472  45613  \\\n",
       "User   ...                                                                  \n",
       "1      ...    NaN    NaN    NaN    NaN    NaN    NaN    NaN    NaN    NaN   \n",
       "6      ...    NaN    NaN    NaN    NaN    NaN    NaN    NaN    NaN    NaN   \n",
       "10     ...    NaN    NaN    NaN    NaN    NaN    NaN    NaN    NaN    NaN   \n",
       "12     ...    NaN    NaN    NaN    NaN    NaN    NaN    NaN    NaN    NaN   \n",
       "23     ...    NaN    NaN    NaN    NaN    NaN    NaN    NaN    NaN    NaN   \n",
       "...    ...    ...    ...    ...    ...    ...    ...    ...    ...    ...   \n",
       "84562  ...    NaN    NaN    NaN    NaN    NaN    NaN    NaN    NaN    NaN   \n",
       "84581  ...    NaN    NaN    NaN    NaN    NaN    NaN    NaN    NaN    NaN   \n",
       "84597  ...    NaN    NaN    NaN    NaN    NaN    NaN    NaN    NaN    NaN   \n",
       "84600  ...    NaN    NaN    NaN    NaN    NaN    NaN    NaN    NaN    NaN   \n",
       "84605  ...    NaN    NaN    NaN    NaN    NaN    NaN    NaN    NaN    NaN   \n",
       "\n",
       "Drama  45877  \n",
       "User          \n",
       "1        NaN  \n",
       "6        NaN  \n",
       "10       NaN  \n",
       "12       NaN  \n",
       "23       NaN  \n",
       "...      ...  \n",
       "84562    NaN  \n",
       "84581    NaN  \n",
       "84597    NaN  \n",
       "84600    NaN  \n",
       "84605    NaN  \n",
       "\n",
       "[10873 rows x 3346 columns]"
      ]
     },
     "execution_count": 117,
     "metadata": {},
     "output_type": "execute_result"
    }
   ],
   "source": [
    "# Create a user-movie matrix with empty values\n",
    "df_p = df_train.pivot_table(index='User', columns='Drama', values='Rating')\n",
    "print('Shape User-Drama-Matrix:\\t{}'.format(df_p.shape))\n",
    "df_p"
   ]
  },
  {
   "cell_type": "code",
   "execution_count": 118,
   "id": "9fd77f49",
   "metadata": {},
   "outputs": [
    {
     "name": "stdout",
     "output_type": "stream",
     "text": [
      "Starting to impute missing values...\n",
      "Imputation completed.\n",
      "Computing cosine similarity between all users...\n",
      "Cosine similarity computation completed.\n",
      "Processing similarity matrix...\n",
      "Sorting similar users...\n",
      "Sorting completed.\n"
     ]
    }
   ],
   "source": [
    "# THIS CODE TAKES AGES! AT LEAST 10 MINUTES!!\n",
    "\n",
    "# selecting user id to grab recommendations\n",
    "user_index = 0\n",
    "\n",
    "# Number of similar users for recommendation\n",
    "n_recommendation = 100\n",
    "\n",
    "# Plot top n recommendations\n",
    "n_plot = 10\n",
    "\n",
    "print(\"Starting to impute missing values...\")\n",
    "# Fill in missing values\n",
    "df_p_imputed = df_p.T.fillna(df_p.mean(axis=1)).T\n",
    "print(\"Imputation completed.\")\n",
    "\n",
    "print(\"Computing cosine similarity between all users...\")\n",
    "# Compute similarity between all users\n",
    "similarity = cosine_similarity(df_p_imputed.values)\n",
    "print(\"Cosine similarity computation completed.\")\n",
    "\n",
    "print(\"Processing similarity matrix...\")\n",
    "# Remove self-similarity from similarity-matrix\n",
    "similarity -= np.eye(similarity.shape[0])\n",
    "\n",
    "print(\"Sorting similar users...\")\n",
    "# Sort similar users by index\n",
    "similar_user_index = np.argsort(similarity[user_index])[::-1]\n",
    "# Sort similar users by score\n",
    "similar_user_score = np.sort(similarity[user_index])[::-1]\n",
    "print(\"Sorting completed.\")\n"
   ]
  },
  {
   "cell_type": "code",
   "execution_count": 119,
   "id": "337aa81f",
   "metadata": {},
   "outputs": [],
   "source": [
    "# Get unrated movies\n",
    "unrated_dramas = df_p.iloc[user_index][df_p.iloc[user_index].isna()].index\n",
    "\n",
    "# Weight ratings of the top n most similar users with their rating and compute the mean for each movie\n",
    "mean_drama_recommendations = (df_p_imputed.iloc[similar_user_index[:n_recommendation]].T * similar_user_score[:n_recommendation]).T.mean(axis=0)\n",
    "\n",
    "# Filter for unrated movies and sort results\n",
    "best_drama_recommendations = mean_drama_recommendations[unrated_dramas].sort_values(ascending=False).to_frame().join(df_titles)\n",
    "\n",
    "\n"
   ]
  },
  {
   "cell_type": "code",
   "execution_count": 120,
   "id": "6ad3b8bb",
   "metadata": {},
   "outputs": [],
   "source": [
    "# Create user-id mapping\n",
    "user_id_mapping = {id:i for i, id in enumerate(df_p_imputed.index)}\n",
    "\n",
    "prediction = []\n",
    "# Iterate over all testset items\n",
    "for user_id in df_test['User'].unique():\n",
    "    \n",
    "    # Sort similar users by index\n",
    "    similar_user_index = np.argsort(similarity[user_id_mapping[user_id]])[::-1]\n",
    "    # Sort similar users by score\n",
    "    similar_user_score = np.sort(similarity[user_id_mapping[user_id]])[::-1]\n",
    "    \n",
    "    for drama_id in df_test[df_test['User']==user_id]['Drama'].values:\n",
    "\n",
    "        # Compute predicted score\n",
    "        score = (df_p_imputed.iloc[similar_user_index[:n_recommendation]][drama_id] * similar_user_score[:n_recommendation]).values.sum() / similar_user_score[:n_recommendation].sum()\n",
    "        prediction.append([user_id, drama_id, score])\n",
    "        \n",
    "\n",
    "# Create prediction DataFrame\n",
    "df_pred = pd.DataFrame(prediction, columns=['User', 'Drama', 'Prediction']).set_index(['User', 'Drama'])\n",
    "df_pred = df_test.set_index(['User', 'Drama']).join(df_pred)\n",
    "\n",
    "\n",
    "# Get labels and predictions\n",
    "y_true = df_pred['Rating'].values\n",
    "y_pred = df_pred['Prediction'].values\n",
    "\n",
    "# Compute RMSE\n",
    "rmse = np.sqrt(mean_squared_error(y_true=y_true, y_pred=y_pred))\n",
    "\n",
    "\n"
   ]
  },
  {
   "cell_type": "code",
   "execution_count": 121,
   "id": "909dc6ef",
   "metadata": {},
   "outputs": [
    {
     "data": {
      "application/vnd.plotly.v1+json": {
       "config": {
        "linkText": "Export to plot.ly",
        "plotlyServerURL": "https://plot.ly",
        "showLink": false
       },
       "data": [
        {
         "marker": {
          "color": "#db0000"
         },
         "orientation": "h",
         "text": [
          "vincenzo",
          "move to heaven",
          "vagabond",
          "dr. romantic season 2",
          "descendants of the sun",
          "hospital playlist",
          "it's okay, that's love",
          "falling into your smile",
          "love o2o",
          "mouse",
          "crash landing on you",
          "while you were sleeping",
          "what's wrong with secretary kim",
          "it's okay to not be okay",
          "the uncanny counter",
          "coffee prince",
          "stranger",
          "the untamed",
          "mr. queen",
          "hospital playlist season 2",
          "goblin",
          "the king: eternal monarch",
          "falling for innocence",
          "signal",
          "beyond evil",
          "kingdom season 2",
          "dali and the cocky prince",
          "my mister",
          "eulachacha waikiki",
          "hot stove league",
          "dr. romantic",
          "tale of the nine-tailed",
          "love in the moonlight",
          "hometown cha-cha-cha",
          "kingdom",
          "the master's sun",
          "through the darkness",
          "twenty-five twenty-one",
          "stranger season 2",
          "fight for my way",
          "when a snail falls in love",
          "my name",
          "touch your heart",
          "hyena",
          "prison playbook",
          "i'm not a robot",
          "oh my venus",
          "you are my glory",
          "because this is my first life",
          "sky castle",
          "pinocchio",
          "thirty but seventeen",
          "her private life",
          "koi wa tsuzuku yo doko made mo",
          "the tale of nokdu",
          "live",
          "law school",
          "oh my ghost",
          "the red sleeve",
          "angel's last mission: love",
          "crush",
          "arsenal military academy",
          "when the camellia blooms",
          "lawless lawyer",
          "forever and ever",
          "moon embracing the sun",
          "she would never know",
          "v.i.p",
          "one spring night",
          "tell me what you saw",
          "eternal love",
          "bad buddy",
          "sassy go go",
          "my roommate is a gumiho",
          "kairos",
          "the devil judge",
          "good manager",
          "mask",
          "the bad kids",
          "todome no kiss",
          "terius behind me",
          "extracurricular",
          "doctor stranger",
          "dear my friends",
          "your honor",
          "the crowned clown",
          "memories of the alhambra",
          "healer",
          "start-up",
          "life on mars",
          "reply 1994",
          "the k2",
          "my country: the new age",
          "the secret life of my secretary",
          "the romance of tiger and rose",
          "tree with deep roots",
          "yumi's cells",
          "squid game",
          "moon lovers: scarlet heart ryeo",
          "search",
          "the penthouse: war in life",
          "circle",
          "history2: right or wrong",
          "tomorrow with you",
          "the sword and the brocade",
          "rookie historian goo hae ryung",
          "autumn's concerto",
          "my amazing boyfriend",
          "age of youth",
          "live up to your name",
          "the king's affection",
          "snowdrop",
          "sweet teeth",
          "forever love",
          "go back couple",
          "once again",
          "jirisan",
          "mad for each other",
          "maiden holmes",
          "my fated boy",
          "i hear your voice",
          "gu family book",
          "2gether",
          "sword snow stride",
          "k.o.3an guo",
          "our beloved summer",
          "jumong",
          "happiness",
          "arthdal chronicles part 1: the children of prophecy",
          "a korean odyssey",
          "professional single",
          "we best love: fighting mr. 2nd",
          "arthdal chronicles part 3: the prelude to all legends",
          "devil beside you",
          "our secret",
          "p.s. man",
          "fated to love you",
          "missing: the other side",
          "emergency couple",
          "the fiery priest",
          "strangers from hell",
          "queen for seven days",
          "kimi wa petto",
          "partners for justice",
          "i promised you the moon",
          "it started with a kiss",
          "you're all surrounded",
          "to fly with you",
          "gameboys",
          "you are my spring",
          "general and i",
          "long time no see",
          "swap",
          "3 will be free",
          "do you like brahms?",
          "the legend of the blue sea",
          "remember: war of the son",
          "be yourself",
          "player",
          "granting you a dreamlike life",
          "my sunshine",
          "the king’s avatar",
          "the sound of your heart",
          "the legend",
          "theory of love",
          "love is sweet",
          "love cells",
          "jin 2",
          "jin",
          "tengoku to jigoku: psychona futari",
          "school 2021",
          "the good detective",
          "hana yori dango 2",
          "joy of life",
          "misaeng: incomplete life",
          "stand by me",
          "navillera",
          "smiling pasta",
          "que sera, sera",
          "loving you a thousand times",
          "five enough",
          "shanai marriage honey",
          "memory lost",
          "he is psychometric",
          "misty",
          "anata no ban desu",
          "mistress",
          "return",
          "unnatural",
          "the world of the married",
          "oxygen",
          "you make me dance",
          "project s: spike",
          "king maker: the change of destiny",
          "bread, love and dreams",
          "the boy next door",
          "well-intended love season 2",
          "before we get married",
          "my heroic husband",
          "school 2013",
          "bad guys",
          "ghost doctor",
          "kill it",
          "intense love",
          "chugakusei nikki",
          "watcher",
          "nine: nine times time travel",
          "confession",
          "the long ballad",
          "ancient love poetry",
          "novoland: the castle in the sky",
          "juvenile justice",
          "flower crew: joseon marriage agency",
          "go ahead",
          "iris",
          "u-prince: the playful comm-arts",
          "my holo love",
          "rinko-san wa shite mitai",
          "perfume",
          "you are so sweet",
          "medical examiner dr. qin",
          "the most beautiful goodbye",
          "good doctor",
          "prosecutor princess",
          "hotel del luna",
          "cubic",
          "addicted heroin",
          "warm and cozy",
          "jewel in the palace",
          "general's lady",
          "taxi driver",
          "liar game",
          "mystic pop-up bar",
          "nirvana in fire season 2: the wind blows in chang lin",
          "you are my destiny",
          "playful kiss",
          "the fugitive: plan b",
          "make my heart smile",
          "love and redemption",
          "46 days",
          "doctor john",
          "border",
          "the best ending",
          "rich man, poor woman",
          "the day of becoming you",
          "doctor prisoner",
          "kingyo tsuma",
          "children of nobody",
          "into the ring",
          "you're beautiful",
          "mae krua kon mai",
          "always have, always will",
          "save me",
          "1 litre no namida",
          "love like white jade",
          "dong yi",
          "hua jai sila",
          "the best of you in my mind",
          "f4 thailand: boys over flowers",
          "modern farmer",
          "dream high",
          "the one and only",
          "switch: change the world",
          "bangkok love stories 2: innocence",
          "hospital ship",
          "leh nangfah",
          "forecasting love and weather",
          "the bridal mask",
          "38 task force",
          "under the power",
          "one and only",
          "special labor inspector jo",
          "my father is strange",
          "big man",
          "manner of death",
          "history4: close to you",
          "love me if you dare",
          "sachiiro no one room",
          "something in the rain",
          "legend of fei",
          "insect detective",
          "swords of legends",
          "why women love",
          "the veil",
          "my husband in law",
          "royal nirvana",
          "go go squid 2: dt. appledog's time",
          "yong pal",
          "doom at your service",
          "symphony's romance",
          "the stranded",
          "boys' lockdown",
          "good-bye, mr. black",
          "ani ni aisaresugite komattemasu",
          "yae no sakura",
          "dame na watashi ni koishite kudasai",
          "kazoku game",
          "omameda towako to sannin no motootto",
          "kekkon dekinai otoko",
          "revolutionary love",
          "angel beside me",
          "court lady",
          "high-end crush",
          "triangle",
          "all of us are dead",
          "the lost tomb 2",
          "the centimeter of love",
          "perfect and casual",
          "rebel: thief who stole the people",
          "kill me, heal me",
          "secret garden",
          "at a distance, spring is green",
          "one more happy ending",
          "across the ocean to see you",
          "the effect",
          "the rational life",
          "sungkyunkwan scandal",
          "mr. sunshine",
          "story of yanxi palace",
          "ugly duckling series: perfect match",
          "swallow the sun",
          "nobunaga concerto",
          "tonbi",
          "moonshine",
          "lucky with you",
          "the suspicious housekeeper",
          "bride of the century",
          "meeting you",
          "please come back, mister",
          "my strange hero",
          "twenty again",
          "sweet revenge season 2",
          "baker boys",
          "en of love: love mechanics",
          "boy for rent",
          "the love equations",
          "be together",
          "love at first hate",
          "jungle fish",
          "your house helper",
          "powerful opponents",
          "flourish in time",
          "encounter",
          "the hymn of death",
          "god's quiz season 4",
          "panda and hedgehog",
          "she is the one",
          "don't disturb my study",
          "legend of the phoenix",
          "diary of a prosecutor",
          "nabi, my stepdarling",
          "short",
          "hi bye, mama!",
          "the prince of tennis",
          "discovery of romance",
          "princess silver",
          "crisis: kouan kidou sousatai tokusou-han",
          "who are you: school 2015",
          "my mr. mermaid",
          "fall in love",
          "su yu",
          "thumping spike 2",
          "arthdal chronicles part 2: the sky turning inside out, rising land",
          "party a who lives beside me",
          "reset",
          "the big boss",
          "my golden life",
          "cherry blossoms after winter",
          "detective l",
          "youth of may",
          "boku dake ga inai machi",
          "buzzer beat",
          "lie after lie",
          "my bargain queen",
          "be with you",
          "hikaru no go",
          "psychopath diary",
          "only side by side with you",
          "the journey",
          "five",
          "cinderella chef",
          "avalanche",
          "aishiteru",
          "yokai ningen bem",
          "mr. brain",
          "don quixote",
          "legal mavericks",
          "ashita, mama ga inai",
          "nakuna, hara-chan",
          "sora kara furu ichioku no hoshi",
          "to be continued",
          "the good wife",
          "attention, love!",
          "stars falling from the sky",
          "tree of heaven",
          "don't say no",
          "love and destiny",
          "absolute boyfriend",
          "just between lovers",
          "jealousy incarnate",
          "song of youth",
          "one the woman",
          "hellbound",
          "creating destiny",
          "novoland: pearl eclipse",
          "they kiss again",
          "hot girl",
          "in a class of her own",
          "summer again",
          "thank you",
          "shinbun kisha",
          "change",
          "can you hear my heart",
          "beyond the clouds",
          "handsome siblings",
          "possessed",
          "another miss oh",
          "to my star",
          "vampire prosecutor 2",
          "soul mechanic",
          "oh my general",
          "chicago typewriter",
          "the light in your eyes",
          "priest",
          "the penthouse season 2: war in life",
          "once upon a time in lingjian mountain",
          "queen of the ring",
          "prince of wolf",
          "glory jane",
          "sotus",
          "he's coming to me",
          "honey sir",
          "oh, mando!",
          "dr. cutie",
          "diary of tootsies",
          "100 days my prince",
          "the player",
          "monthly magazine home",
          "woman of dignity",
          "refresh man",
          "check out the event",
          "eternal love of dream",
          "summer love",
          "behind your smile",
          "love poison 2",
          "boys over flowers",
          "stuck on you",
          "love is phantom",
          "with you",
          "my little princess",
          "uncontrollably fond",
          "everything and nothing",
          "shine or go crazy",
          "come! jang bo ri",
          "cheat on me, if you can",
          "the rebel princess",
          "i will never let you go",
          "she was pretty",
          "game maya",
          "in time with you",
          "the cupids series: loob korn kammathep",
          "buang hong",
          "waen dok mai",
          "i hate you juliet",
          "leh ratree",
          "oh! my boss! koi wa bessatsu de",
          "a journey to meet love",
          "the moon brightens for you",
          "love a lifetime",
          "the wolf",
          "the princess's man",
          "my hero series: heart of the motherland",
          "hotel king",
          "i'm tee, me too",
          "vivid romance",
          "ashes of love",
          "2 moons 2",
          "missing noir m",
          "candle in the tomb: the wrath of time",
          "goodbye to goodbye",
          "goodbye my princess: director's cut",
          "qing qing zi jin",
          "devilish joy",
          "u-prince: the single lawyer",
          "blacklist",
          "hello debate opponent",
          "stay with me",
          "temptation of wife",
          "rookie agent rouge",
          "the shore",
          "so much in love",
          "girl2k",
          "love is more than a word",
          "why love why",
          "in your heart",
          "friend zone 2: dangerous area",
          "win jaime's heart",
          "love with benefits",
          "who are you",
          "call it what you want",
          "happy birthday",
          "see you after quarantine?",
          "deal lover",
          "hidden love",
          "ultimate note",
          "ordinary but special",
          "my handsome roommate",
          "mars",
          "the golden eyes",
          "renascence",
          "detective samoyeds",
          "never say goodbye",
          "the love lasts two minds",
          "guardian",
          "sparrow",
          "storm eye",
          "luoyang",
          "the heiress",
          "the plough department of song dynasty",
          "healer of children",
          "black & white",
          "hana kimi",
          "your highness",
          "love crossed",
          "go ho's starry night",
          "princess agents",
          "the romance of hua rong",
          "fabulous boys",
          "chijo no kiss",
          "love scenery",
          "the painter of the wind",
          "hello again!",
          "a hundred year's inheritance",
          "love story in harvard",
          "the flame's daughter",
          "diamond lover",
          "cambrian period",
          "rebirth for you",
          "the nokdu flower",
          "begin again",
          "introverted boss",
          "best lover",
          "my roommate is a detective",
          "friend forever",
          "love playlist",
          "black dog",
          "in youth",
          "the silent criminal",
          "a little reunion",
          "the lion's secret",
          "star with a secret",
          "panthakan rak",
          "the leaked",
          "best get going",
          "hotel trainees",
          "emergency department doctors",
          "your playlist",
          "unusual idol love",
          "crocodile and plover bird",
          "battle of changsha",
          "crossroad bistro",
          "my huckleberry friends",
          "re:mind",
          "u-prince:  the handsome cowboy",
          "hana kimi remake",
          "my love eun dong",
          "miman keisatsu: midnight runner",
          "only kiss without love",
          "your sensibility my destiny",
          "moebius: the veil",
          "destiny's love",
          "koizora",
          "amanza",
          "all out of love",
          "iris 2",
          "a man's story",
          "less than evil",
          "how to be thirty",
          "xx",
          "medical top team",
          "my first first love",
          "one fine week",
          "beautiful love, wonderful life",
          "moonlight",
          "warrior baek dong soo",
          "killer and healer",
          "cruel city",
          "kikazaru koi ni wa riyuu ga atte",
          "make a wish",
          "must you go?",
          "i'm a pet at dali temple",
          "iljimae",
          "naked fireman",
          "her lovely heels",
          "wonderful fate",
          "stop! miss hua",
          "sassy beauty",
          "the eccentric daughter-in-law",
          "love script",
          "the love by hypnotic",
          "rooftop prince",
          "my little happiness",
          "bitter blood",
          "lovers of the red sky",
          "joseon exorcist",
          "his - koisuru tsumori nante nakatta",
          "the mermaid prince: the beginning",
          "mirror: a tale of twin cities",
          "live on",
          "bossam: steal the fate",
          "beautiful world",
          "empress ki",
          "goddess of fire",
          "what happens to my family?",
          "uchi no musume wa, kareshi ga dekinai!!",
          "shitteru waifu",
          "watashi wo hanasanaide",
          "miu 404",
          "35 sai no koukousei",
          "aquarium girl",
          "mirai nikki",
          "ore no ie no hanashi",
          "osozaki no himawari",
          "black pean",
          "watashi no kaseifu nagisa-san",
          "legal high 2",
          "fight song",
          "hotaru no hikari 2",
          "reverse",
          "shinya shokudo - tokyo stories",
          "bg: personal bodyguard",
          "liquid - oni no sake, kiseki no kura",
          "a piece of your mind",
          "someone like you",
          "bad and crazy",
          "beloved enemy",
          "u-prince: the badly politics",
          "my classmate from far far away",
          "stairway to stardom",
          "dragon day, you're dead",
          "u-prince: the ambitious boss",
          "queen of mystery",
          "hello, the sharpshooter",
          "last",
          "love in black hole",
          "abyss",
          "sweet stranger and me",
          "fall in love with me",
          "master of study",
          "the imperial coroner",
          "judge vs. judge",
          "radio romance",
          "watashitachi wa douka shiteiru",
          "voice",
          "chef fang",
          "gokusen",
          "color rush",
          "operation proposal",
          "hidden identity",
          "born again",
          "a little thing called first love",
          "the starry night, the starry sea",
          "immutable law of first love",
          "matching! boys archery",
          "we broke up",
          "feel good to die",
          "love for a thousand more",
          "birthcare center",
          "river where the moon rises",
          "girlfriend",
          "the journey of flower",
          "be my dream family",
          "nirvana in fire",
          "the king's daughter, soo baek hyang",
          "untouchable lovers",
          "unexpected",
          "goong",
          "water boyy",
          "mr. heart",
          "well-intended love",
          "timing",
          "imaginary cat",
          "chief of staff",
          "noble aspirations",
          "the royal gambler",
          "giant",
          "twinkle twinkle",
          "the witch's diner",
          "country boy",
          "red balloon",
          "love beneath the stars",
          "like in the movies",
          "rush to the dead summer",
          "so wayree",
          "youniverse",
          "u-prince: the crazy artist",
          "plot love",
          "my forever sunshine",
          "3 nen a gumi: ima kara mina-san wa, hitojichi desu",
          "love the way you are",
          "remember you",
          "prince of lan ling",
          "the longest day in chang'an",
          "truth",
          "the king of blaze",
          "mood indigo",
          "l.o.r.d. critical world",
          "my poseidon",
          "novoland: eagle flag",
          "word of honor",
          "history3: trapped",
          "how are you bread",
          "youth unprescribed",
          "kiss me",
          "golden rainbow",
          "midas",
          "i'm home",
          "drunken to love you",
          "positive physique",
          "what's up?",
          "ojakgyo brothers",
          "paradise farm",
          "bromance",
          "drinking solo",
          "u-prince: the badass baker",
          "leh lub salub rarng",
          "cheewit puer kah huajai puer tur",
          "love unexpected",
          "somehow 18",
          "zenkamono",
          "my ride",
          "tribes and empires: storm of prophecy",
          "my princess",
          "a daughter just like you",
          "negotiator",
          "good morning call",
          "diamond lover (special cut)",
          "please classmate",
          "falsify",
          "legend of hyang dan",
          "next door witch j",
          "secret door",
          "why r u?",
          "mr. x and i season 2",
          "the yearbook",
          "the judgement",
          "yyy",
          "49 days with a merman",
          "2 moons",
          "scent of a woman",
          "bad roommate",
          "the slave hunters",
          "go princess, go!",
          "my mowgli boy",
          "my ambulance",
          "the queen of attack",
          "the moment since",
          "i am your king",
          "together with me: the next chapter",
          "can we get married?",
          "innocent",
          "uncle",
          "the scholar who walks the night",
          "scarlet heart",
          "the brightest star in the sky",
          "lucifer",
          "about time",
          "dating agency: cyrano",
          "my fellow citizens!",
          "a thousand kisses",
          "it's okay, daddy's girl",
          "9 end 2 outs",
          "sweet 18",
          "once we get married",
          "history of the salaryman",
          "touching you",
          "kareshi wo loan de kaimashita",
          "kimi wa petto",
          "designated survivor: 60 days",
          "fake princess",
          "walk into your memory",
          "first romance",
          "bokura wa kiseki de dekite iru",
          "ouroboros",
          "code blue",
          "doctor x",
          "kamen rider build",
          "my heart",
          "sotus s",
          "ms. perfect",
          "bad romance",
          "oniichan, gacha",
          "chihayafuru: tsunagu",
          "kekkon aite wa chusen de",
          "sweet revenge",
          "murphy's law of love",
          "second to last love",
          "koe koi",
          "ashi girl",
          "the gifted",
          "koi ga heta demo ikitemasu",
          "hana ni keda mono",
          "now, we are breaking up",
          "how to hate you",
          "love revolution",
          "lost romance",
          "hello, my youth",
          "miss the dragon",
          "defendant",
          "my only one",
          "kaew klang dong",
          "god's quiz: reboot",
          "juuyou sankounin tantei",
          "the ordinary glory",
          "jao sao chang yon",
          "momo love",
          "my love from the ocean",
          "payakorn sorn ruk",
          "takane no hana",
          "sweet dreams",
          "blowing in the wind",
          "sakurako-san no ashimoto ni wa shitai ga umatteiru",
          "suddenly this summer",
          "the evolution of our love",
          "puzzle",
          "tokyo alice",
          "obsessed with heart",
          "ice fantasy destiny",
          "dele",
          "koo za rot zab",
          "fate",
          "keiji yugami",
          "love, timeless",
          "the cupids series: kammathep jum laeng",
          "20th century boy and girl",
          "sisters-in-law",
          "the cupids series: kammathep sorn kol",
          "gibo to musume no blues",
          "survival wedding",
          "not alright, but it's alright",
          "the cupids series: sorn ruk kammathep",
          "tae pang korn",
          "teenage mom",
          "a thousand goodnights",
          "the journey 2",
          "let me introduce her",
          "time teaches me to love",
          "bangkok love stories 2: plead",
          "take my brother away",
          "king is not easy",
          "legal v",
          "buried city to shut all lights",
          "sign",
          "coffee, do me a favor",
          "nakark kaew",
          "waiting for you in the future",
          "dai renai: boku wo wasureru kimi to",
          "best chicken",
          "2 brothers",
          "reunion: the sound of the providence",
          "super family",
          "no time for love",
          "money flower",
          "corner with love",
          "rescue",
          "can i hug you tonight?",
          "fluttering warning",
          "tourist",
          "tokusatsu gagaga",
          "rule the world",
          "the miracle",
          "will it snow for christmas?",
          "let's shake it!",
          "seven of me",
          "mangaban nobushi no gurume",
          "kon la kop fah",
          "kuzu no honkai",
          "yg future strategy office",
          "suparburoot jorm jon: maturot lohgan",
          "society obsessed with love",
          "nice to meet you",
          "tokyo joshi zukan",
          "big thing",
          "ima kara anata wo kyouhaku shimasu",
          "bunlang dok mai",
          "for married doctress",
          "my woofy poofy love",
          "in family we trust",
          "smoking",
          "hannari girori no yoriko-san",
          "invincible lee pyung kang",
          "lying heart",
          "toumei na yurikago",
          "matrimonial chaos",
          "i love my president though he's a psycho",
          "summer's desire",
          "young blood",
          "the masked lover",
          "band of sisters",
          "showa genroku rakugo shinju",
          "the kingdom of the winds",
          "borg mom",
          "trace of the hand",
          "project s: shoot! i love you",
          "the underwear",
          "original sin",
          "love, just come",
          "kemono ni narenai watashitachi",
          "hito wa mita me ga 100%",
          "time between dog and wolf",
          "love actually",
          "ms. kim's million dollar quest",
          "kizoku tantei",
          "it's okay to be sensitive",
          "kamen rider zi-o",
          "haha ni naru",
          "dae jang geum is watching",
          "i am legend",
          "dorokei",
          "another me",
          "mengfei comes across",
          "first love story season 2",
          "my true friend",
          "my husband oh jak doo",
          "the first half of my life",
          "holiday love",
          "ototo no otto",
          "thong ek: the herbal master",
          "miss sherlock",
          "meteor garden ii",
          "saboriman kantarou",
          "my girlfriend's boyfriend",
          "hanbun, aoi",
          "new tales of gisaeng",
          "manpuku",
          "nueng dao fah diew",
          "gintama: mitsuba hen",
          "the story of ming lan",
          "natsuzora",
          "meet me @ 1006",
          "aishite tatte, himitsu wa aru",
          "4 kinds of house",
          "last minute romance",
          "city hall",
          "tientsin mystic",
          "love is in the air",
          "all is well",
          "todome no parallel",
          "hi flower",
          "god of lost fantasy",
          "rakshasa street",
          "bara no nai hanaya",
          "unexpected heroes",
          "big white duel",
          "secret of three kingdoms",
          "age of rebellion",
          "the dark lord",
          "the confidence man jp",
          "slam dance",
          "day and night",
          "nice witch",
          "kakegurui",
          "autumn tale",
          "jojo's world",
          "from survivor to healer",
          "kimi ga kokoro ni sumitsuita",
          "hot blooded youth",
          "spec: birth",
          "we are peaceful brothers",
          "the sound of your heart: reboot",
          "galileo",
          "lion pride",
          "rak rai",
          "here to heart",
          "sore wa, totsuzen, arashi no you ni..",
          "mob psycho 100",
          "between friendship and love",
          "cat street",
          "never gone",
          "densha otoko",
          "krong karm",
          "memory love",
          "part-time idol",
          "tonari no kazoku wa aoku mieru",
          "nagareboshi",
          "ten years late",
          "like a flowing river",
          "argon",
          "should we kiss first?",
          "anone",
          "yellow",
          "kahogo no kahoko",
          "if paris downcast",
          "first love story",
          "let's only walk the flower road",
          "kuragehime",
          "momikeshite fuyu",
          "paen rai long tai wa rak",
          "see you in time",
          "denei shojo: video girl ai 2018",
          "jao sao jum yorm",
          "uchi no otto wa shigoto ga dekinai",
          "face off",
          "irreplaceable love",
          "the great ruler",
          "wake up ladies",
          "miss independent ji eun",
          "sunny again tomorrow",
          "room no. 9",
          "akira to akira",
          "hot shot",
          "konkatsu!",
          "my story for you",
          "youth",
          "the best moment to quit your job",
          "rak kan panlawan",
          "100-manen no onna-tachi",
          "parfait tic",
          "stairway to heaven",
          "beyond light years",
          "i am...",
          "ito-kun a to e",
          "mi wo tsukushi ryouricho",
          "final fantasy xiv: hikari no otousan",
          "my dream",
          "haru ga kita",
          "rak nakara",
          "hello dear ancestors",
          "likit haeng jan",
          "eagles and youngster",
          "scrap teacher",
          "the world between us",
          "freeter, ie o kau.",
          "queen dugu",
          "choose",
          "youth",
          "yuttakarn prab nang marn",
          "royal family",
          "vampire host",
          "bad thief, good thief",
          "luv pub",
          "final life",
          "fates & furies",
          "love in memory",
          "hip hop teacher",
          "saki ni umareta dake no boku",
          "my love from another star",
          "one and another him",
          "mr. right",
          "love after school",
          "love destiny",
          "shinzanmono",
          "khun mae suam roy",
          "love returns",
          "mint to be",
          "wolf",
          "my robot boyfriend",
          "signal: choki mikaiketsu jiken sosahan",
          "listening snow tower",
          "gakeppuchi hotel",
          "my boyfriend",
          "uta no onii-san",
          "kinkyu torishirabeshitsu 2",
          "spring waltz",
          "the legend of white snake",
          "the count of monte-cristo: great revenge",
          "magic school",
          "girls' generation 1979",
          "my dear boy",
          "bokura no yuuki",
          "gay ok bangkok 2",
          "people you may know",
          "age of legends",
          "sanae rak nang cin",
          "blossom in heart",
          "dolce amore",
          "man in the kitchen",
          "nee ruk nai krong fai",
          "honou no tenkousei reborn",
          "bloody romance",
          "boku wa mari no naka",
          "project s: side by side",
          "trap",
          "payu sai",
          "dear parents",
          "pure melo district",
          "the lost tomb 2: explore with the note",
          "my dear brothers",
          "gokushufudo",
          "my treasure",
          "love forever after",
          "today office tomorrow romance",
          "wong wien hua jai",
          "sweet sweet",
          "are we alright?",
          "the secret of  love",
          "dok go bin is updating",
          "pearl next door",
          "the in-laws",
          "oh! my sweet liar!",
          "tumbling",
          "the autumn ballad",
          "hi my sweetheart",
          "calculating love",
          "hello stranger",
          "fall in love with a scientist",
          "couple of mirrors",
          "bro and me",
          "no, thank you",
          "times",
          "tatta hitotsu no koi",
          "brothers",
          "quaranthings",
          "minning town",
          "he's into her",
          "satsui no michinori",
          "be love",
          "my fuxxxxx romance",
          "the flaming heart",
          "memory of encaustic tile",
          "replay: the moment when it starts again",
          "royal nirvana special",
          "daughters",
          "bokura wa koi ga hetasugiru",
          "sensei wo kesu houteishiki",
          "17.3 about a sex",
          "kono koi atatamemasu ka",
          "loveless society",
          "discipline z: vampire",
          "cry me a river of stars",
          "let me off the earth",
          "the sweetest secret",
          "good and evil",
          "love o'clock",
          "on the verge of insanity",
          "koisuru hahatachi",
          "#remolove: futsuu no koi wa jado",
          "dalgona",
          "revolutionary sisters",
          "boyband love",
          "blackout",
          "3b no koibito",
          "yankee-kun to megane-chan",
          "the justice",
          "the underclass",
          "ohitorisama",
          "1 pound no fukuin",
          "maou",
          "sixteen shoukougun",
          "mia jum pen",
          "twenty-twenty",
          "guilty: kono koi wa tsumi desuka",
          "peanut butter sandwich",
          "mairunovich",
          "go into your heart",
          "the devil punisher",
          "down with love",
          "why why love",
          "real:time:love",
          "juui dolittle",
          "rental nan mo shinai hito",
          "the rebel",
          "a love so romantic",
          "tokyo love story",
          "ni chang",
          "because of love",
          "bishoku tantei akechi goro",
          "closer to you",
          "the wonder woman",
          "true ending",
          "kkondae  intern",
          "nibiiro no hako no naka de",
          "my boss, my hero",
          "the victims' game",
          "falling into you",
          "more than blue: the series",
          "hook",
          "dear diary",
          "truly very yours",
          "sunao ni narenakute",
          "tonhon chonlatee",
          "the bond",
          "marvelous women",
          "kare ga boku ni koishita wake",
          "mute",
          "celestial authority academy",
          "okaeri mone",
          "my day",
          "delayed justice",
          "snow lover",
          "hotaru no hikari",
          "the goddess of revenge",
          "my bubble tea",
          "mada mada koi wa tsuzuku yo doko made mo",
          "the ideal city",
          "the trick of life and love",
          "fah mee tawan",
          "sakristan",
          "candle in the tomb: the worm valley",
          "game of outlaws",
          "proposal daisakusen",
          "attention please",
          "orthros no inu",
          "yukan club",
          "ghost friends",
          "your home",
          "uncle cool",
          "hidarime tantei eye",
          "samurai high school",
          "hometown's embrace",
          "iribito",
          "the moment the heart shines",
          "mystery to iunakare",
          "oshi no oujisama",
          "given",
          "fragrance of the first flower",
          "kazoku boshu shimasu",
          "pumpkin time",
          "kanojo wa kirei datta",
          "promise cinderella",
          "the comments",
          "siew sum noi",
          "work later, drink now",
          "i fell in love by accident",
          "hakozume: tatakau! koban joshi",
          "tokyo mer: hashiru kinkyuukyuumeishitsu",
          "night doctor",
          "lion no oyatsu",
          "love area part 1",
          "married first then fall in love",
          "idol: the coup",
          "tracer",
          "enjiya",
          "chef wa meitantei",
          "it's okay, that's friendship",
          "ano toki kiss shite okeba",
          "takane no hana-san",
          "junkyouju takatsuki akira no suisatsu 2",
          "heartbeat broadcasting accident",
          "gourmet in tang dynasty",
          "koi desu: yankee-kun to hakujou garu",
          "please don't spoil me season 2",
          "love destiny uncut",
          "the love of winter",
          "to.two",
          "fuujinshi",
          "kishibe rohan wa ugokanai season 2",
          "itoshii uso: yasashii yami",
          "rokuhodo yotsuiro biyori",
          "find me if you can",
          "dr. white",
          "koisenu futari",
          "a beauty of revenge",
          "chapter of green",
          "kamiki ryunosuke no satsukyu",
          "the revenge",
          "can you deliver time? 2002",
          "dakara korosenakatta",
          "unlucky girl!",
          "danger zone season 2: the silver lining",
          "tsumari suki tte iitai n dakedo,",
          "super rich",
          "konin todoke ni han wo oshita dake desu ga",
          "shinhannin flag 2",
          "the ingenuity of the house husband",
          "eroi kareshi ga watashi wo madowasu",
          "saiai",
          "love at first taste",
          "colorful love: genderless danshi ni aisareteimasu",
          "the debut",
          "love kome no okite: kojirase joshi to toshishita danshi",
          "influence",
          "irresistible",
          "55:15 never too late",
          "kakegurui twin",
          "ichikei no karasu",
          "growing season",
          "nihon chinbotsu: kibo no hito",
          "once again",
          "high class",
          "mermaid prince",
          "second chance",
          "nijiiro karute",
          "red eyes: kanshi sousa-han",
          "kakenai!?: kyakuhonka yoshimaru keisuke no sujigaki no nai seikatsu",
          "my queen",
          "koko wa ima kara rinri desu",
          "nothing but you",
          "unguarded",
          "oh my drama lover",
          "papa & daddy",
          "serendipity",
          "detention",
          "if voice has memory",
          "timeless love",
          "cheat",
          "reflection of you",
          "nodame cantabile",
          "light the night",
          "you never eat alone",
          "rainless love in a godless land",
          "natsu no koi wa nijiiro ni kagayaku",
          "breakup probation, a week",
          "dear uranus",
          "risky",
          "kotaro wa hitorigurashi",
          "rikokatsu",
          "love is science?",
          "hometown",
          "evening café",
          "konto ga hajimaru",
          "smile",
          "princess! you have five husbands!",
          "my fake wife",
          "i  can see your mbti",
          "black cinderella",
          "here's my plan",
          "nishiogikubo mitsuboshi youshudou",
          "higashino keigo samayou yaiba",
          "emperor or boss",
          "100% era",
          "scripting your destiny",
          "momoiro anzuiro sakurairo",
          "delicious romance",
          "the road: the tragedy of one",
          "higuma",
          "can i step in?",
          "gameboys level-up edition",
          "muchuu-sa, kimi ni",
          "b x j forever",
          "ju-on: noroi no ie",
          "boku dake ga 17-sai no sekai de",
          "growing pain",
          "rookies",
          "hotel stars",
          "everyone wants to meet you",
          "psych-hunter",
          "just one bite season 2",
          "otto no chinpo ga hairanai",
          "tokyo dokushin danshi",
          "lovely swords girl",
          "the sleuth of ming dynasty",
          "hakui no senshi!",
          "dive",
          "love as you taste",
          "i started following romance",
          "heading to the ground",
          "majisuka gakuen",
          "dakara watashi wa oshimashita",
          "ghostderella",
          "i am your king 2",
          "dreaming back to the qing dynasty",
          "watashi, teiji de kaerimasu",
          "kinou nani tabeta?",
          "just an encore",
          "mendol",
          "in hand",
          "the fallen leaf",
          "to get her",
          "athena: goddess of war",
          "secret boutique",
          "the quiz show",
          "fairyland lovers",
          "cross fire",
          "soshite, ikiru",
          "followers",
          "lupin no musume",
          "ping pong life",
          "dating class",
          "two weeks",
          "bull fighting",
          "unlucky ploy",
          "hachimitsu to clover",
          "tantei gakuen q",
          "miss s",
          "maybe, maybe not",
          "rh plus",
          "mada kekkon dekinai otoko",
          "triple fling",
          "golden garden",
          "mountains and ocean",
          "innocent love",
          "miss no good",
          "yuri dano kan dano",
          "prom pissawat",
          "gisou furin",
          "the taoism grandmaster",
          "fujoshi, ukkari gei ni kokuru",
          "the world of fantasy",
          "guardians of the ancient oath",
          "run for young",
          "black lighthouse",
          "onzoshi boys",
          "itsuka, nemuri ni tsuku hi",
          "boss",
          "radiation house",
          "my bromance 2: 5 years later",
          "visible lie",
          "number six",
          "novoland: the castle in the sky 2",
          "delicious gakuin",
          "bureau of transformer",
          "trace: kasouken no otoko",
          "to be with you",
          "the listener",
          "winter begonia",
          "liver or die",
          "the eight",
          "love in sadness",
          "miss truth",
          "tokyo juliet",
          "14-sai no haha",
          "roy leh marnya",
          "a pledge to god",
          "tower of babel",
          "together",
          "love in between",
          "wind-bell",
          "five missions",
          "mr. fighting",
          "dear my room",
          "ie uru onna no gyakushu",
          "just dance",
          "1% of anything",
          "kono koi wa tsumi na no ka!?",
          "unubore deka",
          "emperors and me",
          "one night steal",
          "re-feel",
          "prodigy healer",
          "zekkyou",
          "your imagination becomes reality",
          "crushes reverse",
          "let's eat something, anna",
          "the quiz show 2",
          "godhand teru",
          "the sound of your heart: reboot season 2",
          "guilty akuma to keiyakushita onna",
          "mother of mine",
          "yuube wa otanoshimi deshita ne",
          "saka no tochu no ie",
          "when you love yourself",
          "celeb to binbo taro",
          "the demon master",
          "something just like this",
          "the twin flower legend",
          "khing kor rar khar kor rang",
          "broker",
          "great men academy",
          "my dear warrior",
          "dying eye",
          "nihonjin no shiranai nihongo",
          "the sand princess",
          "seigi no mikata",
          "endless love",
          "we are all alone",
          "invisible life",
          "fai sin chua",
          "real clothes",
          "ugly beauty",
          "theseus no fune",
          "hamura akira - sekai de mottomo fuunna tantei",
          "stealth walker",
          "soul plate",
          "the journey across the night",
          "sisyphus",
          "sleepless society: insomnia",
          "kidnapping game",
          "otomen",
          "22 flower road",
          "crash! insignificant roommates",
          "zettai reido",
          "mr honesty",
          "marn bang jai",
          "bambino!",
          "honey, don't run away",
          "rattan",
          "like",
          "eccentric! chef moon",
          "cat's bar",
          "love story of court enemies",
          "witch yoo hee",
          "the little nyonya",
          "a man called god",
          "standing in the time",
          "lookism",
          "parallel love",
          "consummation",
          "the sweet girl",
          "royal feast",
          "tokujo kabachi!!",
          "love & the emperor",
          "wish woosh 2",
          "eternal love rain",
          "yanxi palace: princess adventures",
          "out of breath",
          "ryusei no kizuna",
          "new face",
          "4 reasons why i hate christmas",
          "the temperature of language: our nineteen",
          "the attorney is the devil",
          "rahut rissaya",
          "kono otoko wa jinsei saidai no ayamachidesu",
          "raise de wa chanto shimasu",
          "homeroom",
          "yameru toki mo, sukoyaka naru toki mo",
          "alibi kuzushi uketamawarimasu",
          "shining like you",
          "love at 7-11",
          "amensalism",
          "no boundary",
          "anego",
          "kaibutsu kun",
          "love shuffle",
          "i don't want to be friends with you",
          "weaving a tale of love",
          "i need romance",
          "the life of the white fox",
          "kami no shizuku",
          "the witch store",
          "adventurous romance",
          "the birth of the drama king",
          "the blessed girl",
          "i have three boyfriends",
          "aku no hado",
          "hammer session!",
          "never twice",
          "anata no ban desu - counterattack",
          "monchouchou globalhouse",
          "hotarugusa",
          "deep in my heart",
          "sapai import",
          "nothing but thirty",
          "scams",
          "high&low the worst episode.0",
          "young and beautiful",
          "dr. brain",
          "brown sugar macchiato",
          "grand maison tokyo",
          "kore wa keihi de ochimasen!",
          "dragon zakura",
          "ancient detective",
          "to love",
          "graceful friends",
          "nagi no oitoma",
          "not a robot",
          "all-boys high",
          "with love",
          "anniversary anyway",
          "mia archeep",
          "twenty your life on",
          "shinya shokudo - tokyo stories season 2",
          "tsuki no koibito",
          "candle in the tomb: the lost caverns",
          "jark sadtroo soo hua jai",
          "shujin-ko",
          "smile, you",
          "the guilty secret",
          "becoming a billionaire",
          "never say never",
          "marry me",
          "let's fight ghost",
          "touch",
          "to my beautiful woo ri",
          "project 17: side by side",
          "delightful girl, choon hyang",
          "busu no hitomi ni koishiteru",
          "doki no sakura",
          "thank god it's friday",
          "yong jiu grocery store",
          "nighttime",
          "beautiful time with you",
          "pure",
          "ore no hanashi wa nagai",
          "binbo danshi",
          "in-seoul",
          "ruk laek pop",
          "g-senjou no anata to watashi",
          "ninkyo helper",
          "motokare mania",
          "freshman",
          "please don't spoil me season 3",
          "tears in heaven",
          "sennyuu tantei tokage",
          "share house no koibito",
          "king flower",
          "xxxholic",
          "all about my romance",
          "saki",
          "karamazov no kyodai",
          "advertising genius lee tae baek",
          "saikou no rikon",
          "biblia koshodou no jiken techou",
          "yakou kanransha",
          "zyuden sentai kyoryuger",
          "misaki number one!!",
          "amachan",
          "a clear midsummer night",
          "the virus",
          "the incarnation of money",
          "spring love",
          "special affairs team ten season 2",
          "tokyo zenryoku shoujo",
          "say that you love me",
          "family",
          "kamen rider wizard",
          "priceless",
          "akumu-chan",
          "ohlala couple",
          "kekkon shinai",
          "cheer up, mr. kim!",
          "aozora no tamago",
          "sugarless",
          "piece",
          "mahoro ekimae bangaichi",
          "clone baby",
          "engine",
          "heaven's order",
          "vampire heaven",
          "the return of the condor heroes",
          "soratobu kouhoushitsu",
          "goddess of marriage",
          "ugly alert",
          "the pursuit of happiness",
          "bread and soup and cat weather",
          "my pig lady",
          "scandal",
          "limit",
          "hanzawa naoki",
          "pin to kona",
          "akuryo byoutou",
          "attack no.1",
          "woman",
          "basketball",
          "kamen teacher",
          "summer nude",
          "she is wow!",
          "take five - oretachi wa ai wo nusumeru ka",
          "good luck!!",
          "le jun kai",
          "the queen of office",
          "gods of honour",
          "otenki onee-san",
          "hur jun, the original story",
          "two fathers",
          "bad boys j",
          "the condor heroes 95",
          "mackerel run",
          "kasuka na kanojo",
          "i summon you, gold!",
          "nail shop paris",
          "wonderful mama",
          "birth secret",
          "all esper dayo!",
          "seo yeong, my daughter",
          "monsters",
          "her legend",
          "mikeneko holmes no suiri",
          "salamander guru and the gang",
          "the hippocratic crush",
          "saba doru",
          "toshi densetsu no onna",
          "the equator man",
          "the queen of sop",
          "sound of the desert",
          "can love become money",
          "when love walked in",
          "yellow boots",
          "kagi no kakatta heya",
          "witness insecurity",
          "ti amo chocolate",
          "alice in wonder city",
          "goodbye dear wife",
          "kamen rider 555",
          "kamen rider ryuki",
          "sealed with a kiss",
          "switch girl!!",
          "strawberry night",
          "hungry!",
          "saikou no jinsei no owarikata - ending planner",
          "saigo kara nibanme no koi",
          "take care of us, captain",
          "risou no musuko",
          "romance in the rain",
          "my husband got a family",
          "the 3rd ward",
          "aishiteiru to ittekure",
          "feast of the gods",
          "kamen rider blade",
          "kamen rider agito",
          "samurai sentai shinkenger",
          "w no higeki",
          "xuan-yuan sword: scar of sky",
          "queen of ambition",
          "papadol!",
          "the thousandth man",
          "to my beloved",
          "miss rose",
          "a step into the past",
          "soumatou kabushikigaisha",
          "haeundae lovers",
          "may queen",
          "higashino keigo mysteries",
          "beginners!",
          "horse doctor",
          "the great seer",
          "too late to say i love you",
          "sweet sweet bodyguard",
          "majisuka gakuen 3",
          "the king of dramas",
          "scarlet heart 2",
          "what is love",
          "legend of concubine zhen huan",
          "drama go go go",
          "ataru",
          "ooku: the inner chamber",
          "golden time",
          "shiritsu bakaleya koukou",
          "holy land",
          "tiger cubs",
          "in between",
          "triumph in the skies",
          "i love lee tae ri",
          "kodoku no gurume",
          "secret angel",
          "swordsman",
          "best time",
          "legend of lu zhen",
          "ko one re-act",
          "wang's family",
          "kamen rider drive",
          "the cage of love",
          "thara himalai",
          "tawan tor saeng",
          "raeng ngao",
          "sud sai pan",
          "khun chai pawornruj",
          "roy marn",
          "hormones",
          "the heavenly sword and dragon sabre",
          "the sixth sense",
          "the sixth sense 2",
          "oum ruk",
          "soot sanaeha",
          "petero no souretsu",
          "majurat see nam pueng",
          "mia taeng",
          "dok ruk rim tang",
          "dao kiao duen",
          "jao sao rim tang",
          "sawan biang",
          "wanida",
          "samee",
          "tawipob",
          "trot lovers",
          "game rai game rak",
          "torranee ni nee krai krong",
          "duang jai akkanee",
          "ruk sutrit",
          "raeng pradtanaha",
          "pin anong",
          "panyachon kon krua",
          "lady - saigo no hanzai profile",
          "roy lae sanae luang",
          "yoiko no mikata",
          "a different kind of pretty man",
          "wayupak montra",
          "line walker",
          "pathapee leh ruk",
          "lunch queen",
          "kyou wa kaisha yasumimasu",
          "gomenne seishun!",
          "valid love",
          "love cheque charge",
          "mare",
          "rosy lovers",
          "lah ruk sut kob fah",
          "divorce lawyers",
          "n no tame ni",
          "ab ruk online",
          "destined to love you",
          "shinya shokudo 3",
          "jigoku sensei nube",
          "legend of mi yue",
          "luead mungkorn: suea",
          "death notify: the darker",
          "likit kammathep",
          "aoi honoo",
          "kha khong khon",
          "the three musketeers",
          "manee yard fah",
          "roy fun tawan duerd",
          "mama",
          "sanaeha sunya kaen",
          "ban shu legend",
          "suikyuu yankees",
          "roy ruk hak liam tawan",
          "mr. back",
          "kinkyori renai: season zero",
          "time spiral",
          "partner",
          "gto: remake season 2",
          "kindaichi shonen no jikenbo n",
          "kanojo wa uso wo aishisugiteru - sidestory",
          "yamada-kun to 7-nin no majo",
          "can we love?",
          "s: saigo no keikan",
          "one warm word",
          "melody of love",
          "infinite power",
          "loving, never forgetting",
          "the king's face",
          "wonderful days",
          "deja vu",
          "please remember, princess",
          "in a good way",
          "never give up, dodo",
          "kinkyu torishirabeshitsu",
          "3 days",
          "one well-raised daughter",
          "shitsuren chocolatier",
          "cuo dian yuan yang",
          "49",
          "hard nut!",
          "cheo yong",
          "tokyo bandwagon",
          "hanako to anne",
          "potato star 2013qr3",
          "perfect couple",
          "legend of hua mulan",
          "yorozu uranaidokoro onmyoya e yokoso",
          "kamen rider gaim",
          "ando lloyd - a.i. knows love ?",
          "gochisousan",
          "passionate love",
          "unemployed romance",
          "kurokouchi",
          "give love away",
          "miss pilot",
          "dr. dmat",
          "princess of lanling king",
          "apple in your eye",
          "boku no ita jikan",
          "golden cross",
          "rock 'n' road",
          "wakamono tachi",
          "shinigami-kun",
          "first class",
          "roosevelt game",
          "the imperial doctress",
          "glorious day",
          "she is nineteen",
          "a new leaf",
          "pleasantly surprised",
          "the way we were",
          "flower grandpa investigation unit",
          "yoo na's street",
          "legend of fragrance",
          "style",
          "oh! my girl!!",
          "alice no toge",
          "ressha sentai toqger",
          "angel's revenge",
          "gachi baka!",
          "lost days",
          "iryu team medical dragon  4",
          "nazo no tenkousei",
          "gunshi kanbei",
          "gap dong",
          "yowakutemo katemasu",
          "juunen saki mo kimi ni koishite",
          "cruel romance",
          "naeil's cantabile",
          "jigoku shoujo",
          "aftermath",
          "the empress of china",
          "waking love up",
          "inborn pair",
          "bachelor's vegetable store",
          "demi gods & semi devils",
          "jejoongwon",
          "lavender",
          "ja myung go",
          "ima ai ni yukimasu",
          "daisuki!!",
          "muscle girl",
          "shiawase ni narou yo",
          "control - hanzai shinri sousa",
          "assorted gems",
          "let's go watch meteor shower",
          "evasive inquiry agency",
          "super rookie",
          "thousand years of love",
          "gegege no nyobo",
          "rosy business",
          "comrades",
          "kou kou kyoushi 2003",
          "90 days of love",
          "that love comes",
          "deka wanko",
          "secret investigation record",
          "gou - himetachi no sengoku",
          "gourmet",
          "successful story of a bright girl",
          "love buffet",
          "the prince who turns into a frog",
          "beautiful life",
          "prince's first love",
          "get karl! oh soo jung",
          "sunny happiness",
          "lawyers of korea",
          "around 40",
          "atsu hime",
          "odoru daisousasen",
          "haken no hinkaku",
          "star's lover",
          "d.i.e.",
          "hanoi bride",
          "love marriage",
          "marrying a millionaire",
          "my sweet seoul",
          "new heart",
          "only you",
          "over the rainbow",
          "phoenix",
          "resurrection",
          "robber",
          "single dad in love",
          "smile, again",
          "smile, dong hae",
          "soulmate",
          "summer scent",
          "family's honor",
          "don't hesitate",
          "damo",
          "pink lipstick",
          "exhibition of fireworks",
          "on air",
          "lovers in prague",
          "which star are you from?",
          "wish to see you again",
          "my love patzzi",
          "once upon a time in saengchori",
          "dal ja's spring",
          "lovers",
          "save the last dance for me",
          "golden bride",
          "all in",
          "couple or trouble",
          "crazy for you",
          "soul",
          "zhong wu yan",
          "my shining girl",
          "anna-san no omame",
          "hanayome to papa",
          "yasha",
          "sang doo, let's go to school",
          "atami no sousakan",
          "the legend of brown sugar chivalries",
          "strongest chil woo",
          "freeze",
          "cain and abel",
          "flames of desire",
          "ryomaden",
          "koshonin",
          "bad family",
          "summer x summer",
          "taiyo to umi no kyoshitsu",
          "tiger & dragon",
          "pride",
          "the queen's classroom",
          "zeni geba",
          "trick 3",
          "tamra, the island",
          "queen of reversals",
          "sekai no chuushin de, ai wo sakebu",
          "himitsu no hanazono",
          "trick",
          "trick 2",
          "strawberry on the shortcake",
          "chinese paladin",
          "attic cat",
          "i really really like you",
          "q.e.d.",
          "bartender",
          "haikei, chichiue-sama",
          "long love letter",
          "brother beat",
          "gakko ja oshierarenai!",
          "kimcheed radish cubes",
          "yamada taro monogatari",
          "thorn birds",
          "iryu team medical dragon",
          "iryu team medical dragon 2",
          "iryu team medical dragon 3",
          "kim soo ro",
          "ko one",
          "all about eve",
          "road number one",
          "nine tailed fox",
          "shinya shokudo",
          "hwang jin yi",
          "if in love like them",
          "temptation of an angel",
          "gloomy salad days",
          "green rose",
          "kisarazu cat's eye",
          "bad couple",
          "my lucky star",
          "princess princess d",
          "summer snow",
          "life",
          "majo no jouken",
          "queen of housewives",
          "boku dake no madonna",
          "great inheritance",
          "kamisama mou sukoshi dake",
          "sp",
          "unfair",
          "manhattan love story",
          "shokojo seira",
          "p.p.o.i.",
          "home drama",
          "byakuyako",
          "surgeon bong dal hee",
          "sweet spy",
          "tazza",
          "kamen rider ooo",
          "hooray for love",
          "tempest",
          "vacation",
          "sweet room",
          "the vigilantes in masks",
          "hi wa mata noboru",
          "the duke of mount deer",
          "beautiful love: if you're here",
          "silence",
          "arakawa under the bridge",
          "the little fairy",
          "gye baek",
          "jiu",
          "hikari to tomo ni... ~ jiheishou-ji wo kakaete ~",
          "the fierce wife",
          "meitantei conan",
          "the mysteries of love",
          "soredemo, ikite yuku",
          "100 scene no koi",
          "unstoppable high kick",
          "100% senorita",
          "yuusha yoshihiko to maou no shiro",
          "dr. koto shinryojo",
          "garo",
          "legend of the condor heroes",
          "kamen rider w",
          "birdie buddy",
          "kamen rider decade",
          "material queen",
          "la robe de mariage des cieux",
          "hanawake no yon shimai",
          "zenkai girl",
          "journey to the west",
          "schemes of a beauty",
          "introduction of the princess",
          "what happened in bali",
          "can't lose",
          "shiroi haru",
          "the young warriors",
          "kaito royale",
          "kaseifu no mita",
          "doctors saikyou no meii",
          "new my fair princess",
          "sengyou shufu tantei ~watashi wa shadow",
          "nankyoku tairiku",
          "kamen rider kabuto",
          "kamen rider fourze",
          "shinya shokudo 2",
          "garo: makai senki",
          "brain",
          "last scandal",
          "fondant garden",
          "mitsu no aji",
          "nazotoki wa dinner no ato de",
          "carnation",
          "shokuzai",
          "kingyo club",
          "little girl k",
          "boku to star no 99 nichi",
          "ring ring bell",
          "watashi ga renai dekinai riyuu",
          "the musical",
          "the heaven sword and dragon saber",
          "fermentation family",
          "high kick! the revenge of the short legged",
          "the empress",
          "runaway - aisuru kimi no tame ni",
          "love or bread",
          "ace wo nerae!",
          "nobuta wo produce",
          "myung wol the spy",
          "alone in love",
          "kindaichi shonen no jikenbo 3",
          "kindaichi shonen no jikenbo 2",
          "how to meet a perfect neighbor",
          "jungle fish 2",
          "flowers for my life",
          "manny",
          "at dolphin bay",
          "rolling love",
          "my rosy life",
          "tokyo friends",
          "my bratty princess",
          "ikebukuro west gate park",
          "sunshine angel",
          "baby-faced beauty",
          "beach boys",
          "sandglass",
          "tsubasa no oreta tenshitachi",
          "long vacation",
          "mukodono!",
          "asuko march!",
          "capital scandal",
          "wedding",
          "women of the sun",
          "last friends",
          "good life - arigatou, papa. sayonara",
          "boku to kanojo no xxx",
          "hotelier",
          "ohisama",
          "marumo no okite",
          "rebound",
          "umareru.",
          "inu wo kau to iu koto",
          "shima shima",
          "osen",
          "jotei",
          "bump off lover",
          "moonlight resonance",
          "romance town",
          "can't buy me love",
          "three kingdoms",
          "forensic heroes",
          "sweet relationship",
          "antique",
          "mop girl",
          "little mom scandal",
          "my mvp valentine",
          "loveholic",
          "karei naru ichizoku",
          "puzzle",
          "taiyou no uta",
          "deep love ~ ayu's story ~",
          "the great king, sejong",
          "kindaichi shonen no jikenbo",
          "we are dating now",
          "star in my heart",
          "tadashii ouji no tsukurikata",
          "majisuka gakuen 2",
          "the magicians of love",
          "ying ye 3+1",
          "woody sambo",
          "friends",
          "poseidon",
          "king gwanggaeto the great",
          "the rose",
          "princess pearl",
          "ice world",
          "papa to musume no nanokakan",
          "a sleeping forest",
          "snow white",
          "remote",
          "lovers in paris",
          "subete ga f ni naru",
          "the virtuous queen of han",
          "boarding house #24",
          "troubleman",
          "wu xin: the monster killer",
          "royal sister returns",
          "toki wo kakeru shoujo",
          "28 faces of the moon",
          "ishi no mayu",
          "soshite, dare mo inaku natta",
          "37.5°c no namida",
          "prince's prince",
          "omotesando koukou gasshoubu",
          "cinderella formula",
          "les interprètes",
          "love relationship",
          "ramen daisuki koizumi-san",
          "seisei suruhodo, aishiteru",
          "life is beautiful",
          "holyland",
          "tamiou",
          "tantei no tantei",
          "late night restaurant",
          "the girl in tassel earring",
          "evil minds",
          "on the way to the airport",
          "i wanna be sup'tar",
          "totto tv",
          "under the black moonlight",
          "women at a game company",
          "jang young shil",
          "alchemist",
          "cold case: shinjitsu no tobira",
          "miss in kiss",
          "hapimari: happy marriage!?",
          "i have a lover",
          "all about my mom",
          "kamen rider ghost",
          "baek hee has returned",
          "yuusha yoshihiko to michibikareshi shichinin",
          "q series: love of sandstorm",
          "because it's the first time",
          "better man",
          "awl",
          "me and mr. x season 3: goodbye mr. x",
          "swimming battle",
          "ie uru onna",
          "q series: life plan a and b",
          "fighter of the  destiny",
          "finding soul",
          "the crossing hero",
          "asa ga kita",
          "my best ex-boyfriend",
          "kamen rider ex-aid",
          "mai sin rai fai sawart",
          "the legend of the condor heroes",
          "mia tuean",
          "mother game",
          "war of high school",
          "jumping girl",
          "suna no tou - shiri sugita rinjin",
          "ra raerng fai",
          "super star academy",
          "death note new generation",
          "about love",
          "jimi ni sugoi! koetsu garu kono etsuko",
          "men with sword",
          "suishou no kodou",
          "the man in the mask",
          "kokoro ga pokitto ne",
          "ishitachi no renai jijo",
          "the whirlwind girl",
          "woman with a suitcase",
          "my beautiful bride",
          "mother",
          "hello! miss",
          "reinoryokusha odagiri kyoko no uso",
          "unmei ni, nita koi",
          "blow breeze",
          "i see you",
          "rang tawan",
          "roy leh sanae rai",
          "lovey dovey",
          "our gap soon",
          "decoded",
          "aogeba toutoshi",
          "nang rai tee rak",
          "o-negative",
          "piang chai khon nee mai chai poo wised",
          "candle in the tomb",
          "prison school",
          "kiina",
          "kounodori",
          "kiseki no hito",
          "detective alice",
          "fragile",
          "the cupids series: kamathep online",
          "the cupids series: kammathep hunsa",
          "the cupids series: kamathep prab marn",
          "sapai jao",
          "proud of love",
          "cruel love",
          "shiratori reiko de gozaimasu!",
          "revive",
          "gloria",
          "u-prince: the extroverted humanist",
          "u-prince: the lovely geologist",
          "u-prince: the gentle vet",
          "the fire series 2: talay fai",
          "my little baby",
          "seito shokun!",
          "song huajai nee puea tur",
          "hello mr. right",
          "sekai ichi muzukashii koi",
          "high&low",
          "shibatora",
          "morrasoom sawat",
          "kasa wo motanai aritachi wa",
          "sumika sumire",
          "kaitou yamaneko",
          "a fist within four walls",
          "mars - tada, kimi wo aishiteru",
          "happy home",
          "lily fever",
          "pied piper",
          "delicious love",
          "transit girls",
          "back to 1989",
          "chronicle of life",
          "eating existence",
          "meitantei no okite",
          "the mystic nine",
          "legendary witch",
          "she is 200 years old",
          "puer tur",
          "juhan shuttai!",
          "devil lover",
          "love @ seventeen",
          "thumping spike",
          "the master of revenge",
          "onna joushu naotora",
          "underwear",
          "ogon no buta",
          "senior secret love: bake me love",
          "samurai sensei",
          "okashi no ie",
          "click your heart",
          "legend of nine tails fox",
          "start love",
          "demon girl",
          "gay ok bangkok",
          "the village: achiara's secret",
          "shitamachi rocket",
          "glamorous temptation",
          "boku no yabai tsuma",
          "bong soon: a cyborg in love",
          "mioka",
          "the man who can't get married",
          "far away love",
          "part time",
          "sweet, savage family",
          "gasohug",
          "it's not that i can't marry, but i don't want to",
          "sweet temptation",
          "yutori desu ga nani ka",
          "otona joshi",
          "love song",
          "our house",
          "ode to joy",
          "taste of love",
          "seishun tantei haruya: otona no aku wo yurusanai!",
          "nightmare teacher",
          "fake couple",
          "babysitter",
          "missing korea",
          "good time",
          "triple",
          "99.9: keiji senmon bengoshi",
          "high&low season 2",
          "fukuyado honpo - kyoto love story",
          "age harassment",
          "abarenbo mama",
          "you're my destiny",
          "the perfect match",
          "love through a millennium",
          "neung nai suang",
          "chinese hero zhao zi long",
          "a life",
          "ngao jai",
          "love frequency 37.2",
          "call of the country",
          "golden pouch",
          "futatsu no spica",
          "v-focus",
          "ugly duckling series: boy's paradise",
          "ugly duckling series: don't",
          "shuttle love millennium",
          "yokoso wagaya e",
          "game payabaht",
          "the legend of zu",
          "tarm ruk keun jai",
          "hot and sweet",
          "rakuen",
          "love detective sherlock k",
          "momo salon",
          "singles villa",
          "love of aurora",
          "the x-family",
          "pitsawat",
          "fuben na benriya",
          "shikaku tantei higurashi tabito",
          "the legend of dugu",
          "long for you",
          "hokuto",
          "thirteen terrors",
          "majisuka gakuen 4",
          "heard it through the grapevine",
          "the family is coming",
          "love contract",
          "surgeons",
          "the disguiser",
          "the advisors alliance",
          "dr. ian",
          "the last cop 2",
          "hiyokko",
          "house of bluebird",
          "nang ai",
          "love and secret",
          "super daddy yeol",
          "nothing gold can stay",
          "date - koi to wa donna mono kashira",
          "angel 'n' devil",
          "banana actually",
          "i am sorry, i love you",
          "mondai no aru restaurant",
          "love's relativity",
          "beautiful secret",
          "what's up with these kids!?",
          "tomodachi game",
          "yami no bansosha",
          "unkind women",
          "three dads one mom",
          "ngao asoke",
          "dear sister",
          "iq246: kareinaru jikenbo",
          "dos deka",
          "lost in 1949",
          "seonam girls high school investigators",
          "spy",
          "yume wo ataeru",
          "still loving you",
          "that fool",
          "tokyo tarareba musume",
          "tenno no ryoriban",
          "calling for love",
          "sutekina sen taxi",
          "room alone",
          "kageri yuku natsu",
          "the king of romance",
          "doll house",
          "momin's room",
          "muean khon la fark fah",
          "persevere, goo hae ra",
          "night light",
          "ghost writer",
          "boy hood",
          "the rise of phoenixes",
          "a game about love",
          "career",
          "love to our youth: he falls in love with him",
          "chef hua",
          "unsung cinderella: byoin yakuzaishi no shohosen",
          "renai mangaka",
          "familiar wife",
          "the mysterious class",
          "the ghost detective",
          "miss crow with mr. lizard",
          "queen seon duk",
          "the world that they live in",
          "solomon's perjury",
          "inspector koo",
          "a thousand days' promise",
          "w.h.y.",
          "beethoven virus",
          "she knows everything",
          "love affairs in the afternoon",
          "five fingers",
          "the lies within",
          "the wind blows",
          "when time stopped",
          "sad love story",
          "lost",
          "team bulldog: off-duty investigation",
          "my secret hotel",
          "hello monster",
          "train",
          "please feel at ease mr. ling",
          "that man oh soo",
          "you raise me up",
          "how to buy a friend",
          "legally, dad",
          "dark hole",
          "summer guys",
          "wednesday 3:30 pm",
          "bubblegum",
          "reunion: the sound of the providence season 2",
          "tomb of the sea",
          "my heart twinkle twinkle",
          "9 seconds: eternal time",
          "return of the condor heroes",
          "untouchable",
          "fox in the screen",
          "longing heart",
          "the romance of the condor heroes",
          "temptation",
          "magic cell phone",
          "ton ruk rim rua",
          "six flying dragons",
          "you complete me",
          "liar game 2",
          "city hunter",
          "ever night",
          "splendid politics",
          "wacko at law",
          "my unfamiliar family",
          "my girlfriend is a gumiho",
          "love by chance",
          "miracle that we met",
          "my dangerous wife",
          "different dreams",
          "pretty man 2",
          "heart of loyalty",
          "the legend of hao lan",
          "the wolf princess",
          "okusama wa, tori atsukai chui",
          "marriage, not dating",
          "siren",
          "the fearless",
          "project s: skate our souls",
          "kishibe rohan wa ugokanai",
          "gumiho: tale of the fox's child",
          "heartbeat love",
          "fallen angel",
          "perfect crime",
          "the ghost bride",
          "koishite akuma",
          "second love",
          "love of summer night",
          "shadow beauty",
          "love that makes you cry",
          "when i see you again",
          "legend of two sisters in the chaos",
          "marriage contract",
          "dear prince",
          "no boundary season 2",
          "the legend of jin yan",
          "ace troops",
          "one sunny day",
          "beautiful gong shim",
          "love family",
          "trial marriage",
          "dear herbal lord",
          "a murderous affair in horizon tower",
          "chef: mitsuboshi no kyushoku",
          "kiss scene in yeonnamdong",
          "35sai no shoujo",
          "god's quiz",
          "where the lost ones go",
          "my lonely planet",
          "i will find you a better home",
          "romance talking",
          "rich family's son",
          "remembrance of things past",
          "love, now",
          "go, back diary",
          "wonderful life",
          "don't leave after school",
          "oh my geum bi",
          "boku no satsui ga koi wo shita",
          "octogenarian and the 90s",
          "the naked director",
          "h2: kimi to ita hibi",
          "my lawyer, mr. jo",
          "the spring day of my life",
          "homemade love story",
          "single & ready to mingle",
          "want more 19",
          "goedam",
          "plerng naree",
          "forget you remember love",
          "full house",
          "nitiman",
          "life: senjou no bokura",
          "queen: love and war",
          "high school king of savvy",
          "d-day",
          "my girlfriend is an alien",
          "boss & me",
          "class of lies",
          "avengers social club",
          "partners for justice season 2",
          "miss ma, nemesis",
          "mama fairy and the woodcutter",
          "the greatest love",
          "the snow queen",
          "the sleepless princess",
          "the guardians",
          "the guest",
          "our glamorous time",
          "gakkou no kaidan",
          "vampire prosecutor",
          "radiant office",
          "u-prince: the foxy pilot",
          "another parting",
          "obstetrics and gynecology doctors",
          "your highness, the class monitor",
          "after school: lucky or not",
          "a love to kill",
          "bangkok g story",
          "kleun cheewit",
          "mine",
          "blue birthday",
          "we best love: no. 1 for you",
          "yi san",
          "neechan no koibito",
          "hong gil dong",
          "my sweet dear",
          "justice",
          "office girls",
          "be melodramatic",
          "skate into love",
          "plus nine boys",
          "the fox's summer",
          "s.c.i",
          "en of love: this is love story",
          "the legend of xiao chuo",
          "nigeru wa haji da ga yaku ni tatsu",
          "god's quiz season 2",
          "totsuzen desu ga, ashita kekkon shimasu",
          "catch the ghost",
          "love cuisine",
          "god's quiz season 3",
          "the cupids series: kamathep ork suek",
          "oh my baby",
          "i am your teacher",
          "secret seven",
          "one ordinary day",
          "wadake no otokotachi",
          "see you again",
          "lovely us",
          "operation: special warfare",
          "bulgasal: immortal souls",
          "lover or stranger",
          "twisted fate of love",
          "love is all",
          "my only love song",
          "dokushin kizoku",
          "heartstrings",
          "dragon day, you're dead season 2",
          "racket boys",
          "youths in the breeze",
          "till death tear us apart",
          "precise shot",
          "make it live: on the beach",
          "dinner mate",
          "just you",
          "let's eat",
          "meeting you loving you",
          "wild romance",
          "good bye, my princess",
          "my supernatural power",
          "singing all along",
          "reborn",
          "caught in the heartbeat",
          "let's watch the meteor shower again",
          "i hear you",
          "gokusen 3",
          "ikemen desu ne",
          "sweden laundry",
          "suits",
          "night watchman's journal",
          "sweet munchies",
          "the shipper",
          "bite sisters",
          "hit the top",
          "you are my destiny",
          "ghost",
          "melancholia",
          "history2: crossing the line",
          "the penthouse season 3: war in life",
          "madame antoine",
          "hi! school - love on",
          "bungaku shojo",
          "mokkoji kitchen",
          "love around",
          "le coup de foudre",
          "falling in love",
          "who is the murderer",
          "definitely not today",
          "put your head on my shoulder",
          "the blooms at ruyi pavilion",
          "memory",
          "mr. fox and miss rose",
          "padam padam",
          "city of streamer",
          "gank your heart",
          "zombie detective",
          "the best twins",
          "the long night",
          "hold on, my lady",
          "coffee & vanilla",
          "the other half of me and you",
          "art in love",
          "lovely writer",
          "the flower in prison",
          "inspiring generation",
          "stand up!!",
          "ko one return",
          "the gentlemen of wolgyesu tailor shop",
          "oyabaka seishun hakusho",
          "joshi-teki seikatsu",
          "omukae desu",
          "yuusha yoshihiko to akuryo no kagi",
          "oi handsome!",
          "koi wa deep ni",
          "st aka to shiro no sousa file",
          "okitegami kyoko no biboroku",
          "horimiya",
          "kangoku no ohimesama",
          "quartet",
          "orange days",
          "kotaki kyodai to shikuhakku",
          "11 nin mo iru!",
          "ossan's love",
          "okane no kireme ga koi no hajimari",
          "talio fukushu daiko no futari",
          "ore no sukato, doko itta?",
          "seirei no moribito",
          "sherlock: the untold stories",
          "kokoro no kizu wo iyasu to iu koto",
          "starman - this star's love",
          "love generation",
          "mei-chan no shitsuji",
          "gomen, aishiteru",
          "youkai sharehouse",
          "q10",
          "chimera",
          "crime puzzle",
          "witch's romance",
          "wild chives and soy bean soup: 12 years reunion",
          "my dear loser: monster romance",
          "l.u.c.a.: the beginning",
          "switched",
          "when we were young",
          "out of the dream",
          "the song of glory",
          "the legends",
          "the eternal love",
          "the tasty florida",
          "like love",
          "the psychologist",
          "taisetsu na koto wa subete kimi ga oshiete kureta",
          "my runway",
          "hakuouki ssl: sweet school life",
          "moon river",
          "please find her",
          "douluo continent",
          "twelve men in a year",
          "love scene number",
          "last cinderella",
          "full house take 2",
          "girl from nowhere",
          "a-teen",
          "nobody knows",
          "young lady and gentleman",
          "the man's voice",
          "mrs. cop",
          "imitation",
          "love better than immortality",
          "the great shaman ga doo shim",
          "legend of awakening",
          "children of a lesser god",
          "yes! mr. fashion",
          "meet me outside",
          "chip-in",
          "level up",
          "would you like a cup of coffee?",
          "my boy",
          "ossan's love: in the sky",
          "not me",
          "paint with love",
          "girl next room: security love",
          "girl next room: richy rich",
          "y-destiny",
          "the best story",
          "as long as you love me",
          "love beyond frontier",
          "longing for spring",
          "sketch",
          "zettai kareshi",
          "show window: the queen's house",
          "east of eden",
          "chasing ball",
          "swing to the sky",
          "a river runs through it",
          "glass slippers",
          "gangnam scandal",
          "oh! my lady",
          "dine with love",
          "true beauty",
          "love keeps going",
          "duel",
          "light on me",
          "lonely enough to love",
          "ms. temper & nam jung gi",
          "risky romance",
          "pegasus market",
          "ruyi's royal love in the palace",
          "rookie cops",
          "first love again",
          "moment at eighteen",
          "padiwaradda",
          "my neighbour can't sleep",
          "enchanté",
          "gokusen 2",
          "romantic princess",
          "grand prince",
          "undercover",
          "the classic of mountains and seas",
          "meloholic",
          "7 project",
          "top management",
          "convenience store fling",
          "sell your haunted house",
          "marry me!",
          "on the wings of love",
          "one page love",
          "my dear guardian",
          "dance of the sky empire",
          "high kick through the roof!",
          "hayate the combat butler",
          "bloody monday",
          "jang ok jung",
          "the time we were not in love",
          "heavenly sword and dragon slaying sabre",
          "i am the years you are the stars",
          "all i want for love is you",
          "dark blue and moonlight",
          "dance of the phoenix",
          "hana nochi hare: hanadan next season",
          "kamen rider den-o",
          "on ijou hanzai sousakan todo hinako",
          "boku, unmei no hito desu",
          "kazoku no katachi",
          "legal high",
          "algernon ni hanataba wo",
          "the flatterer",
          "cunning single lady",
          "secret royal inspector & joy",
          "because of you",
          "tra barb see chompoo",
          "legend of the dragon pearl: the indistinguishable road",
          "count your lucky stars",
          "ma boy",
          "love sick",
          "i've fallen for you",
          "falling for do jeon",
          "please don't date him",
          "gen y",
          "girl next room: midnight fantasy",
          "7th grade civil servant",
          "come and hug me",
          "history3: make our days count",
          "my lovely sam soon",
          "make it right 2",
          "the package",
          "tomorrow boy",
          "special affairs team ten",
          "god's gift: 14 days",
          "kakegurui season 2",
          "gto",
          "tokyo dogs",
          "flower ever after",
          "dr. champ",
          "love & wish",
          "top star yoo baek",
          "dating in the kitchen",
          "a gentleman's dignity",
          "run on",
          "doctor detective",
          "here is my exclusive indulge",
          "leverage",
          "please love me",
          "cinderella is online",
          "my vampire boyfriend",
          "lie to me",
          "rinsho hanzai gakusha himura hideo no suiri",
          "junkyouju takatsuki akira no suisatsu",
          "mr. nietzsche in the convenience store",
          "minami-kun no koibito",
          "love and fortune",
          "so sanaeha",
          "qing luo",
          "lie to love",
          "ice fantasy",
          "when the devil calls your name",
          "legend of yun xi",
          "maid escort",
          "missing 9",
          "remember my boy",
          "skip beat!",
          "easy fortune happy life",
          "tofu personified",
          "best mistake season 3",
          "love poison",
          "my romantic some recipe",
          "jun jiu ling",
          "princess hours",
          "reset life",
          "one more time",
          "together with me",
          "i'm sorry, i love you",
          "love is deep",
          "the spies who loved me",
          "dao kiang duen",
          "who are you?",
          "u-prince: the absolute economist",
          "sunshine of my life",
          "falling in love with a rival",
          "craving you",
          "midsummer is full of love",
          "fantastic",
          "sweet tai chi",
          "romance",
          "her bucket list",
          "sword dynasty",
          "hello mr. gu",
          "use for my talent",
          "accidentally in love",
          "the great show",
          "doubtful victory",
          "thirty-nine",
          "witch's court",
          "find me in your memory",
          "lost love in times",
          "do do sol sol la la sol",
          "cinderella's sister",
          "the undateables",
          "miss gu who is silent",
          "my dear destiny",
          "falling in love",
          "mimi",
          "the best future",
          "i wanna hear your song",
          "hush",
          "time flies and you are here",
          "the chang'an youth",
          "to love, to heal",
          "well dominated love",
          "divorce lawyer in love",
          "girl next room: motorbike baby",
          "sparkle love",
          "the crown princess",
          "cheat my boss",
          "be my cat",
          "senior secret love: my lil boy",
          "5-ji kara 9-ji made",
          "beautiful reborn flower",
          "cute programmer",
          "long khong",
          "beyond the realm of conscience",
          "heart of greed",
          "massaya",
          "my toxic lover",
          "amore",
          "discipline",
          "he she it",
          "a gift to the people you hate",
          "love & life & lie",
          "yasuko to kenji",
          "vampire detective",
          "rugal",
          "when my love blooms",
          "oh my ladylord",
          "senior secret love: puppy honey 2",
          "entourage",
          "item",
          "meteor garden",
          "gunman in joseon",
          "forest",
          "shut up: flower boy band",
          "bad papa",
          "criminal minds",
          "love designer",
          "the endless love",
          "shining for one thing",
          "winter sonata",
          "itoshi kimi e",
          "the lost tomb",
          "crime squad",
          "be my boyfriend",
          "colourful bone",
          "emperor of the sea",
          "goong s",
          "legend of fu yao",
          "shark",
          "princess at large",
          "oops! the king is in love",
          "hanazakari no kimitachi e",
          "my gear and your gown",
          "ex-girlfriend club",
          "hajimete koi wo shita hi ni yomu hanashi",
          "my first first love 2",
          "doctors",
          "the fairy fox",
          "the last empress",
          "wait, my youth",
          "time slip dr. jin",
          "the return of iljimae",
          "game sanaeha",
          "higanbana: keishicho sosa nana ka",
          "dear my name",
          "something about 1 percent",
          "capture lover",
          "be arrogant",
          "tong: memories",
          "hook up",
          "my extraordinary",
          "my love, enlighten me",
          "to the beautiful you",
          "you're my sky",
          "lovers in bloom",
          "entertainer",
          "the woman who still wants to marry",
          "coffee house",
          "when it's at night",
          "nevertheless,",
          "i don't love you yet",
          "the game: towards zero",
          "influencers",
          "cinderella and the four knights",
          "hwarang",
          "oh my boss",
          "grid",
          "my girl",
          "the night of the comet",
          "what's up, fox?",
          "heart surgeons",
          "wok of love",
          "mirror of the witch",
          "close friend",
          "boysitter",
          "my dear loser: edge of 17",
          "in love with your dimples",
          "unforgettable love",
          "choco bank",
          "key love",
          "the girl who sees scents",
          "pasta",
          "yamato nadeshiko shichi henge",
          "the cupid coach",
          "top secret together",
          "arang and the magistrate",
          "mr. bodyguard",
          "poisoned love",
          "sword and flower",
          "you are my hero",
          "love under the full moon",
          "the fox's summer season 2",
          "a female student arrives at the imperial college",
          "unrequited love",
          "ugly duckling series: pity girl",
          "black knight: the man who guards me",
          "secret love affair",
          "the emperor: owner of the mask",
          "blood",
          "so i married an anti-fan",
          "the world of my 17",
          "best mistake season 2",
          "fish upon the sky",
          "nee sensei, shiranai no?",
          "lucky's first love",
          "romance special law",
          "more than friends",
          "jiu liu overlord",
          "birth of a beauty",
          "dramaworld",
          "joker yurusarezaru sousakan",
          "kenja no ai",
          "taste of cat",
          "is - otoko demo onna demo nai sei",
          "final cut",
          "ghost mama sousasen",
          "hello, me!",
          "junichi",
          "bokutachi ga yarimashita",
          "haechi",
          "my dear lady",
          "secret royal inspector",
          "when the weather is fine",
          "shining inheritance",
          "marry me now",
          "angel eyes",
          "a poem a day",
          "marry me, or not?",
          "the silent sea",
          "faith",
          "queen in hyun's man",
          "my unfortunate boyfriend",
          "sweet first love",
          "itazura na kiss",
          "best mistake",
          "lovely horribly",
          "advance bravely",
          "so not worth it",
          "tharntype",
          "douse mou nigerarenai",
          "suspicious partner",
          "the vineyard man",
          "biscuit teacher and star candy",
          "jugglers",
          "angry mom",
          "peng",
          "romanced",
          "better a lie than a truth",
          "shark",
          "109 strange things",
          "delicious destiny",
          "mad dog",
          "kiss me again",
          "good casting",
          "mysterious incredible terminator",
          "an oriental odyssey",
          "cupid's kitchen",
          "be loved in house: i do",
          "and the winner is love",
          "reply 1988",
          "go go squid!",
          "praomook",
          "the rules of love",
          "intouchable",
          "fall in love",
          "bad guys: city of evil",
          "golden empire",
          "that winter, the wind blows",
          "iron ladies",
          "my mate match",
          "by stealth like you",
          "a camellia romance",
          "pop out boy!",
          "love by chance 2: a chance to love",
          "sapuri",
          "vampire flower",
          "big issue",
          "good morning call: our campus days",
          "failing in love",
          "flipped",
          "i  do, i do",
          "sisyphus: the myth",
          "me too, flower!",
          "romance is a bonus book",
          "one fine day",
          "ben x jim",
          "majo saiban",
          "nobunaga no chef",
          "a girl like me",
          "moorim school",
          "the secret message",
          "suki na hito ga iru koto",
          "something in my room",
          "ouran high school host club",
          "adult trainee",
          "behind cut",
          "love with flaws",
          "girl from nowhere season 2",
          "truth or dare",
          "kei×yaku: abunai aibou",
          "the third charm",
          "love of thousand years",
          "reply 1997",
          "my girlfriend",
          "when a man's in love",
          "die now",
          "king2hearts",
          "secret mother",
          "master devil do not kiss me",
          "kurosagi",
          "to all the guys who loved me",
          "surplus princess",
          "two cops",
          "sm:)e",
          "ho goo's love",
          "reunited worlds",
          "shall we fall in love",
          "love (ft. marriage and divorce)",
          "wanted",
          "school 2017",
          "i cannot hug you season 2",
          "awaken",
          "just one bite",
          "way back into love",
          "the smile has left your eyes",
          "love in time",
          "a beautiful mind",
          "temperature of love",
          "exo next door",
          "between",
          "twenty years old",
          "the innocent man",
          "dokgo rewind",
          "the king in love",
          "love rain",
          "about is love",
          "wish you: your melody from my heart",
          "sweet combat",
          "history1: stay away from me",
          "my fair lady",
          "18 vs. 29",
          "money game",
          "bite me",
          "private lives",
          "miss ripley",
          "romance blue",
          "dream knight",
          "the destiny of white snake",
          "golden blood",
          "utsukushii kare",
          "flavour it's yours",
          "mary stayed out all night",
          "love at night",
          "kieta hatsukoi",
          "local hero",
          "man to man",
          "bring it on, ghost",
          "frankenstein no koi",
          "dream garden",
          "cross",
          "strongest deliveryman",
          "roop thong",
          "turn left turn right",
          "police university",
          "hyde, jekyll, me",
          "lucky romance",
          "persona",
          "search: www",
          "burning ice",
          "andante",
          "itazura na kiss: love in tokyo",
          "peach of time",
          "the school nurse files",
          "kiss",
          "mr. swimmer",
          "pretty man",
          "kiss goblin",
          "views of love: grey rainbow",
          "k-pop - the ultimate audition",
          "triad princess",
          "seventeen",
          "ending again",
          "minami-kun no koibito - my little lover",
          "the charming step mom",
          "nine kilometers of love",
          "girl of 0am",
          "the ambiguous focus",
          "tempted",
          "atashinchi no danshi",
          "takane to hana",
          "the lover",
          "my lovely girl",
          "meow, the secret boy",
          "noble, my love",
          "boys dormitory",
          "where your eyes linger",
          "history1: my hero",
          "en of love: tossara",
          "lovestruck in the city",
          "i hate you, i love you",
          "reminders",
          "make it right",
          "dr. frost",
          "'cause you're my boy",
          "monstar",
          "my secret romance",
          "49 days",
          "was it love?",
          "until we meet again",
          "marry him if you dare",
          "you are the best!",
          "bel ami",
          "senior secret love: puppy honey",
          "where stars land",
          "protect the boss",
          "mysterious love",
          "i picked up a star on the road",
          "black",
          "flower boy next door",
          "the sweet blood",
          "my absolute boyfriend",
          "i cannot hug you",
          "clean with passion for now",
          "the producers",
          "miss hammurabi",
          "witch's love",
          "flower boy ramen shop",
          "shopping king louie",
          "my love from the star",
          "orange marmalade",
          "personal taste",
          "blade man",
          "big",
          "the heirs"
         ],
         "textfont": {
          "color": "#000000"
         },
         "textposition": "inside",
         "type": "bar",
         "x": [
          9.002580500291934,
          8.984305627871343,
          8.97913893651158,
          8.973402265608378,
          8.971007475791193,
          8.969318017602841,
          8.962010946535479,
          8.961867786837237,
          8.961544072740205,
          8.957385609697635
         ],
         "y": [
          1,
          2,
          3,
          4,
          5,
          6,
          7,
          8,
          9,
          10
         ]
        }
       ],
       "layout": {
        "template": {
         "data": {
          "bar": [
           {
            "error_x": {
             "color": "#2a3f5f"
            },
            "error_y": {
             "color": "#2a3f5f"
            },
            "marker": {
             "line": {
              "color": "#E5ECF6",
              "width": 0.5
             },
             "pattern": {
              "fillmode": "overlay",
              "size": 10,
              "solidity": 0.2
             }
            },
            "type": "bar"
           }
          ],
          "barpolar": [
           {
            "marker": {
             "line": {
              "color": "#E5ECF6",
              "width": 0.5
             },
             "pattern": {
              "fillmode": "overlay",
              "size": 10,
              "solidity": 0.2
             }
            },
            "type": "barpolar"
           }
          ],
          "carpet": [
           {
            "aaxis": {
             "endlinecolor": "#2a3f5f",
             "gridcolor": "white",
             "linecolor": "white",
             "minorgridcolor": "white",
             "startlinecolor": "#2a3f5f"
            },
            "baxis": {
             "endlinecolor": "#2a3f5f",
             "gridcolor": "white",
             "linecolor": "white",
             "minorgridcolor": "white",
             "startlinecolor": "#2a3f5f"
            },
            "type": "carpet"
           }
          ],
          "choropleth": [
           {
            "colorbar": {
             "outlinewidth": 0,
             "ticks": ""
            },
            "type": "choropleth"
           }
          ],
          "contour": [
           {
            "colorbar": {
             "outlinewidth": 0,
             "ticks": ""
            },
            "colorscale": [
             [
              0,
              "#0d0887"
             ],
             [
              0.1111111111111111,
              "#46039f"
             ],
             [
              0.2222222222222222,
              "#7201a8"
             ],
             [
              0.3333333333333333,
              "#9c179e"
             ],
             [
              0.4444444444444444,
              "#bd3786"
             ],
             [
              0.5555555555555556,
              "#d8576b"
             ],
             [
              0.6666666666666666,
              "#ed7953"
             ],
             [
              0.7777777777777778,
              "#fb9f3a"
             ],
             [
              0.8888888888888888,
              "#fdca26"
             ],
             [
              1,
              "#f0f921"
             ]
            ],
            "type": "contour"
           }
          ],
          "contourcarpet": [
           {
            "colorbar": {
             "outlinewidth": 0,
             "ticks": ""
            },
            "type": "contourcarpet"
           }
          ],
          "heatmap": [
           {
            "colorbar": {
             "outlinewidth": 0,
             "ticks": ""
            },
            "colorscale": [
             [
              0,
              "#0d0887"
             ],
             [
              0.1111111111111111,
              "#46039f"
             ],
             [
              0.2222222222222222,
              "#7201a8"
             ],
             [
              0.3333333333333333,
              "#9c179e"
             ],
             [
              0.4444444444444444,
              "#bd3786"
             ],
             [
              0.5555555555555556,
              "#d8576b"
             ],
             [
              0.6666666666666666,
              "#ed7953"
             ],
             [
              0.7777777777777778,
              "#fb9f3a"
             ],
             [
              0.8888888888888888,
              "#fdca26"
             ],
             [
              1,
              "#f0f921"
             ]
            ],
            "type": "heatmap"
           }
          ],
          "heatmapgl": [
           {
            "colorbar": {
             "outlinewidth": 0,
             "ticks": ""
            },
            "colorscale": [
             [
              0,
              "#0d0887"
             ],
             [
              0.1111111111111111,
              "#46039f"
             ],
             [
              0.2222222222222222,
              "#7201a8"
             ],
             [
              0.3333333333333333,
              "#9c179e"
             ],
             [
              0.4444444444444444,
              "#bd3786"
             ],
             [
              0.5555555555555556,
              "#d8576b"
             ],
             [
              0.6666666666666666,
              "#ed7953"
             ],
             [
              0.7777777777777778,
              "#fb9f3a"
             ],
             [
              0.8888888888888888,
              "#fdca26"
             ],
             [
              1,
              "#f0f921"
             ]
            ],
            "type": "heatmapgl"
           }
          ],
          "histogram": [
           {
            "marker": {
             "pattern": {
              "fillmode": "overlay",
              "size": 10,
              "solidity": 0.2
             }
            },
            "type": "histogram"
           }
          ],
          "histogram2d": [
           {
            "colorbar": {
             "outlinewidth": 0,
             "ticks": ""
            },
            "colorscale": [
             [
              0,
              "#0d0887"
             ],
             [
              0.1111111111111111,
              "#46039f"
             ],
             [
              0.2222222222222222,
              "#7201a8"
             ],
             [
              0.3333333333333333,
              "#9c179e"
             ],
             [
              0.4444444444444444,
              "#bd3786"
             ],
             [
              0.5555555555555556,
              "#d8576b"
             ],
             [
              0.6666666666666666,
              "#ed7953"
             ],
             [
              0.7777777777777778,
              "#fb9f3a"
             ],
             [
              0.8888888888888888,
              "#fdca26"
             ],
             [
              1,
              "#f0f921"
             ]
            ],
            "type": "histogram2d"
           }
          ],
          "histogram2dcontour": [
           {
            "colorbar": {
             "outlinewidth": 0,
             "ticks": ""
            },
            "colorscale": [
             [
              0,
              "#0d0887"
             ],
             [
              0.1111111111111111,
              "#46039f"
             ],
             [
              0.2222222222222222,
              "#7201a8"
             ],
             [
              0.3333333333333333,
              "#9c179e"
             ],
             [
              0.4444444444444444,
              "#bd3786"
             ],
             [
              0.5555555555555556,
              "#d8576b"
             ],
             [
              0.6666666666666666,
              "#ed7953"
             ],
             [
              0.7777777777777778,
              "#fb9f3a"
             ],
             [
              0.8888888888888888,
              "#fdca26"
             ],
             [
              1,
              "#f0f921"
             ]
            ],
            "type": "histogram2dcontour"
           }
          ],
          "mesh3d": [
           {
            "colorbar": {
             "outlinewidth": 0,
             "ticks": ""
            },
            "type": "mesh3d"
           }
          ],
          "parcoords": [
           {
            "line": {
             "colorbar": {
              "outlinewidth": 0,
              "ticks": ""
             }
            },
            "type": "parcoords"
           }
          ],
          "pie": [
           {
            "automargin": true,
            "type": "pie"
           }
          ],
          "scatter": [
           {
            "fillpattern": {
             "fillmode": "overlay",
             "size": 10,
             "solidity": 0.2
            },
            "type": "scatter"
           }
          ],
          "scatter3d": [
           {
            "line": {
             "colorbar": {
              "outlinewidth": 0,
              "ticks": ""
             }
            },
            "marker": {
             "colorbar": {
              "outlinewidth": 0,
              "ticks": ""
             }
            },
            "type": "scatter3d"
           }
          ],
          "scattercarpet": [
           {
            "marker": {
             "colorbar": {
              "outlinewidth": 0,
              "ticks": ""
             }
            },
            "type": "scattercarpet"
           }
          ],
          "scattergeo": [
           {
            "marker": {
             "colorbar": {
              "outlinewidth": 0,
              "ticks": ""
             }
            },
            "type": "scattergeo"
           }
          ],
          "scattergl": [
           {
            "marker": {
             "colorbar": {
              "outlinewidth": 0,
              "ticks": ""
             }
            },
            "type": "scattergl"
           }
          ],
          "scattermapbox": [
           {
            "marker": {
             "colorbar": {
              "outlinewidth": 0,
              "ticks": ""
             }
            },
            "type": "scattermapbox"
           }
          ],
          "scatterpolar": [
           {
            "marker": {
             "colorbar": {
              "outlinewidth": 0,
              "ticks": ""
             }
            },
            "type": "scatterpolar"
           }
          ],
          "scatterpolargl": [
           {
            "marker": {
             "colorbar": {
              "outlinewidth": 0,
              "ticks": ""
             }
            },
            "type": "scatterpolargl"
           }
          ],
          "scatterternary": [
           {
            "marker": {
             "colorbar": {
              "outlinewidth": 0,
              "ticks": ""
             }
            },
            "type": "scatterternary"
           }
          ],
          "surface": [
           {
            "colorbar": {
             "outlinewidth": 0,
             "ticks": ""
            },
            "colorscale": [
             [
              0,
              "#0d0887"
             ],
             [
              0.1111111111111111,
              "#46039f"
             ],
             [
              0.2222222222222222,
              "#7201a8"
             ],
             [
              0.3333333333333333,
              "#9c179e"
             ],
             [
              0.4444444444444444,
              "#bd3786"
             ],
             [
              0.5555555555555556,
              "#d8576b"
             ],
             [
              0.6666666666666666,
              "#ed7953"
             ],
             [
              0.7777777777777778,
              "#fb9f3a"
             ],
             [
              0.8888888888888888,
              "#fdca26"
             ],
             [
              1,
              "#f0f921"
             ]
            ],
            "type": "surface"
           }
          ],
          "table": [
           {
            "cells": {
             "fill": {
              "color": "#EBF0F8"
             },
             "line": {
              "color": "white"
             }
            },
            "header": {
             "fill": {
              "color": "#C8D4E3"
             },
             "line": {
              "color": "white"
             }
            },
            "type": "table"
           }
          ]
         },
         "layout": {
          "annotationdefaults": {
           "arrowcolor": "#2a3f5f",
           "arrowhead": 0,
           "arrowwidth": 1
          },
          "autotypenumbers": "strict",
          "coloraxis": {
           "colorbar": {
            "outlinewidth": 0,
            "ticks": ""
           }
          },
          "colorscale": {
           "diverging": [
            [
             0,
             "#8e0152"
            ],
            [
             0.1,
             "#c51b7d"
            ],
            [
             0.2,
             "#de77ae"
            ],
            [
             0.3,
             "#f1b6da"
            ],
            [
             0.4,
             "#fde0ef"
            ],
            [
             0.5,
             "#f7f7f7"
            ],
            [
             0.6,
             "#e6f5d0"
            ],
            [
             0.7,
             "#b8e186"
            ],
            [
             0.8,
             "#7fbc41"
            ],
            [
             0.9,
             "#4d9221"
            ],
            [
             1,
             "#276419"
            ]
           ],
           "sequential": [
            [
             0,
             "#0d0887"
            ],
            [
             0.1111111111111111,
             "#46039f"
            ],
            [
             0.2222222222222222,
             "#7201a8"
            ],
            [
             0.3333333333333333,
             "#9c179e"
            ],
            [
             0.4444444444444444,
             "#bd3786"
            ],
            [
             0.5555555555555556,
             "#d8576b"
            ],
            [
             0.6666666666666666,
             "#ed7953"
            ],
            [
             0.7777777777777778,
             "#fb9f3a"
            ],
            [
             0.8888888888888888,
             "#fdca26"
            ],
            [
             1,
             "#f0f921"
            ]
           ],
           "sequentialminus": [
            [
             0,
             "#0d0887"
            ],
            [
             0.1111111111111111,
             "#46039f"
            ],
            [
             0.2222222222222222,
             "#7201a8"
            ],
            [
             0.3333333333333333,
             "#9c179e"
            ],
            [
             0.4444444444444444,
             "#bd3786"
            ],
            [
             0.5555555555555556,
             "#d8576b"
            ],
            [
             0.6666666666666666,
             "#ed7953"
            ],
            [
             0.7777777777777778,
             "#fb9f3a"
            ],
            [
             0.8888888888888888,
             "#fdca26"
            ],
            [
             1,
             "#f0f921"
            ]
           ]
          },
          "colorway": [
           "#636efa",
           "#EF553B",
           "#00cc96",
           "#ab63fa",
           "#FFA15A",
           "#19d3f3",
           "#FF6692",
           "#B6E880",
           "#FF97FF",
           "#FECB52"
          ],
          "font": {
           "color": "#2a3f5f"
          },
          "geo": {
           "bgcolor": "white",
           "lakecolor": "white",
           "landcolor": "#E5ECF6",
           "showlakes": true,
           "showland": true,
           "subunitcolor": "white"
          },
          "hoverlabel": {
           "align": "left"
          },
          "hovermode": "closest",
          "mapbox": {
           "style": "light"
          },
          "paper_bgcolor": "white",
          "plot_bgcolor": "#E5ECF6",
          "polar": {
           "angularaxis": {
            "gridcolor": "white",
            "linecolor": "white",
            "ticks": ""
           },
           "bgcolor": "#E5ECF6",
           "radialaxis": {
            "gridcolor": "white",
            "linecolor": "white",
            "ticks": ""
           }
          },
          "scene": {
           "xaxis": {
            "backgroundcolor": "#E5ECF6",
            "gridcolor": "white",
            "gridwidth": 2,
            "linecolor": "white",
            "showbackground": true,
            "ticks": "",
            "zerolinecolor": "white"
           },
           "yaxis": {
            "backgroundcolor": "#E5ECF6",
            "gridcolor": "white",
            "gridwidth": 2,
            "linecolor": "white",
            "showbackground": true,
            "ticks": "",
            "zerolinecolor": "white"
           },
           "zaxis": {
            "backgroundcolor": "#E5ECF6",
            "gridcolor": "white",
            "gridwidth": 2,
            "linecolor": "white",
            "showbackground": true,
            "ticks": "",
            "zerolinecolor": "white"
           }
          },
          "shapedefaults": {
           "line": {
            "color": "#2a3f5f"
           }
          },
          "ternary": {
           "aaxis": {
            "gridcolor": "white",
            "linecolor": "white",
            "ticks": ""
           },
           "baxis": {
            "gridcolor": "white",
            "linecolor": "white",
            "ticks": ""
           },
           "bgcolor": "#E5ECF6",
           "caxis": {
            "gridcolor": "white",
            "linecolor": "white",
            "ticks": ""
           }
          },
          "title": {
           "x": 0.05
          },
          "xaxis": {
           "automargin": true,
           "gridcolor": "white",
           "linecolor": "white",
           "ticks": "",
           "title": {
            "standoff": 15
           },
           "zerolinecolor": "white",
           "zerolinewidth": 2
          },
          "yaxis": {
           "automargin": true,
           "gridcolor": "white",
           "linecolor": "white",
           "ticks": "",
           "title": {
            "standoff": 15
           },
           "zerolinecolor": "white",
           "zerolinewidth": 2
          }
         }
        },
        "title": {
         "text": "Ranking Of Top 10 Recommended Dramas For A User Based On Similarity: 3.5061 RMSE"
        },
        "xaxis": {
         "range": [
          8,
          10
         ],
         "title": {
          "text": "Recommendation-Rating"
         }
        },
        "yaxis": {
         "title": {
          "text": "Drama"
         }
        }
       }
      },
      "text/html": [
       "<div>                            <div id=\"a8811899-59ab-4562-88ff-f6806ab99f2f\" class=\"plotly-graph-div\" style=\"height:525px; width:100%;\"></div>            <script type=\"text/javascript\">                require([\"plotly\"], function(Plotly) {                    window.PLOTLYENV=window.PLOTLYENV || {};                                    if (document.getElementById(\"a8811899-59ab-4562-88ff-f6806ab99f2f\")) {                    Plotly.newPlot(                        \"a8811899-59ab-4562-88ff-f6806ab99f2f\",                        [{\"marker\":{\"color\":\"#db0000\"},\"orientation\":\"h\",\"text\":[\"vincenzo\",\"move to heaven\",\"vagabond\",\"dr. romantic season 2\",\"descendants of the sun\",\"hospital playlist\",\"it's okay, that's love\",\"falling into your smile\",\"love o2o\",\"mouse\",\"crash landing on you\",\"while you were sleeping\",\"what's wrong with secretary kim\",\"it's okay to not be okay\",\"the uncanny counter\",\"coffee prince\",\"stranger\",\"the untamed\",\"mr. queen\",\"hospital playlist season 2\",\"goblin\",\"the king: eternal monarch\",\"falling for innocence\",\"signal\",\"beyond evil\",\"kingdom season 2\",\"dali and the cocky prince\",\"my mister\",\"eulachacha waikiki\",\"hot stove league\",\"dr. romantic\",\"tale of the nine-tailed\",\"love in the moonlight\",\"hometown cha-cha-cha\",\"kingdom\",\"the master's sun\",\"through the darkness\",\"twenty-five twenty-one\",\"stranger season 2\",\"fight for my way\",\"when a snail falls in love\",\"my name\",\"touch your heart\",\"hyena\",\"prison playbook\",\"i'm not a robot\",\"oh my venus\",\"you are my glory\",\"because this is my first life\",\"sky castle\",\"pinocchio\",\"thirty but seventeen\",\"her private life\",\"koi wa tsuzuku yo doko made mo\",\"the tale of nokdu\",\"live\",\"law school\",\"oh my ghost\",\"the red sleeve\",\"angel's last mission: love\",\"crush\",\"arsenal military academy\",\"when the camellia blooms\",\"lawless lawyer\",\"forever and ever\",\"moon embracing the sun\",\"she would never know\",\"v.i.p\",\"one spring night\",\"tell me what you saw\",\"eternal love\",\"bad buddy\",\"sassy go go\",\"my roommate is a gumiho\",\"kairos\",\"the devil judge\",\"good manager\",\"mask\",\"the bad kids\",\"todome no kiss\",\"terius behind me\",\"extracurricular\",\"doctor stranger\",\"dear my friends\",\"your honor\",\"the crowned clown\",\"memories of the alhambra\",\"healer\",\"start-up\",\"life on mars\",\"reply 1994\",\"the k2\",\"my country: the new age\",\"the secret life of my secretary\",\"the romance of tiger and rose\",\"tree with deep roots\",\"yumi's cells\",\"squid game\",\"moon lovers: scarlet heart ryeo\",\"search\",\"the penthouse: war in life\",\"circle\",\"history2: right or wrong\",\"tomorrow with you\",\"the sword and the brocade\",\"rookie historian goo hae ryung\",\"autumn's concerto\",\"my amazing boyfriend\",\"age of youth\",\"live up to your name\",\"the king's affection\",\"snowdrop\",\"sweet teeth\",\"forever love\",\"go back couple\",\"once again\",\"jirisan\",\"mad for each other\",\"maiden holmes\",\"my fated boy\",\"i hear your voice\",\"gu family book\",\"2gether\",\"sword snow stride\",\"k.o.3an guo\",\"our beloved summer\",\"jumong\",\"happiness\",\"arthdal chronicles part 1: the children of prophecy\",\"a korean odyssey\",\"professional single\",\"we best love: fighting mr. 2nd\",\"arthdal chronicles part 3: the prelude to all legends\",\"devil beside you\",\"our secret\",\"p.s. man\",\"fated to love you\",\"missing: the other side\",\"emergency couple\",\"the fiery priest\",\"strangers from hell\",\"queen for seven days\",\"kimi wa petto\",\"partners for justice\",\"i promised you the moon\",\"it started with a kiss\",\"you're all surrounded\",\"to fly with you\",\"gameboys\",\"you are my spring\",\"general and i\",\"long time no see\",\"swap\",\"3 will be free\",\"do you like brahms?\",\"the legend of the blue sea\",\"remember: war of the son\",\"be yourself\",\"player\",\"granting you a dreamlike life\",\"my sunshine\",\"the king\\u2019s avatar\",\"the sound of your heart\",\"the legend\",\"theory of love\",\"love is sweet\",\"love cells\",\"jin 2\",\"jin\",\"tengoku to jigoku: psychona futari\",\"school 2021\",\"the good detective\",\"hana yori dango 2\",\"joy of life\",\"misaeng: incomplete life\",\"stand by me\",\"navillera\",\"smiling pasta\",\"que sera, sera\",\"loving you a thousand times\",\"five enough\",\"shanai marriage honey\",\"memory lost\",\"he is psychometric\",\"misty\",\"anata no ban desu\",\"mistress\",\"return\",\"unnatural\",\"the world of the married\",\"oxygen\",\"you make me dance\",\"project s: spike\",\"king maker: the change of destiny\",\"bread, love and dreams\",\"the boy next door\",\"well-intended love season 2\",\"before we get married\",\"my heroic husband\",\"school 2013\",\"bad guys\",\"ghost doctor\",\"kill it\",\"intense love\",\"chugakusei nikki\",\"watcher\",\"nine: nine times time travel\",\"confession\",\"the long ballad\",\"ancient love poetry\",\"novoland: the castle in the sky\",\"juvenile justice\",\"flower crew: joseon marriage agency\",\"go ahead\",\"iris\",\"u-prince: the playful comm-arts\",\"my holo love\",\"rinko-san wa shite mitai\",\"perfume\",\"you are so sweet\",\"medical examiner dr. qin\",\"the most beautiful goodbye\",\"good doctor\",\"prosecutor princess\",\"hotel del luna\",\"cubic\",\"addicted heroin\",\"warm and cozy\",\"jewel in the palace\",\"general's lady\",\"taxi driver\",\"liar game\",\"mystic pop-up bar\",\"nirvana in fire season 2: the wind blows in chang lin\",\"you are my destiny\",\"playful kiss\",\"the fugitive: plan b\",\"make my heart smile\",\"love and redemption\",\"46 days\",\"doctor john\",\"border\",\"the best ending\",\"rich man, poor woman\",\"the day of becoming you\",\"doctor prisoner\",\"kingyo tsuma\",\"children of nobody\",\"into the ring\",\"you're beautiful\",\"mae krua kon mai\",\"always have, always will\",\"save me\",\"1 litre no namida\",\"love like white jade\",\"dong yi\",\"hua jai sila\",\"the best of you in my mind\",\"f4 thailand: boys over flowers\",\"modern farmer\",\"dream high\",\"the one and only\",\"switch: change the world\",\"bangkok love stories 2: innocence\",\"hospital ship\",\"leh nangfah\",\"forecasting love and weather\",\"the bridal mask\",\"38 task force\",\"under the power\",\"one and only\",\"special labor inspector jo\",\"my father is strange\",\"big man\",\"manner of death\",\"history4: close to you\",\"love me if you dare\",\"sachiiro no one room\",\"something in the rain\",\"legend of fei\",\"insect detective\",\"swords of legends\",\"why women love\",\"the veil\",\"my husband in law\",\"royal nirvana\",\"go go squid 2: dt. appledog's time\",\"yong pal\",\"doom at your service\",\"symphony's romance\",\"the stranded\",\"boys' lockdown\",\"good-bye, mr. black\",\"ani ni aisaresugite komattemasu\",\"yae no sakura\",\"dame na watashi ni koishite kudasai\",\"kazoku game\",\"omameda towako to sannin no motootto\",\"kekkon dekinai otoko\",\"revolutionary love\",\"angel beside me\",\"court lady\",\"high-end crush\",\"triangle\",\"all of us are dead\",\"the lost tomb 2\",\"the centimeter of love\",\"perfect and casual\",\"rebel: thief who stole the people\",\"kill me, heal me\",\"secret garden\",\"at a distance, spring is green\",\"one more happy ending\",\"across the ocean to see you\",\"the effect\",\"the rational life\",\"sungkyunkwan scandal\",\"mr. sunshine\",\"story of yanxi palace\",\"ugly duckling series: perfect match\",\"swallow the sun\",\"nobunaga concerto\",\"tonbi\",\"moonshine\",\"lucky with you\",\"the suspicious housekeeper\",\"bride of the century\",\"meeting you\",\"please come back, mister\",\"my strange hero\",\"twenty again\",\"sweet revenge season 2\",\"baker boys\",\"en of love: love mechanics\",\"boy for rent\",\"the love equations\",\"be together\",\"love at first hate\",\"jungle fish\",\"your house helper\",\"powerful opponents\",\"flourish in time\",\"encounter\",\"the hymn of death\",\"god's quiz season 4\",\"panda and hedgehog\",\"she is the one\",\"don't disturb my study\",\"legend of the phoenix\",\"diary of a prosecutor\",\"nabi, my stepdarling\",\"short\",\"hi bye, mama!\",\"the prince of tennis\",\"discovery of romance\",\"princess silver\",\"crisis: kouan kidou sousatai tokusou-han\",\"who are you: school 2015\",\"my mr. mermaid\",\"fall in love\",\"su yu\",\"thumping spike 2\",\"arthdal chronicles part 2: the sky turning inside out, rising land\",\"party a who lives beside me\",\"reset\",\"the big boss\",\"my golden life\",\"cherry blossoms after winter\",\"detective l\",\"youth of may\",\"boku dake ga inai machi\",\"buzzer beat\",\"lie after lie\",\"my bargain queen\",\"be with you\",\"hikaru no go\",\"psychopath diary\",\"only side by side with you\",\"the journey\",\"five\",\"cinderella chef\",\"avalanche\",\"aishiteru\",\"yokai ningen bem\",\"mr. brain\",\"don quixote\",\"legal mavericks\",\"ashita, mama ga inai\",\"nakuna, hara-chan\",\"sora kara furu ichioku no hoshi\",\"to be continued\",\"the good wife\",\"attention, love!\",\"stars falling from the sky\",\"tree of heaven\",\"don't say no\",\"love and destiny\",\"absolute boyfriend\",\"just between lovers\",\"jealousy incarnate\",\"song of youth\",\"one the woman\",\"hellbound\",\"creating destiny\",\"novoland: pearl eclipse\",\"they kiss again\",\"hot girl\",\"in a class of her own\",\"summer again\",\"thank you\",\"shinbun kisha\",\"change\",\"can you hear my heart\",\"beyond the clouds\",\"handsome siblings\",\"possessed\",\"another miss oh\",\"to my star\",\"vampire prosecutor 2\",\"soul mechanic\",\"oh my general\",\"chicago typewriter\",\"the light in your eyes\",\"priest\",\"the penthouse season 2: war in life\",\"once upon a time in lingjian mountain\",\"queen of the ring\",\"prince of wolf\",\"glory jane\",\"sotus\",\"he's coming to me\",\"honey sir\",\"oh, mando!\",\"dr. cutie\",\"diary of tootsies\",\"100 days my prince\",\"the player\",\"monthly magazine home\",\"woman of dignity\",\"refresh man\",\"check out the event\",\"eternal love of dream\",\"summer love\",\"behind your smile\",\"love poison 2\",\"boys over flowers\",\"stuck on you\",\"love is phantom\",\"with you\",\"my little princess\",\"uncontrollably fond\",\"everything and nothing\",\"shine or go crazy\",\"come! jang bo ri\",\"cheat on me, if you can\",\"the rebel princess\",\"i will never let you go\",\"she was pretty\",\"game maya\",\"in time with you\",\"the cupids series: loob korn kammathep\",\"buang hong\",\"waen dok mai\",\"i hate you juliet\",\"leh ratree\",\"oh! my boss! koi wa bessatsu de\",\"a journey to meet love\",\"the moon brightens for you\",\"love a lifetime\",\"the wolf\",\"the princess's man\",\"my hero series: heart of the motherland\",\"hotel king\",\"i'm tee, me too\",\"vivid romance\",\"ashes of love\",\"2 moons 2\",\"missing noir m\",\"candle in the tomb: the wrath of time\",\"goodbye to goodbye\",\"goodbye my princess: director's cut\",\"qing qing zi jin\",\"devilish joy\",\"u-prince: the single lawyer\",\"blacklist\",\"hello debate opponent\",\"stay with me\",\"temptation of wife\",\"rookie agent rouge\",\"the shore\",\"so much in love\",\"girl2k\",\"love is more than a word\",\"why love why\",\"in your heart\",\"friend zone 2: dangerous area\",\"win jaime's heart\",\"love with benefits\",\"who are you\",\"call it what you want\",\"happy birthday\",\"see you after quarantine?\",\"deal lover\",\"hidden love\",\"ultimate note\",\"ordinary but special\",\"my handsome roommate\",\"mars\",\"the golden eyes\",\"renascence\",\"detective samoyeds\",\"never say goodbye\",\"the love lasts two minds\",\"guardian\",\"sparrow\",\"storm eye\",\"luoyang\",\"the heiress\",\"the plough department of song dynasty\",\"healer of children\",\"black & white\",\"hana kimi\",\"your highness\",\"love crossed\",\"go ho's starry night\",\"princess agents\",\"the romance of hua rong\",\"fabulous boys\",\"chijo no kiss\",\"love scenery\",\"the painter of the wind\",\"hello again!\",\"a hundred year's inheritance\",\"love story in harvard\",\"the flame's daughter\",\"diamond lover\",\"cambrian period\",\"rebirth for you\",\"the nokdu flower\",\"begin again\",\"introverted boss\",\"best lover\",\"my roommate is a detective\",\"friend forever\",\"love playlist\",\"black dog\",\"in youth\",\"the silent criminal\",\"a little reunion\",\"the lion's secret\",\"star with a secret\",\"panthakan rak\",\"the leaked\",\"best get going\",\"hotel trainees\",\"emergency department doctors\",\"your playlist\",\"unusual idol love\",\"crocodile and plover bird\",\"battle of changsha\",\"crossroad bistro\",\"my huckleberry friends\",\"re:mind\",\"u-prince:  the handsome cowboy\",\"hana kimi remake\",\"my love eun dong\",\"miman keisatsu: midnight runner\",\"only kiss without love\",\"your sensibility my destiny\",\"moebius: the veil\",\"destiny's love\",\"koizora\",\"amanza\",\"all out of love\",\"iris 2\",\"a man's story\",\"less than evil\",\"how to be thirty\",\"xx\",\"medical top team\",\"my first first love\",\"one fine week\",\"beautiful love, wonderful life\",\"moonlight\",\"warrior baek dong soo\",\"killer and healer\",\"cruel city\",\"kikazaru koi ni wa riyuu ga atte\",\"make a wish\",\"must you go?\",\"i'm a pet at dali temple\",\"iljimae\",\"naked fireman\",\"her lovely heels\",\"wonderful fate\",\"stop! miss hua\",\"sassy beauty\",\"the eccentric daughter-in-law\",\"love script\",\"the love by hypnotic\",\"rooftop prince\",\"my little happiness\",\"bitter blood\",\"lovers of the red sky\",\"joseon exorcist\",\"his - koisuru tsumori nante nakatta\",\"the mermaid prince: the beginning\",\"mirror: a tale of twin cities\",\"live on\",\"bossam: steal the fate\",\"beautiful world\",\"empress ki\",\"goddess of fire\",\"what happens to my family?\",\"uchi no musume wa, kareshi ga dekinai!!\",\"shitteru waifu\",\"watashi wo hanasanaide\",\"miu 404\",\"35 sai no koukousei\",\"aquarium girl\",\"mirai nikki\",\"ore no ie no hanashi\",\"osozaki no himawari\",\"black pean\",\"watashi no kaseifu nagisa-san\",\"legal high 2\",\"fight song\",\"hotaru no hikari 2\",\"reverse\",\"shinya shokudo - tokyo stories\",\"bg: personal bodyguard\",\"liquid - oni no sake, kiseki no kura\",\"a piece of your mind\",\"someone like you\",\"bad and crazy\",\"beloved enemy\",\"u-prince: the badly politics\",\"my classmate from far far away\",\"stairway to stardom\",\"dragon day, you're dead\",\"u-prince: the ambitious boss\",\"queen of mystery\",\"hello, the sharpshooter\",\"last\",\"love in black hole\",\"abyss\",\"sweet stranger and me\",\"fall in love with me\",\"master of study\",\"the imperial coroner\",\"judge vs. judge\",\"radio romance\",\"watashitachi wa douka shiteiru\",\"voice\",\"chef fang\",\"gokusen\",\"color rush\",\"operation proposal\",\"hidden identity\",\"born again\",\"a little thing called first love\",\"the starry night, the starry sea\",\"immutable law of first love\",\"matching! boys archery\",\"we broke up\",\"feel good to die\",\"love for a thousand more\",\"birthcare center\",\"river where the moon rises\",\"girlfriend\",\"the journey of flower\",\"be my dream family\",\"nirvana in fire\",\"the king's daughter, soo baek hyang\",\"untouchable lovers\",\"unexpected\",\"goong\",\"water boyy\",\"mr. heart\",\"well-intended love\",\"timing\",\"imaginary cat\",\"chief of staff\",\"noble aspirations\",\"the royal gambler\",\"giant\",\"twinkle twinkle\",\"the witch's diner\",\"country boy\",\"red balloon\",\"love beneath the stars\",\"like in the movies\",\"rush to the dead summer\",\"so wayree\",\"youniverse\",\"u-prince: the crazy artist\",\"plot love\",\"my forever sunshine\",\"3 nen a gumi: ima kara mina-san wa, hitojichi desu\",\"love the way you are\",\"remember you\",\"prince of lan ling\",\"the longest day in chang'an\",\"truth\",\"the king of blaze\",\"mood indigo\",\"l.o.r.d. critical world\",\"my poseidon\",\"novoland: eagle flag\",\"word of honor\",\"history3: trapped\",\"how are you bread\",\"youth unprescribed\",\"kiss me\",\"golden rainbow\",\"midas\",\"i'm home\",\"drunken to love you\",\"positive physique\",\"what's up?\",\"ojakgyo brothers\",\"paradise farm\",\"bromance\",\"drinking solo\",\"u-prince: the badass baker\",\"leh lub salub rarng\",\"cheewit puer kah huajai puer tur\",\"love unexpected\",\"somehow 18\",\"zenkamono\",\"my ride\",\"tribes and empires: storm of prophecy\",\"my princess\",\"a daughter just like you\",\"negotiator\",\"good morning call\",\"diamond lover (special cut)\",\"please classmate\",\"falsify\",\"legend of hyang dan\",\"next door witch j\",\"secret door\",\"why r u?\",\"mr. x and i season 2\",\"the yearbook\",\"the judgement\",\"yyy\",\"49 days with a merman\",\"2 moons\",\"scent of a woman\",\"bad roommate\",\"the slave hunters\",\"go princess, go!\",\"my mowgli boy\",\"my ambulance\",\"the queen of attack\",\"the moment since\",\"i am your king\",\"together with me: the next chapter\",\"can we get married?\",\"innocent\",\"uncle\",\"the scholar who walks the night\",\"scarlet heart\",\"the brightest star in the sky\",\"lucifer\",\"about time\",\"dating agency: cyrano\",\"my fellow citizens!\",\"a thousand kisses\",\"it's okay, daddy's girl\",\"9 end 2 outs\",\"sweet 18\",\"once we get married\",\"history of the salaryman\",\"touching you\",\"kareshi wo loan de kaimashita\",\"kimi wa petto\",\"designated survivor: 60 days\",\"fake princess\",\"walk into your memory\",\"first romance\",\"bokura wa kiseki de dekite iru\",\"ouroboros\",\"code blue\",\"doctor x\",\"kamen rider build\",\"my heart\",\"sotus s\",\"ms. perfect\",\"bad romance\",\"oniichan, gacha\",\"chihayafuru: tsunagu\",\"kekkon aite wa chusen de\",\"sweet revenge\",\"murphy's law of love\",\"second to last love\",\"koe koi\",\"ashi girl\",\"the gifted\",\"koi ga heta demo ikitemasu\",\"hana ni keda mono\",\"now, we are breaking up\",\"how to hate you\",\"love revolution\",\"lost romance\",\"hello, my youth\",\"miss the dragon\",\"defendant\",\"my only one\",\"kaew klang dong\",\"god's quiz: reboot\",\"juuyou sankounin tantei\",\"the ordinary glory\",\"jao sao chang yon\",\"momo love\",\"my love from the ocean\",\"payakorn sorn ruk\",\"takane no hana\",\"sweet dreams\",\"blowing in the wind\",\"sakurako-san no ashimoto ni wa shitai ga umatteiru\",\"suddenly this summer\",\"the evolution of our love\",\"puzzle\",\"tokyo alice\",\"obsessed with heart\",\"ice fantasy destiny\",\"dele\",\"koo za rot zab\",\"fate\",\"keiji yugami\",\"love, timeless\",\"the cupids series: kammathep jum laeng\",\"20th century boy and girl\",\"sisters-in-law\",\"the cupids series: kammathep sorn kol\",\"gibo to musume no blues\",\"survival wedding\",\"not alright, but it's alright\",\"the cupids series: sorn ruk kammathep\",\"tae pang korn\",\"teenage mom\",\"a thousand goodnights\",\"the journey 2\",\"let me introduce her\",\"time teaches me to love\",\"bangkok love stories 2: plead\",\"take my brother away\",\"king is not easy\",\"legal v\",\"buried city to shut all lights\",\"sign\",\"coffee, do me a favor\",\"nakark kaew\",\"waiting for you in the future\",\"dai renai: boku wo wasureru kimi to\",\"best chicken\",\"2 brothers\",\"reunion: the sound of the providence\",\"super family\",\"no time for love\",\"money flower\",\"corner with love\",\"rescue\",\"can i hug you tonight?\",\"fluttering warning\",\"tourist\",\"tokusatsu gagaga\",\"rule the world\",\"the miracle\",\"will it snow for christmas?\",\"let's shake it!\",\"seven of me\",\"mangaban nobushi no gurume\",\"kon la kop fah\",\"kuzu no honkai\",\"yg future strategy office\",\"suparburoot jorm jon: maturot lohgan\",\"society obsessed with love\",\"nice to meet you\",\"tokyo joshi zukan\",\"big thing\",\"ima kara anata wo kyouhaku shimasu\",\"bunlang dok mai\",\"for married doctress\",\"my woofy poofy love\",\"in family we trust\",\"smoking\",\"hannari girori no yoriko-san\",\"invincible lee pyung kang\",\"lying heart\",\"toumei na yurikago\",\"matrimonial chaos\",\"i love my president though he's a psycho\",\"summer's desire\",\"young blood\",\"the masked lover\",\"band of sisters\",\"showa genroku rakugo shinju\",\"the kingdom of the winds\",\"borg mom\",\"trace of the hand\",\"project s: shoot! i love you\",\"the underwear\",\"original sin\",\"love, just come\",\"kemono ni narenai watashitachi\",\"hito wa mita me ga 100%\",\"time between dog and wolf\",\"love actually\",\"ms. kim's million dollar quest\",\"kizoku tantei\",\"it's okay to be sensitive\",\"kamen rider zi-o\",\"haha ni naru\",\"dae jang geum is watching\",\"i am legend\",\"dorokei\",\"another me\",\"mengfei comes across\",\"first love story season 2\",\"my true friend\",\"my husband oh jak doo\",\"the first half of my life\",\"holiday love\",\"ototo no otto\",\"thong ek: the herbal master\",\"miss sherlock\",\"meteor garden ii\",\"saboriman kantarou\",\"my girlfriend's boyfriend\",\"hanbun, aoi\",\"new tales of gisaeng\",\"manpuku\",\"nueng dao fah diew\",\"gintama: mitsuba hen\",\"the story of ming lan\",\"natsuzora\",\"meet me @ 1006\",\"aishite tatte, himitsu wa aru\",\"4 kinds of house\",\"last minute romance\",\"city hall\",\"tientsin mystic\",\"love is in the air\",\"all is well\",\"todome no parallel\",\"hi flower\",\"god of lost fantasy\",\"rakshasa street\",\"bara no nai hanaya\",\"unexpected heroes\",\"big white duel\",\"secret of three kingdoms\",\"age of rebellion\",\"the dark lord\",\"the confidence man jp\",\"slam dance\",\"day and night\",\"nice witch\",\"kakegurui\",\"autumn tale\",\"jojo's world\",\"from survivor to healer\",\"kimi ga kokoro ni sumitsuita\",\"hot blooded youth\",\"spec: birth\",\"we are peaceful brothers\",\"the sound of your heart: reboot\",\"galileo\",\"lion pride\",\"rak rai\",\"here to heart\",\"sore wa, totsuzen, arashi no you ni..\",\"mob psycho 100\",\"between friendship and love\",\"cat street\",\"never gone\",\"densha otoko\",\"krong karm\",\"memory love\",\"part-time idol\",\"tonari no kazoku wa aoku mieru\",\"nagareboshi\",\"ten years late\",\"like a flowing river\",\"argon\",\"should we kiss first?\",\"anone\",\"yellow\",\"kahogo no kahoko\",\"if paris downcast\",\"first love story\",\"let's only walk the flower road\",\"kuragehime\",\"momikeshite fuyu\",\"paen rai long tai wa rak\",\"see you in time\",\"denei shojo: video girl ai 2018\",\"jao sao jum yorm\",\"uchi no otto wa shigoto ga dekinai\",\"face off\",\"irreplaceable love\",\"the great ruler\",\"wake up ladies\",\"miss independent ji eun\",\"sunny again tomorrow\",\"room no. 9\",\"akira to akira\",\"hot shot\",\"konkatsu!\",\"my story for you\",\"youth\",\"the best moment to quit your job\",\"rak kan panlawan\",\"100-manen no onna-tachi\",\"parfait tic\",\"stairway to heaven\",\"beyond light years\",\"i am...\",\"ito-kun a to e\",\"mi wo tsukushi ryouricho\",\"final fantasy xiv: hikari no otousan\",\"my dream\",\"haru ga kita\",\"rak nakara\",\"hello dear ancestors\",\"likit haeng jan\",\"eagles and youngster\",\"scrap teacher\",\"the world between us\",\"freeter, ie o kau.\",\"queen dugu\",\"choose\",\"youth\",\"yuttakarn prab nang marn\",\"royal family\",\"vampire host\",\"bad thief, good thief\",\"luv pub\",\"final life\",\"fates & furies\",\"love in memory\",\"hip hop teacher\",\"saki ni umareta dake no boku\",\"my love from another star\",\"one and another him\",\"mr. right\",\"love after school\",\"love destiny\",\"shinzanmono\",\"khun mae suam roy\",\"love returns\",\"mint to be\",\"wolf\",\"my robot boyfriend\",\"signal: choki mikaiketsu jiken sosahan\",\"listening snow tower\",\"gakeppuchi hotel\",\"my boyfriend\",\"uta no onii-san\",\"kinkyu torishirabeshitsu 2\",\"spring waltz\",\"the legend of white snake\",\"the count of monte-cristo: great revenge\",\"magic school\",\"girls' generation 1979\",\"my dear boy\",\"bokura no yuuki\",\"gay ok bangkok 2\",\"people you may know\",\"age of legends\",\"sanae rak nang cin\",\"blossom in heart\",\"dolce amore\",\"man in the kitchen\",\"nee ruk nai krong fai\",\"honou no tenkousei reborn\",\"bloody romance\",\"boku wa mari no naka\",\"project s: side by side\",\"trap\",\"payu sai\",\"dear parents\",\"pure melo district\",\"the lost tomb 2: explore with the note\",\"my dear brothers\",\"gokushufudo\",\"my treasure\",\"love forever after\",\"today office tomorrow romance\",\"wong wien hua jai\",\"sweet sweet\",\"are we alright?\",\"the secret of  love\",\"dok go bin is updating\",\"pearl next door\",\"the in-laws\",\"oh! my sweet liar!\",\"tumbling\",\"the autumn ballad\",\"hi my sweetheart\",\"calculating love\",\"hello stranger\",\"fall in love with a scientist\",\"couple of mirrors\",\"bro and me\",\"no, thank you\",\"times\",\"tatta hitotsu no koi\",\"brothers\",\"quaranthings\",\"minning town\",\"he's into her\",\"satsui no michinori\",\"be love\",\"my fuxxxxx romance\",\"the flaming heart\",\"memory of encaustic tile\",\"replay: the moment when it starts again\",\"royal nirvana special\",\"daughters\",\"bokura wa koi ga hetasugiru\",\"sensei wo kesu houteishiki\",\"17.3 about a sex\",\"kono koi atatamemasu ka\",\"loveless society\",\"discipline z: vampire\",\"cry me a river of stars\",\"let me off the earth\",\"the sweetest secret\",\"good and evil\",\"love o'clock\",\"on the verge of insanity\",\"koisuru hahatachi\",\"#remolove: futsuu no koi wa jado\",\"dalgona\",\"revolutionary sisters\",\"boyband love\",\"blackout\",\"3b no koibito\",\"yankee-kun to megane-chan\",\"the justice\",\"the underclass\",\"ohitorisama\",\"1 pound no fukuin\",\"maou\",\"sixteen shoukougun\",\"mia jum pen\",\"twenty-twenty\",\"guilty: kono koi wa tsumi desuka\",\"peanut butter sandwich\",\"mairunovich\",\"go into your heart\",\"the devil punisher\",\"down with love\",\"why why love\",\"real:time:love\",\"juui dolittle\",\"rental nan mo shinai hito\",\"the rebel\",\"a love so romantic\",\"tokyo love story\",\"ni chang\",\"because of love\",\"bishoku tantei akechi goro\",\"closer to you\",\"the wonder woman\",\"true ending\",\"kkondae  intern\",\"nibiiro no hako no naka de\",\"my boss, my hero\",\"the victims' game\",\"falling into you\",\"more than blue: the series\",\"hook\",\"dear diary\",\"truly very yours\",\"sunao ni narenakute\",\"tonhon chonlatee\",\"the bond\",\"marvelous women\",\"kare ga boku ni koishita wake\",\"mute\",\"celestial authority academy\",\"okaeri mone\",\"my day\",\"delayed justice\",\"snow lover\",\"hotaru no hikari\",\"the goddess of revenge\",\"my bubble tea\",\"mada mada koi wa tsuzuku yo doko made mo\",\"the ideal city\",\"the trick of life and love\",\"fah mee tawan\",\"sakristan\",\"candle in the tomb: the worm valley\",\"game of outlaws\",\"proposal daisakusen\",\"attention please\",\"orthros no inu\",\"yukan club\",\"ghost friends\",\"your home\",\"uncle cool\",\"hidarime tantei eye\",\"samurai high school\",\"hometown's embrace\",\"iribito\",\"the moment the heart shines\",\"mystery to iunakare\",\"oshi no oujisama\",\"given\",\"fragrance of the first flower\",\"kazoku boshu shimasu\",\"pumpkin time\",\"kanojo wa kirei datta\",\"promise cinderella\",\"the comments\",\"siew sum noi\",\"work later, drink now\",\"i fell in love by accident\",\"hakozume: tatakau! koban joshi\",\"tokyo mer: hashiru kinkyuukyuumeishitsu\",\"night doctor\",\"lion no oyatsu\",\"love area part 1\",\"married first then fall in love\",\"idol: the coup\",\"tracer\",\"enjiya\",\"chef wa meitantei\",\"it's okay, that's friendship\",\"ano toki kiss shite okeba\",\"takane no hana-san\",\"junkyouju takatsuki akira no suisatsu 2\",\"heartbeat broadcasting accident\",\"gourmet in tang dynasty\",\"koi desu: yankee-kun to hakujou garu\",\"please don't spoil me season 2\",\"love destiny uncut\",\"the love of winter\",\"to.two\",\"fuujinshi\",\"kishibe rohan wa ugokanai season 2\",\"itoshii uso: yasashii yami\",\"rokuhodo yotsuiro biyori\",\"find me if you can\",\"dr. white\",\"koisenu futari\",\"a beauty of revenge\",\"chapter of green\",\"kamiki ryunosuke no satsukyu\",\"the revenge\",\"can you deliver time? 2002\",\"dakara korosenakatta\",\"unlucky girl!\",\"danger zone season 2: the silver lining\",\"tsumari suki tte iitai n dakedo,\",\"super rich\",\"konin todoke ni han wo oshita dake desu ga\",\"shinhannin flag 2\",\"the ingenuity of the house husband\",\"eroi kareshi ga watashi wo madowasu\",\"saiai\",\"love at first taste\",\"colorful love: genderless danshi ni aisareteimasu\",\"the debut\",\"love kome no okite: kojirase joshi to toshishita danshi\",\"influence\",\"irresistible\",\"55:15 never too late\",\"kakegurui twin\",\"ichikei no karasu\",\"growing season\",\"nihon chinbotsu: kibo no hito\",\"once again\",\"high class\",\"mermaid prince\",\"second chance\",\"nijiiro karute\",\"red eyes: kanshi sousa-han\",\"kakenai!?: kyakuhonka yoshimaru keisuke no sujigaki no nai seikatsu\",\"my queen\",\"koko wa ima kara rinri desu\",\"nothing but you\",\"unguarded\",\"oh my drama lover\",\"papa & daddy\",\"serendipity\",\"detention\",\"if voice has memory\",\"timeless love\",\"cheat\",\"reflection of you\",\"nodame cantabile\",\"light the night\",\"you never eat alone\",\"rainless love in a godless land\",\"natsu no koi wa nijiiro ni kagayaku\",\"breakup probation, a week\",\"dear uranus\",\"risky\",\"kotaro wa hitorigurashi\",\"rikokatsu\",\"love is science?\",\"hometown\",\"evening caf\\u00e9\",\"konto ga hajimaru\",\"smile\",\"princess! you have five husbands!\",\"my fake wife\",\"i  can see your mbti\",\"black cinderella\",\"here's my plan\",\"nishiogikubo mitsuboshi youshudou\",\"higashino keigo samayou yaiba\",\"emperor or boss\",\"100% era\",\"scripting your destiny\",\"momoiro anzuiro sakurairo\",\"delicious romance\",\"the road: the tragedy of one\",\"higuma\",\"can i step in?\",\"gameboys level-up edition\",\"muchuu-sa, kimi ni\",\"b x j forever\",\"ju-on: noroi no ie\",\"boku dake ga 17-sai no sekai de\",\"growing pain\",\"rookies\",\"hotel stars\",\"everyone wants to meet you\",\"psych-hunter\",\"just one bite season 2\",\"otto no chinpo ga hairanai\",\"tokyo dokushin danshi\",\"lovely swords girl\",\"the sleuth of ming dynasty\",\"hakui no senshi!\",\"dive\",\"love as you taste\",\"i started following romance\",\"heading to the ground\",\"majisuka gakuen\",\"dakara watashi wa oshimashita\",\"ghostderella\",\"i am your king 2\",\"dreaming back to the qing dynasty\",\"watashi, teiji de kaerimasu\",\"kinou nani tabeta?\",\"just an encore\",\"mendol\",\"in hand\",\"the fallen leaf\",\"to get her\",\"athena: goddess of war\",\"secret boutique\",\"the quiz show\",\"fairyland lovers\",\"cross fire\",\"soshite, ikiru\",\"followers\",\"lupin no musume\",\"ping pong life\",\"dating class\",\"two weeks\",\"bull fighting\",\"unlucky ploy\",\"hachimitsu to clover\",\"tantei gakuen q\",\"miss s\",\"maybe, maybe not\",\"rh plus\",\"mada kekkon dekinai otoko\",\"triple fling\",\"golden garden\",\"mountains and ocean\",\"innocent love\",\"miss no good\",\"yuri dano kan dano\",\"prom pissawat\",\"gisou furin\",\"the taoism grandmaster\",\"fujoshi, ukkari gei ni kokuru\",\"the world of fantasy\",\"guardians of the ancient oath\",\"run for young\",\"black lighthouse\",\"onzoshi boys\",\"itsuka, nemuri ni tsuku hi\",\"boss\",\"radiation house\",\"my bromance 2: 5 years later\",\"visible lie\",\"number six\",\"novoland: the castle in the sky 2\",\"delicious gakuin\",\"bureau of transformer\",\"trace: kasouken no otoko\",\"to be with you\",\"the listener\",\"winter begonia\",\"liver or die\",\"the eight\",\"love in sadness\",\"miss truth\",\"tokyo juliet\",\"14-sai no haha\",\"roy leh marnya\",\"a pledge to god\",\"tower of babel\",\"together\",\"love in between\",\"wind-bell\",\"five missions\",\"mr. fighting\",\"dear my room\",\"ie uru onna no gyakushu\",\"just dance\",\"1% of anything\",\"kono koi wa tsumi na no ka!?\",\"unubore deka\",\"emperors and me\",\"one night steal\",\"re-feel\",\"prodigy healer\",\"zekkyou\",\"your imagination becomes reality\",\"crushes reverse\",\"let's eat something, anna\",\"the quiz show 2\",\"godhand teru\",\"the sound of your heart: reboot season 2\",\"guilty akuma to keiyakushita onna\",\"mother of mine\",\"yuube wa otanoshimi deshita ne\",\"saka no tochu no ie\",\"when you love yourself\",\"celeb to binbo taro\",\"the demon master\",\"something just like this\",\"the twin flower legend\",\"khing kor rar khar kor rang\",\"broker\",\"great men academy\",\"my dear warrior\",\"dying eye\",\"nihonjin no shiranai nihongo\",\"the sand princess\",\"seigi no mikata\",\"endless love\",\"we are all alone\",\"invisible life\",\"fai sin chua\",\"real clothes\",\"ugly beauty\",\"theseus no fune\",\"hamura akira - sekai de mottomo fuunna tantei\",\"stealth walker\",\"soul plate\",\"the journey across the night\",\"sisyphus\",\"sleepless society: insomnia\",\"kidnapping game\",\"otomen\",\"22 flower road\",\"crash! insignificant roommates\",\"zettai reido\",\"mr honesty\",\"marn bang jai\",\"bambino!\",\"honey, don't run away\",\"rattan\",\"like\",\"eccentric! chef moon\",\"cat's bar\",\"love story of court enemies\",\"witch yoo hee\",\"the little nyonya\",\"a man called god\",\"standing in the time\",\"lookism\",\"parallel love\",\"consummation\",\"the sweet girl\",\"royal feast\",\"tokujo kabachi!!\",\"love & the emperor\",\"wish woosh 2\",\"eternal love rain\",\"yanxi palace: princess adventures\",\"out of breath\",\"ryusei no kizuna\",\"new face\",\"4 reasons why i hate christmas\",\"the temperature of language: our nineteen\",\"the attorney is the devil\",\"rahut rissaya\",\"kono otoko wa jinsei saidai no ayamachidesu\",\"raise de wa chanto shimasu\",\"homeroom\",\"yameru toki mo, sukoyaka naru toki mo\",\"alibi kuzushi uketamawarimasu\",\"shining like you\",\"love at 7-11\",\"amensalism\",\"no boundary\",\"anego\",\"kaibutsu kun\",\"love shuffle\",\"i don't want to be friends with you\",\"weaving a tale of love\",\"i need romance\",\"the life of the white fox\",\"kami no shizuku\",\"the witch store\",\"adventurous romance\",\"the birth of the drama king\",\"the blessed girl\",\"i have three boyfriends\",\"aku no hado\",\"hammer session!\",\"never twice\",\"anata no ban desu - counterattack\",\"monchouchou globalhouse\",\"hotarugusa\",\"deep in my heart\",\"sapai import\",\"nothing but thirty\",\"scams\",\"high&low the worst episode.0\",\"young and beautiful\",\"dr. brain\",\"brown sugar macchiato\",\"grand maison tokyo\",\"kore wa keihi de ochimasen!\",\"dragon zakura\",\"ancient detective\",\"to love\",\"graceful friends\",\"nagi no oitoma\",\"not a robot\",\"all-boys high\",\"with love\",\"anniversary anyway\",\"mia archeep\",\"twenty your life on\",\"shinya shokudo - tokyo stories season 2\",\"tsuki no koibito\",\"candle in the tomb: the lost caverns\",\"jark sadtroo soo hua jai\",\"shujin-ko\",\"smile, you\",\"the guilty secret\",\"becoming a billionaire\",\"never say never\",\"marry me\",\"let's fight ghost\",\"touch\",\"to my beautiful woo ri\",\"project 17: side by side\",\"delightful girl, choon hyang\",\"busu no hitomi ni koishiteru\",\"doki no sakura\",\"thank god it's friday\",\"yong jiu grocery store\",\"nighttime\",\"beautiful time with you\",\"pure\",\"ore no hanashi wa nagai\",\"binbo danshi\",\"in-seoul\",\"ruk laek pop\",\"g-senjou no anata to watashi\",\"ninkyo helper\",\"motokare mania\",\"freshman\",\"please don't spoil me season 3\",\"tears in heaven\",\"sennyuu tantei tokage\",\"share house no koibito\",\"king flower\",\"xxxholic\",\"all about my romance\",\"saki\",\"karamazov no kyodai\",\"advertising genius lee tae baek\",\"saikou no rikon\",\"biblia koshodou no jiken techou\",\"yakou kanransha\",\"zyuden sentai kyoryuger\",\"misaki number one!!\",\"amachan\",\"a clear midsummer night\",\"the virus\",\"the incarnation of money\",\"spring love\",\"special affairs team ten season 2\",\"tokyo zenryoku shoujo\",\"say that you love me\",\"family\",\"kamen rider wizard\",\"priceless\",\"akumu-chan\",\"ohlala couple\",\"kekkon shinai\",\"cheer up, mr. kim!\",\"aozora no tamago\",\"sugarless\",\"piece\",\"mahoro ekimae bangaichi\",\"clone baby\",\"engine\",\"heaven's order\",\"vampire heaven\",\"the return of the condor heroes\",\"soratobu kouhoushitsu\",\"goddess of marriage\",\"ugly alert\",\"the pursuit of happiness\",\"bread and soup and cat weather\",\"my pig lady\",\"scandal\",\"limit\",\"hanzawa naoki\",\"pin to kona\",\"akuryo byoutou\",\"attack no.1\",\"woman\",\"basketball\",\"kamen teacher\",\"summer nude\",\"she is wow!\",\"take five - oretachi wa ai wo nusumeru ka\",\"good luck!!\",\"le jun kai\",\"the queen of office\",\"gods of honour\",\"otenki onee-san\",\"hur jun, the original story\",\"two fathers\",\"bad boys j\",\"the condor heroes 95\",\"mackerel run\",\"kasuka na kanojo\",\"i summon you, gold!\",\"nail shop paris\",\"wonderful mama\",\"birth secret\",\"all esper dayo!\",\"seo yeong, my daughter\",\"monsters\",\"her legend\",\"mikeneko holmes no suiri\",\"salamander guru and the gang\",\"the hippocratic crush\",\"saba doru\",\"toshi densetsu no onna\",\"the equator man\",\"the queen of sop\",\"sound of the desert\",\"can love become money\",\"when love walked in\",\"yellow boots\",\"kagi no kakatta heya\",\"witness insecurity\",\"ti amo chocolate\",\"alice in wonder city\",\"goodbye dear wife\",\"kamen rider 555\",\"kamen rider ryuki\",\"sealed with a kiss\",\"switch girl!!\",\"strawberry night\",\"hungry!\",\"saikou no jinsei no owarikata - ending planner\",\"saigo kara nibanme no koi\",\"take care of us, captain\",\"risou no musuko\",\"romance in the rain\",\"my husband got a family\",\"the 3rd ward\",\"aishiteiru to ittekure\",\"feast of the gods\",\"kamen rider blade\",\"kamen rider agito\",\"samurai sentai shinkenger\",\"w no higeki\",\"xuan-yuan sword: scar of sky\",\"queen of ambition\",\"papadol!\",\"the thousandth man\",\"to my beloved\",\"miss rose\",\"a step into the past\",\"soumatou kabushikigaisha\",\"haeundae lovers\",\"may queen\",\"higashino keigo mysteries\",\"beginners!\",\"horse doctor\",\"the great seer\",\"too late to say i love you\",\"sweet sweet bodyguard\",\"majisuka gakuen 3\",\"the king of dramas\",\"scarlet heart 2\",\"what is love\",\"legend of concubine zhen huan\",\"drama go go go\",\"ataru\",\"ooku: the inner chamber\",\"golden time\",\"shiritsu bakaleya koukou\",\"holy land\",\"tiger cubs\",\"in between\",\"triumph in the skies\",\"i love lee tae ri\",\"kodoku no gurume\",\"secret angel\",\"swordsman\",\"best time\",\"legend of lu zhen\",\"ko one re-act\",\"wang's family\",\"kamen rider drive\",\"the cage of love\",\"thara himalai\",\"tawan tor saeng\",\"raeng ngao\",\"sud sai pan\",\"khun chai pawornruj\",\"roy marn\",\"hormones\",\"the heavenly sword and dragon sabre\",\"the sixth sense\",\"the sixth sense 2\",\"oum ruk\",\"soot sanaeha\",\"petero no souretsu\",\"majurat see nam pueng\",\"mia taeng\",\"dok ruk rim tang\",\"dao kiao duen\",\"jao sao rim tang\",\"sawan biang\",\"wanida\",\"samee\",\"tawipob\",\"trot lovers\",\"game rai game rak\",\"torranee ni nee krai krong\",\"duang jai akkanee\",\"ruk sutrit\",\"raeng pradtanaha\",\"pin anong\",\"panyachon kon krua\",\"lady - saigo no hanzai profile\",\"roy lae sanae luang\",\"yoiko no mikata\",\"a different kind of pretty man\",\"wayupak montra\",\"line walker\",\"pathapee leh ruk\",\"lunch queen\",\"kyou wa kaisha yasumimasu\",\"gomenne seishun!\",\"valid love\",\"love cheque charge\",\"mare\",\"rosy lovers\",\"lah ruk sut kob fah\",\"divorce lawyers\",\"n no tame ni\",\"ab ruk online\",\"destined to love you\",\"shinya shokudo 3\",\"jigoku sensei nube\",\"legend of mi yue\",\"luead mungkorn: suea\",\"death notify: the darker\",\"likit kammathep\",\"aoi honoo\",\"kha khong khon\",\"the three musketeers\",\"manee yard fah\",\"roy fun tawan duerd\",\"mama\",\"sanaeha sunya kaen\",\"ban shu legend\",\"suikyuu yankees\",\"roy ruk hak liam tawan\",\"mr. back\",\"kinkyori renai: season zero\",\"time spiral\",\"partner\",\"gto: remake season 2\",\"kindaichi shonen no jikenbo n\",\"kanojo wa uso wo aishisugiteru - sidestory\",\"yamada-kun to 7-nin no majo\",\"can we love?\",\"s: saigo no keikan\",\"one warm word\",\"melody of love\",\"infinite power\",\"loving, never forgetting\",\"the king's face\",\"wonderful days\",\"deja vu\",\"please remember, princess\",\"in a good way\",\"never give up, dodo\",\"kinkyu torishirabeshitsu\",\"3 days\",\"one well-raised daughter\",\"shitsuren chocolatier\",\"cuo dian yuan yang\",\"49\",\"hard nut!\",\"cheo yong\",\"tokyo bandwagon\",\"hanako to anne\",\"potato star 2013qr3\",\"perfect couple\",\"legend of hua mulan\",\"yorozu uranaidokoro onmyoya e yokoso\",\"kamen rider gaim\",\"ando lloyd - a.i. knows love ?\",\"gochisousan\",\"passionate love\",\"unemployed romance\",\"kurokouchi\",\"give love away\",\"miss pilot\",\"dr. dmat\",\"princess of lanling king\",\"apple in your eye\",\"boku no ita jikan\",\"golden cross\",\"rock 'n' road\",\"wakamono tachi\",\"shinigami-kun\",\"first class\",\"roosevelt game\",\"the imperial doctress\",\"glorious day\",\"she is nineteen\",\"a new leaf\",\"pleasantly surprised\",\"the way we were\",\"flower grandpa investigation unit\",\"yoo na's street\",\"legend of fragrance\",\"style\",\"oh! my girl!!\",\"alice no toge\",\"ressha sentai toqger\",\"angel's revenge\",\"gachi baka!\",\"lost days\",\"iryu team medical dragon  4\",\"nazo no tenkousei\",\"gunshi kanbei\",\"gap dong\",\"yowakutemo katemasu\",\"juunen saki mo kimi ni koishite\",\"cruel romance\",\"naeil's cantabile\",\"jigoku shoujo\",\"aftermath\",\"the empress of china\",\"waking love up\",\"inborn pair\",\"bachelor's vegetable store\",\"demi gods & semi devils\",\"jejoongwon\",\"lavender\",\"ja myung go\",\"ima ai ni yukimasu\",\"daisuki!!\",\"muscle girl\",\"shiawase ni narou yo\",\"control - hanzai shinri sousa\",\"assorted gems\",\"let's go watch meteor shower\",\"evasive inquiry agency\",\"super rookie\",\"thousand years of love\",\"gegege no nyobo\",\"rosy business\",\"comrades\",\"kou kou kyoushi 2003\",\"90 days of love\",\"that love comes\",\"deka wanko\",\"secret investigation record\",\"gou - himetachi no sengoku\",\"gourmet\",\"successful story of a bright girl\",\"love buffet\",\"the prince who turns into a frog\",\"beautiful life\",\"prince's first love\",\"get karl! oh soo jung\",\"sunny happiness\",\"lawyers of korea\",\"around 40\",\"atsu hime\",\"odoru daisousasen\",\"haken no hinkaku\",\"star's lover\",\"d.i.e.\",\"hanoi bride\",\"love marriage\",\"marrying a millionaire\",\"my sweet seoul\",\"new heart\",\"only you\",\"over the rainbow\",\"phoenix\",\"resurrection\",\"robber\",\"single dad in love\",\"smile, again\",\"smile, dong hae\",\"soulmate\",\"summer scent\",\"family's honor\",\"don't hesitate\",\"damo\",\"pink lipstick\",\"exhibition of fireworks\",\"on air\",\"lovers in prague\",\"which star are you from?\",\"wish to see you again\",\"my love patzzi\",\"once upon a time in saengchori\",\"dal ja's spring\",\"lovers\",\"save the last dance for me\",\"golden bride\",\"all in\",\"couple or trouble\",\"crazy for you\",\"soul\",\"zhong wu yan\",\"my shining girl\",\"anna-san no omame\",\"hanayome to papa\",\"yasha\",\"sang doo, let's go to school\",\"atami no sousakan\",\"the legend of brown sugar chivalries\",\"strongest chil woo\",\"freeze\",\"cain and abel\",\"flames of desire\",\"ryomaden\",\"koshonin\",\"bad family\",\"summer x summer\",\"taiyo to umi no kyoshitsu\",\"tiger & dragon\",\"pride\",\"the queen's classroom\",\"zeni geba\",\"trick 3\",\"tamra, the island\",\"queen of reversals\",\"sekai no chuushin de, ai wo sakebu\",\"himitsu no hanazono\",\"trick\",\"trick 2\",\"strawberry on the shortcake\",\"chinese paladin\",\"attic cat\",\"i really really like you\",\"q.e.d.\",\"bartender\",\"haikei, chichiue-sama\",\"long love letter\",\"brother beat\",\"gakko ja oshierarenai!\",\"kimcheed radish cubes\",\"yamada taro monogatari\",\"thorn birds\",\"iryu team medical dragon\",\"iryu team medical dragon 2\",\"iryu team medical dragon 3\",\"kim soo ro\",\"ko one\",\"all about eve\",\"road number one\",\"nine tailed fox\",\"shinya shokudo\",\"hwang jin yi\",\"if in love like them\",\"temptation of an angel\",\"gloomy salad days\",\"green rose\",\"kisarazu cat's eye\",\"bad couple\",\"my lucky star\",\"princess princess d\",\"summer snow\",\"life\",\"majo no jouken\",\"queen of housewives\",\"boku dake no madonna\",\"great inheritance\",\"kamisama mou sukoshi dake\",\"sp\",\"unfair\",\"manhattan love story\",\"shokojo seira\",\"p.p.o.i.\",\"home drama\",\"byakuyako\",\"surgeon bong dal hee\",\"sweet spy\",\"tazza\",\"kamen rider ooo\",\"hooray for love\",\"tempest\",\"vacation\",\"sweet room\",\"the vigilantes in masks\",\"hi wa mata noboru\",\"the duke of mount deer\",\"beautiful love: if you're here\",\"silence\",\"arakawa under the bridge\",\"the little fairy\",\"gye baek\",\"jiu\",\"hikari to tomo ni... ~ jiheishou-ji wo kakaete ~\",\"the fierce wife\",\"meitantei conan\",\"the mysteries of love\",\"soredemo, ikite yuku\",\"100 scene no koi\",\"unstoppable high kick\",\"100% senorita\",\"yuusha yoshihiko to maou no shiro\",\"dr. koto shinryojo\",\"garo\",\"legend of the condor heroes\",\"kamen rider w\",\"birdie buddy\",\"kamen rider decade\",\"material queen\",\"la robe de mariage des cieux\",\"hanawake no yon shimai\",\"zenkai girl\",\"journey to the west\",\"schemes of a beauty\",\"introduction of the princess\",\"what happened in bali\",\"can't lose\",\"shiroi haru\",\"the young warriors\",\"kaito royale\",\"kaseifu no mita\",\"doctors saikyou no meii\",\"new my fair princess\",\"sengyou shufu tantei ~watashi wa shadow\",\"nankyoku tairiku\",\"kamen rider kabuto\",\"kamen rider fourze\",\"shinya shokudo 2\",\"garo: makai senki\",\"brain\",\"last scandal\",\"fondant garden\",\"mitsu no aji\",\"nazotoki wa dinner no ato de\",\"carnation\",\"shokuzai\",\"kingyo club\",\"little girl k\",\"boku to star no 99 nichi\",\"ring ring bell\",\"watashi ga renai dekinai riyuu\",\"the musical\",\"the heaven sword and dragon saber\",\"fermentation family\",\"high kick! the revenge of the short legged\",\"the empress\",\"runaway - aisuru kimi no tame ni\",\"love or bread\",\"ace wo nerae!\",\"nobuta wo produce\",\"myung wol the spy\",\"alone in love\",\"kindaichi shonen no jikenbo 3\",\"kindaichi shonen no jikenbo 2\",\"how to meet a perfect neighbor\",\"jungle fish 2\",\"flowers for my life\",\"manny\",\"at dolphin bay\",\"rolling love\",\"my rosy life\",\"tokyo friends\",\"my bratty princess\",\"ikebukuro west gate park\",\"sunshine angel\",\"baby-faced beauty\",\"beach boys\",\"sandglass\",\"tsubasa no oreta tenshitachi\",\"long vacation\",\"mukodono!\",\"asuko march!\",\"capital scandal\",\"wedding\",\"women of the sun\",\"last friends\",\"good life - arigatou, papa. sayonara\",\"boku to kanojo no xxx\",\"hotelier\",\"ohisama\",\"marumo no okite\",\"rebound\",\"umareru.\",\"inu wo kau to iu koto\",\"shima shima\",\"osen\",\"jotei\",\"bump off lover\",\"moonlight resonance\",\"romance town\",\"can't buy me love\",\"three kingdoms\",\"forensic heroes\",\"sweet relationship\",\"antique\",\"mop girl\",\"little mom scandal\",\"my mvp valentine\",\"loveholic\",\"karei naru ichizoku\",\"puzzle\",\"taiyou no uta\",\"deep love ~ ayu's story ~\",\"the great king, sejong\",\"kindaichi shonen no jikenbo\",\"we are dating now\",\"star in my heart\",\"tadashii ouji no tsukurikata\",\"majisuka gakuen 2\",\"the magicians of love\",\"ying ye 3+1\",\"woody sambo\",\"friends\",\"poseidon\",\"king gwanggaeto the great\",\"the rose\",\"princess pearl\",\"ice world\",\"papa to musume no nanokakan\",\"a sleeping forest\",\"snow white\",\"remote\",\"lovers in paris\",\"subete ga f ni naru\",\"the virtuous queen of han\",\"boarding house #24\",\"troubleman\",\"wu xin: the monster killer\",\"royal sister returns\",\"toki wo kakeru shoujo\",\"28 faces of the moon\",\"ishi no mayu\",\"soshite, dare mo inaku natta\",\"37.5\\u00b0c no namida\",\"prince's prince\",\"omotesando koukou gasshoubu\",\"cinderella formula\",\"les interpr\\u00e8tes\",\"love relationship\",\"ramen daisuki koizumi-san\",\"seisei suruhodo, aishiteru\",\"life is beautiful\",\"holyland\",\"tamiou\",\"tantei no tantei\",\"late night restaurant\",\"the girl in tassel earring\",\"evil minds\",\"on the way to the airport\",\"i wanna be sup'tar\",\"totto tv\",\"under the black moonlight\",\"women at a game company\",\"jang young shil\",\"alchemist\",\"cold case: shinjitsu no tobira\",\"miss in kiss\",\"hapimari: happy marriage!?\",\"i have a lover\",\"all about my mom\",\"kamen rider ghost\",\"baek hee has returned\",\"yuusha yoshihiko to michibikareshi shichinin\",\"q series: love of sandstorm\",\"because it's the first time\",\"better man\",\"awl\",\"me and mr. x season 3: goodbye mr. x\",\"swimming battle\",\"ie uru onna\",\"q series: life plan a and b\",\"fighter of the  destiny\",\"finding soul\",\"the crossing hero\",\"asa ga kita\",\"my best ex-boyfriend\",\"kamen rider ex-aid\",\"mai sin rai fai sawart\",\"the legend of the condor heroes\",\"mia tuean\",\"mother game\",\"war of high school\",\"jumping girl\",\"suna no tou - shiri sugita rinjin\",\"ra raerng fai\",\"super star academy\",\"death note new generation\",\"about love\",\"jimi ni sugoi! koetsu garu kono etsuko\",\"men with sword\",\"suishou no kodou\",\"the man in the mask\",\"kokoro ga pokitto ne\",\"ishitachi no renai jijo\",\"the whirlwind girl\",\"woman with a suitcase\",\"my beautiful bride\",\"mother\",\"hello! miss\",\"reinoryokusha odagiri kyoko no uso\",\"unmei ni, nita koi\",\"blow breeze\",\"i see you\",\"rang tawan\",\"roy leh sanae rai\",\"lovey dovey\",\"our gap soon\",\"decoded\",\"aogeba toutoshi\",\"nang rai tee rak\",\"o-negative\",\"piang chai khon nee mai chai poo wised\",\"candle in the tomb\",\"prison school\",\"kiina\",\"kounodori\",\"kiseki no hito\",\"detective alice\",\"fragile\",\"the cupids series: kamathep online\",\"the cupids series: kammathep hunsa\",\"the cupids series: kamathep prab marn\",\"sapai jao\",\"proud of love\",\"cruel love\",\"shiratori reiko de gozaimasu!\",\"revive\",\"gloria\",\"u-prince: the extroverted humanist\",\"u-prince: the lovely geologist\",\"u-prince: the gentle vet\",\"the fire series 2: talay fai\",\"my little baby\",\"seito shokun!\",\"song huajai nee puea tur\",\"hello mr. right\",\"sekai ichi muzukashii koi\",\"high&low\",\"shibatora\",\"morrasoom sawat\",\"kasa wo motanai aritachi wa\",\"sumika sumire\",\"kaitou yamaneko\",\"a fist within four walls\",\"mars - tada, kimi wo aishiteru\",\"happy home\",\"lily fever\",\"pied piper\",\"delicious love\",\"transit girls\",\"back to 1989\",\"chronicle of life\",\"eating existence\",\"meitantei no okite\",\"the mystic nine\",\"legendary witch\",\"she is 200 years old\",\"puer tur\",\"juhan shuttai!\",\"devil lover\",\"love @ seventeen\",\"thumping spike\",\"the master of revenge\",\"onna joushu naotora\",\"underwear\",\"ogon no buta\",\"senior secret love: bake me love\",\"samurai sensei\",\"okashi no ie\",\"click your heart\",\"legend of nine tails fox\",\"start love\",\"demon girl\",\"gay ok bangkok\",\"the village: achiara's secret\",\"shitamachi rocket\",\"glamorous temptation\",\"boku no yabai tsuma\",\"bong soon: a cyborg in love\",\"mioka\",\"the man who can't get married\",\"far away love\",\"part time\",\"sweet, savage family\",\"gasohug\",\"it's not that i can't marry, but i don't want to\",\"sweet temptation\",\"yutori desu ga nani ka\",\"otona joshi\",\"love song\",\"our house\",\"ode to joy\",\"taste of love\",\"seishun tantei haruya: otona no aku wo yurusanai!\",\"nightmare teacher\",\"fake couple\",\"babysitter\",\"missing korea\",\"good time\",\"triple\",\"99.9: keiji senmon bengoshi\",\"high&low season 2\",\"fukuyado honpo - kyoto love story\",\"age harassment\",\"abarenbo mama\",\"you're my destiny\",\"the perfect match\",\"love through a millennium\",\"neung nai suang\",\"chinese hero zhao zi long\",\"a life\",\"ngao jai\",\"love frequency 37.2\",\"call of the country\",\"golden pouch\",\"futatsu no spica\",\"v-focus\",\"ugly duckling series: boy's paradise\",\"ugly duckling series: don't\",\"shuttle love millennium\",\"yokoso wagaya e\",\"game payabaht\",\"the legend of zu\",\"tarm ruk keun jai\",\"hot and sweet\",\"rakuen\",\"love detective sherlock k\",\"momo salon\",\"singles villa\",\"love of aurora\",\"the x-family\",\"pitsawat\",\"fuben na benriya\",\"shikaku tantei higurashi tabito\",\"the legend of dugu\",\"long for you\",\"hokuto\",\"thirteen terrors\",\"majisuka gakuen 4\",\"heard it through the grapevine\",\"the family is coming\",\"love contract\",\"surgeons\",\"the disguiser\",\"the advisors alliance\",\"dr. ian\",\"the last cop 2\",\"hiyokko\",\"house of bluebird\",\"nang ai\",\"love and secret\",\"super daddy yeol\",\"nothing gold can stay\",\"date - koi to wa donna mono kashira\",\"angel 'n' devil\",\"banana actually\",\"i am sorry, i love you\",\"mondai no aru restaurant\",\"love's relativity\",\"beautiful secret\",\"what's up with these kids!?\",\"tomodachi game\",\"yami no bansosha\",\"unkind women\",\"three dads one mom\",\"ngao asoke\",\"dear sister\",\"iq246: kareinaru jikenbo\",\"dos deka\",\"lost in 1949\",\"seonam girls high school investigators\",\"spy\",\"yume wo ataeru\",\"still loving you\",\"that fool\",\"tokyo tarareba musume\",\"tenno no ryoriban\",\"calling for love\",\"sutekina sen taxi\",\"room alone\",\"kageri yuku natsu\",\"the king of romance\",\"doll house\",\"momin's room\",\"muean khon la fark fah\",\"persevere, goo hae ra\",\"night light\",\"ghost writer\",\"boy hood\",\"the rise of phoenixes\",\"a game about love\",\"career\",\"love to our youth: he falls in love with him\",\"chef hua\",\"unsung cinderella: byoin yakuzaishi no shohosen\",\"renai mangaka\",\"familiar wife\",\"the mysterious class\",\"the ghost detective\",\"miss crow with mr. lizard\",\"queen seon duk\",\"the world that they live in\",\"solomon's perjury\",\"inspector koo\",\"a thousand days' promise\",\"w.h.y.\",\"beethoven virus\",\"she knows everything\",\"love affairs in the afternoon\",\"five fingers\",\"the lies within\",\"the wind blows\",\"when time stopped\",\"sad love story\",\"lost\",\"team bulldog: off-duty investigation\",\"my secret hotel\",\"hello monster\",\"train\",\"please feel at ease mr. ling\",\"that man oh soo\",\"you raise me up\",\"how to buy a friend\",\"legally, dad\",\"dark hole\",\"summer guys\",\"wednesday 3:30 pm\",\"bubblegum\",\"reunion: the sound of the providence season 2\",\"tomb of the sea\",\"my heart twinkle twinkle\",\"9 seconds: eternal time\",\"return of the condor heroes\",\"untouchable\",\"fox in the screen\",\"longing heart\",\"the romance of the condor heroes\",\"temptation\",\"magic cell phone\",\"ton ruk rim rua\",\"six flying dragons\",\"you complete me\",\"liar game 2\",\"city hunter\",\"ever night\",\"splendid politics\",\"wacko at law\",\"my unfamiliar family\",\"my girlfriend is a gumiho\",\"love by chance\",\"miracle that we met\",\"my dangerous wife\",\"different dreams\",\"pretty man 2\",\"heart of loyalty\",\"the legend of hao lan\",\"the wolf princess\",\"okusama wa, tori atsukai chui\",\"marriage, not dating\",\"siren\",\"the fearless\",\"project s: skate our souls\",\"kishibe rohan wa ugokanai\",\"gumiho: tale of the fox's child\",\"heartbeat love\",\"fallen angel\",\"perfect crime\",\"the ghost bride\",\"koishite akuma\",\"second love\",\"love of summer night\",\"shadow beauty\",\"love that makes you cry\",\"when i see you again\",\"legend of two sisters in the chaos\",\"marriage contract\",\"dear prince\",\"no boundary season 2\",\"the legend of jin yan\",\"ace troops\",\"one sunny day\",\"beautiful gong shim\",\"love family\",\"trial marriage\",\"dear herbal lord\",\"a murderous affair in horizon tower\",\"chef: mitsuboshi no kyushoku\",\"kiss scene in yeonnamdong\",\"35sai no shoujo\",\"god's quiz\",\"where the lost ones go\",\"my lonely planet\",\"i will find you a better home\",\"romance talking\",\"rich family's son\",\"remembrance of things past\",\"love, now\",\"go, back diary\",\"wonderful life\",\"don't leave after school\",\"oh my geum bi\",\"boku no satsui ga koi wo shita\",\"octogenarian and the 90s\",\"the naked director\",\"h2: kimi to ita hibi\",\"my lawyer, mr. jo\",\"the spring day of my life\",\"homemade love story\",\"single & ready to mingle\",\"want more 19\",\"goedam\",\"plerng naree\",\"forget you remember love\",\"full house\",\"nitiman\",\"life: senjou no bokura\",\"queen: love and war\",\"high school king of savvy\",\"d-day\",\"my girlfriend is an alien\",\"boss & me\",\"class of lies\",\"avengers social club\",\"partners for justice season 2\",\"miss ma, nemesis\",\"mama fairy and the woodcutter\",\"the greatest love\",\"the snow queen\",\"the sleepless princess\",\"the guardians\",\"the guest\",\"our glamorous time\",\"gakkou no kaidan\",\"vampire prosecutor\",\"radiant office\",\"u-prince: the foxy pilot\",\"another parting\",\"obstetrics and gynecology doctors\",\"your highness, the class monitor\",\"after school: lucky or not\",\"a love to kill\",\"bangkok g story\",\"kleun cheewit\",\"mine\",\"blue birthday\",\"we best love: no. 1 for you\",\"yi san\",\"neechan no koibito\",\"hong gil dong\",\"my sweet dear\",\"justice\",\"office girls\",\"be melodramatic\",\"skate into love\",\"plus nine boys\",\"the fox's summer\",\"s.c.i\",\"en of love: this is love story\",\"the legend of xiao chuo\",\"nigeru wa haji da ga yaku ni tatsu\",\"god's quiz season 2\",\"totsuzen desu ga, ashita kekkon shimasu\",\"catch the ghost\",\"love cuisine\",\"god's quiz season 3\",\"the cupids series: kamathep ork suek\",\"oh my baby\",\"i am your teacher\",\"secret seven\",\"one ordinary day\",\"wadake no otokotachi\",\"see you again\",\"lovely us\",\"operation: special warfare\",\"bulgasal: immortal souls\",\"lover or stranger\",\"twisted fate of love\",\"love is all\",\"my only love song\",\"dokushin kizoku\",\"heartstrings\",\"dragon day, you're dead season 2\",\"racket boys\",\"youths in the breeze\",\"till death tear us apart\",\"precise shot\",\"make it live: on the beach\",\"dinner mate\",\"just you\",\"let's eat\",\"meeting you loving you\",\"wild romance\",\"good bye, my princess\",\"my supernatural power\",\"singing all along\",\"reborn\",\"caught in the heartbeat\",\"let's watch the meteor shower again\",\"i hear you\",\"gokusen 3\",\"ikemen desu ne\",\"sweden laundry\",\"suits\",\"night watchman's journal\",\"sweet munchies\",\"the shipper\",\"bite sisters\",\"hit the top\",\"you are my destiny\",\"ghost\",\"melancholia\",\"history2: crossing the line\",\"the penthouse season 3: war in life\",\"madame antoine\",\"hi! school - love on\",\"bungaku shojo\",\"mokkoji kitchen\",\"love around\",\"le coup de foudre\",\"falling in love\",\"who is the murderer\",\"definitely not today\",\"put your head on my shoulder\",\"the blooms at ruyi pavilion\",\"memory\",\"mr. fox and miss rose\",\"padam padam\",\"city of streamer\",\"gank your heart\",\"zombie detective\",\"the best twins\",\"the long night\",\"hold on, my lady\",\"coffee & vanilla\",\"the other half of me and you\",\"art in love\",\"lovely writer\",\"the flower in prison\",\"inspiring generation\",\"stand up!!\",\"ko one return\",\"the gentlemen of wolgyesu tailor shop\",\"oyabaka seishun hakusho\",\"joshi-teki seikatsu\",\"omukae desu\",\"yuusha yoshihiko to akuryo no kagi\",\"oi handsome!\",\"koi wa deep ni\",\"st aka to shiro no sousa file\",\"okitegami kyoko no biboroku\",\"horimiya\",\"kangoku no ohimesama\",\"quartet\",\"orange days\",\"kotaki kyodai to shikuhakku\",\"11 nin mo iru!\",\"ossan's love\",\"okane no kireme ga koi no hajimari\",\"talio fukushu daiko no futari\",\"ore no sukato, doko itta?\",\"seirei no moribito\",\"sherlock: the untold stories\",\"kokoro no kizu wo iyasu to iu koto\",\"starman - this star's love\",\"love generation\",\"mei-chan no shitsuji\",\"gomen, aishiteru\",\"youkai sharehouse\",\"q10\",\"chimera\",\"crime puzzle\",\"witch's romance\",\"wild chives and soy bean soup: 12 years reunion\",\"my dear loser: monster romance\",\"l.u.c.a.: the beginning\",\"switched\",\"when we were young\",\"out of the dream\",\"the song of glory\",\"the legends\",\"the eternal love\",\"the tasty florida\",\"like love\",\"the psychologist\",\"taisetsu na koto wa subete kimi ga oshiete kureta\",\"my runway\",\"hakuouki ssl: sweet school life\",\"moon river\",\"please find her\",\"douluo continent\",\"twelve men in a year\",\"love scene number\",\"last cinderella\",\"full house take 2\",\"girl from nowhere\",\"a-teen\",\"nobody knows\",\"young lady and gentleman\",\"the man's voice\",\"mrs. cop\",\"imitation\",\"love better than immortality\",\"the great shaman ga doo shim\",\"legend of awakening\",\"children of a lesser god\",\"yes! mr. fashion\",\"meet me outside\",\"chip-in\",\"level up\",\"would you like a cup of coffee?\",\"my boy\",\"ossan's love: in the sky\",\"not me\",\"paint with love\",\"girl next room: security love\",\"girl next room: richy rich\",\"y-destiny\",\"the best story\",\"as long as you love me\",\"love beyond frontier\",\"longing for spring\",\"sketch\",\"zettai kareshi\",\"show window: the queen's house\",\"east of eden\",\"chasing ball\",\"swing to the sky\",\"a river runs through it\",\"glass slippers\",\"gangnam scandal\",\"oh! my lady\",\"dine with love\",\"true beauty\",\"love keeps going\",\"duel\",\"light on me\",\"lonely enough to love\",\"ms. temper & nam jung gi\",\"risky romance\",\"pegasus market\",\"ruyi's royal love in the palace\",\"rookie cops\",\"first love again\",\"moment at eighteen\",\"padiwaradda\",\"my neighbour can't sleep\",\"enchant\\u00e9\",\"gokusen 2\",\"romantic princess\",\"grand prince\",\"undercover\",\"the classic of mountains and seas\",\"meloholic\",\"7 project\",\"top management\",\"convenience store fling\",\"sell your haunted house\",\"marry me!\",\"on the wings of love\",\"one page love\",\"my dear guardian\",\"dance of the sky empire\",\"high kick through the roof!\",\"hayate the combat butler\",\"bloody monday\",\"jang ok jung\",\"the time we were not in love\",\"heavenly sword and dragon slaying sabre\",\"i am the years you are the stars\",\"all i want for love is you\",\"dark blue and moonlight\",\"dance of the phoenix\",\"hana nochi hare: hanadan next season\",\"kamen rider den-o\",\"on ijou hanzai sousakan todo hinako\",\"boku, unmei no hito desu\",\"kazoku no katachi\",\"legal high\",\"algernon ni hanataba wo\",\"the flatterer\",\"cunning single lady\",\"secret royal inspector & joy\",\"because of you\",\"tra barb see chompoo\",\"legend of the dragon pearl: the indistinguishable road\",\"count your lucky stars\",\"ma boy\",\"love sick\",\"i've fallen for you\",\"falling for do jeon\",\"please don't date him\",\"gen y\",\"girl next room: midnight fantasy\",\"7th grade civil servant\",\"come and hug me\",\"history3: make our days count\",\"my lovely sam soon\",\"make it right 2\",\"the package\",\"tomorrow boy\",\"special affairs team ten\",\"god's gift: 14 days\",\"kakegurui season 2\",\"gto\",\"tokyo dogs\",\"flower ever after\",\"dr. champ\",\"love & wish\",\"top star yoo baek\",\"dating in the kitchen\",\"a gentleman's dignity\",\"run on\",\"doctor detective\",\"here is my exclusive indulge\",\"leverage\",\"please love me\",\"cinderella is online\",\"my vampire boyfriend\",\"lie to me\",\"rinsho hanzai gakusha himura hideo no suiri\",\"junkyouju takatsuki akira no suisatsu\",\"mr. nietzsche in the convenience store\",\"minami-kun no koibito\",\"love and fortune\",\"so sanaeha\",\"qing luo\",\"lie to love\",\"ice fantasy\",\"when the devil calls your name\",\"legend of yun xi\",\"maid escort\",\"missing 9\",\"remember my boy\",\"skip beat!\",\"easy fortune happy life\",\"tofu personified\",\"best mistake season 3\",\"love poison\",\"my romantic some recipe\",\"jun jiu ling\",\"princess hours\",\"reset life\",\"one more time\",\"together with me\",\"i'm sorry, i love you\",\"love is deep\",\"the spies who loved me\",\"dao kiang duen\",\"who are you?\",\"u-prince: the absolute economist\",\"sunshine of my life\",\"falling in love with a rival\",\"craving you\",\"midsummer is full of love\",\"fantastic\",\"sweet tai chi\",\"romance\",\"her bucket list\",\"sword dynasty\",\"hello mr. gu\",\"use for my talent\",\"accidentally in love\",\"the great show\",\"doubtful victory\",\"thirty-nine\",\"witch's court\",\"find me in your memory\",\"lost love in times\",\"do do sol sol la la sol\",\"cinderella's sister\",\"the undateables\",\"miss gu who is silent\",\"my dear destiny\",\"falling in love\",\"mimi\",\"the best future\",\"i wanna hear your song\",\"hush\",\"time flies and you are here\",\"the chang'an youth\",\"to love, to heal\",\"well dominated love\",\"divorce lawyer in love\",\"girl next room: motorbike baby\",\"sparkle love\",\"the crown princess\",\"cheat my boss\",\"be my cat\",\"senior secret love: my lil boy\",\"5-ji kara 9-ji made\",\"beautiful reborn flower\",\"cute programmer\",\"long khong\",\"beyond the realm of conscience\",\"heart of greed\",\"massaya\",\"my toxic lover\",\"amore\",\"discipline\",\"he she it\",\"a gift to the people you hate\",\"love & life & lie\",\"yasuko to kenji\",\"vampire detective\",\"rugal\",\"when my love blooms\",\"oh my ladylord\",\"senior secret love: puppy honey 2\",\"entourage\",\"item\",\"meteor garden\",\"gunman in joseon\",\"forest\",\"shut up: flower boy band\",\"bad papa\",\"criminal minds\",\"love designer\",\"the endless love\",\"shining for one thing\",\"winter sonata\",\"itoshi kimi e\",\"the lost tomb\",\"crime squad\",\"be my boyfriend\",\"colourful bone\",\"emperor of the sea\",\"goong s\",\"legend of fu yao\",\"shark\",\"princess at large\",\"oops! the king is in love\",\"hanazakari no kimitachi e\",\"my gear and your gown\",\"ex-girlfriend club\",\"hajimete koi wo shita hi ni yomu hanashi\",\"my first first love 2\",\"doctors\",\"the fairy fox\",\"the last empress\",\"wait, my youth\",\"time slip dr. jin\",\"the return of iljimae\",\"game sanaeha\",\"higanbana: keishicho sosa nana ka\",\"dear my name\",\"something about 1 percent\",\"capture lover\",\"be arrogant\",\"tong: memories\",\"hook up\",\"my extraordinary\",\"my love, enlighten me\",\"to the beautiful you\",\"you're my sky\",\"lovers in bloom\",\"entertainer\",\"the woman who still wants to marry\",\"coffee house\",\"when it's at night\",\"nevertheless,\",\"i don't love you yet\",\"the game: towards zero\",\"influencers\",\"cinderella and the four knights\",\"hwarang\",\"oh my boss\",\"grid\",\"my girl\",\"the night of the comet\",\"what's up, fox?\",\"heart surgeons\",\"wok of love\",\"mirror of the witch\",\"close friend\",\"boysitter\",\"my dear loser: edge of 17\",\"in love with your dimples\",\"unforgettable love\",\"choco bank\",\"key love\",\"the girl who sees scents\",\"pasta\",\"yamato nadeshiko shichi henge\",\"the cupid coach\",\"top secret together\",\"arang and the magistrate\",\"mr. bodyguard\",\"poisoned love\",\"sword and flower\",\"you are my hero\",\"love under the full moon\",\"the fox's summer season 2\",\"a female student arrives at the imperial college\",\"unrequited love\",\"ugly duckling series: pity girl\",\"black knight: the man who guards me\",\"secret love affair\",\"the emperor: owner of the mask\",\"blood\",\"so i married an anti-fan\",\"the world of my 17\",\"best mistake season 2\",\"fish upon the sky\",\"nee sensei, shiranai no?\",\"lucky's first love\",\"romance special law\",\"more than friends\",\"jiu liu overlord\",\"birth of a beauty\",\"dramaworld\",\"joker yurusarezaru sousakan\",\"kenja no ai\",\"taste of cat\",\"is - otoko demo onna demo nai sei\",\"final cut\",\"ghost mama sousasen\",\"hello, me!\",\"junichi\",\"bokutachi ga yarimashita\",\"haechi\",\"my dear lady\",\"secret royal inspector\",\"when the weather is fine\",\"shining inheritance\",\"marry me now\",\"angel eyes\",\"a poem a day\",\"marry me, or not?\",\"the silent sea\",\"faith\",\"queen in hyun's man\",\"my unfortunate boyfriend\",\"sweet first love\",\"itazura na kiss\",\"best mistake\",\"lovely horribly\",\"advance bravely\",\"so not worth it\",\"tharntype\",\"douse mou nigerarenai\",\"suspicious partner\",\"the vineyard man\",\"biscuit teacher and star candy\",\"jugglers\",\"angry mom\",\"peng\",\"romanced\",\"better a lie than a truth\",\"shark\",\"109 strange things\",\"delicious destiny\",\"mad dog\",\"kiss me again\",\"good casting\",\"mysterious incredible terminator\",\"an oriental odyssey\",\"cupid's kitchen\",\"be loved in house: i do\",\"and the winner is love\",\"reply 1988\",\"go go squid!\",\"praomook\",\"the rules of love\",\"intouchable\",\"fall in love\",\"bad guys: city of evil\",\"golden empire\",\"that winter, the wind blows\",\"iron ladies\",\"my mate match\",\"by stealth like you\",\"a camellia romance\",\"pop out boy!\",\"love by chance 2: a chance to love\",\"sapuri\",\"vampire flower\",\"big issue\",\"good morning call: our campus days\",\"failing in love\",\"flipped\",\"i  do, i do\",\"sisyphus: the myth\",\"me too, flower!\",\"romance is a bonus book\",\"one fine day\",\"ben x jim\",\"majo saiban\",\"nobunaga no chef\",\"a girl like me\",\"moorim school\",\"the secret message\",\"suki na hito ga iru koto\",\"something in my room\",\"ouran high school host club\",\"adult trainee\",\"behind cut\",\"love with flaws\",\"girl from nowhere season 2\",\"truth or dare\",\"kei\\u00d7yaku: abunai aibou\",\"the third charm\",\"love of thousand years\",\"reply 1997\",\"my girlfriend\",\"when a man's in love\",\"die now\",\"king2hearts\",\"secret mother\",\"master devil do not kiss me\",\"kurosagi\",\"to all the guys who loved me\",\"surplus princess\",\"two cops\",\"sm:)e\",\"ho goo's love\",\"reunited worlds\",\"shall we fall in love\",\"love (ft. marriage and divorce)\",\"wanted\",\"school 2017\",\"i cannot hug you season 2\",\"awaken\",\"just one bite\",\"way back into love\",\"the smile has left your eyes\",\"love in time\",\"a beautiful mind\",\"temperature of love\",\"exo next door\",\"between\",\"twenty years old\",\"the innocent man\",\"dokgo rewind\",\"the king in love\",\"love rain\",\"about is love\",\"wish you: your melody from my heart\",\"sweet combat\",\"history1: stay away from me\",\"my fair lady\",\"18 vs. 29\",\"money game\",\"bite me\",\"private lives\",\"miss ripley\",\"romance blue\",\"dream knight\",\"the destiny of white snake\",\"golden blood\",\"utsukushii kare\",\"flavour it's yours\",\"mary stayed out all night\",\"love at night\",\"kieta hatsukoi\",\"local hero\",\"man to man\",\"bring it on, ghost\",\"frankenstein no koi\",\"dream garden\",\"cross\",\"strongest deliveryman\",\"roop thong\",\"turn left turn right\",\"police university\",\"hyde, jekyll, me\",\"lucky romance\",\"persona\",\"search: www\",\"burning ice\",\"andante\",\"itazura na kiss: love in tokyo\",\"peach of time\",\"the school nurse files\",\"kiss\",\"mr. swimmer\",\"pretty man\",\"kiss goblin\",\"views of love: grey rainbow\",\"k-pop - the ultimate audition\",\"triad princess\",\"seventeen\",\"ending again\",\"minami-kun no koibito - my little lover\",\"the charming step mom\",\"nine kilometers of love\",\"girl of 0am\",\"the ambiguous focus\",\"tempted\",\"atashinchi no danshi\",\"takane to hana\",\"the lover\",\"my lovely girl\",\"meow, the secret boy\",\"noble, my love\",\"boys dormitory\",\"where your eyes linger\",\"history1: my hero\",\"en of love: tossara\",\"lovestruck in the city\",\"i hate you, i love you\",\"reminders\",\"make it right\",\"dr. frost\",\"'cause you're my boy\",\"monstar\",\"my secret romance\",\"49 days\",\"was it love?\",\"until we meet again\",\"marry him if you dare\",\"you are the best!\",\"bel ami\",\"senior secret love: puppy honey\",\"where stars land\",\"protect the boss\",\"mysterious love\",\"i picked up a star on the road\",\"black\",\"flower boy next door\",\"the sweet blood\",\"my absolute boyfriend\",\"i cannot hug you\",\"clean with passion for now\",\"the producers\",\"miss hammurabi\",\"witch's love\",\"flower boy ramen shop\",\"shopping king louie\",\"my love from the star\",\"orange marmalade\",\"personal taste\",\"blade man\",\"big\",\"the heirs\"],\"textfont\":{\"color\":\"#000000\"},\"textposition\":\"inside\",\"x\":[9.002580500291934,8.984305627871343,8.97913893651158,8.973402265608378,8.971007475791193,8.969318017602841,8.962010946535479,8.961867786837237,8.961544072740205,8.957385609697635],\"y\":[1,2,3,4,5,6,7,8,9,10],\"type\":\"bar\"}],                        {\"template\":{\"data\":{\"barpolar\":[{\"marker\":{\"line\":{\"color\":\"#E5ECF6\",\"width\":0.5},\"pattern\":{\"fillmode\":\"overlay\",\"size\":10,\"solidity\":0.2}},\"type\":\"barpolar\"}],\"bar\":[{\"error_x\":{\"color\":\"#2a3f5f\"},\"error_y\":{\"color\":\"#2a3f5f\"},\"marker\":{\"line\":{\"color\":\"#E5ECF6\",\"width\":0.5},\"pattern\":{\"fillmode\":\"overlay\",\"size\":10,\"solidity\":0.2}},\"type\":\"bar\"}],\"carpet\":[{\"aaxis\":{\"endlinecolor\":\"#2a3f5f\",\"gridcolor\":\"white\",\"linecolor\":\"white\",\"minorgridcolor\":\"white\",\"startlinecolor\":\"#2a3f5f\"},\"baxis\":{\"endlinecolor\":\"#2a3f5f\",\"gridcolor\":\"white\",\"linecolor\":\"white\",\"minorgridcolor\":\"white\",\"startlinecolor\":\"#2a3f5f\"},\"type\":\"carpet\"}],\"choropleth\":[{\"colorbar\":{\"outlinewidth\":0,\"ticks\":\"\"},\"type\":\"choropleth\"}],\"contourcarpet\":[{\"colorbar\":{\"outlinewidth\":0,\"ticks\":\"\"},\"type\":\"contourcarpet\"}],\"contour\":[{\"colorbar\":{\"outlinewidth\":0,\"ticks\":\"\"},\"colorscale\":[[0.0,\"#0d0887\"],[0.1111111111111111,\"#46039f\"],[0.2222222222222222,\"#7201a8\"],[0.3333333333333333,\"#9c179e\"],[0.4444444444444444,\"#bd3786\"],[0.5555555555555556,\"#d8576b\"],[0.6666666666666666,\"#ed7953\"],[0.7777777777777778,\"#fb9f3a\"],[0.8888888888888888,\"#fdca26\"],[1.0,\"#f0f921\"]],\"type\":\"contour\"}],\"heatmapgl\":[{\"colorbar\":{\"outlinewidth\":0,\"ticks\":\"\"},\"colorscale\":[[0.0,\"#0d0887\"],[0.1111111111111111,\"#46039f\"],[0.2222222222222222,\"#7201a8\"],[0.3333333333333333,\"#9c179e\"],[0.4444444444444444,\"#bd3786\"],[0.5555555555555556,\"#d8576b\"],[0.6666666666666666,\"#ed7953\"],[0.7777777777777778,\"#fb9f3a\"],[0.8888888888888888,\"#fdca26\"],[1.0,\"#f0f921\"]],\"type\":\"heatmapgl\"}],\"heatmap\":[{\"colorbar\":{\"outlinewidth\":0,\"ticks\":\"\"},\"colorscale\":[[0.0,\"#0d0887\"],[0.1111111111111111,\"#46039f\"],[0.2222222222222222,\"#7201a8\"],[0.3333333333333333,\"#9c179e\"],[0.4444444444444444,\"#bd3786\"],[0.5555555555555556,\"#d8576b\"],[0.6666666666666666,\"#ed7953\"],[0.7777777777777778,\"#fb9f3a\"],[0.8888888888888888,\"#fdca26\"],[1.0,\"#f0f921\"]],\"type\":\"heatmap\"}],\"histogram2dcontour\":[{\"colorbar\":{\"outlinewidth\":0,\"ticks\":\"\"},\"colorscale\":[[0.0,\"#0d0887\"],[0.1111111111111111,\"#46039f\"],[0.2222222222222222,\"#7201a8\"],[0.3333333333333333,\"#9c179e\"],[0.4444444444444444,\"#bd3786\"],[0.5555555555555556,\"#d8576b\"],[0.6666666666666666,\"#ed7953\"],[0.7777777777777778,\"#fb9f3a\"],[0.8888888888888888,\"#fdca26\"],[1.0,\"#f0f921\"]],\"type\":\"histogram2dcontour\"}],\"histogram2d\":[{\"colorbar\":{\"outlinewidth\":0,\"ticks\":\"\"},\"colorscale\":[[0.0,\"#0d0887\"],[0.1111111111111111,\"#46039f\"],[0.2222222222222222,\"#7201a8\"],[0.3333333333333333,\"#9c179e\"],[0.4444444444444444,\"#bd3786\"],[0.5555555555555556,\"#d8576b\"],[0.6666666666666666,\"#ed7953\"],[0.7777777777777778,\"#fb9f3a\"],[0.8888888888888888,\"#fdca26\"],[1.0,\"#f0f921\"]],\"type\":\"histogram2d\"}],\"histogram\":[{\"marker\":{\"pattern\":{\"fillmode\":\"overlay\",\"size\":10,\"solidity\":0.2}},\"type\":\"histogram\"}],\"mesh3d\":[{\"colorbar\":{\"outlinewidth\":0,\"ticks\":\"\"},\"type\":\"mesh3d\"}],\"parcoords\":[{\"line\":{\"colorbar\":{\"outlinewidth\":0,\"ticks\":\"\"}},\"type\":\"parcoords\"}],\"pie\":[{\"automargin\":true,\"type\":\"pie\"}],\"scatter3d\":[{\"line\":{\"colorbar\":{\"outlinewidth\":0,\"ticks\":\"\"}},\"marker\":{\"colorbar\":{\"outlinewidth\":0,\"ticks\":\"\"}},\"type\":\"scatter3d\"}],\"scattercarpet\":[{\"marker\":{\"colorbar\":{\"outlinewidth\":0,\"ticks\":\"\"}},\"type\":\"scattercarpet\"}],\"scattergeo\":[{\"marker\":{\"colorbar\":{\"outlinewidth\":0,\"ticks\":\"\"}},\"type\":\"scattergeo\"}],\"scattergl\":[{\"marker\":{\"colorbar\":{\"outlinewidth\":0,\"ticks\":\"\"}},\"type\":\"scattergl\"}],\"scattermapbox\":[{\"marker\":{\"colorbar\":{\"outlinewidth\":0,\"ticks\":\"\"}},\"type\":\"scattermapbox\"}],\"scatterpolargl\":[{\"marker\":{\"colorbar\":{\"outlinewidth\":0,\"ticks\":\"\"}},\"type\":\"scatterpolargl\"}],\"scatterpolar\":[{\"marker\":{\"colorbar\":{\"outlinewidth\":0,\"ticks\":\"\"}},\"type\":\"scatterpolar\"}],\"scatter\":[{\"fillpattern\":{\"fillmode\":\"overlay\",\"size\":10,\"solidity\":0.2},\"type\":\"scatter\"}],\"scatterternary\":[{\"marker\":{\"colorbar\":{\"outlinewidth\":0,\"ticks\":\"\"}},\"type\":\"scatterternary\"}],\"surface\":[{\"colorbar\":{\"outlinewidth\":0,\"ticks\":\"\"},\"colorscale\":[[0.0,\"#0d0887\"],[0.1111111111111111,\"#46039f\"],[0.2222222222222222,\"#7201a8\"],[0.3333333333333333,\"#9c179e\"],[0.4444444444444444,\"#bd3786\"],[0.5555555555555556,\"#d8576b\"],[0.6666666666666666,\"#ed7953\"],[0.7777777777777778,\"#fb9f3a\"],[0.8888888888888888,\"#fdca26\"],[1.0,\"#f0f921\"]],\"type\":\"surface\"}],\"table\":[{\"cells\":{\"fill\":{\"color\":\"#EBF0F8\"},\"line\":{\"color\":\"white\"}},\"header\":{\"fill\":{\"color\":\"#C8D4E3\"},\"line\":{\"color\":\"white\"}},\"type\":\"table\"}]},\"layout\":{\"annotationdefaults\":{\"arrowcolor\":\"#2a3f5f\",\"arrowhead\":0,\"arrowwidth\":1},\"autotypenumbers\":\"strict\",\"coloraxis\":{\"colorbar\":{\"outlinewidth\":0,\"ticks\":\"\"}},\"colorscale\":{\"diverging\":[[0,\"#8e0152\"],[0.1,\"#c51b7d\"],[0.2,\"#de77ae\"],[0.3,\"#f1b6da\"],[0.4,\"#fde0ef\"],[0.5,\"#f7f7f7\"],[0.6,\"#e6f5d0\"],[0.7,\"#b8e186\"],[0.8,\"#7fbc41\"],[0.9,\"#4d9221\"],[1,\"#276419\"]],\"sequential\":[[0.0,\"#0d0887\"],[0.1111111111111111,\"#46039f\"],[0.2222222222222222,\"#7201a8\"],[0.3333333333333333,\"#9c179e\"],[0.4444444444444444,\"#bd3786\"],[0.5555555555555556,\"#d8576b\"],[0.6666666666666666,\"#ed7953\"],[0.7777777777777778,\"#fb9f3a\"],[0.8888888888888888,\"#fdca26\"],[1.0,\"#f0f921\"]],\"sequentialminus\":[[0.0,\"#0d0887\"],[0.1111111111111111,\"#46039f\"],[0.2222222222222222,\"#7201a8\"],[0.3333333333333333,\"#9c179e\"],[0.4444444444444444,\"#bd3786\"],[0.5555555555555556,\"#d8576b\"],[0.6666666666666666,\"#ed7953\"],[0.7777777777777778,\"#fb9f3a\"],[0.8888888888888888,\"#fdca26\"],[1.0,\"#f0f921\"]]},\"colorway\":[\"#636efa\",\"#EF553B\",\"#00cc96\",\"#ab63fa\",\"#FFA15A\",\"#19d3f3\",\"#FF6692\",\"#B6E880\",\"#FF97FF\",\"#FECB52\"],\"font\":{\"color\":\"#2a3f5f\"},\"geo\":{\"bgcolor\":\"white\",\"lakecolor\":\"white\",\"landcolor\":\"#E5ECF6\",\"showlakes\":true,\"showland\":true,\"subunitcolor\":\"white\"},\"hoverlabel\":{\"align\":\"left\"},\"hovermode\":\"closest\",\"mapbox\":{\"style\":\"light\"},\"paper_bgcolor\":\"white\",\"plot_bgcolor\":\"#E5ECF6\",\"polar\":{\"angularaxis\":{\"gridcolor\":\"white\",\"linecolor\":\"white\",\"ticks\":\"\"},\"bgcolor\":\"#E5ECF6\",\"radialaxis\":{\"gridcolor\":\"white\",\"linecolor\":\"white\",\"ticks\":\"\"}},\"scene\":{\"xaxis\":{\"backgroundcolor\":\"#E5ECF6\",\"gridcolor\":\"white\",\"gridwidth\":2,\"linecolor\":\"white\",\"showbackground\":true,\"ticks\":\"\",\"zerolinecolor\":\"white\"},\"yaxis\":{\"backgroundcolor\":\"#E5ECF6\",\"gridcolor\":\"white\",\"gridwidth\":2,\"linecolor\":\"white\",\"showbackground\":true,\"ticks\":\"\",\"zerolinecolor\":\"white\"},\"zaxis\":{\"backgroundcolor\":\"#E5ECF6\",\"gridcolor\":\"white\",\"gridwidth\":2,\"linecolor\":\"white\",\"showbackground\":true,\"ticks\":\"\",\"zerolinecolor\":\"white\"}},\"shapedefaults\":{\"line\":{\"color\":\"#2a3f5f\"}},\"ternary\":{\"aaxis\":{\"gridcolor\":\"white\",\"linecolor\":\"white\",\"ticks\":\"\"},\"baxis\":{\"gridcolor\":\"white\",\"linecolor\":\"white\",\"ticks\":\"\"},\"bgcolor\":\"#E5ECF6\",\"caxis\":{\"gridcolor\":\"white\",\"linecolor\":\"white\",\"ticks\":\"\"}},\"title\":{\"x\":0.05},\"xaxis\":{\"automargin\":true,\"gridcolor\":\"white\",\"linecolor\":\"white\",\"ticks\":\"\",\"title\":{\"standoff\":15},\"zerolinecolor\":\"white\",\"zerolinewidth\":2},\"yaxis\":{\"automargin\":true,\"gridcolor\":\"white\",\"linecolor\":\"white\",\"ticks\":\"\",\"title\":{\"standoff\":15},\"zerolinecolor\":\"white\",\"zerolinewidth\":2}}},\"title\":{\"text\":\"Ranking Of Top 10 Recommended Dramas For A User Based On Similarity: 3.5061 RMSE\"},\"xaxis\":{\"range\":[8,10],\"title\":{\"text\":\"Recommendation-Rating\"}},\"yaxis\":{\"title\":{\"text\":\"Drama\"}}},                        {\"responsive\": true}                    ).then(function(){\n",
       "                            \n",
       "var gd = document.getElementById('a8811899-59ab-4562-88ff-f6806ab99f2f');\n",
       "var x = new MutationObserver(function (mutations, observer) {{\n",
       "        var display = window.getComputedStyle(gd).display;\n",
       "        if (!display || display === 'none') {{\n",
       "            console.log([gd, 'removed!']);\n",
       "            Plotly.purge(gd);\n",
       "            observer.disconnect();\n",
       "        }}\n",
       "}});\n",
       "\n",
       "// Listen for the removal of the full notebook cells\n",
       "var notebookContainer = gd.closest('#notebook-container');\n",
       "if (notebookContainer) {{\n",
       "    x.observe(notebookContainer, {childList: true});\n",
       "}}\n",
       "\n",
       "// Listen for the clearing of the current output cell\n",
       "var outputEl = gd.closest('.output');\n",
       "if (outputEl) {{\n",
       "    x.observe(outputEl, {childList: true});\n",
       "}}\n",
       "\n",
       "                        })                };                });            </script>        </div>"
      ]
     },
     "metadata": {},
     "output_type": "display_data"
    }
   ],
   "source": [
    "# Create trace\n",
    "trace = go.Bar(x = best_drama_recommendations.iloc[:n_plot, 0],\n",
    "               text = best_drama_recommendations['Name'],\n",
    "               textposition = 'inside',\n",
    "               textfont = dict(color = '#000000'),\n",
    "               orientation = 'h',\n",
    "               y = list(range(1, n_plot+1)),\n",
    "               marker = dict(color = '#db0000'))\n",
    "# Create layout\n",
    "layout = dict(title = 'Ranking Of Top {} Recommended Dramas For A User Based On Similarity: {:.4f} RMSE'.format(n_plot, rmse),\n",
    "              xaxis = dict(title = 'Recommendation-Rating',\n",
    "                           range = (8, 10)),\n",
    "              yaxis = dict(title = 'Drama'))\n",
    "# Create plot\n",
    "fig = go.Figure(data=[trace], layout=layout)\n",
    "iplot(fig)"
   ]
  },
  {
   "cell_type": "code",
   "execution_count": 122,
   "id": "965f78e3",
   "metadata": {},
   "outputs": [
    {
     "data": {
      "text/html": [
       "<div>\n",
       "<style scoped>\n",
       "    .dataframe tbody tr th:only-of-type {\n",
       "        vertical-align: middle;\n",
       "    }\n",
       "\n",
       "    .dataframe tbody tr th {\n",
       "        vertical-align: top;\n",
       "    }\n",
       "\n",
       "    .dataframe thead th {\n",
       "        text-align: right;\n",
       "    }\n",
       "</style>\n",
       "<table border=\"1\" class=\"dataframe\">\n",
       "  <thead>\n",
       "    <tr style=\"text-align: right;\">\n",
       "      <th></th>\n",
       "      <th>Unnamed: 0</th>\n",
       "      <th>Name</th>\n",
       "      <th>category</th>\n",
       "      <th>country</th>\n",
       "      <th>num_episodes</th>\n",
       "      <th>aired</th>\n",
       "      <th>watchers</th>\n",
       "      <th>rating</th>\n",
       "      <th>num_raters</th>\n",
       "      <th>cast_names</th>\n",
       "      <th>genre_names</th>\n",
       "      <th>tag_names</th>\n",
       "      <th>synopsis</th>\n",
       "      <th>url</th>\n",
       "      <th>sid</th>\n",
       "      <th>num_reviews</th>\n",
       "    </tr>\n",
       "  </thead>\n",
       "  <tbody>\n",
       "    <tr>\n",
       "      <th>0</th>\n",
       "      <td>0</td>\n",
       "      <td>tunnel</td>\n",
       "      <td>Drama</td>\n",
       "      <td>South Korea</td>\n",
       "      <td>16.0</td>\n",
       "      <td>2017</td>\n",
       "      <td>32651</td>\n",
       "      <td>8.7</td>\n",
       "      <td>14787</td>\n",
       "      <td>Choi Jin Hyuk,Yoon Hyun Min,Lee Yoo Young,Jo H...</td>\n",
       "      <td>Thriller,Mystery,Sci-Fi,Fantasy</td>\n",
       "      <td>Time Travel,Murder,Criminal Profiler,Serial K...</td>\n",
       "      <td>In 1986, Park Gwang Ho works as an excellent a...</td>\n",
       "      <td>https://i.mydramalist.com/JkryYc.jpg?v=1</td>\n",
       "      <td>15673.0</td>\n",
       "      <td>4130.0</td>\n",
       "    </tr>\n",
       "    <tr>\n",
       "      <th>1</th>\n",
       "      <td>1</td>\n",
       "      <td>twenty-five twenty-one</td>\n",
       "      <td>Drama</td>\n",
       "      <td>South Korea</td>\n",
       "      <td>16.0</td>\n",
       "      <td>2022</td>\n",
       "      <td>16043</td>\n",
       "      <td>8.8</td>\n",
       "      <td>2119</td>\n",
       "      <td>Kim Tae Ri,Nam Joo Hyuk,Bona,Choi Hyun Wook,Le...</td>\n",
       "      <td>Romance,Life,Youth,Drama</td>\n",
       "      <td>Athlete,Fencing,1990s,Coming Of Age,Bold Fema...</td>\n",
       "      <td>The story is set in 1998 and tells the stories...</td>\n",
       "      <td>https://i.mydramalist.com/ROOPo_4c.jpg?v=1</td>\n",
       "      <td>40541.0</td>\n",
       "      <td>3731.0</td>\n",
       "    </tr>\n",
       "    <tr>\n",
       "      <th>2</th>\n",
       "      <td>2</td>\n",
       "      <td>dr. romantic season 2</td>\n",
       "      <td>Drama</td>\n",
       "      <td>South Korea</td>\n",
       "      <td>16.0</td>\n",
       "      <td>2020</td>\n",
       "      <td>31855</td>\n",
       "      <td>8.7</td>\n",
       "      <td>15880</td>\n",
       "      <td>Han Seok Kyu,Ahn Hyo Seop,Lee Sung Kyung,Kim J...</td>\n",
       "      <td>Romance,Drama,Medical,Melodrama</td>\n",
       "      <td>Hospital,Smart Male Lead,Character Developmen...</td>\n",
       "      <td>A real doctor story set in a small, humble h...</td>\n",
       "      <td>https://i.mydramalist.com/Rr7DEc.jpg?v=1</td>\n",
       "      <td>26981.0</td>\n",
       "      <td>4129.0</td>\n",
       "    </tr>\n",
       "    <tr>\n",
       "      <th>3</th>\n",
       "      <td>3</td>\n",
       "      <td>move to heaven</td>\n",
       "      <td>Drama</td>\n",
       "      <td>South Korea</td>\n",
       "      <td>10.0</td>\n",
       "      <td>2021</td>\n",
       "      <td>40962</td>\n",
       "      <td>9.2</td>\n",
       "      <td>20399</td>\n",
       "      <td>Lee Je Hoon,Tang Jun Sang,Hong Seung Hee,Jung ...</td>\n",
       "      <td>Life,Drama,Family</td>\n",
       "      <td>Autism,Uncle-Nephew Relationship,Death,Savant...</td>\n",
       "      <td>Geu Roo is a young autistic man. He works for ...</td>\n",
       "      <td>https://i.mydramalist.com/Rle36_4c.jpg?v=1</td>\n",
       "      <td>29419.0</td>\n",
       "      <td>3911.0</td>\n",
       "    </tr>\n",
       "    <tr>\n",
       "      <th>4</th>\n",
       "      <td>4</td>\n",
       "      <td>the king’s avatar</td>\n",
       "      <td>Drama</td>\n",
       "      <td>China</td>\n",
       "      <td>40.0</td>\n",
       "      <td>2019</td>\n",
       "      <td>24236</td>\n",
       "      <td>8.6</td>\n",
       "      <td>8734</td>\n",
       "      <td>Yang Yang,Jiang Shu Ying,Lai Yu Meng,Daisy Li,...</td>\n",
       "      <td>Action,Friendship,Youth,Sports</td>\n",
       "      <td>Online Gaming,Strong Friendship,Smart Male Le...</td>\n",
       "      <td>In the multiplayer online game Glory, Ye Xiu i...</td>\n",
       "      <td>https://i.mydramalist.com/2O0xEc.jpg?v=1</td>\n",
       "      <td>17517.0</td>\n",
       "      <td>2029.0</td>\n",
       "    </tr>\n",
       "  </tbody>\n",
       "</table>\n",
       "</div>"
      ],
      "text/plain": [
       "   Unnamed: 0                    Name category      country  num_episodes  \\\n",
       "0           0                  tunnel    Drama  South Korea          16.0   \n",
       "1           1  twenty-five twenty-one    Drama  South Korea          16.0   \n",
       "2           2   dr. romantic season 2    Drama  South Korea          16.0   \n",
       "3           3          move to heaven    Drama  South Korea          10.0   \n",
       "4           4       the king’s avatar    Drama        China          40.0   \n",
       "\n",
       "   aired  watchers  rating  num_raters  \\\n",
       "0   2017     32651     8.7       14787   \n",
       "1   2022     16043     8.8        2119   \n",
       "2   2020     31855     8.7       15880   \n",
       "3   2021     40962     9.2       20399   \n",
       "4   2019     24236     8.6        8734   \n",
       "\n",
       "                                          cast_names  \\\n",
       "0  Choi Jin Hyuk,Yoon Hyun Min,Lee Yoo Young,Jo H...   \n",
       "1  Kim Tae Ri,Nam Joo Hyuk,Bona,Choi Hyun Wook,Le...   \n",
       "2  Han Seok Kyu,Ahn Hyo Seop,Lee Sung Kyung,Kim J...   \n",
       "3  Lee Je Hoon,Tang Jun Sang,Hong Seung Hee,Jung ...   \n",
       "4  Yang Yang,Jiang Shu Ying,Lai Yu Meng,Daisy Li,...   \n",
       "\n",
       "                        genre_names  \\\n",
       "0  Thriller,Mystery,Sci-Fi,Fantasy    \n",
       "1         Romance,Life,Youth,Drama    \n",
       "2  Romance,Drama,Medical,Melodrama    \n",
       "3                Life,Drama,Family    \n",
       "4   Action,Friendship,Youth,Sports    \n",
       "\n",
       "                                           tag_names  \\\n",
       "0   Time Travel,Murder,Criminal Profiler,Serial K...   \n",
       "1   Athlete,Fencing,1990s,Coming Of Age,Bold Fema...   \n",
       "2   Hospital,Smart Male Lead,Character Developmen...   \n",
       "3   Autism,Uncle-Nephew Relationship,Death,Savant...   \n",
       "4   Online Gaming,Strong Friendship,Smart Male Le...   \n",
       "\n",
       "                                            synopsis  \\\n",
       "0  In 1986, Park Gwang Ho works as an excellent a...   \n",
       "1  The story is set in 1998 and tells the stories...   \n",
       "2  A real doctor story set in a small, humble h...   \n",
       "3  Geu Roo is a young autistic man. He works for ...   \n",
       "4  In the multiplayer online game Glory, Ye Xiu i...   \n",
       "\n",
       "                                          url      sid  num_reviews  \n",
       "0    https://i.mydramalist.com/JkryYc.jpg?v=1  15673.0       4130.0  \n",
       "1  https://i.mydramalist.com/ROOPo_4c.jpg?v=1  40541.0       3731.0  \n",
       "2    https://i.mydramalist.com/Rr7DEc.jpg?v=1  26981.0       4129.0  \n",
       "3  https://i.mydramalist.com/Rle36_4c.jpg?v=1  29419.0       3911.0  \n",
       "4    https://i.mydramalist.com/2O0xEc.jpg?v=1  17517.0       2029.0  "
      ]
     },
     "execution_count": 122,
     "metadata": {},
     "output_type": "execute_result"
    }
   ],
   "source": [
    "## TFIDF based on tags? \n",
    "df_use.head()"
   ]
  },
  {
   "cell_type": "code",
   "execution_count": 123,
   "id": "6e53bdb6",
   "metadata": {},
   "outputs": [],
   "source": [
    "# maybe try combining genre and tag columns? maybe just try with tag_names first, then see if combining helps "
   ]
  },
  {
   "cell_type": "code",
   "execution_count": 124,
   "id": "121b5d75",
   "metadata": {},
   "outputs": [
    {
     "data": {
      "text/html": [
       "<div>\n",
       "<style scoped>\n",
       "    .dataframe tbody tr th:only-of-type {\n",
       "        vertical-align: middle;\n",
       "    }\n",
       "\n",
       "    .dataframe tbody tr th {\n",
       "        vertical-align: top;\n",
       "    }\n",
       "\n",
       "    .dataframe thead th {\n",
       "        text-align: right;\n",
       "    }\n",
       "</style>\n",
       "<table border=\"1\" class=\"dataframe\">\n",
       "  <thead>\n",
       "    <tr style=\"text-align: right;\">\n",
       "      <th></th>\n",
       "      <th>tag_names</th>\n",
       "    </tr>\n",
       "    <tr>\n",
       "      <th>Name</th>\n",
       "      <th></th>\n",
       "    </tr>\n",
       "  </thead>\n",
       "  <tbody>\n",
       "    <tr>\n",
       "      <th>tunnel</th>\n",
       "      <td>Time Travel,Murder,Criminal Profiler,Serial K...</td>\n",
       "    </tr>\n",
       "    <tr>\n",
       "      <th>twenty-five twenty-one</th>\n",
       "      <td>Athlete,Fencing,1990s,Coming Of Age,Bold Fema...</td>\n",
       "    </tr>\n",
       "    <tr>\n",
       "      <th>dr. romantic season 2</th>\n",
       "      <td>Hospital,Smart Male Lead,Character Developmen...</td>\n",
       "    </tr>\n",
       "    <tr>\n",
       "      <th>move to heaven</th>\n",
       "      <td>Autism,Uncle-Nephew Relationship,Death,Savant...</td>\n",
       "    </tr>\n",
       "    <tr>\n",
       "      <th>the king’s avatar</th>\n",
       "      <td>Online Gaming,Strong Friendship,Smart Male Le...</td>\n",
       "    </tr>\n",
       "  </tbody>\n",
       "</table>\n",
       "</div>"
      ],
      "text/plain": [
       "                                                                tag_names\n",
       "Name                                                                     \n",
       "tunnel                   Time Travel,Murder,Criminal Profiler,Serial K...\n",
       "twenty-five twenty-one   Athlete,Fencing,1990s,Coming Of Age,Bold Fema...\n",
       "dr. romantic season 2    Hospital,Smart Male Lead,Character Developmen...\n",
       "move to heaven           Autism,Uncle-Nephew Relationship,Death,Savant...\n",
       "the king’s avatar        Online Gaming,Strong Friendship,Smart Male Le..."
      ]
     },
     "execution_count": 124,
     "metadata": {},
     "output_type": "execute_result"
    }
   ],
   "source": [
    "df_tags = df_use[['Name','tag_names']]\n",
    "df_tags.set_index('Name', inplace=True)\n",
    "df_tags.head()"
   ]
  },
  {
   "cell_type": "code",
   "execution_count": 125,
   "id": "a40252d5",
   "metadata": {},
   "outputs": [
    {
     "data": {
      "text/html": [
       "<div>\n",
       "<style scoped>\n",
       "    .dataframe tbody tr th:only-of-type {\n",
       "        vertical-align: middle;\n",
       "    }\n",
       "\n",
       "    .dataframe tbody tr th {\n",
       "        vertical-align: top;\n",
       "    }\n",
       "\n",
       "    .dataframe thead th {\n",
       "        text-align: right;\n",
       "    }\n",
       "</style>\n",
       "<table border=\"1\" class=\"dataframe\">\n",
       "  <thead>\n",
       "    <tr style=\"text-align: right;\">\n",
       "      <th></th>\n",
       "      <th>tag_names</th>\n",
       "    </tr>\n",
       "    <tr>\n",
       "      <th>Name</th>\n",
       "      <th></th>\n",
       "    </tr>\n",
       "  </thead>\n",
       "  <tbody>\n",
       "    <tr>\n",
       "      <th>semantic error</th>\n",
       "      <td>LGBTQ+,Student,Opposites Attract,University,G...</td>\n",
       "    </tr>\n",
       "  </tbody>\n",
       "</table>\n",
       "</div>"
      ],
      "text/plain": [
       "                                                        tag_names\n",
       "Name                                                             \n",
       "semantic error   LGBTQ+,Student,Opposites Attract,University,G..."
      ]
     },
     "execution_count": 125,
     "metadata": {},
     "output_type": "execute_result"
    }
   ],
   "source": [
    "df_tags[df_tags.index==\"semantic error\"]"
   ]
  },
  {
   "cell_type": "code",
   "execution_count": 126,
   "id": "bc2a3604",
   "metadata": {},
   "outputs": [
    {
     "data": {
      "application/vnd.plotly.v1+json": {
       "config": {
        "linkText": "Export to plot.ly",
        "plotlyServerURL": "https://plot.ly",
        "showLink": false
       },
       "data": [
        {
         "marker": {
          "color": "#db0000"
         },
         "orientation": "h",
         "text": [
          "like love",
          "sotus",
          "kiss",
          "my gear and your gown",
          "in your heart",
          "sotus s",
          "cry me a river of stars",
          "together with me: the next chapter",
          "love by chance 2: a chance to love",
          "influencers"
         ],
         "textfont": {
          "color": "#000000"
         },
         "textposition": "inside",
         "type": "bar",
         "x": [
          0.4698756934541386,
          0.4541859087009948,
          0.422542625793828,
          0.4188822372321688,
          0.41880877572627956,
          0.40704896816529806,
          0.4065646775416272,
          0.40118128169113093,
          0.39706575049647713,
          0.39028812945766245
         ],
         "y": [
          1,
          2,
          3,
          4,
          5,
          6,
          7,
          8,
          9,
          10
         ]
        }
       ],
       "layout": {
        "template": {
         "data": {
          "bar": [
           {
            "error_x": {
             "color": "#2a3f5f"
            },
            "error_y": {
             "color": "#2a3f5f"
            },
            "marker": {
             "line": {
              "color": "#E5ECF6",
              "width": 0.5
             },
             "pattern": {
              "fillmode": "overlay",
              "size": 10,
              "solidity": 0.2
             }
            },
            "type": "bar"
           }
          ],
          "barpolar": [
           {
            "marker": {
             "line": {
              "color": "#E5ECF6",
              "width": 0.5
             },
             "pattern": {
              "fillmode": "overlay",
              "size": 10,
              "solidity": 0.2
             }
            },
            "type": "barpolar"
           }
          ],
          "carpet": [
           {
            "aaxis": {
             "endlinecolor": "#2a3f5f",
             "gridcolor": "white",
             "linecolor": "white",
             "minorgridcolor": "white",
             "startlinecolor": "#2a3f5f"
            },
            "baxis": {
             "endlinecolor": "#2a3f5f",
             "gridcolor": "white",
             "linecolor": "white",
             "minorgridcolor": "white",
             "startlinecolor": "#2a3f5f"
            },
            "type": "carpet"
           }
          ],
          "choropleth": [
           {
            "colorbar": {
             "outlinewidth": 0,
             "ticks": ""
            },
            "type": "choropleth"
           }
          ],
          "contour": [
           {
            "colorbar": {
             "outlinewidth": 0,
             "ticks": ""
            },
            "colorscale": [
             [
              0,
              "#0d0887"
             ],
             [
              0.1111111111111111,
              "#46039f"
             ],
             [
              0.2222222222222222,
              "#7201a8"
             ],
             [
              0.3333333333333333,
              "#9c179e"
             ],
             [
              0.4444444444444444,
              "#bd3786"
             ],
             [
              0.5555555555555556,
              "#d8576b"
             ],
             [
              0.6666666666666666,
              "#ed7953"
             ],
             [
              0.7777777777777778,
              "#fb9f3a"
             ],
             [
              0.8888888888888888,
              "#fdca26"
             ],
             [
              1,
              "#f0f921"
             ]
            ],
            "type": "contour"
           }
          ],
          "contourcarpet": [
           {
            "colorbar": {
             "outlinewidth": 0,
             "ticks": ""
            },
            "type": "contourcarpet"
           }
          ],
          "heatmap": [
           {
            "colorbar": {
             "outlinewidth": 0,
             "ticks": ""
            },
            "colorscale": [
             [
              0,
              "#0d0887"
             ],
             [
              0.1111111111111111,
              "#46039f"
             ],
             [
              0.2222222222222222,
              "#7201a8"
             ],
             [
              0.3333333333333333,
              "#9c179e"
             ],
             [
              0.4444444444444444,
              "#bd3786"
             ],
             [
              0.5555555555555556,
              "#d8576b"
             ],
             [
              0.6666666666666666,
              "#ed7953"
             ],
             [
              0.7777777777777778,
              "#fb9f3a"
             ],
             [
              0.8888888888888888,
              "#fdca26"
             ],
             [
              1,
              "#f0f921"
             ]
            ],
            "type": "heatmap"
           }
          ],
          "heatmapgl": [
           {
            "colorbar": {
             "outlinewidth": 0,
             "ticks": ""
            },
            "colorscale": [
             [
              0,
              "#0d0887"
             ],
             [
              0.1111111111111111,
              "#46039f"
             ],
             [
              0.2222222222222222,
              "#7201a8"
             ],
             [
              0.3333333333333333,
              "#9c179e"
             ],
             [
              0.4444444444444444,
              "#bd3786"
             ],
             [
              0.5555555555555556,
              "#d8576b"
             ],
             [
              0.6666666666666666,
              "#ed7953"
             ],
             [
              0.7777777777777778,
              "#fb9f3a"
             ],
             [
              0.8888888888888888,
              "#fdca26"
             ],
             [
              1,
              "#f0f921"
             ]
            ],
            "type": "heatmapgl"
           }
          ],
          "histogram": [
           {
            "marker": {
             "pattern": {
              "fillmode": "overlay",
              "size": 10,
              "solidity": 0.2
             }
            },
            "type": "histogram"
           }
          ],
          "histogram2d": [
           {
            "colorbar": {
             "outlinewidth": 0,
             "ticks": ""
            },
            "colorscale": [
             [
              0,
              "#0d0887"
             ],
             [
              0.1111111111111111,
              "#46039f"
             ],
             [
              0.2222222222222222,
              "#7201a8"
             ],
             [
              0.3333333333333333,
              "#9c179e"
             ],
             [
              0.4444444444444444,
              "#bd3786"
             ],
             [
              0.5555555555555556,
              "#d8576b"
             ],
             [
              0.6666666666666666,
              "#ed7953"
             ],
             [
              0.7777777777777778,
              "#fb9f3a"
             ],
             [
              0.8888888888888888,
              "#fdca26"
             ],
             [
              1,
              "#f0f921"
             ]
            ],
            "type": "histogram2d"
           }
          ],
          "histogram2dcontour": [
           {
            "colorbar": {
             "outlinewidth": 0,
             "ticks": ""
            },
            "colorscale": [
             [
              0,
              "#0d0887"
             ],
             [
              0.1111111111111111,
              "#46039f"
             ],
             [
              0.2222222222222222,
              "#7201a8"
             ],
             [
              0.3333333333333333,
              "#9c179e"
             ],
             [
              0.4444444444444444,
              "#bd3786"
             ],
             [
              0.5555555555555556,
              "#d8576b"
             ],
             [
              0.6666666666666666,
              "#ed7953"
             ],
             [
              0.7777777777777778,
              "#fb9f3a"
             ],
             [
              0.8888888888888888,
              "#fdca26"
             ],
             [
              1,
              "#f0f921"
             ]
            ],
            "type": "histogram2dcontour"
           }
          ],
          "mesh3d": [
           {
            "colorbar": {
             "outlinewidth": 0,
             "ticks": ""
            },
            "type": "mesh3d"
           }
          ],
          "parcoords": [
           {
            "line": {
             "colorbar": {
              "outlinewidth": 0,
              "ticks": ""
             }
            },
            "type": "parcoords"
           }
          ],
          "pie": [
           {
            "automargin": true,
            "type": "pie"
           }
          ],
          "scatter": [
           {
            "fillpattern": {
             "fillmode": "overlay",
             "size": 10,
             "solidity": 0.2
            },
            "type": "scatter"
           }
          ],
          "scatter3d": [
           {
            "line": {
             "colorbar": {
              "outlinewidth": 0,
              "ticks": ""
             }
            },
            "marker": {
             "colorbar": {
              "outlinewidth": 0,
              "ticks": ""
             }
            },
            "type": "scatter3d"
           }
          ],
          "scattercarpet": [
           {
            "marker": {
             "colorbar": {
              "outlinewidth": 0,
              "ticks": ""
             }
            },
            "type": "scattercarpet"
           }
          ],
          "scattergeo": [
           {
            "marker": {
             "colorbar": {
              "outlinewidth": 0,
              "ticks": ""
             }
            },
            "type": "scattergeo"
           }
          ],
          "scattergl": [
           {
            "marker": {
             "colorbar": {
              "outlinewidth": 0,
              "ticks": ""
             }
            },
            "type": "scattergl"
           }
          ],
          "scattermapbox": [
           {
            "marker": {
             "colorbar": {
              "outlinewidth": 0,
              "ticks": ""
             }
            },
            "type": "scattermapbox"
           }
          ],
          "scatterpolar": [
           {
            "marker": {
             "colorbar": {
              "outlinewidth": 0,
              "ticks": ""
             }
            },
            "type": "scatterpolar"
           }
          ],
          "scatterpolargl": [
           {
            "marker": {
             "colorbar": {
              "outlinewidth": 0,
              "ticks": ""
             }
            },
            "type": "scatterpolargl"
           }
          ],
          "scatterternary": [
           {
            "marker": {
             "colorbar": {
              "outlinewidth": 0,
              "ticks": ""
             }
            },
            "type": "scatterternary"
           }
          ],
          "surface": [
           {
            "colorbar": {
             "outlinewidth": 0,
             "ticks": ""
            },
            "colorscale": [
             [
              0,
              "#0d0887"
             ],
             [
              0.1111111111111111,
              "#46039f"
             ],
             [
              0.2222222222222222,
              "#7201a8"
             ],
             [
              0.3333333333333333,
              "#9c179e"
             ],
             [
              0.4444444444444444,
              "#bd3786"
             ],
             [
              0.5555555555555556,
              "#d8576b"
             ],
             [
              0.6666666666666666,
              "#ed7953"
             ],
             [
              0.7777777777777778,
              "#fb9f3a"
             ],
             [
              0.8888888888888888,
              "#fdca26"
             ],
             [
              1,
              "#f0f921"
             ]
            ],
            "type": "surface"
           }
          ],
          "table": [
           {
            "cells": {
             "fill": {
              "color": "#EBF0F8"
             },
             "line": {
              "color": "white"
             }
            },
            "header": {
             "fill": {
              "color": "#C8D4E3"
             },
             "line": {
              "color": "white"
             }
            },
            "type": "table"
           }
          ]
         },
         "layout": {
          "annotationdefaults": {
           "arrowcolor": "#2a3f5f",
           "arrowhead": 0,
           "arrowwidth": 1
          },
          "autotypenumbers": "strict",
          "coloraxis": {
           "colorbar": {
            "outlinewidth": 0,
            "ticks": ""
           }
          },
          "colorscale": {
           "diverging": [
            [
             0,
             "#8e0152"
            ],
            [
             0.1,
             "#c51b7d"
            ],
            [
             0.2,
             "#de77ae"
            ],
            [
             0.3,
             "#f1b6da"
            ],
            [
             0.4,
             "#fde0ef"
            ],
            [
             0.5,
             "#f7f7f7"
            ],
            [
             0.6,
             "#e6f5d0"
            ],
            [
             0.7,
             "#b8e186"
            ],
            [
             0.8,
             "#7fbc41"
            ],
            [
             0.9,
             "#4d9221"
            ],
            [
             1,
             "#276419"
            ]
           ],
           "sequential": [
            [
             0,
             "#0d0887"
            ],
            [
             0.1111111111111111,
             "#46039f"
            ],
            [
             0.2222222222222222,
             "#7201a8"
            ],
            [
             0.3333333333333333,
             "#9c179e"
            ],
            [
             0.4444444444444444,
             "#bd3786"
            ],
            [
             0.5555555555555556,
             "#d8576b"
            ],
            [
             0.6666666666666666,
             "#ed7953"
            ],
            [
             0.7777777777777778,
             "#fb9f3a"
            ],
            [
             0.8888888888888888,
             "#fdca26"
            ],
            [
             1,
             "#f0f921"
            ]
           ],
           "sequentialminus": [
            [
             0,
             "#0d0887"
            ],
            [
             0.1111111111111111,
             "#46039f"
            ],
            [
             0.2222222222222222,
             "#7201a8"
            ],
            [
             0.3333333333333333,
             "#9c179e"
            ],
            [
             0.4444444444444444,
             "#bd3786"
            ],
            [
             0.5555555555555556,
             "#d8576b"
            ],
            [
             0.6666666666666666,
             "#ed7953"
            ],
            [
             0.7777777777777778,
             "#fb9f3a"
            ],
            [
             0.8888888888888888,
             "#fdca26"
            ],
            [
             1,
             "#f0f921"
            ]
           ]
          },
          "colorway": [
           "#636efa",
           "#EF553B",
           "#00cc96",
           "#ab63fa",
           "#FFA15A",
           "#19d3f3",
           "#FF6692",
           "#B6E880",
           "#FF97FF",
           "#FECB52"
          ],
          "font": {
           "color": "#2a3f5f"
          },
          "geo": {
           "bgcolor": "white",
           "lakecolor": "white",
           "landcolor": "#E5ECF6",
           "showlakes": true,
           "showland": true,
           "subunitcolor": "white"
          },
          "hoverlabel": {
           "align": "left"
          },
          "hovermode": "closest",
          "mapbox": {
           "style": "light"
          },
          "paper_bgcolor": "white",
          "plot_bgcolor": "#E5ECF6",
          "polar": {
           "angularaxis": {
            "gridcolor": "white",
            "linecolor": "white",
            "ticks": ""
           },
           "bgcolor": "#E5ECF6",
           "radialaxis": {
            "gridcolor": "white",
            "linecolor": "white",
            "ticks": ""
           }
          },
          "scene": {
           "xaxis": {
            "backgroundcolor": "#E5ECF6",
            "gridcolor": "white",
            "gridwidth": 2,
            "linecolor": "white",
            "showbackground": true,
            "ticks": "",
            "zerolinecolor": "white"
           },
           "yaxis": {
            "backgroundcolor": "#E5ECF6",
            "gridcolor": "white",
            "gridwidth": 2,
            "linecolor": "white",
            "showbackground": true,
            "ticks": "",
            "zerolinecolor": "white"
           },
           "zaxis": {
            "backgroundcolor": "#E5ECF6",
            "gridcolor": "white",
            "gridwidth": 2,
            "linecolor": "white",
            "showbackground": true,
            "ticks": "",
            "zerolinecolor": "white"
           }
          },
          "shapedefaults": {
           "line": {
            "color": "#2a3f5f"
           }
          },
          "ternary": {
           "aaxis": {
            "gridcolor": "white",
            "linecolor": "white",
            "ticks": ""
           },
           "baxis": {
            "gridcolor": "white",
            "linecolor": "white",
            "ticks": ""
           },
           "bgcolor": "#E5ECF6",
           "caxis": {
            "gridcolor": "white",
            "linecolor": "white",
            "ticks": ""
           }
          },
          "title": {
           "x": 0.05
          },
          "xaxis": {
           "automargin": true,
           "gridcolor": "white",
           "linecolor": "white",
           "ticks": "",
           "title": {
            "standoff": 15
           },
           "zerolinecolor": "white",
           "zerolinewidth": 2
          },
          "yaxis": {
           "automargin": true,
           "gridcolor": "white",
           "linecolor": "white",
           "ticks": "",
           "title": {
            "standoff": 15
           },
           "zerolinecolor": "white",
           "zerolinewidth": 2
          }
         }
        },
        "title": {
         "text": "Ranking Of Top 10 Most Similar Drama Descriptions For \"semantic error\""
        },
        "xaxis": {
         "title": {
          "text": "Cosine TFIDF Description Similarity"
         }
        },
        "yaxis": {
         "title": {
          "text": "Drama"
         }
        }
       }
      },
      "text/html": [
       "<div>                            <div id=\"fa548a51-444a-4832-b7a8-f445ae021d32\" class=\"plotly-graph-div\" style=\"height:525px; width:100%;\"></div>            <script type=\"text/javascript\">                require([\"plotly\"], function(Plotly) {                    window.PLOTLYENV=window.PLOTLYENV || {};                                    if (document.getElementById(\"fa548a51-444a-4832-b7a8-f445ae021d32\")) {                    Plotly.newPlot(                        \"fa548a51-444a-4832-b7a8-f445ae021d32\",                        [{\"marker\":{\"color\":\"#db0000\"},\"orientation\":\"h\",\"text\":[\"like love\",\"sotus\",\"kiss\",\"my gear and your gown\",\"in your heart\",\"sotus s\",\"cry me a river of stars\",\"together with me: the next chapter\",\"love by chance 2: a chance to love\",\"influencers\"],\"textfont\":{\"color\":\"#000000\"},\"textposition\":\"inside\",\"x\":[0.4698756934541386,0.4541859087009948,0.422542625793828,0.4188822372321688,0.41880877572627956,0.40704896816529806,0.4065646775416272,0.40118128169113093,0.39706575049647713,0.39028812945766245],\"y\":[1,2,3,4,5,6,7,8,9,10],\"type\":\"bar\"}],                        {\"template\":{\"data\":{\"barpolar\":[{\"marker\":{\"line\":{\"color\":\"#E5ECF6\",\"width\":0.5},\"pattern\":{\"fillmode\":\"overlay\",\"size\":10,\"solidity\":0.2}},\"type\":\"barpolar\"}],\"bar\":[{\"error_x\":{\"color\":\"#2a3f5f\"},\"error_y\":{\"color\":\"#2a3f5f\"},\"marker\":{\"line\":{\"color\":\"#E5ECF6\",\"width\":0.5},\"pattern\":{\"fillmode\":\"overlay\",\"size\":10,\"solidity\":0.2}},\"type\":\"bar\"}],\"carpet\":[{\"aaxis\":{\"endlinecolor\":\"#2a3f5f\",\"gridcolor\":\"white\",\"linecolor\":\"white\",\"minorgridcolor\":\"white\",\"startlinecolor\":\"#2a3f5f\"},\"baxis\":{\"endlinecolor\":\"#2a3f5f\",\"gridcolor\":\"white\",\"linecolor\":\"white\",\"minorgridcolor\":\"white\",\"startlinecolor\":\"#2a3f5f\"},\"type\":\"carpet\"}],\"choropleth\":[{\"colorbar\":{\"outlinewidth\":0,\"ticks\":\"\"},\"type\":\"choropleth\"}],\"contourcarpet\":[{\"colorbar\":{\"outlinewidth\":0,\"ticks\":\"\"},\"type\":\"contourcarpet\"}],\"contour\":[{\"colorbar\":{\"outlinewidth\":0,\"ticks\":\"\"},\"colorscale\":[[0.0,\"#0d0887\"],[0.1111111111111111,\"#46039f\"],[0.2222222222222222,\"#7201a8\"],[0.3333333333333333,\"#9c179e\"],[0.4444444444444444,\"#bd3786\"],[0.5555555555555556,\"#d8576b\"],[0.6666666666666666,\"#ed7953\"],[0.7777777777777778,\"#fb9f3a\"],[0.8888888888888888,\"#fdca26\"],[1.0,\"#f0f921\"]],\"type\":\"contour\"}],\"heatmapgl\":[{\"colorbar\":{\"outlinewidth\":0,\"ticks\":\"\"},\"colorscale\":[[0.0,\"#0d0887\"],[0.1111111111111111,\"#46039f\"],[0.2222222222222222,\"#7201a8\"],[0.3333333333333333,\"#9c179e\"],[0.4444444444444444,\"#bd3786\"],[0.5555555555555556,\"#d8576b\"],[0.6666666666666666,\"#ed7953\"],[0.7777777777777778,\"#fb9f3a\"],[0.8888888888888888,\"#fdca26\"],[1.0,\"#f0f921\"]],\"type\":\"heatmapgl\"}],\"heatmap\":[{\"colorbar\":{\"outlinewidth\":0,\"ticks\":\"\"},\"colorscale\":[[0.0,\"#0d0887\"],[0.1111111111111111,\"#46039f\"],[0.2222222222222222,\"#7201a8\"],[0.3333333333333333,\"#9c179e\"],[0.4444444444444444,\"#bd3786\"],[0.5555555555555556,\"#d8576b\"],[0.6666666666666666,\"#ed7953\"],[0.7777777777777778,\"#fb9f3a\"],[0.8888888888888888,\"#fdca26\"],[1.0,\"#f0f921\"]],\"type\":\"heatmap\"}],\"histogram2dcontour\":[{\"colorbar\":{\"outlinewidth\":0,\"ticks\":\"\"},\"colorscale\":[[0.0,\"#0d0887\"],[0.1111111111111111,\"#46039f\"],[0.2222222222222222,\"#7201a8\"],[0.3333333333333333,\"#9c179e\"],[0.4444444444444444,\"#bd3786\"],[0.5555555555555556,\"#d8576b\"],[0.6666666666666666,\"#ed7953\"],[0.7777777777777778,\"#fb9f3a\"],[0.8888888888888888,\"#fdca26\"],[1.0,\"#f0f921\"]],\"type\":\"histogram2dcontour\"}],\"histogram2d\":[{\"colorbar\":{\"outlinewidth\":0,\"ticks\":\"\"},\"colorscale\":[[0.0,\"#0d0887\"],[0.1111111111111111,\"#46039f\"],[0.2222222222222222,\"#7201a8\"],[0.3333333333333333,\"#9c179e\"],[0.4444444444444444,\"#bd3786\"],[0.5555555555555556,\"#d8576b\"],[0.6666666666666666,\"#ed7953\"],[0.7777777777777778,\"#fb9f3a\"],[0.8888888888888888,\"#fdca26\"],[1.0,\"#f0f921\"]],\"type\":\"histogram2d\"}],\"histogram\":[{\"marker\":{\"pattern\":{\"fillmode\":\"overlay\",\"size\":10,\"solidity\":0.2}},\"type\":\"histogram\"}],\"mesh3d\":[{\"colorbar\":{\"outlinewidth\":0,\"ticks\":\"\"},\"type\":\"mesh3d\"}],\"parcoords\":[{\"line\":{\"colorbar\":{\"outlinewidth\":0,\"ticks\":\"\"}},\"type\":\"parcoords\"}],\"pie\":[{\"automargin\":true,\"type\":\"pie\"}],\"scatter3d\":[{\"line\":{\"colorbar\":{\"outlinewidth\":0,\"ticks\":\"\"}},\"marker\":{\"colorbar\":{\"outlinewidth\":0,\"ticks\":\"\"}},\"type\":\"scatter3d\"}],\"scattercarpet\":[{\"marker\":{\"colorbar\":{\"outlinewidth\":0,\"ticks\":\"\"}},\"type\":\"scattercarpet\"}],\"scattergeo\":[{\"marker\":{\"colorbar\":{\"outlinewidth\":0,\"ticks\":\"\"}},\"type\":\"scattergeo\"}],\"scattergl\":[{\"marker\":{\"colorbar\":{\"outlinewidth\":0,\"ticks\":\"\"}},\"type\":\"scattergl\"}],\"scattermapbox\":[{\"marker\":{\"colorbar\":{\"outlinewidth\":0,\"ticks\":\"\"}},\"type\":\"scattermapbox\"}],\"scatterpolargl\":[{\"marker\":{\"colorbar\":{\"outlinewidth\":0,\"ticks\":\"\"}},\"type\":\"scatterpolargl\"}],\"scatterpolar\":[{\"marker\":{\"colorbar\":{\"outlinewidth\":0,\"ticks\":\"\"}},\"type\":\"scatterpolar\"}],\"scatter\":[{\"fillpattern\":{\"fillmode\":\"overlay\",\"size\":10,\"solidity\":0.2},\"type\":\"scatter\"}],\"scatterternary\":[{\"marker\":{\"colorbar\":{\"outlinewidth\":0,\"ticks\":\"\"}},\"type\":\"scatterternary\"}],\"surface\":[{\"colorbar\":{\"outlinewidth\":0,\"ticks\":\"\"},\"colorscale\":[[0.0,\"#0d0887\"],[0.1111111111111111,\"#46039f\"],[0.2222222222222222,\"#7201a8\"],[0.3333333333333333,\"#9c179e\"],[0.4444444444444444,\"#bd3786\"],[0.5555555555555556,\"#d8576b\"],[0.6666666666666666,\"#ed7953\"],[0.7777777777777778,\"#fb9f3a\"],[0.8888888888888888,\"#fdca26\"],[1.0,\"#f0f921\"]],\"type\":\"surface\"}],\"table\":[{\"cells\":{\"fill\":{\"color\":\"#EBF0F8\"},\"line\":{\"color\":\"white\"}},\"header\":{\"fill\":{\"color\":\"#C8D4E3\"},\"line\":{\"color\":\"white\"}},\"type\":\"table\"}]},\"layout\":{\"annotationdefaults\":{\"arrowcolor\":\"#2a3f5f\",\"arrowhead\":0,\"arrowwidth\":1},\"autotypenumbers\":\"strict\",\"coloraxis\":{\"colorbar\":{\"outlinewidth\":0,\"ticks\":\"\"}},\"colorscale\":{\"diverging\":[[0,\"#8e0152\"],[0.1,\"#c51b7d\"],[0.2,\"#de77ae\"],[0.3,\"#f1b6da\"],[0.4,\"#fde0ef\"],[0.5,\"#f7f7f7\"],[0.6,\"#e6f5d0\"],[0.7,\"#b8e186\"],[0.8,\"#7fbc41\"],[0.9,\"#4d9221\"],[1,\"#276419\"]],\"sequential\":[[0.0,\"#0d0887\"],[0.1111111111111111,\"#46039f\"],[0.2222222222222222,\"#7201a8\"],[0.3333333333333333,\"#9c179e\"],[0.4444444444444444,\"#bd3786\"],[0.5555555555555556,\"#d8576b\"],[0.6666666666666666,\"#ed7953\"],[0.7777777777777778,\"#fb9f3a\"],[0.8888888888888888,\"#fdca26\"],[1.0,\"#f0f921\"]],\"sequentialminus\":[[0.0,\"#0d0887\"],[0.1111111111111111,\"#46039f\"],[0.2222222222222222,\"#7201a8\"],[0.3333333333333333,\"#9c179e\"],[0.4444444444444444,\"#bd3786\"],[0.5555555555555556,\"#d8576b\"],[0.6666666666666666,\"#ed7953\"],[0.7777777777777778,\"#fb9f3a\"],[0.8888888888888888,\"#fdca26\"],[1.0,\"#f0f921\"]]},\"colorway\":[\"#636efa\",\"#EF553B\",\"#00cc96\",\"#ab63fa\",\"#FFA15A\",\"#19d3f3\",\"#FF6692\",\"#B6E880\",\"#FF97FF\",\"#FECB52\"],\"font\":{\"color\":\"#2a3f5f\"},\"geo\":{\"bgcolor\":\"white\",\"lakecolor\":\"white\",\"landcolor\":\"#E5ECF6\",\"showlakes\":true,\"showland\":true,\"subunitcolor\":\"white\"},\"hoverlabel\":{\"align\":\"left\"},\"hovermode\":\"closest\",\"mapbox\":{\"style\":\"light\"},\"paper_bgcolor\":\"white\",\"plot_bgcolor\":\"#E5ECF6\",\"polar\":{\"angularaxis\":{\"gridcolor\":\"white\",\"linecolor\":\"white\",\"ticks\":\"\"},\"bgcolor\":\"#E5ECF6\",\"radialaxis\":{\"gridcolor\":\"white\",\"linecolor\":\"white\",\"ticks\":\"\"}},\"scene\":{\"xaxis\":{\"backgroundcolor\":\"#E5ECF6\",\"gridcolor\":\"white\",\"gridwidth\":2,\"linecolor\":\"white\",\"showbackground\":true,\"ticks\":\"\",\"zerolinecolor\":\"white\"},\"yaxis\":{\"backgroundcolor\":\"#E5ECF6\",\"gridcolor\":\"white\",\"gridwidth\":2,\"linecolor\":\"white\",\"showbackground\":true,\"ticks\":\"\",\"zerolinecolor\":\"white\"},\"zaxis\":{\"backgroundcolor\":\"#E5ECF6\",\"gridcolor\":\"white\",\"gridwidth\":2,\"linecolor\":\"white\",\"showbackground\":true,\"ticks\":\"\",\"zerolinecolor\":\"white\"}},\"shapedefaults\":{\"line\":{\"color\":\"#2a3f5f\"}},\"ternary\":{\"aaxis\":{\"gridcolor\":\"white\",\"linecolor\":\"white\",\"ticks\":\"\"},\"baxis\":{\"gridcolor\":\"white\",\"linecolor\":\"white\",\"ticks\":\"\"},\"bgcolor\":\"#E5ECF6\",\"caxis\":{\"gridcolor\":\"white\",\"linecolor\":\"white\",\"ticks\":\"\"}},\"title\":{\"x\":0.05},\"xaxis\":{\"automargin\":true,\"gridcolor\":\"white\",\"linecolor\":\"white\",\"ticks\":\"\",\"title\":{\"standoff\":15},\"zerolinecolor\":\"white\",\"zerolinewidth\":2},\"yaxis\":{\"automargin\":true,\"gridcolor\":\"white\",\"linecolor\":\"white\",\"ticks\":\"\",\"title\":{\"standoff\":15},\"zerolinecolor\":\"white\",\"zerolinewidth\":2}}},\"title\":{\"text\":\"Ranking Of Top 10 Most Similar Drama Descriptions For \\\"semantic error\\\"\"},\"xaxis\":{\"title\":{\"text\":\"Cosine TFIDF Description Similarity\"}},\"yaxis\":{\"title\":{\"text\":\"Drama\"}}},                        {\"responsive\": true}                    ).then(function(){\n",
       "                            \n",
       "var gd = document.getElementById('fa548a51-444a-4832-b7a8-f445ae021d32');\n",
       "var x = new MutationObserver(function (mutations, observer) {{\n",
       "        var display = window.getComputedStyle(gd).display;\n",
       "        if (!display || display === 'none') {{\n",
       "            console.log([gd, 'removed!']);\n",
       "            Plotly.purge(gd);\n",
       "            observer.disconnect();\n",
       "        }}\n",
       "}});\n",
       "\n",
       "// Listen for the removal of the full notebook cells\n",
       "var notebookContainer = gd.closest('#notebook-container');\n",
       "if (notebookContainer) {{\n",
       "    x.observe(notebookContainer, {childList: true});\n",
       "}}\n",
       "\n",
       "// Listen for the clearing of the current output cell\n",
       "var outputEl = gd.closest('.output');\n",
       "if (outputEl) {{\n",
       "    x.observe(outputEl, {childList: true});\n",
       "}}\n",
       "\n",
       "                        })                };                });            </script>        </div>"
      ]
     },
     "metadata": {},
     "output_type": "display_data"
    }
   ],
   "source": [
    "tfidf = TfidfVectorizer()\n",
    "tfidf_matrix = tfidf.fit_transform(df_tags['tag_names'].dropna())\n",
    "\n",
    "\n",
    "# Compute cosine similarity between all movie-descriptions\n",
    "similarity = cosine_similarity(tfidf_matrix)\n",
    "# Remove self-similarity from matrix\n",
    "similarity -= np.eye(similarity.shape[0])\n",
    "\n",
    "\n",
    "# Get index of movie to find similar movies\n",
    "movie = 'semantic error'\n",
    "n_plot = 10\n",
    "index = df_tags.reset_index(drop=True)[df_tags.index==movie].index[0]\n",
    "\n",
    "# Get indices and scores of similar movies\n",
    "similar_drama_index = np.argsort(similarity[index])[::-1][:n_plot]\n",
    "similar_drama_score = np.sort(similarity[index])[::-1][:n_plot]\n",
    "\n",
    "# Get titles of similar movies\n",
    "similar_drama_titles = df_tags.iloc[similar_drama_index].index\n",
    "\n",
    "\n",
    "# Create trace\n",
    "trace = go.Bar(x = similar_drama_score,\n",
    "               text = similar_drama_titles,\n",
    "               textposition = 'inside',\n",
    "               textfont = dict(color = '#000000'),\n",
    "               orientation = 'h',\n",
    "               y = list(range(1, n_plot+1)),\n",
    "               marker = dict(color = '#db0000'))\n",
    "# Create layout\n",
    "layout = dict(title = 'Ranking Of Top {} Most Similar Drama Descriptions For \"{}\"'.format(n_plot, movie),\n",
    "              xaxis = dict(title = 'Cosine TFIDF Description Similarity',\n",
    "                           #range = (0, 0.4)\n",
    "                          ),\n",
    "              yaxis = dict(title = 'Drama'))\n",
    "# Create plot\n",
    "fig = go.Figure(data=[trace], layout=layout)\n",
    "iplot(fig)"
   ]
  },
  {
   "cell_type": "code",
   "execution_count": 127,
   "id": "dafc63d4",
   "metadata": {},
   "outputs": [
    {
     "data": {
      "text/html": [
       "<div>\n",
       "<style scoped>\n",
       "    .dataframe tbody tr th:only-of-type {\n",
       "        vertical-align: middle;\n",
       "    }\n",
       "\n",
       "    .dataframe tbody tr th {\n",
       "        vertical-align: top;\n",
       "    }\n",
       "\n",
       "    .dataframe thead th {\n",
       "        text-align: right;\n",
       "    }\n",
       "</style>\n",
       "<table border=\"1\" class=\"dataframe\">\n",
       "  <thead>\n",
       "    <tr style=\"text-align: right;\">\n",
       "      <th></th>\n",
       "      <th>combined_genres_tags</th>\n",
       "    </tr>\n",
       "    <tr>\n",
       "      <th>Name</th>\n",
       "      <th></th>\n",
       "    </tr>\n",
       "  </thead>\n",
       "  <tbody>\n",
       "    <tr>\n",
       "      <th>tunnel</th>\n",
       "      <td>Thriller,Mystery,Sci-Fi,Fantasy   Time Travel,...</td>\n",
       "    </tr>\n",
       "    <tr>\n",
       "      <th>twenty-five twenty-one</th>\n",
       "      <td>Romance,Life,Youth,Drama   Athlete,Fencing,199...</td>\n",
       "    </tr>\n",
       "    <tr>\n",
       "      <th>dr. romantic season 2</th>\n",
       "      <td>Romance,Drama,Medical,Melodrama   Hospital,Sma...</td>\n",
       "    </tr>\n",
       "    <tr>\n",
       "      <th>move to heaven</th>\n",
       "      <td>Life,Drama,Family   Autism,Uncle-Nephew Relati...</td>\n",
       "    </tr>\n",
       "    <tr>\n",
       "      <th>the king’s avatar</th>\n",
       "      <td>Action,Friendship,Youth,Sports   Online Gaming...</td>\n",
       "    </tr>\n",
       "  </tbody>\n",
       "</table>\n",
       "</div>"
      ],
      "text/plain": [
       "                                                     combined_genres_tags\n",
       "Name                                                                     \n",
       "tunnel                  Thriller,Mystery,Sci-Fi,Fantasy   Time Travel,...\n",
       "twenty-five twenty-one  Romance,Life,Youth,Drama   Athlete,Fencing,199...\n",
       "dr. romantic season 2   Romance,Drama,Medical,Melodrama   Hospital,Sma...\n",
       "move to heaven          Life,Drama,Family   Autism,Uncle-Nephew Relati...\n",
       "the king’s avatar       Action,Friendship,Youth,Sports   Online Gaming..."
      ]
     },
     "execution_count": 127,
     "metadata": {},
     "output_type": "execute_result"
    }
   ],
   "source": [
    "# lets combine the genre and tags \n",
    "# Combine 'genre_names' and 'tag_names' into a new column\n",
    "df_use['combined_genres_tags'] = df_use.apply(lambda row: str(row['genre_names']) + \" \" + str(row['tag_names']), axis=1)\n",
    "df_gtags = df_use[['Name','combined_genres_tags']]\n",
    "df_gtags.set_index('Name', inplace=True)\n",
    "df_gtags.head()"
   ]
  },
  {
   "cell_type": "code",
   "execution_count": 128,
   "id": "ced937a8",
   "metadata": {},
   "outputs": [
    {
     "data": {
      "application/vnd.plotly.v1+json": {
       "config": {
        "linkText": "Export to plot.ly",
        "plotlyServerURL": "https://plot.ly",
        "showLink": false
       },
       "data": [
        {
         "marker": {
          "color": "#db0000"
         },
         "orientation": "h",
         "text": [
          "like love",
          "sotus",
          "kiss",
          "my gear and your gown",
          "in your heart",
          "sotus s",
          "cry me a river of stars",
          "together with me: the next chapter",
          "love by chance 2: a chance to love",
          "influencers"
         ],
         "textfont": {
          "color": "#000000"
         },
         "textposition": "inside",
         "type": "bar",
         "x": [
          0.46754648030353574,
          0.4514883906162728,
          0.44346534977888336,
          0.4280958121923325,
          0.42193287333387713,
          0.4199385402879498,
          0.41320438705866336,
          0.41034522374020677,
          0.3990727553070753,
          0.39761896976990924
         ],
         "y": [
          1,
          2,
          3,
          4,
          5,
          6,
          7,
          8,
          9,
          10
         ]
        }
       ],
       "layout": {
        "template": {
         "data": {
          "bar": [
           {
            "error_x": {
             "color": "#2a3f5f"
            },
            "error_y": {
             "color": "#2a3f5f"
            },
            "marker": {
             "line": {
              "color": "#E5ECF6",
              "width": 0.5
             },
             "pattern": {
              "fillmode": "overlay",
              "size": 10,
              "solidity": 0.2
             }
            },
            "type": "bar"
           }
          ],
          "barpolar": [
           {
            "marker": {
             "line": {
              "color": "#E5ECF6",
              "width": 0.5
             },
             "pattern": {
              "fillmode": "overlay",
              "size": 10,
              "solidity": 0.2
             }
            },
            "type": "barpolar"
           }
          ],
          "carpet": [
           {
            "aaxis": {
             "endlinecolor": "#2a3f5f",
             "gridcolor": "white",
             "linecolor": "white",
             "minorgridcolor": "white",
             "startlinecolor": "#2a3f5f"
            },
            "baxis": {
             "endlinecolor": "#2a3f5f",
             "gridcolor": "white",
             "linecolor": "white",
             "minorgridcolor": "white",
             "startlinecolor": "#2a3f5f"
            },
            "type": "carpet"
           }
          ],
          "choropleth": [
           {
            "colorbar": {
             "outlinewidth": 0,
             "ticks": ""
            },
            "type": "choropleth"
           }
          ],
          "contour": [
           {
            "colorbar": {
             "outlinewidth": 0,
             "ticks": ""
            },
            "colorscale": [
             [
              0,
              "#0d0887"
             ],
             [
              0.1111111111111111,
              "#46039f"
             ],
             [
              0.2222222222222222,
              "#7201a8"
             ],
             [
              0.3333333333333333,
              "#9c179e"
             ],
             [
              0.4444444444444444,
              "#bd3786"
             ],
             [
              0.5555555555555556,
              "#d8576b"
             ],
             [
              0.6666666666666666,
              "#ed7953"
             ],
             [
              0.7777777777777778,
              "#fb9f3a"
             ],
             [
              0.8888888888888888,
              "#fdca26"
             ],
             [
              1,
              "#f0f921"
             ]
            ],
            "type": "contour"
           }
          ],
          "contourcarpet": [
           {
            "colorbar": {
             "outlinewidth": 0,
             "ticks": ""
            },
            "type": "contourcarpet"
           }
          ],
          "heatmap": [
           {
            "colorbar": {
             "outlinewidth": 0,
             "ticks": ""
            },
            "colorscale": [
             [
              0,
              "#0d0887"
             ],
             [
              0.1111111111111111,
              "#46039f"
             ],
             [
              0.2222222222222222,
              "#7201a8"
             ],
             [
              0.3333333333333333,
              "#9c179e"
             ],
             [
              0.4444444444444444,
              "#bd3786"
             ],
             [
              0.5555555555555556,
              "#d8576b"
             ],
             [
              0.6666666666666666,
              "#ed7953"
             ],
             [
              0.7777777777777778,
              "#fb9f3a"
             ],
             [
              0.8888888888888888,
              "#fdca26"
             ],
             [
              1,
              "#f0f921"
             ]
            ],
            "type": "heatmap"
           }
          ],
          "heatmapgl": [
           {
            "colorbar": {
             "outlinewidth": 0,
             "ticks": ""
            },
            "colorscale": [
             [
              0,
              "#0d0887"
             ],
             [
              0.1111111111111111,
              "#46039f"
             ],
             [
              0.2222222222222222,
              "#7201a8"
             ],
             [
              0.3333333333333333,
              "#9c179e"
             ],
             [
              0.4444444444444444,
              "#bd3786"
             ],
             [
              0.5555555555555556,
              "#d8576b"
             ],
             [
              0.6666666666666666,
              "#ed7953"
             ],
             [
              0.7777777777777778,
              "#fb9f3a"
             ],
             [
              0.8888888888888888,
              "#fdca26"
             ],
             [
              1,
              "#f0f921"
             ]
            ],
            "type": "heatmapgl"
           }
          ],
          "histogram": [
           {
            "marker": {
             "pattern": {
              "fillmode": "overlay",
              "size": 10,
              "solidity": 0.2
             }
            },
            "type": "histogram"
           }
          ],
          "histogram2d": [
           {
            "colorbar": {
             "outlinewidth": 0,
             "ticks": ""
            },
            "colorscale": [
             [
              0,
              "#0d0887"
             ],
             [
              0.1111111111111111,
              "#46039f"
             ],
             [
              0.2222222222222222,
              "#7201a8"
             ],
             [
              0.3333333333333333,
              "#9c179e"
             ],
             [
              0.4444444444444444,
              "#bd3786"
             ],
             [
              0.5555555555555556,
              "#d8576b"
             ],
             [
              0.6666666666666666,
              "#ed7953"
             ],
             [
              0.7777777777777778,
              "#fb9f3a"
             ],
             [
              0.8888888888888888,
              "#fdca26"
             ],
             [
              1,
              "#f0f921"
             ]
            ],
            "type": "histogram2d"
           }
          ],
          "histogram2dcontour": [
           {
            "colorbar": {
             "outlinewidth": 0,
             "ticks": ""
            },
            "colorscale": [
             [
              0,
              "#0d0887"
             ],
             [
              0.1111111111111111,
              "#46039f"
             ],
             [
              0.2222222222222222,
              "#7201a8"
             ],
             [
              0.3333333333333333,
              "#9c179e"
             ],
             [
              0.4444444444444444,
              "#bd3786"
             ],
             [
              0.5555555555555556,
              "#d8576b"
             ],
             [
              0.6666666666666666,
              "#ed7953"
             ],
             [
              0.7777777777777778,
              "#fb9f3a"
             ],
             [
              0.8888888888888888,
              "#fdca26"
             ],
             [
              1,
              "#f0f921"
             ]
            ],
            "type": "histogram2dcontour"
           }
          ],
          "mesh3d": [
           {
            "colorbar": {
             "outlinewidth": 0,
             "ticks": ""
            },
            "type": "mesh3d"
           }
          ],
          "parcoords": [
           {
            "line": {
             "colorbar": {
              "outlinewidth": 0,
              "ticks": ""
             }
            },
            "type": "parcoords"
           }
          ],
          "pie": [
           {
            "automargin": true,
            "type": "pie"
           }
          ],
          "scatter": [
           {
            "fillpattern": {
             "fillmode": "overlay",
             "size": 10,
             "solidity": 0.2
            },
            "type": "scatter"
           }
          ],
          "scatter3d": [
           {
            "line": {
             "colorbar": {
              "outlinewidth": 0,
              "ticks": ""
             }
            },
            "marker": {
             "colorbar": {
              "outlinewidth": 0,
              "ticks": ""
             }
            },
            "type": "scatter3d"
           }
          ],
          "scattercarpet": [
           {
            "marker": {
             "colorbar": {
              "outlinewidth": 0,
              "ticks": ""
             }
            },
            "type": "scattercarpet"
           }
          ],
          "scattergeo": [
           {
            "marker": {
             "colorbar": {
              "outlinewidth": 0,
              "ticks": ""
             }
            },
            "type": "scattergeo"
           }
          ],
          "scattergl": [
           {
            "marker": {
             "colorbar": {
              "outlinewidth": 0,
              "ticks": ""
             }
            },
            "type": "scattergl"
           }
          ],
          "scattermapbox": [
           {
            "marker": {
             "colorbar": {
              "outlinewidth": 0,
              "ticks": ""
             }
            },
            "type": "scattermapbox"
           }
          ],
          "scatterpolar": [
           {
            "marker": {
             "colorbar": {
              "outlinewidth": 0,
              "ticks": ""
             }
            },
            "type": "scatterpolar"
           }
          ],
          "scatterpolargl": [
           {
            "marker": {
             "colorbar": {
              "outlinewidth": 0,
              "ticks": ""
             }
            },
            "type": "scatterpolargl"
           }
          ],
          "scatterternary": [
           {
            "marker": {
             "colorbar": {
              "outlinewidth": 0,
              "ticks": ""
             }
            },
            "type": "scatterternary"
           }
          ],
          "surface": [
           {
            "colorbar": {
             "outlinewidth": 0,
             "ticks": ""
            },
            "colorscale": [
             [
              0,
              "#0d0887"
             ],
             [
              0.1111111111111111,
              "#46039f"
             ],
             [
              0.2222222222222222,
              "#7201a8"
             ],
             [
              0.3333333333333333,
              "#9c179e"
             ],
             [
              0.4444444444444444,
              "#bd3786"
             ],
             [
              0.5555555555555556,
              "#d8576b"
             ],
             [
              0.6666666666666666,
              "#ed7953"
             ],
             [
              0.7777777777777778,
              "#fb9f3a"
             ],
             [
              0.8888888888888888,
              "#fdca26"
             ],
             [
              1,
              "#f0f921"
             ]
            ],
            "type": "surface"
           }
          ],
          "table": [
           {
            "cells": {
             "fill": {
              "color": "#EBF0F8"
             },
             "line": {
              "color": "white"
             }
            },
            "header": {
             "fill": {
              "color": "#C8D4E3"
             },
             "line": {
              "color": "white"
             }
            },
            "type": "table"
           }
          ]
         },
         "layout": {
          "annotationdefaults": {
           "arrowcolor": "#2a3f5f",
           "arrowhead": 0,
           "arrowwidth": 1
          },
          "autotypenumbers": "strict",
          "coloraxis": {
           "colorbar": {
            "outlinewidth": 0,
            "ticks": ""
           }
          },
          "colorscale": {
           "diverging": [
            [
             0,
             "#8e0152"
            ],
            [
             0.1,
             "#c51b7d"
            ],
            [
             0.2,
             "#de77ae"
            ],
            [
             0.3,
             "#f1b6da"
            ],
            [
             0.4,
             "#fde0ef"
            ],
            [
             0.5,
             "#f7f7f7"
            ],
            [
             0.6,
             "#e6f5d0"
            ],
            [
             0.7,
             "#b8e186"
            ],
            [
             0.8,
             "#7fbc41"
            ],
            [
             0.9,
             "#4d9221"
            ],
            [
             1,
             "#276419"
            ]
           ],
           "sequential": [
            [
             0,
             "#0d0887"
            ],
            [
             0.1111111111111111,
             "#46039f"
            ],
            [
             0.2222222222222222,
             "#7201a8"
            ],
            [
             0.3333333333333333,
             "#9c179e"
            ],
            [
             0.4444444444444444,
             "#bd3786"
            ],
            [
             0.5555555555555556,
             "#d8576b"
            ],
            [
             0.6666666666666666,
             "#ed7953"
            ],
            [
             0.7777777777777778,
             "#fb9f3a"
            ],
            [
             0.8888888888888888,
             "#fdca26"
            ],
            [
             1,
             "#f0f921"
            ]
           ],
           "sequentialminus": [
            [
             0,
             "#0d0887"
            ],
            [
             0.1111111111111111,
             "#46039f"
            ],
            [
             0.2222222222222222,
             "#7201a8"
            ],
            [
             0.3333333333333333,
             "#9c179e"
            ],
            [
             0.4444444444444444,
             "#bd3786"
            ],
            [
             0.5555555555555556,
             "#d8576b"
            ],
            [
             0.6666666666666666,
             "#ed7953"
            ],
            [
             0.7777777777777778,
             "#fb9f3a"
            ],
            [
             0.8888888888888888,
             "#fdca26"
            ],
            [
             1,
             "#f0f921"
            ]
           ]
          },
          "colorway": [
           "#636efa",
           "#EF553B",
           "#00cc96",
           "#ab63fa",
           "#FFA15A",
           "#19d3f3",
           "#FF6692",
           "#B6E880",
           "#FF97FF",
           "#FECB52"
          ],
          "font": {
           "color": "#2a3f5f"
          },
          "geo": {
           "bgcolor": "white",
           "lakecolor": "white",
           "landcolor": "#E5ECF6",
           "showlakes": true,
           "showland": true,
           "subunitcolor": "white"
          },
          "hoverlabel": {
           "align": "left"
          },
          "hovermode": "closest",
          "mapbox": {
           "style": "light"
          },
          "paper_bgcolor": "white",
          "plot_bgcolor": "#E5ECF6",
          "polar": {
           "angularaxis": {
            "gridcolor": "white",
            "linecolor": "white",
            "ticks": ""
           },
           "bgcolor": "#E5ECF6",
           "radialaxis": {
            "gridcolor": "white",
            "linecolor": "white",
            "ticks": ""
           }
          },
          "scene": {
           "xaxis": {
            "backgroundcolor": "#E5ECF6",
            "gridcolor": "white",
            "gridwidth": 2,
            "linecolor": "white",
            "showbackground": true,
            "ticks": "",
            "zerolinecolor": "white"
           },
           "yaxis": {
            "backgroundcolor": "#E5ECF6",
            "gridcolor": "white",
            "gridwidth": 2,
            "linecolor": "white",
            "showbackground": true,
            "ticks": "",
            "zerolinecolor": "white"
           },
           "zaxis": {
            "backgroundcolor": "#E5ECF6",
            "gridcolor": "white",
            "gridwidth": 2,
            "linecolor": "white",
            "showbackground": true,
            "ticks": "",
            "zerolinecolor": "white"
           }
          },
          "shapedefaults": {
           "line": {
            "color": "#2a3f5f"
           }
          },
          "ternary": {
           "aaxis": {
            "gridcolor": "white",
            "linecolor": "white",
            "ticks": ""
           },
           "baxis": {
            "gridcolor": "white",
            "linecolor": "white",
            "ticks": ""
           },
           "bgcolor": "#E5ECF6",
           "caxis": {
            "gridcolor": "white",
            "linecolor": "white",
            "ticks": ""
           }
          },
          "title": {
           "x": 0.05
          },
          "xaxis": {
           "automargin": true,
           "gridcolor": "white",
           "linecolor": "white",
           "ticks": "",
           "title": {
            "standoff": 15
           },
           "zerolinecolor": "white",
           "zerolinewidth": 2
          },
          "yaxis": {
           "automargin": true,
           "gridcolor": "white",
           "linecolor": "white",
           "ticks": "",
           "title": {
            "standoff": 15
           },
           "zerolinecolor": "white",
           "zerolinewidth": 2
          }
         }
        },
        "title": {
         "text": "Ranking Of Top 10 Most Similar Drama Descriptions For \"semantic error\""
        },
        "xaxis": {
         "title": {
          "text": "Cosine TFIDF Description Similarity"
         }
        },
        "yaxis": {
         "title": {
          "text": "Drama"
         }
        }
       }
      },
      "text/html": [
       "<div>                            <div id=\"e5639442-39fa-46c4-9056-918bf33ee2a1\" class=\"plotly-graph-div\" style=\"height:525px; width:100%;\"></div>            <script type=\"text/javascript\">                require([\"plotly\"], function(Plotly) {                    window.PLOTLYENV=window.PLOTLYENV || {};                                    if (document.getElementById(\"e5639442-39fa-46c4-9056-918bf33ee2a1\")) {                    Plotly.newPlot(                        \"e5639442-39fa-46c4-9056-918bf33ee2a1\",                        [{\"marker\":{\"color\":\"#db0000\"},\"orientation\":\"h\",\"text\":[\"like love\",\"sotus\",\"kiss\",\"my gear and your gown\",\"in your heart\",\"sotus s\",\"cry me a river of stars\",\"together with me: the next chapter\",\"love by chance 2: a chance to love\",\"influencers\"],\"textfont\":{\"color\":\"#000000\"},\"textposition\":\"inside\",\"x\":[0.46754648030353574,0.4514883906162728,0.44346534977888336,0.4280958121923325,0.42193287333387713,0.4199385402879498,0.41320438705866336,0.41034522374020677,0.3990727553070753,0.39761896976990924],\"y\":[1,2,3,4,5,6,7,8,9,10],\"type\":\"bar\"}],                        {\"template\":{\"data\":{\"barpolar\":[{\"marker\":{\"line\":{\"color\":\"#E5ECF6\",\"width\":0.5},\"pattern\":{\"fillmode\":\"overlay\",\"size\":10,\"solidity\":0.2}},\"type\":\"barpolar\"}],\"bar\":[{\"error_x\":{\"color\":\"#2a3f5f\"},\"error_y\":{\"color\":\"#2a3f5f\"},\"marker\":{\"line\":{\"color\":\"#E5ECF6\",\"width\":0.5},\"pattern\":{\"fillmode\":\"overlay\",\"size\":10,\"solidity\":0.2}},\"type\":\"bar\"}],\"carpet\":[{\"aaxis\":{\"endlinecolor\":\"#2a3f5f\",\"gridcolor\":\"white\",\"linecolor\":\"white\",\"minorgridcolor\":\"white\",\"startlinecolor\":\"#2a3f5f\"},\"baxis\":{\"endlinecolor\":\"#2a3f5f\",\"gridcolor\":\"white\",\"linecolor\":\"white\",\"minorgridcolor\":\"white\",\"startlinecolor\":\"#2a3f5f\"},\"type\":\"carpet\"}],\"choropleth\":[{\"colorbar\":{\"outlinewidth\":0,\"ticks\":\"\"},\"type\":\"choropleth\"}],\"contourcarpet\":[{\"colorbar\":{\"outlinewidth\":0,\"ticks\":\"\"},\"type\":\"contourcarpet\"}],\"contour\":[{\"colorbar\":{\"outlinewidth\":0,\"ticks\":\"\"},\"colorscale\":[[0.0,\"#0d0887\"],[0.1111111111111111,\"#46039f\"],[0.2222222222222222,\"#7201a8\"],[0.3333333333333333,\"#9c179e\"],[0.4444444444444444,\"#bd3786\"],[0.5555555555555556,\"#d8576b\"],[0.6666666666666666,\"#ed7953\"],[0.7777777777777778,\"#fb9f3a\"],[0.8888888888888888,\"#fdca26\"],[1.0,\"#f0f921\"]],\"type\":\"contour\"}],\"heatmapgl\":[{\"colorbar\":{\"outlinewidth\":0,\"ticks\":\"\"},\"colorscale\":[[0.0,\"#0d0887\"],[0.1111111111111111,\"#46039f\"],[0.2222222222222222,\"#7201a8\"],[0.3333333333333333,\"#9c179e\"],[0.4444444444444444,\"#bd3786\"],[0.5555555555555556,\"#d8576b\"],[0.6666666666666666,\"#ed7953\"],[0.7777777777777778,\"#fb9f3a\"],[0.8888888888888888,\"#fdca26\"],[1.0,\"#f0f921\"]],\"type\":\"heatmapgl\"}],\"heatmap\":[{\"colorbar\":{\"outlinewidth\":0,\"ticks\":\"\"},\"colorscale\":[[0.0,\"#0d0887\"],[0.1111111111111111,\"#46039f\"],[0.2222222222222222,\"#7201a8\"],[0.3333333333333333,\"#9c179e\"],[0.4444444444444444,\"#bd3786\"],[0.5555555555555556,\"#d8576b\"],[0.6666666666666666,\"#ed7953\"],[0.7777777777777778,\"#fb9f3a\"],[0.8888888888888888,\"#fdca26\"],[1.0,\"#f0f921\"]],\"type\":\"heatmap\"}],\"histogram2dcontour\":[{\"colorbar\":{\"outlinewidth\":0,\"ticks\":\"\"},\"colorscale\":[[0.0,\"#0d0887\"],[0.1111111111111111,\"#46039f\"],[0.2222222222222222,\"#7201a8\"],[0.3333333333333333,\"#9c179e\"],[0.4444444444444444,\"#bd3786\"],[0.5555555555555556,\"#d8576b\"],[0.6666666666666666,\"#ed7953\"],[0.7777777777777778,\"#fb9f3a\"],[0.8888888888888888,\"#fdca26\"],[1.0,\"#f0f921\"]],\"type\":\"histogram2dcontour\"}],\"histogram2d\":[{\"colorbar\":{\"outlinewidth\":0,\"ticks\":\"\"},\"colorscale\":[[0.0,\"#0d0887\"],[0.1111111111111111,\"#46039f\"],[0.2222222222222222,\"#7201a8\"],[0.3333333333333333,\"#9c179e\"],[0.4444444444444444,\"#bd3786\"],[0.5555555555555556,\"#d8576b\"],[0.6666666666666666,\"#ed7953\"],[0.7777777777777778,\"#fb9f3a\"],[0.8888888888888888,\"#fdca26\"],[1.0,\"#f0f921\"]],\"type\":\"histogram2d\"}],\"histogram\":[{\"marker\":{\"pattern\":{\"fillmode\":\"overlay\",\"size\":10,\"solidity\":0.2}},\"type\":\"histogram\"}],\"mesh3d\":[{\"colorbar\":{\"outlinewidth\":0,\"ticks\":\"\"},\"type\":\"mesh3d\"}],\"parcoords\":[{\"line\":{\"colorbar\":{\"outlinewidth\":0,\"ticks\":\"\"}},\"type\":\"parcoords\"}],\"pie\":[{\"automargin\":true,\"type\":\"pie\"}],\"scatter3d\":[{\"line\":{\"colorbar\":{\"outlinewidth\":0,\"ticks\":\"\"}},\"marker\":{\"colorbar\":{\"outlinewidth\":0,\"ticks\":\"\"}},\"type\":\"scatter3d\"}],\"scattercarpet\":[{\"marker\":{\"colorbar\":{\"outlinewidth\":0,\"ticks\":\"\"}},\"type\":\"scattercarpet\"}],\"scattergeo\":[{\"marker\":{\"colorbar\":{\"outlinewidth\":0,\"ticks\":\"\"}},\"type\":\"scattergeo\"}],\"scattergl\":[{\"marker\":{\"colorbar\":{\"outlinewidth\":0,\"ticks\":\"\"}},\"type\":\"scattergl\"}],\"scattermapbox\":[{\"marker\":{\"colorbar\":{\"outlinewidth\":0,\"ticks\":\"\"}},\"type\":\"scattermapbox\"}],\"scatterpolargl\":[{\"marker\":{\"colorbar\":{\"outlinewidth\":0,\"ticks\":\"\"}},\"type\":\"scatterpolargl\"}],\"scatterpolar\":[{\"marker\":{\"colorbar\":{\"outlinewidth\":0,\"ticks\":\"\"}},\"type\":\"scatterpolar\"}],\"scatter\":[{\"fillpattern\":{\"fillmode\":\"overlay\",\"size\":10,\"solidity\":0.2},\"type\":\"scatter\"}],\"scatterternary\":[{\"marker\":{\"colorbar\":{\"outlinewidth\":0,\"ticks\":\"\"}},\"type\":\"scatterternary\"}],\"surface\":[{\"colorbar\":{\"outlinewidth\":0,\"ticks\":\"\"},\"colorscale\":[[0.0,\"#0d0887\"],[0.1111111111111111,\"#46039f\"],[0.2222222222222222,\"#7201a8\"],[0.3333333333333333,\"#9c179e\"],[0.4444444444444444,\"#bd3786\"],[0.5555555555555556,\"#d8576b\"],[0.6666666666666666,\"#ed7953\"],[0.7777777777777778,\"#fb9f3a\"],[0.8888888888888888,\"#fdca26\"],[1.0,\"#f0f921\"]],\"type\":\"surface\"}],\"table\":[{\"cells\":{\"fill\":{\"color\":\"#EBF0F8\"},\"line\":{\"color\":\"white\"}},\"header\":{\"fill\":{\"color\":\"#C8D4E3\"},\"line\":{\"color\":\"white\"}},\"type\":\"table\"}]},\"layout\":{\"annotationdefaults\":{\"arrowcolor\":\"#2a3f5f\",\"arrowhead\":0,\"arrowwidth\":1},\"autotypenumbers\":\"strict\",\"coloraxis\":{\"colorbar\":{\"outlinewidth\":0,\"ticks\":\"\"}},\"colorscale\":{\"diverging\":[[0,\"#8e0152\"],[0.1,\"#c51b7d\"],[0.2,\"#de77ae\"],[0.3,\"#f1b6da\"],[0.4,\"#fde0ef\"],[0.5,\"#f7f7f7\"],[0.6,\"#e6f5d0\"],[0.7,\"#b8e186\"],[0.8,\"#7fbc41\"],[0.9,\"#4d9221\"],[1,\"#276419\"]],\"sequential\":[[0.0,\"#0d0887\"],[0.1111111111111111,\"#46039f\"],[0.2222222222222222,\"#7201a8\"],[0.3333333333333333,\"#9c179e\"],[0.4444444444444444,\"#bd3786\"],[0.5555555555555556,\"#d8576b\"],[0.6666666666666666,\"#ed7953\"],[0.7777777777777778,\"#fb9f3a\"],[0.8888888888888888,\"#fdca26\"],[1.0,\"#f0f921\"]],\"sequentialminus\":[[0.0,\"#0d0887\"],[0.1111111111111111,\"#46039f\"],[0.2222222222222222,\"#7201a8\"],[0.3333333333333333,\"#9c179e\"],[0.4444444444444444,\"#bd3786\"],[0.5555555555555556,\"#d8576b\"],[0.6666666666666666,\"#ed7953\"],[0.7777777777777778,\"#fb9f3a\"],[0.8888888888888888,\"#fdca26\"],[1.0,\"#f0f921\"]]},\"colorway\":[\"#636efa\",\"#EF553B\",\"#00cc96\",\"#ab63fa\",\"#FFA15A\",\"#19d3f3\",\"#FF6692\",\"#B6E880\",\"#FF97FF\",\"#FECB52\"],\"font\":{\"color\":\"#2a3f5f\"},\"geo\":{\"bgcolor\":\"white\",\"lakecolor\":\"white\",\"landcolor\":\"#E5ECF6\",\"showlakes\":true,\"showland\":true,\"subunitcolor\":\"white\"},\"hoverlabel\":{\"align\":\"left\"},\"hovermode\":\"closest\",\"mapbox\":{\"style\":\"light\"},\"paper_bgcolor\":\"white\",\"plot_bgcolor\":\"#E5ECF6\",\"polar\":{\"angularaxis\":{\"gridcolor\":\"white\",\"linecolor\":\"white\",\"ticks\":\"\"},\"bgcolor\":\"#E5ECF6\",\"radialaxis\":{\"gridcolor\":\"white\",\"linecolor\":\"white\",\"ticks\":\"\"}},\"scene\":{\"xaxis\":{\"backgroundcolor\":\"#E5ECF6\",\"gridcolor\":\"white\",\"gridwidth\":2,\"linecolor\":\"white\",\"showbackground\":true,\"ticks\":\"\",\"zerolinecolor\":\"white\"},\"yaxis\":{\"backgroundcolor\":\"#E5ECF6\",\"gridcolor\":\"white\",\"gridwidth\":2,\"linecolor\":\"white\",\"showbackground\":true,\"ticks\":\"\",\"zerolinecolor\":\"white\"},\"zaxis\":{\"backgroundcolor\":\"#E5ECF6\",\"gridcolor\":\"white\",\"gridwidth\":2,\"linecolor\":\"white\",\"showbackground\":true,\"ticks\":\"\",\"zerolinecolor\":\"white\"}},\"shapedefaults\":{\"line\":{\"color\":\"#2a3f5f\"}},\"ternary\":{\"aaxis\":{\"gridcolor\":\"white\",\"linecolor\":\"white\",\"ticks\":\"\"},\"baxis\":{\"gridcolor\":\"white\",\"linecolor\":\"white\",\"ticks\":\"\"},\"bgcolor\":\"#E5ECF6\",\"caxis\":{\"gridcolor\":\"white\",\"linecolor\":\"white\",\"ticks\":\"\"}},\"title\":{\"x\":0.05},\"xaxis\":{\"automargin\":true,\"gridcolor\":\"white\",\"linecolor\":\"white\",\"ticks\":\"\",\"title\":{\"standoff\":15},\"zerolinecolor\":\"white\",\"zerolinewidth\":2},\"yaxis\":{\"automargin\":true,\"gridcolor\":\"white\",\"linecolor\":\"white\",\"ticks\":\"\",\"title\":{\"standoff\":15},\"zerolinecolor\":\"white\",\"zerolinewidth\":2}}},\"title\":{\"text\":\"Ranking Of Top 10 Most Similar Drama Descriptions For \\\"semantic error\\\"\"},\"xaxis\":{\"title\":{\"text\":\"Cosine TFIDF Description Similarity\"}},\"yaxis\":{\"title\":{\"text\":\"Drama\"}}},                        {\"responsive\": true}                    ).then(function(){\n",
       "                            \n",
       "var gd = document.getElementById('e5639442-39fa-46c4-9056-918bf33ee2a1');\n",
       "var x = new MutationObserver(function (mutations, observer) {{\n",
       "        var display = window.getComputedStyle(gd).display;\n",
       "        if (!display || display === 'none') {{\n",
       "            console.log([gd, 'removed!']);\n",
       "            Plotly.purge(gd);\n",
       "            observer.disconnect();\n",
       "        }}\n",
       "}});\n",
       "\n",
       "// Listen for the removal of the full notebook cells\n",
       "var notebookContainer = gd.closest('#notebook-container');\n",
       "if (notebookContainer) {{\n",
       "    x.observe(notebookContainer, {childList: true});\n",
       "}}\n",
       "\n",
       "// Listen for the clearing of the current output cell\n",
       "var outputEl = gd.closest('.output');\n",
       "if (outputEl) {{\n",
       "    x.observe(outputEl, {childList: true});\n",
       "}}\n",
       "\n",
       "                        })                };                });            </script>        </div>"
      ]
     },
     "metadata": {},
     "output_type": "display_data"
    }
   ],
   "source": [
    "tfidf = TfidfVectorizer()\n",
    "tfidf_matrix = tfidf.fit_transform(df_gtags['combined_genres_tags'].dropna())\n",
    "\n",
    "\n",
    "# Compute cosine similarity between all movie-descriptions\n",
    "similarity = cosine_similarity(tfidf_matrix)\n",
    "# Remove self-similarity from matrix\n",
    "similarity -= np.eye(similarity.shape[0])\n",
    "\n",
    "\n",
    "# Get index of movie to find similar movies\n",
    "movie = 'semantic error'\n",
    "n_plot = 10\n",
    "index = df_gtags.reset_index(drop=True)[df_gtags.index==movie].index[0]\n",
    "\n",
    "# Get indices and scores of similar movies\n",
    "similar_drama_index = np.argsort(similarity[index])[::-1][:n_plot]\n",
    "similar_drama_score = np.sort(similarity[index])[::-1][:n_plot]\n",
    "\n",
    "# Get titles of similar movies\n",
    "similar_movie_titles = df_gtags.iloc[similar_drama_index].index\n",
    "\n",
    "\n",
    "# Create trace\n",
    "trace = go.Bar(x = similar_drama_score,\n",
    "               text = similar_drama_titles,\n",
    "               textposition = 'inside',\n",
    "               textfont = dict(color = '#000000'),\n",
    "               orientation = 'h',\n",
    "               y = list(range(1, n_plot+1)),\n",
    "               marker = dict(color = '#db0000'))\n",
    "# Create layout\n",
    "layout = dict(title = 'Ranking Of Top {} Most Similar Drama Descriptions For \"{}\"'.format(n_plot, movie),\n",
    "              xaxis = dict(title = 'Cosine TFIDF Description Similarity',\n",
    "                           #range = (0, 0.4)\n",
    "                          ),\n",
    "              yaxis = dict(title = 'Drama'))\n",
    "# Create plot\n",
    "fig = go.Figure(data=[trace], layout=layout)\n",
    "iplot(fig)"
   ]
  },
  {
   "cell_type": "code",
   "execution_count": 129,
   "id": "ac37fcbf",
   "metadata": {},
   "outputs": [],
   "source": [
    "## Matrix Factorisation With Keras And Gradient Descent"
   ]
  },
  {
   "cell_type": "code",
   "execution_count": 130,
   "id": "c7db8b4b",
   "metadata": {},
   "outputs": [
    {
     "name": "stdout",
     "output_type": "stream",
     "text": [
      "3165/3165 [==============================] - 11s 3ms/step - loss: 39.9759 - val_loss: 14.6648\n",
      "3125/3125 [==============================] - 5s 2ms/step\n",
      "\n",
      "\n",
      "Testing Result With Keras Matrix-Factorization: 3.8413 RMSE\n"
     ]
    }
   ],
   "source": [
    "# genres are too ... general. so will go for the tags instead which goes deeper into the content of the story\n",
    "# Create user- & movie-id mapping\n",
    "user_id_mapping = {id:i for i, id in enumerate(reviews['User'].unique())}\n",
    "movie_id_mapping = {id:i for i, id in enumerate(reviews['Drama'].unique())}\n",
    "\n",
    "\n",
    "# Create correctly mapped train- & testset\n",
    "train_user_data = df_train['User'].map(user_id_mapping)\n",
    "train_movie_data = df_train['Drama'].map(movie_id_mapping)\n",
    "\n",
    "test_user_data = df_test['User'].map(user_id_mapping)\n",
    "test_movie_data = df_test['Drama'].map(movie_id_mapping)\n",
    "\n",
    "\n",
    "# Get input variable-sizes\n",
    "users = len(user_id_mapping)\n",
    "movies = len(movie_id_mapping)\n",
    "embedding_size = 10\n",
    "\n",
    "\n",
    "##### Create model\n",
    "# Set input layers\n",
    "user_id_input = Input(shape=[1], name='user')\n",
    "movie_id_input = Input(shape=[1], name='drama')\n",
    "\n",
    "# Create embedding layers for users and movies\n",
    "user_embedding = Embedding(output_dim=embedding_size, \n",
    "                           input_dim=users,\n",
    "                           input_length=1, \n",
    "                           name='user_embedding')(user_id_input)\n",
    "movie_embedding = Embedding(output_dim=embedding_size, \n",
    "                            input_dim=movies,\n",
    "                            input_length=1, \n",
    "                            name='item_embedding')(movie_id_input)\n",
    "\n",
    "# Reshape the embedding layers\n",
    "user_vector = Reshape([embedding_size])(user_embedding)\n",
    "movie_vector = Reshape([embedding_size])(movie_embedding)\n",
    "\n",
    "# Compute dot-product of reshaped embedding layers as prediction\n",
    "y = Dot(1, normalize=False)([user_vector, movie_vector])\n",
    "\n",
    "# Setup model\n",
    "model = Model(inputs=[user_id_input, movie_id_input], outputs=y)\n",
    "model.compile(loss='mse', optimizer='adam')\n",
    "\n",
    "\n",
    "# Fit model\n",
    "model.fit([train_user_data, train_movie_data],\n",
    "          df_train['Rating'],\n",
    "          batch_size=256, \n",
    "          epochs=1,\n",
    "          validation_split=0.1,\n",
    "          shuffle=True)\n",
    "\n",
    "# Test model\n",
    "y_pred = model.predict([test_user_data, test_movie_data])\n",
    "y_true = df_test['Rating'].values\n",
    "\n",
    "#  Compute RMSE\n",
    "rmse = np.sqrt(mean_squared_error(y_pred=y_pred, y_true=y_true))\n",
    "print('\\n\\nTesting Result With Keras Matrix-Factorization: {:.4f} RMSE'.format(rmse))\n"
   ]
  },
  {
   "cell_type": "code",
   "execution_count": null,
   "id": "cf38f154",
   "metadata": {},
   "outputs": [],
   "source": []
  },
  {
   "cell_type": "code",
   "execution_count": null,
   "id": "5e2123b2",
   "metadata": {},
   "outputs": [],
   "source": []
  },
  {
   "cell_type": "code",
   "execution_count": null,
   "id": "d6f294e0",
   "metadata": {},
   "outputs": [],
   "source": []
  },
  {
   "cell_type": "code",
   "execution_count": null,
   "id": "b2319ec0",
   "metadata": {},
   "outputs": [],
   "source": []
  }
 ],
 "metadata": {
  "kernelspec": {
   "display_name": "bus_analytics",
   "language": "python",
   "name": "bus_analytics"
  },
  "language_info": {
   "codemirror_mode": {
    "name": "ipython",
    "version": 3
   },
   "file_extension": ".py",
   "mimetype": "text/x-python",
   "name": "python",
   "nbconvert_exporter": "python",
   "pygments_lexer": "ipython3",
   "version": "3.10.13"
  }
 },
 "nbformat": 4,
 "nbformat_minor": 5
}

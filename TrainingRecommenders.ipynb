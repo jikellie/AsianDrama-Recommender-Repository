{
 "cells": [
  {
   "cell_type": "code",
   "execution_count": 81,
   "id": "bca7b4d3",
   "metadata": {},
   "outputs": [
    {
     "data": {
      "text/html": [
       "        <script type=\"text/javascript\">\n",
       "        window.PlotlyConfig = {MathJaxConfig: 'local'};\n",
       "        if (window.MathJax && window.MathJax.Hub && window.MathJax.Hub.Config) {window.MathJax.Hub.Config({SVG: {font: \"STIX-Web\"}});}\n",
       "        if (typeof require !== 'undefined') {\n",
       "        require.undef(\"plotly\");\n",
       "        requirejs.config({\n",
       "            paths: {\n",
       "                'plotly': ['https://cdn.plot.ly/plotly-2.12.1.min']\n",
       "            }\n",
       "        });\n",
       "        require(['plotly'], function(Plotly) {\n",
       "            window._Plotly = Plotly;\n",
       "        });\n",
       "        }\n",
       "        </script>\n",
       "        "
      ]
     },
     "metadata": {},
     "output_type": "display_data"
    }
   ],
   "source": [
    "import pandas as pd\n",
    "import numpy as np\n",
    "import seaborn as sns\n",
    "import matplotlib.pyplot as plt\n",
    "from plotly.offline import init_notebook_mode, plot, iplot\n",
    "import plotly.graph_objs as go\n",
    "init_notebook_mode(connected=True)\n",
    "from collections import deque\n",
    "\n",
    "# To compute similarities between vectors\n",
    "from sklearn.metrics import mean_squared_error\n",
    "from sklearn.metrics.pairwise import cosine_similarity\n",
    "from sklearn.feature_extraction.text import TfidfVectorizer\n",
    "\n",
    "# To create deep learning models\n",
    "from keras.layers import Input, Embedding, Reshape, Dot, Concatenate, Dense, Dropout\n",
    "from keras.models import Model\n",
    "from sklearn.model_selection import train_test_split\n",
    "\n",
    "# To create sparse matrices\n",
    "from scipy.sparse import coo_matrix\n",
    "\n",
    "# To stack sparse matrices\n",
    "from scipy.sparse import vstack"
   ]
  },
  {
   "cell_type": "code",
   "execution_count": 82,
   "id": "1451844a",
   "metadata": {},
   "outputs": [],
   "source": [
    "df_use = pd.read_csv('df_use.csv')\n",
    "users = pd.read_parquet('reviewed_users.parquet', engine='pyarrow')\n",
    "reviews = pd.read_parquet('reviews.parq', engine='pyarrow')\n",
    "df_titles = pd.read_csv(\"df_titles.csv\", index_col='sid')"
   ]
  },
  {
   "cell_type": "code",
   "execution_count": 83,
   "id": "32698cf6",
   "metadata": {},
   "outputs": [
    {
     "data": {
      "text/html": [
       "<div>\n",
       "<style scoped>\n",
       "    .dataframe tbody tr th:only-of-type {\n",
       "        vertical-align: middle;\n",
       "    }\n",
       "\n",
       "    .dataframe tbody tr th {\n",
       "        vertical-align: top;\n",
       "    }\n",
       "\n",
       "    .dataframe thead th {\n",
       "        text-align: right;\n",
       "    }\n",
       "</style>\n",
       "<table border=\"1\" class=\"dataframe\">\n",
       "  <thead>\n",
       "    <tr style=\"text-align: right;\">\n",
       "      <th></th>\n",
       "      <th>Name</th>\n",
       "    </tr>\n",
       "    <tr>\n",
       "      <th>sid</th>\n",
       "      <th></th>\n",
       "    </tr>\n",
       "  </thead>\n",
       "  <tbody>\n",
       "    <tr>\n",
       "      <th>15673</th>\n",
       "      <td>tunnel</td>\n",
       "    </tr>\n",
       "    <tr>\n",
       "      <th>40541</th>\n",
       "      <td>twenty-five twenty-one</td>\n",
       "    </tr>\n",
       "    <tr>\n",
       "      <th>26981</th>\n",
       "      <td>dr. romantic season 2</td>\n",
       "    </tr>\n",
       "    <tr>\n",
       "      <th>29419</th>\n",
       "      <td>move to heaven</td>\n",
       "    </tr>\n",
       "    <tr>\n",
       "      <th>17517</th>\n",
       "      <td>the king’s avatar</td>\n",
       "    </tr>\n",
       "  </tbody>\n",
       "</table>\n",
       "</div>"
      ],
      "text/plain": [
       "                         Name\n",
       "sid                          \n",
       "15673                  tunnel\n",
       "40541  twenty-five twenty-one\n",
       "26981   dr. romantic season 2\n",
       "29419          move to heaven\n",
       "17517       the king’s avatar"
      ]
     },
     "execution_count": 83,
     "metadata": {},
     "output_type": "execute_result"
    }
   ],
   "source": [
    "df_titles.head()"
   ]
  },
  {
   "cell_type": "markdown",
   "id": "cbdcba02",
   "metadata": {},
   "source": [
    "## Starting the training and recomm"
   ]
  },
  {
   "cell_type": "code",
   "execution_count": 84,
   "id": "4be61442",
   "metadata": {},
   "outputs": [],
   "source": [
    "## lets take only a sample for training and testing first\n",
    "# this shuffles and takes random samples\n",
    "# for a fixed number of samples\n",
    "#reviews = reviews.sample(n=1000000)\n",
    "\n",
    "# for a percentage \n",
    "reviews = reviews.sample(frac=1).reset_index(drop=True)"
   ]
  },
  {
   "cell_type": "code",
   "execution_count": 85,
   "id": "856e1daa",
   "metadata": {},
   "outputs": [
    {
     "name": "stdout",
     "output_type": "stream",
     "text": [
      "<class 'pandas.core.frame.DataFrame'>\n",
      "RangeIndex: 3595051 entries, 0 to 3595050\n",
      "Data columns (total 3 columns):\n",
      " #   Column  Dtype  \n",
      "---  ------  -----  \n",
      " 0   User    int64  \n",
      " 1   Rating  float64\n",
      " 2   Drama   int64  \n",
      "dtypes: float64(1), int64(2)\n",
      "memory usage: 82.3 MB\n"
     ]
    }
   ],
   "source": [
    "reviews.info()"
   ]
  },
  {
   "cell_type": "code",
   "execution_count": 86,
   "id": "0495858f",
   "metadata": {},
   "outputs": [],
   "source": [
    "#for deep learning, think about taking only a certain amount not the whole amount. cos df has over 3 million reviews"
   ]
  },
  {
   "cell_type": "code",
   "execution_count": 87,
   "id": "dc90f308",
   "metadata": {},
   "outputs": [],
   "source": [
    "# splitting into test and train \n",
    "# Testingsize\n",
    "# n = 100000\n",
    "\n",
    "# # Split train- & testset\n",
    "# df_train = reviews[:-n]\n",
    "# df_test = reviews[-n:]\n",
    "\n",
    "# taking only 10% of data for testing \n",
    "df_train, df_test = train_test_split(reviews, test_size=0.10, random_state=42)"
   ]
  },
  {
   "cell_type": "code",
   "execution_count": 88,
   "id": "05762f45",
   "metadata": {},
   "outputs": [
    {
     "name": "stdout",
     "output_type": "stream",
     "text": [
      "<class 'pandas.core.frame.DataFrame'>\n",
      "Int64Index: 3235545 entries, 1224085 to 2219110\n",
      "Data columns (total 3 columns):\n",
      " #   Column  Dtype  \n",
      "---  ------  -----  \n",
      " 0   User    int64  \n",
      " 1   Rating  float64\n",
      " 2   Drama   int64  \n",
      "dtypes: float64(1), int64(2)\n",
      "memory usage: 98.7 MB\n"
     ]
    }
   ],
   "source": [
    "df_train.info()"
   ]
  },
  {
   "cell_type": "code",
   "execution_count": 89,
   "id": "ff9b855d",
   "metadata": {},
   "outputs": [
    {
     "name": "stdout",
     "output_type": "stream",
     "text": [
      "Shape User-Drama-Matrix:\t(10873, 3346)\n"
     ]
    },
    {
     "data": {
      "text/html": [
       "<div>\n",
       "<style scoped>\n",
       "    .dataframe tbody tr th:only-of-type {\n",
       "        vertical-align: middle;\n",
       "    }\n",
       "\n",
       "    .dataframe tbody tr th {\n",
       "        vertical-align: top;\n",
       "    }\n",
       "\n",
       "    .dataframe thead th {\n",
       "        text-align: right;\n",
       "    }\n",
       "</style>\n",
       "<table border=\"1\" class=\"dataframe\">\n",
       "  <thead>\n",
       "    <tr style=\"text-align: right;\">\n",
       "      <th>Drama</th>\n",
       "      <th>1</th>\n",
       "      <th>7</th>\n",
       "      <th>9</th>\n",
       "      <th>10</th>\n",
       "      <th>11</th>\n",
       "      <th>13</th>\n",
       "      <th>14</th>\n",
       "      <th>15</th>\n",
       "      <th>17</th>\n",
       "      <th>18</th>\n",
       "      <th>...</th>\n",
       "      <th>44437</th>\n",
       "      <th>44472</th>\n",
       "      <th>44543</th>\n",
       "      <th>44690</th>\n",
       "      <th>44721</th>\n",
       "      <th>44909</th>\n",
       "      <th>45026</th>\n",
       "      <th>45472</th>\n",
       "      <th>45613</th>\n",
       "      <th>45877</th>\n",
       "    </tr>\n",
       "    <tr>\n",
       "      <th>User</th>\n",
       "      <th></th>\n",
       "      <th></th>\n",
       "      <th></th>\n",
       "      <th></th>\n",
       "      <th></th>\n",
       "      <th></th>\n",
       "      <th></th>\n",
       "      <th></th>\n",
       "      <th></th>\n",
       "      <th></th>\n",
       "      <th></th>\n",
       "      <th></th>\n",
       "      <th></th>\n",
       "      <th></th>\n",
       "      <th></th>\n",
       "      <th></th>\n",
       "      <th></th>\n",
       "      <th></th>\n",
       "      <th></th>\n",
       "      <th></th>\n",
       "      <th></th>\n",
       "    </tr>\n",
       "  </thead>\n",
       "  <tbody>\n",
       "    <tr>\n",
       "      <th>1</th>\n",
       "      <td>NaN</td>\n",
       "      <td>NaN</td>\n",
       "      <td>NaN</td>\n",
       "      <td>NaN</td>\n",
       "      <td>NaN</td>\n",
       "      <td>NaN</td>\n",
       "      <td>NaN</td>\n",
       "      <td>NaN</td>\n",
       "      <td>NaN</td>\n",
       "      <td>NaN</td>\n",
       "      <td>...</td>\n",
       "      <td>NaN</td>\n",
       "      <td>NaN</td>\n",
       "      <td>NaN</td>\n",
       "      <td>NaN</td>\n",
       "      <td>NaN</td>\n",
       "      <td>NaN</td>\n",
       "      <td>NaN</td>\n",
       "      <td>NaN</td>\n",
       "      <td>NaN</td>\n",
       "      <td>NaN</td>\n",
       "    </tr>\n",
       "    <tr>\n",
       "      <th>6</th>\n",
       "      <td>9.0</td>\n",
       "      <td>6.5</td>\n",
       "      <td>NaN</td>\n",
       "      <td>NaN</td>\n",
       "      <td>NaN</td>\n",
       "      <td>NaN</td>\n",
       "      <td>NaN</td>\n",
       "      <td>NaN</td>\n",
       "      <td>NaN</td>\n",
       "      <td>8.0</td>\n",
       "      <td>...</td>\n",
       "      <td>NaN</td>\n",
       "      <td>NaN</td>\n",
       "      <td>NaN</td>\n",
       "      <td>NaN</td>\n",
       "      <td>NaN</td>\n",
       "      <td>NaN</td>\n",
       "      <td>NaN</td>\n",
       "      <td>NaN</td>\n",
       "      <td>NaN</td>\n",
       "      <td>NaN</td>\n",
       "    </tr>\n",
       "    <tr>\n",
       "      <th>10</th>\n",
       "      <td>NaN</td>\n",
       "      <td>9.5</td>\n",
       "      <td>NaN</td>\n",
       "      <td>NaN</td>\n",
       "      <td>NaN</td>\n",
       "      <td>NaN</td>\n",
       "      <td>NaN</td>\n",
       "      <td>NaN</td>\n",
       "      <td>9.0</td>\n",
       "      <td>10.0</td>\n",
       "      <td>...</td>\n",
       "      <td>NaN</td>\n",
       "      <td>NaN</td>\n",
       "      <td>NaN</td>\n",
       "      <td>NaN</td>\n",
       "      <td>NaN</td>\n",
       "      <td>NaN</td>\n",
       "      <td>NaN</td>\n",
       "      <td>NaN</td>\n",
       "      <td>NaN</td>\n",
       "      <td>NaN</td>\n",
       "    </tr>\n",
       "    <tr>\n",
       "      <th>12</th>\n",
       "      <td>9.5</td>\n",
       "      <td>8.5</td>\n",
       "      <td>NaN</td>\n",
       "      <td>NaN</td>\n",
       "      <td>NaN</td>\n",
       "      <td>NaN</td>\n",
       "      <td>NaN</td>\n",
       "      <td>NaN</td>\n",
       "      <td>NaN</td>\n",
       "      <td>NaN</td>\n",
       "      <td>...</td>\n",
       "      <td>NaN</td>\n",
       "      <td>NaN</td>\n",
       "      <td>NaN</td>\n",
       "      <td>NaN</td>\n",
       "      <td>NaN</td>\n",
       "      <td>NaN</td>\n",
       "      <td>NaN</td>\n",
       "      <td>NaN</td>\n",
       "      <td>NaN</td>\n",
       "      <td>NaN</td>\n",
       "    </tr>\n",
       "    <tr>\n",
       "      <th>23</th>\n",
       "      <td>10.0</td>\n",
       "      <td>10.0</td>\n",
       "      <td>NaN</td>\n",
       "      <td>NaN</td>\n",
       "      <td>NaN</td>\n",
       "      <td>NaN</td>\n",
       "      <td>NaN</td>\n",
       "      <td>NaN</td>\n",
       "      <td>9.0</td>\n",
       "      <td>9.0</td>\n",
       "      <td>...</td>\n",
       "      <td>NaN</td>\n",
       "      <td>NaN</td>\n",
       "      <td>NaN</td>\n",
       "      <td>NaN</td>\n",
       "      <td>NaN</td>\n",
       "      <td>NaN</td>\n",
       "      <td>NaN</td>\n",
       "      <td>NaN</td>\n",
       "      <td>NaN</td>\n",
       "      <td>NaN</td>\n",
       "    </tr>\n",
       "    <tr>\n",
       "      <th>...</th>\n",
       "      <td>...</td>\n",
       "      <td>...</td>\n",
       "      <td>...</td>\n",
       "      <td>...</td>\n",
       "      <td>...</td>\n",
       "      <td>...</td>\n",
       "      <td>...</td>\n",
       "      <td>...</td>\n",
       "      <td>...</td>\n",
       "      <td>...</td>\n",
       "      <td>...</td>\n",
       "      <td>...</td>\n",
       "      <td>...</td>\n",
       "      <td>...</td>\n",
       "      <td>...</td>\n",
       "      <td>...</td>\n",
       "      <td>...</td>\n",
       "      <td>...</td>\n",
       "      <td>...</td>\n",
       "      <td>...</td>\n",
       "      <td>...</td>\n",
       "    </tr>\n",
       "    <tr>\n",
       "      <th>84562</th>\n",
       "      <td>8.0</td>\n",
       "      <td>8.0</td>\n",
       "      <td>NaN</td>\n",
       "      <td>NaN</td>\n",
       "      <td>7.0</td>\n",
       "      <td>NaN</td>\n",
       "      <td>NaN</td>\n",
       "      <td>NaN</td>\n",
       "      <td>6.0</td>\n",
       "      <td>9.0</td>\n",
       "      <td>...</td>\n",
       "      <td>NaN</td>\n",
       "      <td>NaN</td>\n",
       "      <td>NaN</td>\n",
       "      <td>NaN</td>\n",
       "      <td>NaN</td>\n",
       "      <td>NaN</td>\n",
       "      <td>NaN</td>\n",
       "      <td>NaN</td>\n",
       "      <td>NaN</td>\n",
       "      <td>NaN</td>\n",
       "    </tr>\n",
       "    <tr>\n",
       "      <th>84581</th>\n",
       "      <td>NaN</td>\n",
       "      <td>NaN</td>\n",
       "      <td>NaN</td>\n",
       "      <td>NaN</td>\n",
       "      <td>NaN</td>\n",
       "      <td>NaN</td>\n",
       "      <td>NaN</td>\n",
       "      <td>NaN</td>\n",
       "      <td>NaN</td>\n",
       "      <td>NaN</td>\n",
       "      <td>...</td>\n",
       "      <td>NaN</td>\n",
       "      <td>NaN</td>\n",
       "      <td>NaN</td>\n",
       "      <td>NaN</td>\n",
       "      <td>NaN</td>\n",
       "      <td>NaN</td>\n",
       "      <td>NaN</td>\n",
       "      <td>NaN</td>\n",
       "      <td>NaN</td>\n",
       "      <td>NaN</td>\n",
       "    </tr>\n",
       "    <tr>\n",
       "      <th>84597</th>\n",
       "      <td>NaN</td>\n",
       "      <td>7.5</td>\n",
       "      <td>NaN</td>\n",
       "      <td>NaN</td>\n",
       "      <td>NaN</td>\n",
       "      <td>NaN</td>\n",
       "      <td>NaN</td>\n",
       "      <td>NaN</td>\n",
       "      <td>NaN</td>\n",
       "      <td>NaN</td>\n",
       "      <td>...</td>\n",
       "      <td>NaN</td>\n",
       "      <td>NaN</td>\n",
       "      <td>NaN</td>\n",
       "      <td>NaN</td>\n",
       "      <td>NaN</td>\n",
       "      <td>NaN</td>\n",
       "      <td>NaN</td>\n",
       "      <td>NaN</td>\n",
       "      <td>NaN</td>\n",
       "      <td>NaN</td>\n",
       "    </tr>\n",
       "    <tr>\n",
       "      <th>84600</th>\n",
       "      <td>NaN</td>\n",
       "      <td>NaN</td>\n",
       "      <td>NaN</td>\n",
       "      <td>NaN</td>\n",
       "      <td>NaN</td>\n",
       "      <td>NaN</td>\n",
       "      <td>NaN</td>\n",
       "      <td>NaN</td>\n",
       "      <td>NaN</td>\n",
       "      <td>NaN</td>\n",
       "      <td>...</td>\n",
       "      <td>NaN</td>\n",
       "      <td>NaN</td>\n",
       "      <td>NaN</td>\n",
       "      <td>NaN</td>\n",
       "      <td>NaN</td>\n",
       "      <td>NaN</td>\n",
       "      <td>NaN</td>\n",
       "      <td>NaN</td>\n",
       "      <td>NaN</td>\n",
       "      <td>NaN</td>\n",
       "    </tr>\n",
       "    <tr>\n",
       "      <th>84605</th>\n",
       "      <td>NaN</td>\n",
       "      <td>8.5</td>\n",
       "      <td>NaN</td>\n",
       "      <td>NaN</td>\n",
       "      <td>NaN</td>\n",
       "      <td>NaN</td>\n",
       "      <td>NaN</td>\n",
       "      <td>NaN</td>\n",
       "      <td>NaN</td>\n",
       "      <td>8.0</td>\n",
       "      <td>...</td>\n",
       "      <td>NaN</td>\n",
       "      <td>NaN</td>\n",
       "      <td>NaN</td>\n",
       "      <td>NaN</td>\n",
       "      <td>NaN</td>\n",
       "      <td>NaN</td>\n",
       "      <td>NaN</td>\n",
       "      <td>NaN</td>\n",
       "      <td>NaN</td>\n",
       "      <td>NaN</td>\n",
       "    </tr>\n",
       "  </tbody>\n",
       "</table>\n",
       "<p>10873 rows × 3346 columns</p>\n",
       "</div>"
      ],
      "text/plain": [
       "Drama  1      7      9      10     11     13     14     15     17     18     \\\n",
       "User                                                                          \n",
       "1        NaN    NaN    NaN    NaN    NaN    NaN    NaN    NaN    NaN    NaN   \n",
       "6        9.0    6.5    NaN    NaN    NaN    NaN    NaN    NaN    NaN    8.0   \n",
       "10       NaN    9.5    NaN    NaN    NaN    NaN    NaN    NaN    9.0   10.0   \n",
       "12       9.5    8.5    NaN    NaN    NaN    NaN    NaN    NaN    NaN    NaN   \n",
       "23      10.0   10.0    NaN    NaN    NaN    NaN    NaN    NaN    9.0    9.0   \n",
       "...      ...    ...    ...    ...    ...    ...    ...    ...    ...    ...   \n",
       "84562    8.0    8.0    NaN    NaN    7.0    NaN    NaN    NaN    6.0    9.0   \n",
       "84581    NaN    NaN    NaN    NaN    NaN    NaN    NaN    NaN    NaN    NaN   \n",
       "84597    NaN    7.5    NaN    NaN    NaN    NaN    NaN    NaN    NaN    NaN   \n",
       "84600    NaN    NaN    NaN    NaN    NaN    NaN    NaN    NaN    NaN    NaN   \n",
       "84605    NaN    8.5    NaN    NaN    NaN    NaN    NaN    NaN    NaN    8.0   \n",
       "\n",
       "Drama  ...  44437  44472  44543  44690  44721  44909  45026  45472  45613  \\\n",
       "User   ...                                                                  \n",
       "1      ...    NaN    NaN    NaN    NaN    NaN    NaN    NaN    NaN    NaN   \n",
       "6      ...    NaN    NaN    NaN    NaN    NaN    NaN    NaN    NaN    NaN   \n",
       "10     ...    NaN    NaN    NaN    NaN    NaN    NaN    NaN    NaN    NaN   \n",
       "12     ...    NaN    NaN    NaN    NaN    NaN    NaN    NaN    NaN    NaN   \n",
       "23     ...    NaN    NaN    NaN    NaN    NaN    NaN    NaN    NaN    NaN   \n",
       "...    ...    ...    ...    ...    ...    ...    ...    ...    ...    ...   \n",
       "84562  ...    NaN    NaN    NaN    NaN    NaN    NaN    NaN    NaN    NaN   \n",
       "84581  ...    NaN    NaN    NaN    NaN    NaN    NaN    NaN    NaN    NaN   \n",
       "84597  ...    NaN    NaN    NaN    NaN    NaN    NaN    NaN    NaN    NaN   \n",
       "84600  ...    NaN    NaN    NaN    NaN    NaN    NaN    NaN    NaN    NaN   \n",
       "84605  ...    NaN    NaN    NaN    NaN    NaN    NaN    NaN    NaN    NaN   \n",
       "\n",
       "Drama  45877  \n",
       "User          \n",
       "1        NaN  \n",
       "6        NaN  \n",
       "10       NaN  \n",
       "12       NaN  \n",
       "23       NaN  \n",
       "...      ...  \n",
       "84562    NaN  \n",
       "84581    NaN  \n",
       "84597    NaN  \n",
       "84600    NaN  \n",
       "84605    NaN  \n",
       "\n",
       "[10873 rows x 3346 columns]"
      ]
     },
     "execution_count": 89,
     "metadata": {},
     "output_type": "execute_result"
    }
   ],
   "source": [
    "# Create a user-movie matrix with empty values\n",
    "df_p = df_train.pivot_table(index='User', columns='Drama', values='Rating')\n",
    "print('Shape User-Drama-Matrix:\\t{}'.format(df_p.shape))\n",
    "df_p"
   ]
  },
  {
   "cell_type": "code",
   "execution_count": 90,
   "id": "163e8c3b",
   "metadata": {},
   "outputs": [
    {
     "name": "stdout",
     "output_type": "stream",
     "text": [
      "NaNs in y_true: 0\n",
      "NaNs in y_pred: 0\n"
     ]
    }
   ],
   "source": [
    "# Top n movies\n",
    "n = 10\n",
    "\n",
    "# Computing the mean rating for all movies\n",
    "ratings_mean = df_p.mean(axis=0).sort_values(ascending=False).rename('Rating-Mean').to_frame()\n",
    "\n",
    "# Counting the ratings for all movies\n",
    "ratings_count = df_p.count(axis=0).rename('Rating-Count').to_frame()\n",
    "\n",
    "# Combining the ratings_mean, ratings_count and movie_titles\n",
    "ranking_mean_rating = ratings_mean.head(n).join(ratings_count).join(df_titles)\n",
    "\n",
    "\n",
    "# Join labels and predictions\n",
    "df_prediction = df_test.set_index('Drama').join(ratings_mean)[['Rating', 'Rating-Mean']]\n",
    "y_true = df_prediction['Rating']\n",
    "y_pred = df_prediction['Rating-Mean']\n",
    "\n",
    "# Check for NaNs in both y_true and y_pred\n",
    "nan_in_y_true = y_true.isna().sum()\n",
    "nan_in_y_pred = y_pred.isna().sum()\n",
    "\n",
    "print(f\"NaNs in y_true: {nan_in_y_true}\")\n",
    "print(f\"NaNs in y_pred: {nan_in_y_pred}\")\n",
    "\n",
    "# had a problem with NAN values in my dataset. \n",
    "# so may have to remove rows with NaNs in either column beforehand\n",
    "#df_prediction = df_prediction.dropna(subset=['Rating', 'Rating-Mean'])\n",
    "\n",
    "# Or we can impute NaNs instead by using the mean\n",
    "df_prediction['Rating'].fillna(df_prediction['Rating'].mean(), inplace=True)\n",
    "df_prediction['Rating-Mean'].fillna(df_prediction['Rating-Mean'].mean(), inplace=True)\n",
    "\n",
    "# Update y_true and y_pred after handling NaNs\n",
    "y_true = df_prediction['Rating']\n",
    "y_pred = df_prediction['Rating-Mean']\n",
    "\n",
    "# Compute RMSE\n",
    "rmse = np.sqrt(mean_squared_error(y_true=y_true, y_pred=y_pred))\n",
    "\n",
    "# must check if nans in data:"
   ]
  },
  {
   "cell_type": "code",
   "execution_count": 91,
   "id": "de3c2c3b",
   "metadata": {},
   "outputs": [
    {
     "data": {
      "application/vnd.plotly.v1+json": {
       "config": {
        "linkText": "Export to plot.ly",
        "plotlyServerURL": "https://plot.ly",
        "showLink": false
       },
       "data": [
        {
         "marker": {
          "color": "#db0000"
         },
         "orientation": "h",
         "text": [
          "move to heaven: 3536 Ratings",
          "reset: 1957 Ratings",
          "hospital playlist season 2: 3016 Ratings",
          "flower of evil: 5056 Ratings",
          "hospital playlist: 4478 Ratings",
          "the untamed: 3211 Ratings",
          "bad buddy: 2324 Ratings",
          "prison playbook: 3752 Ratings",
          "healer: 7571 Ratings",
          "it's okay to not be okay: 6661 Ratings"
         ],
         "textfont": {
          "color": "#000000"
         },
         "textposition": "outside",
         "type": "bar",
         "x": [
          8.685237556561086,
          8.545988758303526,
          8.531664456233422,
          8.498318829113924,
          8.399508709245199,
          8.393646838990968,
          8.393072289156626,
          8.37433368869936,
          8.359331660282658,
          8.349046689686233
         ],
         "y": [
          1,
          2,
          3,
          4,
          5,
          6,
          7,
          8,
          9,
          10
         ]
        }
       ],
       "layout": {
        "template": {
         "data": {
          "bar": [
           {
            "error_x": {
             "color": "#2a3f5f"
            },
            "error_y": {
             "color": "#2a3f5f"
            },
            "marker": {
             "line": {
              "color": "#E5ECF6",
              "width": 0.5
             },
             "pattern": {
              "fillmode": "overlay",
              "size": 10,
              "solidity": 0.2
             }
            },
            "type": "bar"
           }
          ],
          "barpolar": [
           {
            "marker": {
             "line": {
              "color": "#E5ECF6",
              "width": 0.5
             },
             "pattern": {
              "fillmode": "overlay",
              "size": 10,
              "solidity": 0.2
             }
            },
            "type": "barpolar"
           }
          ],
          "carpet": [
           {
            "aaxis": {
             "endlinecolor": "#2a3f5f",
             "gridcolor": "white",
             "linecolor": "white",
             "minorgridcolor": "white",
             "startlinecolor": "#2a3f5f"
            },
            "baxis": {
             "endlinecolor": "#2a3f5f",
             "gridcolor": "white",
             "linecolor": "white",
             "minorgridcolor": "white",
             "startlinecolor": "#2a3f5f"
            },
            "type": "carpet"
           }
          ],
          "choropleth": [
           {
            "colorbar": {
             "outlinewidth": 0,
             "ticks": ""
            },
            "type": "choropleth"
           }
          ],
          "contour": [
           {
            "colorbar": {
             "outlinewidth": 0,
             "ticks": ""
            },
            "colorscale": [
             [
              0,
              "#0d0887"
             ],
             [
              0.1111111111111111,
              "#46039f"
             ],
             [
              0.2222222222222222,
              "#7201a8"
             ],
             [
              0.3333333333333333,
              "#9c179e"
             ],
             [
              0.4444444444444444,
              "#bd3786"
             ],
             [
              0.5555555555555556,
              "#d8576b"
             ],
             [
              0.6666666666666666,
              "#ed7953"
             ],
             [
              0.7777777777777778,
              "#fb9f3a"
             ],
             [
              0.8888888888888888,
              "#fdca26"
             ],
             [
              1,
              "#f0f921"
             ]
            ],
            "type": "contour"
           }
          ],
          "contourcarpet": [
           {
            "colorbar": {
             "outlinewidth": 0,
             "ticks": ""
            },
            "type": "contourcarpet"
           }
          ],
          "heatmap": [
           {
            "colorbar": {
             "outlinewidth": 0,
             "ticks": ""
            },
            "colorscale": [
             [
              0,
              "#0d0887"
             ],
             [
              0.1111111111111111,
              "#46039f"
             ],
             [
              0.2222222222222222,
              "#7201a8"
             ],
             [
              0.3333333333333333,
              "#9c179e"
             ],
             [
              0.4444444444444444,
              "#bd3786"
             ],
             [
              0.5555555555555556,
              "#d8576b"
             ],
             [
              0.6666666666666666,
              "#ed7953"
             ],
             [
              0.7777777777777778,
              "#fb9f3a"
             ],
             [
              0.8888888888888888,
              "#fdca26"
             ],
             [
              1,
              "#f0f921"
             ]
            ],
            "type": "heatmap"
           }
          ],
          "heatmapgl": [
           {
            "colorbar": {
             "outlinewidth": 0,
             "ticks": ""
            },
            "colorscale": [
             [
              0,
              "#0d0887"
             ],
             [
              0.1111111111111111,
              "#46039f"
             ],
             [
              0.2222222222222222,
              "#7201a8"
             ],
             [
              0.3333333333333333,
              "#9c179e"
             ],
             [
              0.4444444444444444,
              "#bd3786"
             ],
             [
              0.5555555555555556,
              "#d8576b"
             ],
             [
              0.6666666666666666,
              "#ed7953"
             ],
             [
              0.7777777777777778,
              "#fb9f3a"
             ],
             [
              0.8888888888888888,
              "#fdca26"
             ],
             [
              1,
              "#f0f921"
             ]
            ],
            "type": "heatmapgl"
           }
          ],
          "histogram": [
           {
            "marker": {
             "pattern": {
              "fillmode": "overlay",
              "size": 10,
              "solidity": 0.2
             }
            },
            "type": "histogram"
           }
          ],
          "histogram2d": [
           {
            "colorbar": {
             "outlinewidth": 0,
             "ticks": ""
            },
            "colorscale": [
             [
              0,
              "#0d0887"
             ],
             [
              0.1111111111111111,
              "#46039f"
             ],
             [
              0.2222222222222222,
              "#7201a8"
             ],
             [
              0.3333333333333333,
              "#9c179e"
             ],
             [
              0.4444444444444444,
              "#bd3786"
             ],
             [
              0.5555555555555556,
              "#d8576b"
             ],
             [
              0.6666666666666666,
              "#ed7953"
             ],
             [
              0.7777777777777778,
              "#fb9f3a"
             ],
             [
              0.8888888888888888,
              "#fdca26"
             ],
             [
              1,
              "#f0f921"
             ]
            ],
            "type": "histogram2d"
           }
          ],
          "histogram2dcontour": [
           {
            "colorbar": {
             "outlinewidth": 0,
             "ticks": ""
            },
            "colorscale": [
             [
              0,
              "#0d0887"
             ],
             [
              0.1111111111111111,
              "#46039f"
             ],
             [
              0.2222222222222222,
              "#7201a8"
             ],
             [
              0.3333333333333333,
              "#9c179e"
             ],
             [
              0.4444444444444444,
              "#bd3786"
             ],
             [
              0.5555555555555556,
              "#d8576b"
             ],
             [
              0.6666666666666666,
              "#ed7953"
             ],
             [
              0.7777777777777778,
              "#fb9f3a"
             ],
             [
              0.8888888888888888,
              "#fdca26"
             ],
             [
              1,
              "#f0f921"
             ]
            ],
            "type": "histogram2dcontour"
           }
          ],
          "mesh3d": [
           {
            "colorbar": {
             "outlinewidth": 0,
             "ticks": ""
            },
            "type": "mesh3d"
           }
          ],
          "parcoords": [
           {
            "line": {
             "colorbar": {
              "outlinewidth": 0,
              "ticks": ""
             }
            },
            "type": "parcoords"
           }
          ],
          "pie": [
           {
            "automargin": true,
            "type": "pie"
           }
          ],
          "scatter": [
           {
            "fillpattern": {
             "fillmode": "overlay",
             "size": 10,
             "solidity": 0.2
            },
            "type": "scatter"
           }
          ],
          "scatter3d": [
           {
            "line": {
             "colorbar": {
              "outlinewidth": 0,
              "ticks": ""
             }
            },
            "marker": {
             "colorbar": {
              "outlinewidth": 0,
              "ticks": ""
             }
            },
            "type": "scatter3d"
           }
          ],
          "scattercarpet": [
           {
            "marker": {
             "colorbar": {
              "outlinewidth": 0,
              "ticks": ""
             }
            },
            "type": "scattercarpet"
           }
          ],
          "scattergeo": [
           {
            "marker": {
             "colorbar": {
              "outlinewidth": 0,
              "ticks": ""
             }
            },
            "type": "scattergeo"
           }
          ],
          "scattergl": [
           {
            "marker": {
             "colorbar": {
              "outlinewidth": 0,
              "ticks": ""
             }
            },
            "type": "scattergl"
           }
          ],
          "scattermapbox": [
           {
            "marker": {
             "colorbar": {
              "outlinewidth": 0,
              "ticks": ""
             }
            },
            "type": "scattermapbox"
           }
          ],
          "scatterpolar": [
           {
            "marker": {
             "colorbar": {
              "outlinewidth": 0,
              "ticks": ""
             }
            },
            "type": "scatterpolar"
           }
          ],
          "scatterpolargl": [
           {
            "marker": {
             "colorbar": {
              "outlinewidth": 0,
              "ticks": ""
             }
            },
            "type": "scatterpolargl"
           }
          ],
          "scatterternary": [
           {
            "marker": {
             "colorbar": {
              "outlinewidth": 0,
              "ticks": ""
             }
            },
            "type": "scatterternary"
           }
          ],
          "surface": [
           {
            "colorbar": {
             "outlinewidth": 0,
             "ticks": ""
            },
            "colorscale": [
             [
              0,
              "#0d0887"
             ],
             [
              0.1111111111111111,
              "#46039f"
             ],
             [
              0.2222222222222222,
              "#7201a8"
             ],
             [
              0.3333333333333333,
              "#9c179e"
             ],
             [
              0.4444444444444444,
              "#bd3786"
             ],
             [
              0.5555555555555556,
              "#d8576b"
             ],
             [
              0.6666666666666666,
              "#ed7953"
             ],
             [
              0.7777777777777778,
              "#fb9f3a"
             ],
             [
              0.8888888888888888,
              "#fdca26"
             ],
             [
              1,
              "#f0f921"
             ]
            ],
            "type": "surface"
           }
          ],
          "table": [
           {
            "cells": {
             "fill": {
              "color": "#EBF0F8"
             },
             "line": {
              "color": "white"
             }
            },
            "header": {
             "fill": {
              "color": "#C8D4E3"
             },
             "line": {
              "color": "white"
             }
            },
            "type": "table"
           }
          ]
         },
         "layout": {
          "annotationdefaults": {
           "arrowcolor": "#2a3f5f",
           "arrowhead": 0,
           "arrowwidth": 1
          },
          "autotypenumbers": "strict",
          "coloraxis": {
           "colorbar": {
            "outlinewidth": 0,
            "ticks": ""
           }
          },
          "colorscale": {
           "diverging": [
            [
             0,
             "#8e0152"
            ],
            [
             0.1,
             "#c51b7d"
            ],
            [
             0.2,
             "#de77ae"
            ],
            [
             0.3,
             "#f1b6da"
            ],
            [
             0.4,
             "#fde0ef"
            ],
            [
             0.5,
             "#f7f7f7"
            ],
            [
             0.6,
             "#e6f5d0"
            ],
            [
             0.7,
             "#b8e186"
            ],
            [
             0.8,
             "#7fbc41"
            ],
            [
             0.9,
             "#4d9221"
            ],
            [
             1,
             "#276419"
            ]
           ],
           "sequential": [
            [
             0,
             "#0d0887"
            ],
            [
             0.1111111111111111,
             "#46039f"
            ],
            [
             0.2222222222222222,
             "#7201a8"
            ],
            [
             0.3333333333333333,
             "#9c179e"
            ],
            [
             0.4444444444444444,
             "#bd3786"
            ],
            [
             0.5555555555555556,
             "#d8576b"
            ],
            [
             0.6666666666666666,
             "#ed7953"
            ],
            [
             0.7777777777777778,
             "#fb9f3a"
            ],
            [
             0.8888888888888888,
             "#fdca26"
            ],
            [
             1,
             "#f0f921"
            ]
           ],
           "sequentialminus": [
            [
             0,
             "#0d0887"
            ],
            [
             0.1111111111111111,
             "#46039f"
            ],
            [
             0.2222222222222222,
             "#7201a8"
            ],
            [
             0.3333333333333333,
             "#9c179e"
            ],
            [
             0.4444444444444444,
             "#bd3786"
            ],
            [
             0.5555555555555556,
             "#d8576b"
            ],
            [
             0.6666666666666666,
             "#ed7953"
            ],
            [
             0.7777777777777778,
             "#fb9f3a"
            ],
            [
             0.8888888888888888,
             "#fdca26"
            ],
            [
             1,
             "#f0f921"
            ]
           ]
          },
          "colorway": [
           "#636efa",
           "#EF553B",
           "#00cc96",
           "#ab63fa",
           "#FFA15A",
           "#19d3f3",
           "#FF6692",
           "#B6E880",
           "#FF97FF",
           "#FECB52"
          ],
          "font": {
           "color": "#2a3f5f"
          },
          "geo": {
           "bgcolor": "white",
           "lakecolor": "white",
           "landcolor": "#E5ECF6",
           "showlakes": true,
           "showland": true,
           "subunitcolor": "white"
          },
          "hoverlabel": {
           "align": "left"
          },
          "hovermode": "closest",
          "mapbox": {
           "style": "light"
          },
          "paper_bgcolor": "white",
          "plot_bgcolor": "#E5ECF6",
          "polar": {
           "angularaxis": {
            "gridcolor": "white",
            "linecolor": "white",
            "ticks": ""
           },
           "bgcolor": "#E5ECF6",
           "radialaxis": {
            "gridcolor": "white",
            "linecolor": "white",
            "ticks": ""
           }
          },
          "scene": {
           "xaxis": {
            "backgroundcolor": "#E5ECF6",
            "gridcolor": "white",
            "gridwidth": 2,
            "linecolor": "white",
            "showbackground": true,
            "ticks": "",
            "zerolinecolor": "white"
           },
           "yaxis": {
            "backgroundcolor": "#E5ECF6",
            "gridcolor": "white",
            "gridwidth": 2,
            "linecolor": "white",
            "showbackground": true,
            "ticks": "",
            "zerolinecolor": "white"
           },
           "zaxis": {
            "backgroundcolor": "#E5ECF6",
            "gridcolor": "white",
            "gridwidth": 2,
            "linecolor": "white",
            "showbackground": true,
            "ticks": "",
            "zerolinecolor": "white"
           }
          },
          "shapedefaults": {
           "line": {
            "color": "#2a3f5f"
           }
          },
          "ternary": {
           "aaxis": {
            "gridcolor": "white",
            "linecolor": "white",
            "ticks": ""
           },
           "baxis": {
            "gridcolor": "white",
            "linecolor": "white",
            "ticks": ""
           },
           "bgcolor": "#E5ECF6",
           "caxis": {
            "gridcolor": "white",
            "linecolor": "white",
            "ticks": ""
           }
          },
          "title": {
           "x": 0.05
          },
          "xaxis": {
           "automargin": true,
           "gridcolor": "white",
           "linecolor": "white",
           "ticks": "",
           "title": {
            "standoff": 15
           },
           "zerolinecolor": "white",
           "zerolinewidth": 2
          },
          "yaxis": {
           "automargin": true,
           "gridcolor": "white",
           "linecolor": "white",
           "ticks": "",
           "title": {
            "standoff": 15
           },
           "zerolinecolor": "white",
           "zerolinewidth": 2
          }
         }
        },
        "title": {
         "text": "Ranking Of Top 10 Mean-Drama-Ratings: 2.9382 RMSE"
        },
        "xaxis": {
         "range": [
          8,
          10
         ],
         "title": {
          "text": "Mean-Rating"
         }
        },
        "yaxis": {
         "title": {
          "text": "Drama"
         }
        }
       }
      },
      "text/html": [
       "<div>                            <div id=\"a19a1174-306f-4427-9d8f-966b0268e508\" class=\"plotly-graph-div\" style=\"height:525px; width:100%;\"></div>            <script type=\"text/javascript\">                require([\"plotly\"], function(Plotly) {                    window.PLOTLYENV=window.PLOTLYENV || {};                                    if (document.getElementById(\"a19a1174-306f-4427-9d8f-966b0268e508\")) {                    Plotly.newPlot(                        \"a19a1174-306f-4427-9d8f-966b0268e508\",                        [{\"marker\":{\"color\":\"#db0000\"},\"orientation\":\"h\",\"text\":[\"move to heaven: 3536 Ratings\",\"reset: 1957 Ratings\",\"hospital playlist season 2: 3016 Ratings\",\"flower of evil: 5056 Ratings\",\"hospital playlist: 4478 Ratings\",\"the untamed: 3211 Ratings\",\"bad buddy: 2324 Ratings\",\"prison playbook: 3752 Ratings\",\"healer: 7571 Ratings\",\"it's okay to not be okay: 6661 Ratings\"],\"textfont\":{\"color\":\"#000000\"},\"textposition\":\"outside\",\"x\":[8.685237556561086,8.545988758303526,8.531664456233422,8.498318829113924,8.399508709245199,8.393646838990968,8.393072289156626,8.37433368869936,8.359331660282658,8.349046689686233],\"y\":[1,2,3,4,5,6,7,8,9,10],\"type\":\"bar\"}],                        {\"template\":{\"data\":{\"barpolar\":[{\"marker\":{\"line\":{\"color\":\"#E5ECF6\",\"width\":0.5},\"pattern\":{\"fillmode\":\"overlay\",\"size\":10,\"solidity\":0.2}},\"type\":\"barpolar\"}],\"bar\":[{\"error_x\":{\"color\":\"#2a3f5f\"},\"error_y\":{\"color\":\"#2a3f5f\"},\"marker\":{\"line\":{\"color\":\"#E5ECF6\",\"width\":0.5},\"pattern\":{\"fillmode\":\"overlay\",\"size\":10,\"solidity\":0.2}},\"type\":\"bar\"}],\"carpet\":[{\"aaxis\":{\"endlinecolor\":\"#2a3f5f\",\"gridcolor\":\"white\",\"linecolor\":\"white\",\"minorgridcolor\":\"white\",\"startlinecolor\":\"#2a3f5f\"},\"baxis\":{\"endlinecolor\":\"#2a3f5f\",\"gridcolor\":\"white\",\"linecolor\":\"white\",\"minorgridcolor\":\"white\",\"startlinecolor\":\"#2a3f5f\"},\"type\":\"carpet\"}],\"choropleth\":[{\"colorbar\":{\"outlinewidth\":0,\"ticks\":\"\"},\"type\":\"choropleth\"}],\"contourcarpet\":[{\"colorbar\":{\"outlinewidth\":0,\"ticks\":\"\"},\"type\":\"contourcarpet\"}],\"contour\":[{\"colorbar\":{\"outlinewidth\":0,\"ticks\":\"\"},\"colorscale\":[[0.0,\"#0d0887\"],[0.1111111111111111,\"#46039f\"],[0.2222222222222222,\"#7201a8\"],[0.3333333333333333,\"#9c179e\"],[0.4444444444444444,\"#bd3786\"],[0.5555555555555556,\"#d8576b\"],[0.6666666666666666,\"#ed7953\"],[0.7777777777777778,\"#fb9f3a\"],[0.8888888888888888,\"#fdca26\"],[1.0,\"#f0f921\"]],\"type\":\"contour\"}],\"heatmapgl\":[{\"colorbar\":{\"outlinewidth\":0,\"ticks\":\"\"},\"colorscale\":[[0.0,\"#0d0887\"],[0.1111111111111111,\"#46039f\"],[0.2222222222222222,\"#7201a8\"],[0.3333333333333333,\"#9c179e\"],[0.4444444444444444,\"#bd3786\"],[0.5555555555555556,\"#d8576b\"],[0.6666666666666666,\"#ed7953\"],[0.7777777777777778,\"#fb9f3a\"],[0.8888888888888888,\"#fdca26\"],[1.0,\"#f0f921\"]],\"type\":\"heatmapgl\"}],\"heatmap\":[{\"colorbar\":{\"outlinewidth\":0,\"ticks\":\"\"},\"colorscale\":[[0.0,\"#0d0887\"],[0.1111111111111111,\"#46039f\"],[0.2222222222222222,\"#7201a8\"],[0.3333333333333333,\"#9c179e\"],[0.4444444444444444,\"#bd3786\"],[0.5555555555555556,\"#d8576b\"],[0.6666666666666666,\"#ed7953\"],[0.7777777777777778,\"#fb9f3a\"],[0.8888888888888888,\"#fdca26\"],[1.0,\"#f0f921\"]],\"type\":\"heatmap\"}],\"histogram2dcontour\":[{\"colorbar\":{\"outlinewidth\":0,\"ticks\":\"\"},\"colorscale\":[[0.0,\"#0d0887\"],[0.1111111111111111,\"#46039f\"],[0.2222222222222222,\"#7201a8\"],[0.3333333333333333,\"#9c179e\"],[0.4444444444444444,\"#bd3786\"],[0.5555555555555556,\"#d8576b\"],[0.6666666666666666,\"#ed7953\"],[0.7777777777777778,\"#fb9f3a\"],[0.8888888888888888,\"#fdca26\"],[1.0,\"#f0f921\"]],\"type\":\"histogram2dcontour\"}],\"histogram2d\":[{\"colorbar\":{\"outlinewidth\":0,\"ticks\":\"\"},\"colorscale\":[[0.0,\"#0d0887\"],[0.1111111111111111,\"#46039f\"],[0.2222222222222222,\"#7201a8\"],[0.3333333333333333,\"#9c179e\"],[0.4444444444444444,\"#bd3786\"],[0.5555555555555556,\"#d8576b\"],[0.6666666666666666,\"#ed7953\"],[0.7777777777777778,\"#fb9f3a\"],[0.8888888888888888,\"#fdca26\"],[1.0,\"#f0f921\"]],\"type\":\"histogram2d\"}],\"histogram\":[{\"marker\":{\"pattern\":{\"fillmode\":\"overlay\",\"size\":10,\"solidity\":0.2}},\"type\":\"histogram\"}],\"mesh3d\":[{\"colorbar\":{\"outlinewidth\":0,\"ticks\":\"\"},\"type\":\"mesh3d\"}],\"parcoords\":[{\"line\":{\"colorbar\":{\"outlinewidth\":0,\"ticks\":\"\"}},\"type\":\"parcoords\"}],\"pie\":[{\"automargin\":true,\"type\":\"pie\"}],\"scatter3d\":[{\"line\":{\"colorbar\":{\"outlinewidth\":0,\"ticks\":\"\"}},\"marker\":{\"colorbar\":{\"outlinewidth\":0,\"ticks\":\"\"}},\"type\":\"scatter3d\"}],\"scattercarpet\":[{\"marker\":{\"colorbar\":{\"outlinewidth\":0,\"ticks\":\"\"}},\"type\":\"scattercarpet\"}],\"scattergeo\":[{\"marker\":{\"colorbar\":{\"outlinewidth\":0,\"ticks\":\"\"}},\"type\":\"scattergeo\"}],\"scattergl\":[{\"marker\":{\"colorbar\":{\"outlinewidth\":0,\"ticks\":\"\"}},\"type\":\"scattergl\"}],\"scattermapbox\":[{\"marker\":{\"colorbar\":{\"outlinewidth\":0,\"ticks\":\"\"}},\"type\":\"scattermapbox\"}],\"scatterpolargl\":[{\"marker\":{\"colorbar\":{\"outlinewidth\":0,\"ticks\":\"\"}},\"type\":\"scatterpolargl\"}],\"scatterpolar\":[{\"marker\":{\"colorbar\":{\"outlinewidth\":0,\"ticks\":\"\"}},\"type\":\"scatterpolar\"}],\"scatter\":[{\"fillpattern\":{\"fillmode\":\"overlay\",\"size\":10,\"solidity\":0.2},\"type\":\"scatter\"}],\"scatterternary\":[{\"marker\":{\"colorbar\":{\"outlinewidth\":0,\"ticks\":\"\"}},\"type\":\"scatterternary\"}],\"surface\":[{\"colorbar\":{\"outlinewidth\":0,\"ticks\":\"\"},\"colorscale\":[[0.0,\"#0d0887\"],[0.1111111111111111,\"#46039f\"],[0.2222222222222222,\"#7201a8\"],[0.3333333333333333,\"#9c179e\"],[0.4444444444444444,\"#bd3786\"],[0.5555555555555556,\"#d8576b\"],[0.6666666666666666,\"#ed7953\"],[0.7777777777777778,\"#fb9f3a\"],[0.8888888888888888,\"#fdca26\"],[1.0,\"#f0f921\"]],\"type\":\"surface\"}],\"table\":[{\"cells\":{\"fill\":{\"color\":\"#EBF0F8\"},\"line\":{\"color\":\"white\"}},\"header\":{\"fill\":{\"color\":\"#C8D4E3\"},\"line\":{\"color\":\"white\"}},\"type\":\"table\"}]},\"layout\":{\"annotationdefaults\":{\"arrowcolor\":\"#2a3f5f\",\"arrowhead\":0,\"arrowwidth\":1},\"autotypenumbers\":\"strict\",\"coloraxis\":{\"colorbar\":{\"outlinewidth\":0,\"ticks\":\"\"}},\"colorscale\":{\"diverging\":[[0,\"#8e0152\"],[0.1,\"#c51b7d\"],[0.2,\"#de77ae\"],[0.3,\"#f1b6da\"],[0.4,\"#fde0ef\"],[0.5,\"#f7f7f7\"],[0.6,\"#e6f5d0\"],[0.7,\"#b8e186\"],[0.8,\"#7fbc41\"],[0.9,\"#4d9221\"],[1,\"#276419\"]],\"sequential\":[[0.0,\"#0d0887\"],[0.1111111111111111,\"#46039f\"],[0.2222222222222222,\"#7201a8\"],[0.3333333333333333,\"#9c179e\"],[0.4444444444444444,\"#bd3786\"],[0.5555555555555556,\"#d8576b\"],[0.6666666666666666,\"#ed7953\"],[0.7777777777777778,\"#fb9f3a\"],[0.8888888888888888,\"#fdca26\"],[1.0,\"#f0f921\"]],\"sequentialminus\":[[0.0,\"#0d0887\"],[0.1111111111111111,\"#46039f\"],[0.2222222222222222,\"#7201a8\"],[0.3333333333333333,\"#9c179e\"],[0.4444444444444444,\"#bd3786\"],[0.5555555555555556,\"#d8576b\"],[0.6666666666666666,\"#ed7953\"],[0.7777777777777778,\"#fb9f3a\"],[0.8888888888888888,\"#fdca26\"],[1.0,\"#f0f921\"]]},\"colorway\":[\"#636efa\",\"#EF553B\",\"#00cc96\",\"#ab63fa\",\"#FFA15A\",\"#19d3f3\",\"#FF6692\",\"#B6E880\",\"#FF97FF\",\"#FECB52\"],\"font\":{\"color\":\"#2a3f5f\"},\"geo\":{\"bgcolor\":\"white\",\"lakecolor\":\"white\",\"landcolor\":\"#E5ECF6\",\"showlakes\":true,\"showland\":true,\"subunitcolor\":\"white\"},\"hoverlabel\":{\"align\":\"left\"},\"hovermode\":\"closest\",\"mapbox\":{\"style\":\"light\"},\"paper_bgcolor\":\"white\",\"plot_bgcolor\":\"#E5ECF6\",\"polar\":{\"angularaxis\":{\"gridcolor\":\"white\",\"linecolor\":\"white\",\"ticks\":\"\"},\"bgcolor\":\"#E5ECF6\",\"radialaxis\":{\"gridcolor\":\"white\",\"linecolor\":\"white\",\"ticks\":\"\"}},\"scene\":{\"xaxis\":{\"backgroundcolor\":\"#E5ECF6\",\"gridcolor\":\"white\",\"gridwidth\":2,\"linecolor\":\"white\",\"showbackground\":true,\"ticks\":\"\",\"zerolinecolor\":\"white\"},\"yaxis\":{\"backgroundcolor\":\"#E5ECF6\",\"gridcolor\":\"white\",\"gridwidth\":2,\"linecolor\":\"white\",\"showbackground\":true,\"ticks\":\"\",\"zerolinecolor\":\"white\"},\"zaxis\":{\"backgroundcolor\":\"#E5ECF6\",\"gridcolor\":\"white\",\"gridwidth\":2,\"linecolor\":\"white\",\"showbackground\":true,\"ticks\":\"\",\"zerolinecolor\":\"white\"}},\"shapedefaults\":{\"line\":{\"color\":\"#2a3f5f\"}},\"ternary\":{\"aaxis\":{\"gridcolor\":\"white\",\"linecolor\":\"white\",\"ticks\":\"\"},\"baxis\":{\"gridcolor\":\"white\",\"linecolor\":\"white\",\"ticks\":\"\"},\"bgcolor\":\"#E5ECF6\",\"caxis\":{\"gridcolor\":\"white\",\"linecolor\":\"white\",\"ticks\":\"\"}},\"title\":{\"x\":0.05},\"xaxis\":{\"automargin\":true,\"gridcolor\":\"white\",\"linecolor\":\"white\",\"ticks\":\"\",\"title\":{\"standoff\":15},\"zerolinecolor\":\"white\",\"zerolinewidth\":2},\"yaxis\":{\"automargin\":true,\"gridcolor\":\"white\",\"linecolor\":\"white\",\"ticks\":\"\",\"title\":{\"standoff\":15},\"zerolinecolor\":\"white\",\"zerolinewidth\":2}}},\"title\":{\"text\":\"Ranking Of Top 10 Mean-Drama-Ratings: 2.9382 RMSE\"},\"xaxis\":{\"range\":[8,10],\"title\":{\"text\":\"Mean-Rating\"}},\"yaxis\":{\"title\":{\"text\":\"Drama\"}}},                        {\"responsive\": true}                    ).then(function(){\n",
       "                            \n",
       "var gd = document.getElementById('a19a1174-306f-4427-9d8f-966b0268e508');\n",
       "var x = new MutationObserver(function (mutations, observer) {{\n",
       "        var display = window.getComputedStyle(gd).display;\n",
       "        if (!display || display === 'none') {{\n",
       "            console.log([gd, 'removed!']);\n",
       "            Plotly.purge(gd);\n",
       "            observer.disconnect();\n",
       "        }}\n",
       "}});\n",
       "\n",
       "// Listen for the removal of the full notebook cells\n",
       "var notebookContainer = gd.closest('#notebook-container');\n",
       "if (notebookContainer) {{\n",
       "    x.observe(notebookContainer, {childList: true});\n",
       "}}\n",
       "\n",
       "// Listen for the clearing of the current output cell\n",
       "var outputEl = gd.closest('.output');\n",
       "if (outputEl) {{\n",
       "    x.observe(outputEl, {childList: true});\n",
       "}}\n",
       "\n",
       "                        })                };                });            </script>        </div>"
      ]
     },
     "metadata": {},
     "output_type": "display_data"
    }
   ],
   "source": [
    "# creating the visual of the top mean ratings\n",
    "trace = go.Bar(x = ranking_mean_rating['Rating-Mean'],\n",
    "               text = ranking_mean_rating['Name'].astype(str) +': '+ ranking_mean_rating['Rating-Count'].astype(str) + ' Ratings',\n",
    "               textposition = 'outside',\n",
    "               textfont = dict(color = '#000000'),\n",
    "               orientation = 'h',\n",
    "               y = list(range(1, n+1)),\n",
    "               marker = dict(color = '#db0000'))\n",
    "# Create layout\n",
    "layout = dict(title = 'Ranking Of Top {} Mean-Drama-Ratings: {:.4f} RMSE'.format(n, rmse),\n",
    "              xaxis = dict(title = 'Mean-Rating',\n",
    "                          range = (8, 10)),\n",
    "              yaxis = dict(title = 'Drama'))\n",
    "# Create plot\n",
    "fig = go.Figure(data=[trace], layout=layout)\n",
    "iplot(fig)"
   ]
  },
  {
   "cell_type": "code",
   "execution_count": 92,
   "id": "60295d47",
   "metadata": {},
   "outputs": [],
   "source": [
    "# most low rated dramas have been removed, but lets make it so minimum is 200\n",
    "m = 200\n",
    "\n",
    "# Mean rating for all dramas\n",
    "C = df_p.stack().mean()\n",
    "\n",
    "# Mean rating for all dramas separately\n",
    "R = df_p.mean(axis=0).values\n",
    "\n",
    "# Rating count for all dramas separately\n",
    "v = df_p.count().values\n",
    "\n",
    "\n",
    "# weighted formula\n",
    "weighted_score = (v/ (v+m) *R) + (m/ (v+m) *C)\n",
    "# Sort ids to ranking\n",
    "weighted_ranking = np.argsort(weighted_score)[::-1]\n",
    "# Sort scores to ranking\n",
    "weighted_score = np.sort(weighted_score)[::-1]\n",
    "# Get drama sids\n",
    "weighted_drama_ids = df_p.columns[weighted_ranking]\n",
    "\n",
    "\n",
    "# Join labels and predictions\n",
    "df_prediction = df_test.set_index('Drama').join(pd.DataFrame(weighted_score, index=weighted_drama_ids, columns=['Prediction']))[['Rating', 'Prediction']]\n",
    "y_true = df_prediction['Rating']\n",
    "y_pred = df_prediction['Prediction']\n",
    "\n",
    "# Compute RMSE\n",
    "rmse = np.sqrt(mean_squared_error(y_true=y_true, y_pred=y_pred))\n"
   ]
  },
  {
   "cell_type": "code",
   "execution_count": 93,
   "id": "204e8711",
   "metadata": {},
   "outputs": [
    {
     "data": {
      "application/vnd.plotly.v1+json": {
       "config": {
        "linkText": "Export to plot.ly",
        "plotlyServerURL": "https://plot.ly",
        "showLink": false
       },
       "data": [
        {
         "marker": {
          "color": "#db0000"
         },
         "orientation": "h",
         "text": [
          "move to heaven: 3536 Ratings",
          "flower of evil: 5056 Ratings",
          "hospital playlist season 2: 3016 Ratings",
          "reset: 1957 Ratings",
          "hospital playlist: 4478 Ratings",
          "healer: 7571 Ratings",
          "it's okay to not be okay: 6661 Ratings",
          "the untamed: 3211 Ratings",
          "prison playbook: 3752 Ratings",
          "bad buddy: 2324 Ratings"
         ],
         "textfont": {
          "color": "#000000"
         },
         "textposition": "outside",
         "type": "bar",
         "x": [
          8.587598512151077,
          8.436028927206321,
          8.427788570085953,
          8.389785832821708,
          8.333746909233952,
          8.320778283540912,
          8.305679644570242,
          8.303801829784938,
          8.29776519266104,
          8.271698907050881
         ],
         "y": [
          1,
          2,
          3,
          4,
          5,
          6,
          7,
          8,
          9,
          10
         ]
        }
       ],
       "layout": {
        "template": {
         "data": {
          "bar": [
           {
            "error_x": {
             "color": "#2a3f5f"
            },
            "error_y": {
             "color": "#2a3f5f"
            },
            "marker": {
             "line": {
              "color": "#E5ECF6",
              "width": 0.5
             },
             "pattern": {
              "fillmode": "overlay",
              "size": 10,
              "solidity": 0.2
             }
            },
            "type": "bar"
           }
          ],
          "barpolar": [
           {
            "marker": {
             "line": {
              "color": "#E5ECF6",
              "width": 0.5
             },
             "pattern": {
              "fillmode": "overlay",
              "size": 10,
              "solidity": 0.2
             }
            },
            "type": "barpolar"
           }
          ],
          "carpet": [
           {
            "aaxis": {
             "endlinecolor": "#2a3f5f",
             "gridcolor": "white",
             "linecolor": "white",
             "minorgridcolor": "white",
             "startlinecolor": "#2a3f5f"
            },
            "baxis": {
             "endlinecolor": "#2a3f5f",
             "gridcolor": "white",
             "linecolor": "white",
             "minorgridcolor": "white",
             "startlinecolor": "#2a3f5f"
            },
            "type": "carpet"
           }
          ],
          "choropleth": [
           {
            "colorbar": {
             "outlinewidth": 0,
             "ticks": ""
            },
            "type": "choropleth"
           }
          ],
          "contour": [
           {
            "colorbar": {
             "outlinewidth": 0,
             "ticks": ""
            },
            "colorscale": [
             [
              0,
              "#0d0887"
             ],
             [
              0.1111111111111111,
              "#46039f"
             ],
             [
              0.2222222222222222,
              "#7201a8"
             ],
             [
              0.3333333333333333,
              "#9c179e"
             ],
             [
              0.4444444444444444,
              "#bd3786"
             ],
             [
              0.5555555555555556,
              "#d8576b"
             ],
             [
              0.6666666666666666,
              "#ed7953"
             ],
             [
              0.7777777777777778,
              "#fb9f3a"
             ],
             [
              0.8888888888888888,
              "#fdca26"
             ],
             [
              1,
              "#f0f921"
             ]
            ],
            "type": "contour"
           }
          ],
          "contourcarpet": [
           {
            "colorbar": {
             "outlinewidth": 0,
             "ticks": ""
            },
            "type": "contourcarpet"
           }
          ],
          "heatmap": [
           {
            "colorbar": {
             "outlinewidth": 0,
             "ticks": ""
            },
            "colorscale": [
             [
              0,
              "#0d0887"
             ],
             [
              0.1111111111111111,
              "#46039f"
             ],
             [
              0.2222222222222222,
              "#7201a8"
             ],
             [
              0.3333333333333333,
              "#9c179e"
             ],
             [
              0.4444444444444444,
              "#bd3786"
             ],
             [
              0.5555555555555556,
              "#d8576b"
             ],
             [
              0.6666666666666666,
              "#ed7953"
             ],
             [
              0.7777777777777778,
              "#fb9f3a"
             ],
             [
              0.8888888888888888,
              "#fdca26"
             ],
             [
              1,
              "#f0f921"
             ]
            ],
            "type": "heatmap"
           }
          ],
          "heatmapgl": [
           {
            "colorbar": {
             "outlinewidth": 0,
             "ticks": ""
            },
            "colorscale": [
             [
              0,
              "#0d0887"
             ],
             [
              0.1111111111111111,
              "#46039f"
             ],
             [
              0.2222222222222222,
              "#7201a8"
             ],
             [
              0.3333333333333333,
              "#9c179e"
             ],
             [
              0.4444444444444444,
              "#bd3786"
             ],
             [
              0.5555555555555556,
              "#d8576b"
             ],
             [
              0.6666666666666666,
              "#ed7953"
             ],
             [
              0.7777777777777778,
              "#fb9f3a"
             ],
             [
              0.8888888888888888,
              "#fdca26"
             ],
             [
              1,
              "#f0f921"
             ]
            ],
            "type": "heatmapgl"
           }
          ],
          "histogram": [
           {
            "marker": {
             "pattern": {
              "fillmode": "overlay",
              "size": 10,
              "solidity": 0.2
             }
            },
            "type": "histogram"
           }
          ],
          "histogram2d": [
           {
            "colorbar": {
             "outlinewidth": 0,
             "ticks": ""
            },
            "colorscale": [
             [
              0,
              "#0d0887"
             ],
             [
              0.1111111111111111,
              "#46039f"
             ],
             [
              0.2222222222222222,
              "#7201a8"
             ],
             [
              0.3333333333333333,
              "#9c179e"
             ],
             [
              0.4444444444444444,
              "#bd3786"
             ],
             [
              0.5555555555555556,
              "#d8576b"
             ],
             [
              0.6666666666666666,
              "#ed7953"
             ],
             [
              0.7777777777777778,
              "#fb9f3a"
             ],
             [
              0.8888888888888888,
              "#fdca26"
             ],
             [
              1,
              "#f0f921"
             ]
            ],
            "type": "histogram2d"
           }
          ],
          "histogram2dcontour": [
           {
            "colorbar": {
             "outlinewidth": 0,
             "ticks": ""
            },
            "colorscale": [
             [
              0,
              "#0d0887"
             ],
             [
              0.1111111111111111,
              "#46039f"
             ],
             [
              0.2222222222222222,
              "#7201a8"
             ],
             [
              0.3333333333333333,
              "#9c179e"
             ],
             [
              0.4444444444444444,
              "#bd3786"
             ],
             [
              0.5555555555555556,
              "#d8576b"
             ],
             [
              0.6666666666666666,
              "#ed7953"
             ],
             [
              0.7777777777777778,
              "#fb9f3a"
             ],
             [
              0.8888888888888888,
              "#fdca26"
             ],
             [
              1,
              "#f0f921"
             ]
            ],
            "type": "histogram2dcontour"
           }
          ],
          "mesh3d": [
           {
            "colorbar": {
             "outlinewidth": 0,
             "ticks": ""
            },
            "type": "mesh3d"
           }
          ],
          "parcoords": [
           {
            "line": {
             "colorbar": {
              "outlinewidth": 0,
              "ticks": ""
             }
            },
            "type": "parcoords"
           }
          ],
          "pie": [
           {
            "automargin": true,
            "type": "pie"
           }
          ],
          "scatter": [
           {
            "fillpattern": {
             "fillmode": "overlay",
             "size": 10,
             "solidity": 0.2
            },
            "type": "scatter"
           }
          ],
          "scatter3d": [
           {
            "line": {
             "colorbar": {
              "outlinewidth": 0,
              "ticks": ""
             }
            },
            "marker": {
             "colorbar": {
              "outlinewidth": 0,
              "ticks": ""
             }
            },
            "type": "scatter3d"
           }
          ],
          "scattercarpet": [
           {
            "marker": {
             "colorbar": {
              "outlinewidth": 0,
              "ticks": ""
             }
            },
            "type": "scattercarpet"
           }
          ],
          "scattergeo": [
           {
            "marker": {
             "colorbar": {
              "outlinewidth": 0,
              "ticks": ""
             }
            },
            "type": "scattergeo"
           }
          ],
          "scattergl": [
           {
            "marker": {
             "colorbar": {
              "outlinewidth": 0,
              "ticks": ""
             }
            },
            "type": "scattergl"
           }
          ],
          "scattermapbox": [
           {
            "marker": {
             "colorbar": {
              "outlinewidth": 0,
              "ticks": ""
             }
            },
            "type": "scattermapbox"
           }
          ],
          "scatterpolar": [
           {
            "marker": {
             "colorbar": {
              "outlinewidth": 0,
              "ticks": ""
             }
            },
            "type": "scatterpolar"
           }
          ],
          "scatterpolargl": [
           {
            "marker": {
             "colorbar": {
              "outlinewidth": 0,
              "ticks": ""
             }
            },
            "type": "scatterpolargl"
           }
          ],
          "scatterternary": [
           {
            "marker": {
             "colorbar": {
              "outlinewidth": 0,
              "ticks": ""
             }
            },
            "type": "scatterternary"
           }
          ],
          "surface": [
           {
            "colorbar": {
             "outlinewidth": 0,
             "ticks": ""
            },
            "colorscale": [
             [
              0,
              "#0d0887"
             ],
             [
              0.1111111111111111,
              "#46039f"
             ],
             [
              0.2222222222222222,
              "#7201a8"
             ],
             [
              0.3333333333333333,
              "#9c179e"
             ],
             [
              0.4444444444444444,
              "#bd3786"
             ],
             [
              0.5555555555555556,
              "#d8576b"
             ],
             [
              0.6666666666666666,
              "#ed7953"
             ],
             [
              0.7777777777777778,
              "#fb9f3a"
             ],
             [
              0.8888888888888888,
              "#fdca26"
             ],
             [
              1,
              "#f0f921"
             ]
            ],
            "type": "surface"
           }
          ],
          "table": [
           {
            "cells": {
             "fill": {
              "color": "#EBF0F8"
             },
             "line": {
              "color": "white"
             }
            },
            "header": {
             "fill": {
              "color": "#C8D4E3"
             },
             "line": {
              "color": "white"
             }
            },
            "type": "table"
           }
          ]
         },
         "layout": {
          "annotationdefaults": {
           "arrowcolor": "#2a3f5f",
           "arrowhead": 0,
           "arrowwidth": 1
          },
          "autotypenumbers": "strict",
          "coloraxis": {
           "colorbar": {
            "outlinewidth": 0,
            "ticks": ""
           }
          },
          "colorscale": {
           "diverging": [
            [
             0,
             "#8e0152"
            ],
            [
             0.1,
             "#c51b7d"
            ],
            [
             0.2,
             "#de77ae"
            ],
            [
             0.3,
             "#f1b6da"
            ],
            [
             0.4,
             "#fde0ef"
            ],
            [
             0.5,
             "#f7f7f7"
            ],
            [
             0.6,
             "#e6f5d0"
            ],
            [
             0.7,
             "#b8e186"
            ],
            [
             0.8,
             "#7fbc41"
            ],
            [
             0.9,
             "#4d9221"
            ],
            [
             1,
             "#276419"
            ]
           ],
           "sequential": [
            [
             0,
             "#0d0887"
            ],
            [
             0.1111111111111111,
             "#46039f"
            ],
            [
             0.2222222222222222,
             "#7201a8"
            ],
            [
             0.3333333333333333,
             "#9c179e"
            ],
            [
             0.4444444444444444,
             "#bd3786"
            ],
            [
             0.5555555555555556,
             "#d8576b"
            ],
            [
             0.6666666666666666,
             "#ed7953"
            ],
            [
             0.7777777777777778,
             "#fb9f3a"
            ],
            [
             0.8888888888888888,
             "#fdca26"
            ],
            [
             1,
             "#f0f921"
            ]
           ],
           "sequentialminus": [
            [
             0,
             "#0d0887"
            ],
            [
             0.1111111111111111,
             "#46039f"
            ],
            [
             0.2222222222222222,
             "#7201a8"
            ],
            [
             0.3333333333333333,
             "#9c179e"
            ],
            [
             0.4444444444444444,
             "#bd3786"
            ],
            [
             0.5555555555555556,
             "#d8576b"
            ],
            [
             0.6666666666666666,
             "#ed7953"
            ],
            [
             0.7777777777777778,
             "#fb9f3a"
            ],
            [
             0.8888888888888888,
             "#fdca26"
            ],
            [
             1,
             "#f0f921"
            ]
           ]
          },
          "colorway": [
           "#636efa",
           "#EF553B",
           "#00cc96",
           "#ab63fa",
           "#FFA15A",
           "#19d3f3",
           "#FF6692",
           "#B6E880",
           "#FF97FF",
           "#FECB52"
          ],
          "font": {
           "color": "#2a3f5f"
          },
          "geo": {
           "bgcolor": "white",
           "lakecolor": "white",
           "landcolor": "#E5ECF6",
           "showlakes": true,
           "showland": true,
           "subunitcolor": "white"
          },
          "hoverlabel": {
           "align": "left"
          },
          "hovermode": "closest",
          "mapbox": {
           "style": "light"
          },
          "paper_bgcolor": "white",
          "plot_bgcolor": "#E5ECF6",
          "polar": {
           "angularaxis": {
            "gridcolor": "white",
            "linecolor": "white",
            "ticks": ""
           },
           "bgcolor": "#E5ECF6",
           "radialaxis": {
            "gridcolor": "white",
            "linecolor": "white",
            "ticks": ""
           }
          },
          "scene": {
           "xaxis": {
            "backgroundcolor": "#E5ECF6",
            "gridcolor": "white",
            "gridwidth": 2,
            "linecolor": "white",
            "showbackground": true,
            "ticks": "",
            "zerolinecolor": "white"
           },
           "yaxis": {
            "backgroundcolor": "#E5ECF6",
            "gridcolor": "white",
            "gridwidth": 2,
            "linecolor": "white",
            "showbackground": true,
            "ticks": "",
            "zerolinecolor": "white"
           },
           "zaxis": {
            "backgroundcolor": "#E5ECF6",
            "gridcolor": "white",
            "gridwidth": 2,
            "linecolor": "white",
            "showbackground": true,
            "ticks": "",
            "zerolinecolor": "white"
           }
          },
          "shapedefaults": {
           "line": {
            "color": "#2a3f5f"
           }
          },
          "ternary": {
           "aaxis": {
            "gridcolor": "white",
            "linecolor": "white",
            "ticks": ""
           },
           "baxis": {
            "gridcolor": "white",
            "linecolor": "white",
            "ticks": ""
           },
           "bgcolor": "#E5ECF6",
           "caxis": {
            "gridcolor": "white",
            "linecolor": "white",
            "ticks": ""
           }
          },
          "title": {
           "x": 0.05
          },
          "xaxis": {
           "automargin": true,
           "gridcolor": "white",
           "linecolor": "white",
           "ticks": "",
           "title": {
            "standoff": 15
           },
           "zerolinecolor": "white",
           "zerolinewidth": 2
          },
          "yaxis": {
           "automargin": true,
           "gridcolor": "white",
           "linecolor": "white",
           "ticks": "",
           "title": {
            "standoff": 15
           },
           "zerolinecolor": "white",
           "zerolinewidth": 2
          }
         }
        },
        "title": {
         "text": "Ranking Of Top 10 Weighted-Drama-Ratings: 2.9418 RMSE"
        },
        "xaxis": {
         "range": [
          7,
          10
         ],
         "title": {
          "text": "Weighted Rating"
         }
        },
        "yaxis": {
         "title": {
          "text": "Drama"
         }
        }
       }
      },
      "text/html": [
       "<div>                            <div id=\"fc5cb662-4ab7-4c9c-9b9f-4f78f5c1b7de\" class=\"plotly-graph-div\" style=\"height:525px; width:100%;\"></div>            <script type=\"text/javascript\">                require([\"plotly\"], function(Plotly) {                    window.PLOTLYENV=window.PLOTLYENV || {};                                    if (document.getElementById(\"fc5cb662-4ab7-4c9c-9b9f-4f78f5c1b7de\")) {                    Plotly.newPlot(                        \"fc5cb662-4ab7-4c9c-9b9f-4f78f5c1b7de\",                        [{\"marker\":{\"color\":\"#db0000\"},\"orientation\":\"h\",\"text\":[\"move to heaven: 3536 Ratings\",\"flower of evil: 5056 Ratings\",\"hospital playlist season 2: 3016 Ratings\",\"reset: 1957 Ratings\",\"hospital playlist: 4478 Ratings\",\"healer: 7571 Ratings\",\"it's okay to not be okay: 6661 Ratings\",\"the untamed: 3211 Ratings\",\"prison playbook: 3752 Ratings\",\"bad buddy: 2324 Ratings\"],\"textfont\":{\"color\":\"#000000\"},\"textposition\":\"outside\",\"x\":[8.587598512151077,8.436028927206321,8.427788570085953,8.389785832821708,8.333746909233952,8.320778283540912,8.305679644570242,8.303801829784938,8.29776519266104,8.271698907050881],\"y\":[1,2,3,4,5,6,7,8,9,10],\"type\":\"bar\"}],                        {\"template\":{\"data\":{\"barpolar\":[{\"marker\":{\"line\":{\"color\":\"#E5ECF6\",\"width\":0.5},\"pattern\":{\"fillmode\":\"overlay\",\"size\":10,\"solidity\":0.2}},\"type\":\"barpolar\"}],\"bar\":[{\"error_x\":{\"color\":\"#2a3f5f\"},\"error_y\":{\"color\":\"#2a3f5f\"},\"marker\":{\"line\":{\"color\":\"#E5ECF6\",\"width\":0.5},\"pattern\":{\"fillmode\":\"overlay\",\"size\":10,\"solidity\":0.2}},\"type\":\"bar\"}],\"carpet\":[{\"aaxis\":{\"endlinecolor\":\"#2a3f5f\",\"gridcolor\":\"white\",\"linecolor\":\"white\",\"minorgridcolor\":\"white\",\"startlinecolor\":\"#2a3f5f\"},\"baxis\":{\"endlinecolor\":\"#2a3f5f\",\"gridcolor\":\"white\",\"linecolor\":\"white\",\"minorgridcolor\":\"white\",\"startlinecolor\":\"#2a3f5f\"},\"type\":\"carpet\"}],\"choropleth\":[{\"colorbar\":{\"outlinewidth\":0,\"ticks\":\"\"},\"type\":\"choropleth\"}],\"contourcarpet\":[{\"colorbar\":{\"outlinewidth\":0,\"ticks\":\"\"},\"type\":\"contourcarpet\"}],\"contour\":[{\"colorbar\":{\"outlinewidth\":0,\"ticks\":\"\"},\"colorscale\":[[0.0,\"#0d0887\"],[0.1111111111111111,\"#46039f\"],[0.2222222222222222,\"#7201a8\"],[0.3333333333333333,\"#9c179e\"],[0.4444444444444444,\"#bd3786\"],[0.5555555555555556,\"#d8576b\"],[0.6666666666666666,\"#ed7953\"],[0.7777777777777778,\"#fb9f3a\"],[0.8888888888888888,\"#fdca26\"],[1.0,\"#f0f921\"]],\"type\":\"contour\"}],\"heatmapgl\":[{\"colorbar\":{\"outlinewidth\":0,\"ticks\":\"\"},\"colorscale\":[[0.0,\"#0d0887\"],[0.1111111111111111,\"#46039f\"],[0.2222222222222222,\"#7201a8\"],[0.3333333333333333,\"#9c179e\"],[0.4444444444444444,\"#bd3786\"],[0.5555555555555556,\"#d8576b\"],[0.6666666666666666,\"#ed7953\"],[0.7777777777777778,\"#fb9f3a\"],[0.8888888888888888,\"#fdca26\"],[1.0,\"#f0f921\"]],\"type\":\"heatmapgl\"}],\"heatmap\":[{\"colorbar\":{\"outlinewidth\":0,\"ticks\":\"\"},\"colorscale\":[[0.0,\"#0d0887\"],[0.1111111111111111,\"#46039f\"],[0.2222222222222222,\"#7201a8\"],[0.3333333333333333,\"#9c179e\"],[0.4444444444444444,\"#bd3786\"],[0.5555555555555556,\"#d8576b\"],[0.6666666666666666,\"#ed7953\"],[0.7777777777777778,\"#fb9f3a\"],[0.8888888888888888,\"#fdca26\"],[1.0,\"#f0f921\"]],\"type\":\"heatmap\"}],\"histogram2dcontour\":[{\"colorbar\":{\"outlinewidth\":0,\"ticks\":\"\"},\"colorscale\":[[0.0,\"#0d0887\"],[0.1111111111111111,\"#46039f\"],[0.2222222222222222,\"#7201a8\"],[0.3333333333333333,\"#9c179e\"],[0.4444444444444444,\"#bd3786\"],[0.5555555555555556,\"#d8576b\"],[0.6666666666666666,\"#ed7953\"],[0.7777777777777778,\"#fb9f3a\"],[0.8888888888888888,\"#fdca26\"],[1.0,\"#f0f921\"]],\"type\":\"histogram2dcontour\"}],\"histogram2d\":[{\"colorbar\":{\"outlinewidth\":0,\"ticks\":\"\"},\"colorscale\":[[0.0,\"#0d0887\"],[0.1111111111111111,\"#46039f\"],[0.2222222222222222,\"#7201a8\"],[0.3333333333333333,\"#9c179e\"],[0.4444444444444444,\"#bd3786\"],[0.5555555555555556,\"#d8576b\"],[0.6666666666666666,\"#ed7953\"],[0.7777777777777778,\"#fb9f3a\"],[0.8888888888888888,\"#fdca26\"],[1.0,\"#f0f921\"]],\"type\":\"histogram2d\"}],\"histogram\":[{\"marker\":{\"pattern\":{\"fillmode\":\"overlay\",\"size\":10,\"solidity\":0.2}},\"type\":\"histogram\"}],\"mesh3d\":[{\"colorbar\":{\"outlinewidth\":0,\"ticks\":\"\"},\"type\":\"mesh3d\"}],\"parcoords\":[{\"line\":{\"colorbar\":{\"outlinewidth\":0,\"ticks\":\"\"}},\"type\":\"parcoords\"}],\"pie\":[{\"automargin\":true,\"type\":\"pie\"}],\"scatter3d\":[{\"line\":{\"colorbar\":{\"outlinewidth\":0,\"ticks\":\"\"}},\"marker\":{\"colorbar\":{\"outlinewidth\":0,\"ticks\":\"\"}},\"type\":\"scatter3d\"}],\"scattercarpet\":[{\"marker\":{\"colorbar\":{\"outlinewidth\":0,\"ticks\":\"\"}},\"type\":\"scattercarpet\"}],\"scattergeo\":[{\"marker\":{\"colorbar\":{\"outlinewidth\":0,\"ticks\":\"\"}},\"type\":\"scattergeo\"}],\"scattergl\":[{\"marker\":{\"colorbar\":{\"outlinewidth\":0,\"ticks\":\"\"}},\"type\":\"scattergl\"}],\"scattermapbox\":[{\"marker\":{\"colorbar\":{\"outlinewidth\":0,\"ticks\":\"\"}},\"type\":\"scattermapbox\"}],\"scatterpolargl\":[{\"marker\":{\"colorbar\":{\"outlinewidth\":0,\"ticks\":\"\"}},\"type\":\"scatterpolargl\"}],\"scatterpolar\":[{\"marker\":{\"colorbar\":{\"outlinewidth\":0,\"ticks\":\"\"}},\"type\":\"scatterpolar\"}],\"scatter\":[{\"fillpattern\":{\"fillmode\":\"overlay\",\"size\":10,\"solidity\":0.2},\"type\":\"scatter\"}],\"scatterternary\":[{\"marker\":{\"colorbar\":{\"outlinewidth\":0,\"ticks\":\"\"}},\"type\":\"scatterternary\"}],\"surface\":[{\"colorbar\":{\"outlinewidth\":0,\"ticks\":\"\"},\"colorscale\":[[0.0,\"#0d0887\"],[0.1111111111111111,\"#46039f\"],[0.2222222222222222,\"#7201a8\"],[0.3333333333333333,\"#9c179e\"],[0.4444444444444444,\"#bd3786\"],[0.5555555555555556,\"#d8576b\"],[0.6666666666666666,\"#ed7953\"],[0.7777777777777778,\"#fb9f3a\"],[0.8888888888888888,\"#fdca26\"],[1.0,\"#f0f921\"]],\"type\":\"surface\"}],\"table\":[{\"cells\":{\"fill\":{\"color\":\"#EBF0F8\"},\"line\":{\"color\":\"white\"}},\"header\":{\"fill\":{\"color\":\"#C8D4E3\"},\"line\":{\"color\":\"white\"}},\"type\":\"table\"}]},\"layout\":{\"annotationdefaults\":{\"arrowcolor\":\"#2a3f5f\",\"arrowhead\":0,\"arrowwidth\":1},\"autotypenumbers\":\"strict\",\"coloraxis\":{\"colorbar\":{\"outlinewidth\":0,\"ticks\":\"\"}},\"colorscale\":{\"diverging\":[[0,\"#8e0152\"],[0.1,\"#c51b7d\"],[0.2,\"#de77ae\"],[0.3,\"#f1b6da\"],[0.4,\"#fde0ef\"],[0.5,\"#f7f7f7\"],[0.6,\"#e6f5d0\"],[0.7,\"#b8e186\"],[0.8,\"#7fbc41\"],[0.9,\"#4d9221\"],[1,\"#276419\"]],\"sequential\":[[0.0,\"#0d0887\"],[0.1111111111111111,\"#46039f\"],[0.2222222222222222,\"#7201a8\"],[0.3333333333333333,\"#9c179e\"],[0.4444444444444444,\"#bd3786\"],[0.5555555555555556,\"#d8576b\"],[0.6666666666666666,\"#ed7953\"],[0.7777777777777778,\"#fb9f3a\"],[0.8888888888888888,\"#fdca26\"],[1.0,\"#f0f921\"]],\"sequentialminus\":[[0.0,\"#0d0887\"],[0.1111111111111111,\"#46039f\"],[0.2222222222222222,\"#7201a8\"],[0.3333333333333333,\"#9c179e\"],[0.4444444444444444,\"#bd3786\"],[0.5555555555555556,\"#d8576b\"],[0.6666666666666666,\"#ed7953\"],[0.7777777777777778,\"#fb9f3a\"],[0.8888888888888888,\"#fdca26\"],[1.0,\"#f0f921\"]]},\"colorway\":[\"#636efa\",\"#EF553B\",\"#00cc96\",\"#ab63fa\",\"#FFA15A\",\"#19d3f3\",\"#FF6692\",\"#B6E880\",\"#FF97FF\",\"#FECB52\"],\"font\":{\"color\":\"#2a3f5f\"},\"geo\":{\"bgcolor\":\"white\",\"lakecolor\":\"white\",\"landcolor\":\"#E5ECF6\",\"showlakes\":true,\"showland\":true,\"subunitcolor\":\"white\"},\"hoverlabel\":{\"align\":\"left\"},\"hovermode\":\"closest\",\"mapbox\":{\"style\":\"light\"},\"paper_bgcolor\":\"white\",\"plot_bgcolor\":\"#E5ECF6\",\"polar\":{\"angularaxis\":{\"gridcolor\":\"white\",\"linecolor\":\"white\",\"ticks\":\"\"},\"bgcolor\":\"#E5ECF6\",\"radialaxis\":{\"gridcolor\":\"white\",\"linecolor\":\"white\",\"ticks\":\"\"}},\"scene\":{\"xaxis\":{\"backgroundcolor\":\"#E5ECF6\",\"gridcolor\":\"white\",\"gridwidth\":2,\"linecolor\":\"white\",\"showbackground\":true,\"ticks\":\"\",\"zerolinecolor\":\"white\"},\"yaxis\":{\"backgroundcolor\":\"#E5ECF6\",\"gridcolor\":\"white\",\"gridwidth\":2,\"linecolor\":\"white\",\"showbackground\":true,\"ticks\":\"\",\"zerolinecolor\":\"white\"},\"zaxis\":{\"backgroundcolor\":\"#E5ECF6\",\"gridcolor\":\"white\",\"gridwidth\":2,\"linecolor\":\"white\",\"showbackground\":true,\"ticks\":\"\",\"zerolinecolor\":\"white\"}},\"shapedefaults\":{\"line\":{\"color\":\"#2a3f5f\"}},\"ternary\":{\"aaxis\":{\"gridcolor\":\"white\",\"linecolor\":\"white\",\"ticks\":\"\"},\"baxis\":{\"gridcolor\":\"white\",\"linecolor\":\"white\",\"ticks\":\"\"},\"bgcolor\":\"#E5ECF6\",\"caxis\":{\"gridcolor\":\"white\",\"linecolor\":\"white\",\"ticks\":\"\"}},\"title\":{\"x\":0.05},\"xaxis\":{\"automargin\":true,\"gridcolor\":\"white\",\"linecolor\":\"white\",\"ticks\":\"\",\"title\":{\"standoff\":15},\"zerolinecolor\":\"white\",\"zerolinewidth\":2},\"yaxis\":{\"automargin\":true,\"gridcolor\":\"white\",\"linecolor\":\"white\",\"ticks\":\"\",\"title\":{\"standoff\":15},\"zerolinecolor\":\"white\",\"zerolinewidth\":2}}},\"title\":{\"text\":\"Ranking Of Top 10 Weighted-Drama-Ratings: 2.9418 RMSE\"},\"xaxis\":{\"range\":[7,10],\"title\":{\"text\":\"Weighted Rating\"}},\"yaxis\":{\"title\":{\"text\":\"Drama\"}}},                        {\"responsive\": true}                    ).then(function(){\n",
       "                            \n",
       "var gd = document.getElementById('fc5cb662-4ab7-4c9c-9b9f-4f78f5c1b7de');\n",
       "var x = new MutationObserver(function (mutations, observer) {{\n",
       "        var display = window.getComputedStyle(gd).display;\n",
       "        if (!display || display === 'none') {{\n",
       "            console.log([gd, 'removed!']);\n",
       "            Plotly.purge(gd);\n",
       "            observer.disconnect();\n",
       "        }}\n",
       "}});\n",
       "\n",
       "// Listen for the removal of the full notebook cells\n",
       "var notebookContainer = gd.closest('#notebook-container');\n",
       "if (notebookContainer) {{\n",
       "    x.observe(notebookContainer, {childList: true});\n",
       "}}\n",
       "\n",
       "// Listen for the clearing of the current output cell\n",
       "var outputEl = gd.closest('.output');\n",
       "if (outputEl) {{\n",
       "    x.observe(outputEl, {childList: true});\n",
       "}}\n",
       "\n",
       "                        })                };                });            </script>        </div>"
      ]
     },
     "metadata": {},
     "output_type": "display_data"
    }
   ],
   "source": [
    "# Create DataFrame for plotting\n",
    "df_plot = pd.DataFrame(weighted_score[:n], columns=['Rating'])\n",
    "df_plot.index = weighted_drama_ids[:10]\n",
    "ranking_weighted_rating = df_plot.join(ratings_count).join(df_titles)\n",
    "del df_plot\n",
    "\n",
    "\n",
    "# Create trace\n",
    "trace = go.Bar(x = ranking_weighted_rating['Rating'],\n",
    "               text = ranking_weighted_rating['Name'].astype(str) +': '+ ranking_weighted_rating['Rating-Count'].astype(str) + ' Ratings',\n",
    "               textposition = 'outside',\n",
    "               textfont = dict(color = '#000000'),\n",
    "               orientation = 'h',\n",
    "               y = list(range(1, n+1)),\n",
    "               marker = dict(color = '#db0000'))\n",
    "# Create layout\n",
    "layout = dict(title = 'Ranking Of Top {} Weighted-Drama-Ratings: {:.4f} RMSE'.format(n, rmse),\n",
    "              xaxis = dict(title = 'Weighted Rating',\n",
    "                          range = (7, 10)),\n",
    "              yaxis = dict(title = 'Drama'))\n",
    "# Create plot\n",
    "fig = go.Figure(data=[trace], layout=layout)\n",
    "iplot(fig)"
   ]
  },
  {
   "cell_type": "code",
   "execution_count": 94,
   "id": "f86a984e",
   "metadata": {},
   "outputs": [],
   "source": [
    "# lets take a sample of the data instead of the full amount, because, wow large\n",
    "# for a fixed number of samples\n",
    "reviews_small = reviews.sample(n=1000000)\n",
    "\n",
    "# for a percentage \n",
    "#reviews = reviews.sample(frac=1).reset_index(drop=True)\n",
    "\n",
    "# reviews_small = reviews"
   ]
  },
  {
   "cell_type": "code",
   "execution_count": 95,
   "id": "1232d5dd",
   "metadata": {},
   "outputs": [],
   "source": [
    "# splitting into test and train \n",
    "# Testingsize\n",
    "n = 100000\n",
    "\n",
    "# Split train- & testset\n",
    "df_train = reviews_small[:-n]\n",
    "df_test = reviews_small[-n:]"
   ]
  },
  {
   "cell_type": "code",
   "execution_count": 96,
   "id": "0c02187e",
   "metadata": {},
   "outputs": [
    {
     "name": "stdout",
     "output_type": "stream",
     "text": [
      "Shape User-Drama-Matrix:\t(10873, 3346)\n"
     ]
    },
    {
     "data": {
      "text/html": [
       "<div>\n",
       "<style scoped>\n",
       "    .dataframe tbody tr th:only-of-type {\n",
       "        vertical-align: middle;\n",
       "    }\n",
       "\n",
       "    .dataframe tbody tr th {\n",
       "        vertical-align: top;\n",
       "    }\n",
       "\n",
       "    .dataframe thead th {\n",
       "        text-align: right;\n",
       "    }\n",
       "</style>\n",
       "<table border=\"1\" class=\"dataframe\">\n",
       "  <thead>\n",
       "    <tr style=\"text-align: right;\">\n",
       "      <th>Drama</th>\n",
       "      <th>1</th>\n",
       "      <th>7</th>\n",
       "      <th>9</th>\n",
       "      <th>10</th>\n",
       "      <th>11</th>\n",
       "      <th>13</th>\n",
       "      <th>14</th>\n",
       "      <th>15</th>\n",
       "      <th>17</th>\n",
       "      <th>18</th>\n",
       "      <th>...</th>\n",
       "      <th>44437</th>\n",
       "      <th>44472</th>\n",
       "      <th>44543</th>\n",
       "      <th>44690</th>\n",
       "      <th>44721</th>\n",
       "      <th>44909</th>\n",
       "      <th>45026</th>\n",
       "      <th>45472</th>\n",
       "      <th>45613</th>\n",
       "      <th>45877</th>\n",
       "    </tr>\n",
       "    <tr>\n",
       "      <th>User</th>\n",
       "      <th></th>\n",
       "      <th></th>\n",
       "      <th></th>\n",
       "      <th></th>\n",
       "      <th></th>\n",
       "      <th></th>\n",
       "      <th></th>\n",
       "      <th></th>\n",
       "      <th></th>\n",
       "      <th></th>\n",
       "      <th></th>\n",
       "      <th></th>\n",
       "      <th></th>\n",
       "      <th></th>\n",
       "      <th></th>\n",
       "      <th></th>\n",
       "      <th></th>\n",
       "      <th></th>\n",
       "      <th></th>\n",
       "      <th></th>\n",
       "      <th></th>\n",
       "    </tr>\n",
       "  </thead>\n",
       "  <tbody>\n",
       "    <tr>\n",
       "      <th>1</th>\n",
       "      <td>NaN</td>\n",
       "      <td>NaN</td>\n",
       "      <td>NaN</td>\n",
       "      <td>NaN</td>\n",
       "      <td>NaN</td>\n",
       "      <td>NaN</td>\n",
       "      <td>NaN</td>\n",
       "      <td>NaN</td>\n",
       "      <td>NaN</td>\n",
       "      <td>NaN</td>\n",
       "      <td>...</td>\n",
       "      <td>NaN</td>\n",
       "      <td>NaN</td>\n",
       "      <td>NaN</td>\n",
       "      <td>NaN</td>\n",
       "      <td>NaN</td>\n",
       "      <td>NaN</td>\n",
       "      <td>NaN</td>\n",
       "      <td>NaN</td>\n",
       "      <td>NaN</td>\n",
       "      <td>NaN</td>\n",
       "    </tr>\n",
       "    <tr>\n",
       "      <th>6</th>\n",
       "      <td>9.0</td>\n",
       "      <td>6.5</td>\n",
       "      <td>NaN</td>\n",
       "      <td>NaN</td>\n",
       "      <td>NaN</td>\n",
       "      <td>NaN</td>\n",
       "      <td>NaN</td>\n",
       "      <td>NaN</td>\n",
       "      <td>NaN</td>\n",
       "      <td>NaN</td>\n",
       "      <td>...</td>\n",
       "      <td>NaN</td>\n",
       "      <td>NaN</td>\n",
       "      <td>NaN</td>\n",
       "      <td>NaN</td>\n",
       "      <td>NaN</td>\n",
       "      <td>NaN</td>\n",
       "      <td>NaN</td>\n",
       "      <td>NaN</td>\n",
       "      <td>NaN</td>\n",
       "      <td>NaN</td>\n",
       "    </tr>\n",
       "    <tr>\n",
       "      <th>10</th>\n",
       "      <td>NaN</td>\n",
       "      <td>NaN</td>\n",
       "      <td>NaN</td>\n",
       "      <td>NaN</td>\n",
       "      <td>NaN</td>\n",
       "      <td>NaN</td>\n",
       "      <td>NaN</td>\n",
       "      <td>NaN</td>\n",
       "      <td>NaN</td>\n",
       "      <td>NaN</td>\n",
       "      <td>...</td>\n",
       "      <td>NaN</td>\n",
       "      <td>NaN</td>\n",
       "      <td>NaN</td>\n",
       "      <td>NaN</td>\n",
       "      <td>NaN</td>\n",
       "      <td>NaN</td>\n",
       "      <td>NaN</td>\n",
       "      <td>NaN</td>\n",
       "      <td>NaN</td>\n",
       "      <td>NaN</td>\n",
       "    </tr>\n",
       "    <tr>\n",
       "      <th>12</th>\n",
       "      <td>NaN</td>\n",
       "      <td>NaN</td>\n",
       "      <td>NaN</td>\n",
       "      <td>NaN</td>\n",
       "      <td>NaN</td>\n",
       "      <td>NaN</td>\n",
       "      <td>NaN</td>\n",
       "      <td>NaN</td>\n",
       "      <td>NaN</td>\n",
       "      <td>NaN</td>\n",
       "      <td>...</td>\n",
       "      <td>NaN</td>\n",
       "      <td>NaN</td>\n",
       "      <td>NaN</td>\n",
       "      <td>NaN</td>\n",
       "      <td>NaN</td>\n",
       "      <td>NaN</td>\n",
       "      <td>NaN</td>\n",
       "      <td>NaN</td>\n",
       "      <td>NaN</td>\n",
       "      <td>NaN</td>\n",
       "    </tr>\n",
       "    <tr>\n",
       "      <th>23</th>\n",
       "      <td>NaN</td>\n",
       "      <td>NaN</td>\n",
       "      <td>NaN</td>\n",
       "      <td>NaN</td>\n",
       "      <td>NaN</td>\n",
       "      <td>NaN</td>\n",
       "      <td>NaN</td>\n",
       "      <td>NaN</td>\n",
       "      <td>NaN</td>\n",
       "      <td>NaN</td>\n",
       "      <td>...</td>\n",
       "      <td>NaN</td>\n",
       "      <td>NaN</td>\n",
       "      <td>NaN</td>\n",
       "      <td>NaN</td>\n",
       "      <td>NaN</td>\n",
       "      <td>NaN</td>\n",
       "      <td>NaN</td>\n",
       "      <td>NaN</td>\n",
       "      <td>NaN</td>\n",
       "      <td>NaN</td>\n",
       "    </tr>\n",
       "    <tr>\n",
       "      <th>...</th>\n",
       "      <td>...</td>\n",
       "      <td>...</td>\n",
       "      <td>...</td>\n",
       "      <td>...</td>\n",
       "      <td>...</td>\n",
       "      <td>...</td>\n",
       "      <td>...</td>\n",
       "      <td>...</td>\n",
       "      <td>...</td>\n",
       "      <td>...</td>\n",
       "      <td>...</td>\n",
       "      <td>...</td>\n",
       "      <td>...</td>\n",
       "      <td>...</td>\n",
       "      <td>...</td>\n",
       "      <td>...</td>\n",
       "      <td>...</td>\n",
       "      <td>...</td>\n",
       "      <td>...</td>\n",
       "      <td>...</td>\n",
       "      <td>...</td>\n",
       "    </tr>\n",
       "    <tr>\n",
       "      <th>84562</th>\n",
       "      <td>NaN</td>\n",
       "      <td>NaN</td>\n",
       "      <td>NaN</td>\n",
       "      <td>NaN</td>\n",
       "      <td>NaN</td>\n",
       "      <td>NaN</td>\n",
       "      <td>NaN</td>\n",
       "      <td>NaN</td>\n",
       "      <td>NaN</td>\n",
       "      <td>9.0</td>\n",
       "      <td>...</td>\n",
       "      <td>NaN</td>\n",
       "      <td>NaN</td>\n",
       "      <td>NaN</td>\n",
       "      <td>NaN</td>\n",
       "      <td>NaN</td>\n",
       "      <td>NaN</td>\n",
       "      <td>NaN</td>\n",
       "      <td>NaN</td>\n",
       "      <td>NaN</td>\n",
       "      <td>NaN</td>\n",
       "    </tr>\n",
       "    <tr>\n",
       "      <th>84581</th>\n",
       "      <td>NaN</td>\n",
       "      <td>NaN</td>\n",
       "      <td>NaN</td>\n",
       "      <td>NaN</td>\n",
       "      <td>NaN</td>\n",
       "      <td>NaN</td>\n",
       "      <td>NaN</td>\n",
       "      <td>NaN</td>\n",
       "      <td>NaN</td>\n",
       "      <td>NaN</td>\n",
       "      <td>...</td>\n",
       "      <td>NaN</td>\n",
       "      <td>NaN</td>\n",
       "      <td>NaN</td>\n",
       "      <td>NaN</td>\n",
       "      <td>NaN</td>\n",
       "      <td>NaN</td>\n",
       "      <td>NaN</td>\n",
       "      <td>NaN</td>\n",
       "      <td>NaN</td>\n",
       "      <td>NaN</td>\n",
       "    </tr>\n",
       "    <tr>\n",
       "      <th>84597</th>\n",
       "      <td>NaN</td>\n",
       "      <td>NaN</td>\n",
       "      <td>NaN</td>\n",
       "      <td>NaN</td>\n",
       "      <td>NaN</td>\n",
       "      <td>NaN</td>\n",
       "      <td>NaN</td>\n",
       "      <td>NaN</td>\n",
       "      <td>NaN</td>\n",
       "      <td>NaN</td>\n",
       "      <td>...</td>\n",
       "      <td>NaN</td>\n",
       "      <td>NaN</td>\n",
       "      <td>NaN</td>\n",
       "      <td>NaN</td>\n",
       "      <td>NaN</td>\n",
       "      <td>NaN</td>\n",
       "      <td>NaN</td>\n",
       "      <td>NaN</td>\n",
       "      <td>NaN</td>\n",
       "      <td>NaN</td>\n",
       "    </tr>\n",
       "    <tr>\n",
       "      <th>84600</th>\n",
       "      <td>NaN</td>\n",
       "      <td>NaN</td>\n",
       "      <td>NaN</td>\n",
       "      <td>NaN</td>\n",
       "      <td>NaN</td>\n",
       "      <td>NaN</td>\n",
       "      <td>NaN</td>\n",
       "      <td>NaN</td>\n",
       "      <td>NaN</td>\n",
       "      <td>NaN</td>\n",
       "      <td>...</td>\n",
       "      <td>NaN</td>\n",
       "      <td>NaN</td>\n",
       "      <td>NaN</td>\n",
       "      <td>NaN</td>\n",
       "      <td>NaN</td>\n",
       "      <td>NaN</td>\n",
       "      <td>NaN</td>\n",
       "      <td>NaN</td>\n",
       "      <td>NaN</td>\n",
       "      <td>NaN</td>\n",
       "    </tr>\n",
       "    <tr>\n",
       "      <th>84605</th>\n",
       "      <td>NaN</td>\n",
       "      <td>NaN</td>\n",
       "      <td>NaN</td>\n",
       "      <td>NaN</td>\n",
       "      <td>NaN</td>\n",
       "      <td>NaN</td>\n",
       "      <td>NaN</td>\n",
       "      <td>NaN</td>\n",
       "      <td>NaN</td>\n",
       "      <td>NaN</td>\n",
       "      <td>...</td>\n",
       "      <td>NaN</td>\n",
       "      <td>NaN</td>\n",
       "      <td>NaN</td>\n",
       "      <td>NaN</td>\n",
       "      <td>NaN</td>\n",
       "      <td>NaN</td>\n",
       "      <td>NaN</td>\n",
       "      <td>NaN</td>\n",
       "      <td>NaN</td>\n",
       "      <td>NaN</td>\n",
       "    </tr>\n",
       "  </tbody>\n",
       "</table>\n",
       "<p>10873 rows × 3346 columns</p>\n",
       "</div>"
      ],
      "text/plain": [
       "Drama  1      7      9      10     11     13     14     15     17     18     \\\n",
       "User                                                                          \n",
       "1        NaN    NaN    NaN    NaN    NaN    NaN    NaN    NaN    NaN    NaN   \n",
       "6        9.0    6.5    NaN    NaN    NaN    NaN    NaN    NaN    NaN    NaN   \n",
       "10       NaN    NaN    NaN    NaN    NaN    NaN    NaN    NaN    NaN    NaN   \n",
       "12       NaN    NaN    NaN    NaN    NaN    NaN    NaN    NaN    NaN    NaN   \n",
       "23       NaN    NaN    NaN    NaN    NaN    NaN    NaN    NaN    NaN    NaN   \n",
       "...      ...    ...    ...    ...    ...    ...    ...    ...    ...    ...   \n",
       "84562    NaN    NaN    NaN    NaN    NaN    NaN    NaN    NaN    NaN    9.0   \n",
       "84581    NaN    NaN    NaN    NaN    NaN    NaN    NaN    NaN    NaN    NaN   \n",
       "84597    NaN    NaN    NaN    NaN    NaN    NaN    NaN    NaN    NaN    NaN   \n",
       "84600    NaN    NaN    NaN    NaN    NaN    NaN    NaN    NaN    NaN    NaN   \n",
       "84605    NaN    NaN    NaN    NaN    NaN    NaN    NaN    NaN    NaN    NaN   \n",
       "\n",
       "Drama  ...  44437  44472  44543  44690  44721  44909  45026  45472  45613  \\\n",
       "User   ...                                                                  \n",
       "1      ...    NaN    NaN    NaN    NaN    NaN    NaN    NaN    NaN    NaN   \n",
       "6      ...    NaN    NaN    NaN    NaN    NaN    NaN    NaN    NaN    NaN   \n",
       "10     ...    NaN    NaN    NaN    NaN    NaN    NaN    NaN    NaN    NaN   \n",
       "12     ...    NaN    NaN    NaN    NaN    NaN    NaN    NaN    NaN    NaN   \n",
       "23     ...    NaN    NaN    NaN    NaN    NaN    NaN    NaN    NaN    NaN   \n",
       "...    ...    ...    ...    ...    ...    ...    ...    ...    ...    ...   \n",
       "84562  ...    NaN    NaN    NaN    NaN    NaN    NaN    NaN    NaN    NaN   \n",
       "84581  ...    NaN    NaN    NaN    NaN    NaN    NaN    NaN    NaN    NaN   \n",
       "84597  ...    NaN    NaN    NaN    NaN    NaN    NaN    NaN    NaN    NaN   \n",
       "84600  ...    NaN    NaN    NaN    NaN    NaN    NaN    NaN    NaN    NaN   \n",
       "84605  ...    NaN    NaN    NaN    NaN    NaN    NaN    NaN    NaN    NaN   \n",
       "\n",
       "Drama  45877  \n",
       "User          \n",
       "1        NaN  \n",
       "6        NaN  \n",
       "10       NaN  \n",
       "12       NaN  \n",
       "23       NaN  \n",
       "...      ...  \n",
       "84562    NaN  \n",
       "84581    NaN  \n",
       "84597    NaN  \n",
       "84600    NaN  \n",
       "84605    NaN  \n",
       "\n",
       "[10873 rows x 3346 columns]"
      ]
     },
     "execution_count": 96,
     "metadata": {},
     "output_type": "execute_result"
    }
   ],
   "source": [
    "# Create a user-movie matrix with empty values\n",
    "df_p = df_train.pivot_table(index='User', columns='Drama', values='Rating')\n",
    "print('Shape User-Drama-Matrix:\\t{}'.format(df_p.shape))\n",
    "df_p"
   ]
  },
  {
   "cell_type": "code",
   "execution_count": 97,
   "id": "da09cc13",
   "metadata": {},
   "outputs": [
    {
     "name": "stdout",
     "output_type": "stream",
     "text": [
      "Starting to impute missing values...\n",
      "Imputation completed.\n",
      "Computing cosine similarity between all users...\n",
      "Cosine similarity computation completed.\n",
      "Processing similarity matrix...\n",
      "Sorting similar users...\n",
      "Sorting completed.\n"
     ]
    }
   ],
   "source": [
    "# THIS CODE TAKES AGES! AT LEAST 10 MINUTES!!\n",
    "\n",
    "# selecting user id to grab recommendations\n",
    "user_index = 0\n",
    "\n",
    "# Number of similar users for recommendation\n",
    "n_recommendation = 100\n",
    "\n",
    "# Plot top n recommendations\n",
    "n_plot = 10\n",
    "\n",
    "print(\"Starting to impute missing values...\")\n",
    "# Fill in missing values\n",
    "df_p_imputed = df_p.T.fillna(df_p.mean(axis=1)).T\n",
    "print(\"Imputation completed.\")\n",
    "\n",
    "print(\"Computing cosine similarity between all users...\")\n",
    "# Compute similarity between all users\n",
    "similarity = cosine_similarity(df_p_imputed.values)\n",
    "print(\"Cosine similarity computation completed.\")\n",
    "\n",
    "print(\"Processing similarity matrix...\")\n",
    "# Remove self-similarity from similarity-matrix\n",
    "similarity -= np.eye(similarity.shape[0])\n",
    "\n",
    "print(\"Sorting similar users...\")\n",
    "# Sort similar users by index\n",
    "similar_user_index = np.argsort(similarity[user_index])[::-1]\n",
    "# Sort similar users by score\n",
    "similar_user_score = np.sort(similarity[user_index])[::-1]\n",
    "print(\"Sorting completed.\")\n"
   ]
  },
  {
   "cell_type": "code",
   "execution_count": 98,
   "id": "54445740",
   "metadata": {},
   "outputs": [],
   "source": [
    "# Get unrated movies\n",
    "unrated_dramas = df_p.iloc[user_index][df_p.iloc[user_index].isna()].index\n",
    "\n",
    "# Weight ratings of the top n most similar users with their rating and compute the mean for each movie\n",
    "mean_drama_recommendations = (df_p_imputed.iloc[similar_user_index[:n_recommendation]].T * similar_user_score[:n_recommendation]).T.mean(axis=0)\n",
    "\n",
    "# Filter for unrated movies and sort results\n",
    "best_drama_recommendations = mean_drama_recommendations[unrated_dramas].sort_values(ascending=False).to_frame().join(df_titles)\n",
    "\n",
    "\n"
   ]
  },
  {
   "cell_type": "code",
   "execution_count": 99,
   "id": "710602a1",
   "metadata": {},
   "outputs": [],
   "source": [
    "# Create user-id mapping\n",
    "user_id_mapping = {id:i for i, id in enumerate(df_p_imputed.index)}\n",
    "\n",
    "prediction = []\n",
    "# Iterate over all testset items\n",
    "for user_id in df_test['User'].unique():\n",
    "    \n",
    "    # Sort similar users by index\n",
    "    similar_user_index = np.argsort(similarity[user_id_mapping[user_id]])[::-1]\n",
    "    # Sort similar users by score\n",
    "    similar_user_score = np.sort(similarity[user_id_mapping[user_id]])[::-1]\n",
    "    \n",
    "    for drama_id in df_test[df_test['User']==user_id]['Drama'].values:\n",
    "\n",
    "        # Compute predicted score\n",
    "        score = (df_p_imputed.iloc[similar_user_index[:n_recommendation]][drama_id] * similar_user_score[:n_recommendation]).values.sum() / similar_user_score[:n_recommendation].sum()\n",
    "        prediction.append([user_id, drama_id, score])\n",
    "        \n",
    "\n",
    "# Create prediction DataFrame\n",
    "df_pred = pd.DataFrame(prediction, columns=['User', 'Drama', 'Prediction']).set_index(['User', 'Drama'])\n",
    "df_pred = df_test.set_index(['User', 'Drama']).join(df_pred)\n",
    "\n",
    "\n",
    "# Get labels and predictions\n",
    "y_true = df_pred['Rating'].values\n",
    "y_pred = df_pred['Prediction'].values\n",
    "\n",
    "# Compute RMSE\n",
    "rmse = np.sqrt(mean_squared_error(y_true=y_true, y_pred=y_pred))\n",
    "\n",
    "\n"
   ]
  },
  {
   "cell_type": "code",
   "execution_count": 100,
   "id": "ff59ba5f",
   "metadata": {},
   "outputs": [
    {
     "data": {
      "application/vnd.plotly.v1+json": {
       "config": {
        "linkText": "Export to plot.ly",
        "plotlyServerURL": "https://plot.ly",
        "showLink": false
       },
       "data": [
        {
         "marker": {
          "color": "#db0000"
         },
         "orientation": "h",
         "text": [
          "healer",
          "crash landing on you",
          "vincenzo",
          "it's okay to not be okay",
          "goblin",
          "love o2o",
          "signal",
          "hospital playlist",
          "city hunter",
          "moon lovers: scarlet heart ryeo",
          "move to heaven",
          "dr. romantic",
          "strong woman do bong soon",
          "the fiery priest",
          "happiness",
          "vagabond",
          "descendants of the sun",
          "you are my glory",
          "mr. queen",
          "kingdom",
          "kingdom season 2",
          "hotel del luna",
          "tale of the nine-tailed",
          "reply 1988",
          "eulachacha waikiki",
          "love me if you dare",
          "the untamed",
          "flower of evil",
          "navillera",
          "dr. romantic season 2",
          "twenty-five twenty-one",
          "itaewon class",
          "doom at your service",
          "mystic pop-up bar",
          "the devil judge",
          "while you were sleeping",
          "kill me, heal me",
          "tell me what you saw",
          "rooftop prince",
          "the master's sun",
          "it's okay, that's love",
          "fight for my way",
          "secret garden",
          "dali and the cocky prince",
          "life on mars",
          "weightlifting fairy kim bok joo",
          "nobody knows",
          "falling into your smile",
          "w",
          "a korean odyssey",
          "come and hug me",
          "my name",
          "moon embracing the sun",
          "the red sleeve",
          "good manager",
          "my love from the star",
          "her private life",
          "the king: eternal monarch",
          "taxi driver",
          "sword snow stride",
          "intense love",
          "ugly alert",
          "semantic error",
          "ace troops",
          "the k2",
          "joy of life",
          "my heroic husband",
          "hot stove league",
          "another miss oh",
          "the penthouse season 2: war in life",
          "forever and ever",
          "begin again",
          "the legends",
          "hit the top",
          "douluo continent",
          "age of youth",
          "full house",
          "our secret",
          "chicago typewriter",
          "youth of may",
          "the lover",
          "mad dog",
          "the lost tomb 2",
          "search: www",
          "18 again",
          "suspicious partner",
          "koi wa tsuzuku yo doko made mo",
          "just between lovers",
          "class of lies",
          "fated to love you",
          "the heirs",
          "mouse",
          "hello monster",
          "love revolution",
          "le coup de foudre",
          "the tale of nokdu",
          "school 2013",
          "ashes of love",
          "voice",
          "faith",
          "love is sweet",
          "law school",
          "the king’s avatar",
          "doctor prisoner",
          "go ho's starry night",
          "terius behind me",
          "autumn's concerto",
          "the uncanny counter",
          "hotel king",
          "the package",
          "bad guys",
          "two weeks",
          "extracurricular",
          "dear my friends",
          "my mister",
          "reset",
          "the emperor: owner of the mask",
          "our beloved summer",
          "jewel in the palace",
          "player",
          "sky castle",
          "to my star",
          "find me in your memory",
          "save me",
          "the guest",
          "kieta hatsukoi",
          "the sound of your heart",
          "go ahead",
          "boys over flowers",
          "queen in hyun's man",
          "under the power",
          "itazura na kiss: love in tokyo",
          "the world of fantasy",
          "jealousy incarnate",
          "touch your heart",
          "the smile has left your eyes",
          "secret royal inspector",
          "partners for justice",
          "juvenile justice",
          "something in the rain",
          "dream garden",
          "bad and crazy",
          "bad buddy",
          "thumping spike",
          "the legend of the blue sea",
          "the story of ming lan",
          "oh my ghost",
          "miss in kiss",
          "cunning single lady",
          "mine",
          "the fox's summer",
          "ugly duckling series: perfect match",
          "he is psychometric",
          "imitation",
          "3 nen a gumi: ima kara mina-san wa, hitojichi desu",
          "live",
          "love scenery",
          "temptation",
          "cruel city",
          "kiss me",
          "defendant",
          "one spring night",
          "adult trainee",
          "the imperial coroner",
          "history4: close to you",
          "fighter of the  destiny",
          "sunshine of my life",
          "you're all surrounded",
          "work later, drink now",
          "entertainer",
          "at a distance, spring is green",
          "gibo to musume no blues",
          "are you human too?",
          "catch the ghost",
          "a gentleman's dignity",
          "trial marriage",
          "fall in love",
          "misaeng: incomplete life",
          "hellbound",
          "hometown cha-cha-cha",
          "heavenly sword and dragon slaying sabre",
          "legend of fei",
          "until we meet again",
          "meteor garden",
          "once again",
          "snowdrop",
          "sotus",
          "because this is my first life",
          "bubblegum",
          "hwarang",
          "the lost tomb",
          "go back couple",
          "jao sao jum yorm",
          "you are my hero",
          "the girl who sees scents",
          "advertising genius lee tae baek",
          "why women love",
          "avengers social club",
          "to fly with you",
          "u-prince: the badass baker",
          "chief of staff",
          "rookie cops",
          "my lawyer, mr. jo",
          "she was pretty",
          "en of love: this is love story",
          "we best love: no. 1 for you",
          "the brightest star in the sky",
          "hi bye, mama!",
          "wonderful life",
          "u-prince: the single lawyer",
          "search",
          "noble aspirations",
          "solomon's perjury",
          "the love by hypnotic",
          "rookie agent rouge",
          "don't disturb my study",
          "my little princess",
          "the light in your eyes",
          "tunnel",
          "fairyland lovers",
          "u-prince: the foxy pilot",
          "loving, never forgetting",
          "queen of ambition",
          "forever love",
          "reflection of you",
          "confession",
          "history of the salaryman",
          "last",
          "hwang jin yi",
          "word of honor",
          "in a class of her own",
          "1 litre no namida",
          "cambrian period",
          "put your head on my shoulder",
          "pegasus market",
          "love actually",
          "not me",
          "when the weather is fine",
          "the king's affection",
          "doctor stranger",
          "the kingdom of the winds",
          "365: repeat the year",
          "after school: lucky or not",
          "30-sai made dotei da to mahotsukai ni nareru rashii",
          "god's quiz",
          "through the darkness",
          "gokusen",
          "the sand princess",
          "tharntype",
          "mr. sunshine",
          "six flying dragons",
          "love rain",
          "love and redemption",
          "49 days",
          "designated survivor: 60 days",
          "priest",
          "it started with a kiss",
          "drinking solo",
          "novoland: pearl eclipse",
          "lovers of the red sky",
          "joseon exorcist",
          "the rational life",
          "love through a millennium",
          "king2hearts",
          "my mr. mermaid",
          "one ordinary day",
          "sassy go go",
          "beautiful world",
          "nirvana in fire season 2: the wind blows in chang lin",
          "good bye, my princess",
          "en of love: love mechanics",
          "you are my destiny",
          "love in the moonlight",
          "theory of love",
          "eternal love",
          "the day of becoming you",
          "definitely not today",
          "man to man",
          "special labor inspector jo",
          "win jaime's heart",
          "what happens to my family?",
          "twenty-twenty",
          "the tasty florida",
          "flower ever after",
          "love under the full moon",
          "mr. heart",
          "forest",
          "racket boys",
          "one and only",
          "your honor",
          "why why love",
          "kamen rider zi-o",
          "band of sisters",
          "the sleepless princess",
          "my father is strange",
          "ever night",
          "yi san",
          "smile, dong hae",
          "i have a lover",
          "46 days",
          "the long ballad",
          "uncle",
          "todome no kiss",
          "times",
          "ancient love poetry",
          "dance of the phoenix",
          "who are you",
          "like a flowing river",
          "granting you a dreamlike life",
          "lost in 1949",
          "lovely horribly",
          "boku dake ga inai machi",
          "mother",
          "proposal daisakusen",
          "a beautiful mind",
          "train",
          "hua jai sila",
          "when a snail falls in love",
          "my romantic some recipe",
          "soul plate",
          "the trick of life and love",
          "queen: love and war",
          "my golden life",
          "hong gil dong",
          "gu family book",
          "okusama wa, tori atsukai chui",
          "ichikei no karasu",
          "nigeru wa haji da ga yaku ni tatsu",
          "tokyo dogs",
          "tempest",
          "omameda towako to sannin no motootto",
          "yae no sakura",
          "hanzawa naoki",
          "mondai no aru restaurant",
          "run on",
          "remember you",
          "the miracle",
          "manner of death",
          "killer and healer",
          "to be continued",
          "blade man",
          "dinner mate",
          "u-prince: the crazy artist",
          "live on",
          "my girlfriend is a gumiho",
          "q series: life plan a and b",
          "story of yanxi palace",
          "vampire detective",
          "choco bank",
          "my fated boy",
          "the blooms at ruyi pavilion",
          "school 2017",
          "my only one",
          "reunited worlds",
          "reunion: the sound of the providence season 2",
          "god's quiz season 2",
          "legend of fu yao",
          "neechan no koibito",
          "truth or dare",
          "kkondae  intern",
          "stranger season 2",
          "criminal minds",
          "the love equations",
          "here is my exclusive indulge",
          "ordinary but special",
          "when we were young",
          "my little happiness",
          "inspector koo",
          "kazoku game",
          "bokura wa kiseki de dekite iru",
          "utsukushii kare",
          "trot lovers",
          "make my heart smile",
          "children of nobody",
          "diamond lover",
          "pied piper",
          "oh my drama lover",
          "deep in my heart",
          "for married doctress",
          "river where the moon rises",
          "i promised you the moon",
          "second chance",
          "sachiiro no one room",
          "u-prince: the ambitious boss",
          "five enough",
          "love, now",
          "thank you",
          "to get her",
          "song huajai nee puea tur",
          "i'm a pet at dali temple",
          "the guardians",
          "argon",
          "the prince who turns into a frog",
          "easy fortune happy life",
          "good doctor",
          "black",
          "general and i",
          "secret love affair",
          "doctor x",
          "big issue",
          "candle in the tomb: the wrath of time",
          "no secrets",
          "crisis: kouan kidou sousatai tokusou-han",
          "wonderful fate",
          "missing noir m",
          "oops! the king is in love",
          "massaya",
          "birthcare center",
          "nirvana in fire",
          "return",
          "stranger",
          "love shuffle",
          "jumong",
          "dong yi",
          "rebel: thief who stole the people",
          "missing: the other side",
          "a camellia romance",
          "young lady and gentleman",
          "marry me",
          "queen seon duk",
          "exo next door",
          "the perfect match",
          "papa & daddy",
          "the sword and the brocade",
          "fermentation family",
          "anniversary anyway",
          "diary of a prosecutor",
          "finding soul",
          "11 nin mo iru!",
          "gomenne seishun!",
          "koko wa ima kara rinri desu",
          "49",
          "master of study",
          "holy land",
          "ore no sukato, doko itta?",
          "rental nan mo shinai hito",
          "35 sai no koukousei",
          "goodbye my princess: director's cut",
          "that fool",
          "miss crow with mr. lizard",
          "sweet teeth",
          "because of love",
          "make it right 2",
          "click your heart",
          "the prince of tennis",
          "i'm tee, me too",
          "the best story",
          "all out of love",
          "start-up",
          "listening snow tower",
          "xx",
          "he's coming to me",
          "love and destiny",
          "iris 2",
          "ugly duckling series: pity girl",
          "i don't want to be friends with you",
          "autumn tale",
          "falling for innocence",
          "ten years late",
          "ani ni aisaresugite komattemasu",
          "office girls",
          "aftermath",
          "silence",
          "the good wife",
          "p.s. man",
          "twisted fate of love",
          "my love, enlighten me",
          "be melodramatic",
          "zombie detective",
          "money game",
          "i'm not a robot",
          "the moment the heart shines",
          "the starry night, the starry sea",
          "f4 thailand: boys over flowers",
          "chimera",
          "go go squid!",
          "blue birthday",
          "reunion: the sound of the providence",
          "history3: make our days count",
          "sm:)e",
          "taiyou no uta",
          "all about my mom",
          "best lover",
          "yumi's cells",
          "my sweet dear",
          "code blue",
          "kaitou yamaneko",
          "sunao ni narenakute",
          "iryu team medical dragon",
          "mioka",
          "the gifted",
          "stairway to heaven",
          "sotus s",
          "here's my plan",
          "crush",
          "sweet home",
          "timeless love",
          "quartet",
          "gameboys level-up edition",
          "beautiful love, wonderful life",
          "flipped",
          "my true friend",
          "love alarm",
          "ima kara anata wo kyouhaku shimasu",
          "only kiss without love",
          "tomorrow boy",
          "you are my spring",
          "no boundary season 2",
          "love in between",
          "a hundred year's inheritance",
          "gunman in joseon",
          "lonely enough to love",
          "the princess's man",
          "brothers",
          "rattan",
          "the crowned clown",
          "zettai kareshi",
          "the golden eyes",
          "hot shot",
          "psych-hunter",
          "devil lover",
          "high&low season 2",
          "final life",
          "my love from the ocean",
          "handsome siblings",
          "legend of the condor heroes",
          "the vigilantes in masks",
          "shuttle love millennium",
          "no boundary",
          "secret of three kingdoms",
          "die now",
          "the heiress",
          "lost",
          "surgeons",
          "high-end crush",
          "dr. cutie",
          "shine or go crazy",
          "one more happy ending",
          "a beauty of revenge",
          "the greatest love",
          "my ambulance",
          "crime puzzle",
          "eating existence",
          "the return of iljimae",
          "golden rainbow",
          "murphy's law of love",
          "mengfei comes across",
          "the twin flower legend",
          "the romance of the condor heroes",
          "room no. 9",
          "all-boys high",
          "my unfortunate boyfriend",
          "go go squid 2: dt. appledog's time",
          "high school king of savvy",
          "the wolf",
          "tomb of the sea",
          "two cops",
          "dance of the sky empire",
          "cross fire",
          "devilish joy",
          "all of us are dead",
          "how are you bread",
          "strongest deliveryman",
          "my dear loser: edge of 17",
          "just you",
          "history2: crossing the line",
          "given",
          "my lovely sam soon",
          "promise cinderella",
          "boarding house #24",
          "oh! my boss! koi wa bessatsu de",
          "trap",
          "awaken",
          "lie after lie",
          "pink lipstick",
          "w.h.y.",
          "idol: the coup",
          "ossan's love",
          "cupid's kitchen",
          "rainless love in a godless land",
          "the king's woman",
          "sungkyunkwan scandal",
          "your home",
          "see you after quarantine?",
          "calculating love",
          "hometown's embrace",
          "stuck on you",
          "nighttime",
          "friend forever",
          "honey sir",
          "hikaru no go",
          "jang ok jung",
          "three kingdoms",
          "myung wol the spy",
          "my forever sunshine",
          "golden pouch",
          "choose",
          "miman keisatsu: midnight runner",
          "always have, always will",
          "oxygen",
          "we best love: fighting mr. 2nd",
          "bite me",
          "kuzu no honkai",
          "o-negative",
          "meet me outside",
          "fall in love with a scientist",
          "devil beside you",
          "color rush",
          "3 days",
          "one more time",
          "big",
          "watcher",
          "something about 1 percent",
          "delightful girl, choon hyang",
          "the musical",
          "wish woosh 2",
          "better a lie than a truth",
          "full house take 2",
          "fabulous boys",
          "koizora",
          "the woman who still wants to marry",
          "hajimete koi wo shita hi ni yomu hanashi",
          "i have three boyfriends",
          "sealed with a kiss",
          "dream high",
          "winter sonata",
          "s: saigo no keikan",
          "the sweetest secret",
          "a tale of thousand stars",
          "history2: right or wrong",
          "bromance",
          "athena: goddess of war",
          "mr. fighting",
          "mr. fox and miss rose",
          "my supernatural power",
          "i  do, i do",
          "remembrance of things past",
          "good morning call",
          "the romance of tiger and rose",
          "discovery of romance",
          "u-prince: the absolute economist",
          "the hymn of death",
          "find yourself",
          "a female student arrives at the imperial college",
          "u-prince: the badly politics",
          "my sunshine",
          "rebirth for you",
          "blacklist",
          "secret seven",
          "hello debate opponent",
          "fake princess",
          "guardian",
          "sweet revenge",
          "you raise me up",
          "scent of a woman",
          "monthly magazine home",
          "once upon a time in lingjian mountain",
          "flourish in time",
          "across the ocean to see you",
          "hold on, my lady",
          "love is all",
          "chijo no kiss",
          "more than friends",
          "romantic princess",
          "the first half of my life",
          "blossom in heart",
          "light the night",
          "best wedding",
          "that winter, the wind blows",
          "i see you",
          "leh lub salub rarng",
          "my story for you",
          "dolce amore",
          "the flame's daughter",
          "dating agency: cyrano",
          "project s: spike",
          "lawless lawyer",
          "mia jum pen",
          "khing kor rar khar kor rang",
          "sanaeha sunya kaen",
          "mama",
          "dr. ian",
          "mia taeng",
          "likit kammathep",
          "ton ruk rim rua",
          "nakark kaew",
          "it's okay, daddy's girl",
          "the legend of jin yan",
          "kou kou kyoushi 2003",
          "sud sai pan",
          "suparburoot jorm jon: maturot lohgan",
          "nang ai",
          "kon la kop fah",
          "love forever after",
          "samee",
          "payu sai",
          "who are you?",
          "kleun cheewit",
          "babysitter",
          "onzoshi boys",
          "dao kiao duen",
          "sunny again tomorrow",
          "the last empress",
          "grand prince",
          "my absolute boyfriend",
          "sang doo, let's go to school",
          "matching! boys archery",
          "prince of lan ling",
          "face off",
          "we broke up",
          "in love with your dimples",
          "bread, love and dreams",
          "meloholic",
          "love at night",
          "the crown princess",
          "what's wrong with secretary kim",
          "legally, dad",
          "toki wo kakeru shoujo",
          "colourful bone",
          "be with you",
          "mirror of the witch",
          "one fine day",
          "risky",
          "with you",
          "lie to love",
          "novoland: eagle flag",
          "memory love",
          "the whirlwind girl",
          "be my boyfriend",
          "legal high 2",
          "my boss, my hero",
          "shinya shokudo - tokyo stories season 2",
          "osozaki no himawari",
          "tonbi",
          "ano toki kiss shite okeba",
          "yowakutemo katemasu",
          "saiai",
          "otomen",
          "kokoro ga pokitto ne",
          "mystery to iunakare",
          "watashi, teiji de kaerimasu",
          "date - koi to wa donna mono kashira",
          "last friends",
          "lupin no musume",
          "sekai ichi muzukashii koi",
          "hakozume: tatakau! koban joshi",
          "black pean",
          "watashi wo hanasanaide",
          "tantei no tantei",
          "kaseifu no mita",
          "sutekina sen taxi",
          "n no tame ni",
          "watashi no kaseifu nagisa-san",
          "hello stranger",
          "god's quiz season 4",
          "can't lose",
          "legend of hyang dan",
          "secret door",
          "next door witch j",
          "strongest chil woo",
          "the legend of white snake",
          "ojakgyo brothers",
          "inspiring generation",
          "the lies within",
          "water boyy",
          "limit",
          "last scandal",
          "tree of heaven",
          "mei-chan no shitsuji",
          "arthdal chronicles part 3: the prelude to all legends",
          "kiss",
          "once we get married",
          "happy birthday",
          "seven of me",
          "top secret together",
          "enchanté",
          "youth unprescribed",
          "love by chance 2: a chance to love",
          "innocent",
          "ngao asoke",
          "the plough department of song dynasty",
          "hayate the combat butler",
          "cruel romance",
          "love marriage",
          "beyond the clouds",
          "sword and flower",
          "skip beat!",
          "woman of 9.9 billion",
          "hello dear ancestors",
          "uncontrollably fond",
          "secret royal inspector & joy",
          "how to buy a friend",
          "sweet munchies",
          "she knows everything",
          "taste of cat",
          "unexpected",
          "vivid romance",
          "all i want for love is you",
          "dream knight",
          "the king of romance",
          "moonlight",
          "falsify",
          "nice witch",
          "record of youth",
          "please feel at ease mr. ling",
          "my strange hero",
          "my unicorn girl",
          "chasing ball",
          "the flower in prison",
          "the penthouse season 3: war in life",
          "the incarnation of money",
          "lucky with you",
          "into the ring",
          "konto ga hajimaru",
          "the three musketeers",
          "black lighthouse",
          "crossroad bistro",
          "hanazakari no kimitachi e",
          "reply 1994",
          "pinocchio",
          "my dangerous wife",
          "you complete me",
          "hot and sweet",
          "wind-bell",
          "birth of a beauty",
          "one the woman",
          "love the way you are",
          "itsuka, nemuri ni tsuku hi",
          "the best twins",
          "ouran high school host club",
          "14-sai no haha",
          "horimiya",
          "is - otoko demo onna demo nai sei",
          "ashi girl",
          "senior secret love: puppy honey 2",
          "densha otoko",
          "jirisan",
          "scarlet heart 2",
          "first romance",
          "to all the guys who loved me",
          "my day",
          "hospital ship",
          "a man's story",
          "magic school",
          "kinkyu torishirabeshitsu 2",
          "waen dok mai",
          "kaew klang dong",
          "my dear boy",
          "haechi",
          "mi wo tsukushi ryouricho",
          "jao sao chang yon",
          "gomen, aishiteru",
          "the ordinary glory",
          "takane no hana",
          "beyond light years",
          "god's quiz: reboot",
          "unknown woman",
          "tantei gakuen q",
          "100-manen no onna-tachi",
          "miss ma, nemesis",
          "akira to akira",
          "showa genroku rakugo shinju",
          "an oriental odyssey",
          "bad thief, good thief",
          "ms. kim's million dollar quest",
          "my dear loser: monster romance",
          "gay ok bangkok 2",
          "sign",
          "let me introduce her",
          "uchi no otto wa shigoto ga dekinai",
          "bokutachi ga yarimashita",
          "creating destiny",
          "gintama: mitsuba hen",
          "another me",
          "nueng dao fah diew",
          "burning ice",
          "aishite tatte, himitsu wa aru",
          "slam dance",
          "the legend of hao lan",
          "red balloon",
          "l.o.r.d. critical world",
          "god of lost fantasy",
          "survival wedding",
          "tientsin mystic",
          "royal nirvana",
          "top star yoo baek",
          "dele",
          "blowing in the wind",
          "time teaches me to love",
          "chef fang",
          "love destiny",
          "mr. right",
          "my love from another star",
          "saki ni umareta dake no boku",
          "rh plus",
          "hip hop teacher",
          "honou no tenkousei reborn",
          "man in the kitchen",
          "not alright, but it's alright",
          "people you may know",
          "queen dugu",
          "destiny's love",
          "matrimonial chaos",
          "bunlang dok mai",
          "emergency department doctors",
          "super family",
          "detective samoyeds",
          "original sin",
          "vampire host",
          "see you again",
          "love, just come",
          "final fantasy xiv: hikari no otousan",
          "hito wa mita me ga 100%",
          "scrap teacher",
          "frankenstein no koi",
          "the underwear",
          "haha ni naru",
          "kizoku tantei",
          "my huckleberry friends",
          "totsuzen desu ga, ashita kekkon shimasu",
          "tokyo joshi zukan",
          "mangaban nobushi no gurume",
          "let's shake it!",
          "legend of the phoenix",
          "109 strange things",
          "the endless love",
          "ms. perfect",
          "rule the world",
          "no time for love",
          "love for a thousand more",
          "freeter, ie o kau.",
          "kakegurui season 2",
          "dai renai: boku wo wasureru kimi to",
          "tears in heaven",
          "negotiator",
          "sweet revenge season 2",
          "trace of the hand",
          "i love my president though he's a psycho",
          "koo za rot zab",
          "the king of blaze",
          "my woofy poofy love",
          "love and fortune",
          "toumei na yurikago",
          "haru ga kita",
          "20th century boy and girl",
          "kekkon aite wa chusen de",
          "love, timeless",
          "sakurako-san no ashimoto ni wa shitai ga umatteiru",
          "summer's desire",
          "hannari girori no yoriko-san",
          "in family we trust",
          "never say goodbye",
          "dorokei",
          "dae jang geum is watching",
          "reverse",
          "bangkok love stories 2: plead",
          "bangkok love stories 2: innocence",
          "the cupids series: kammathep jum laeng",
          "the cupids series: kammathep sorn kol",
          "the cupids series: sorn ruk kammathep",
          "the cupids series: loob korn kammathep",
          "it's okay to be sensitive",
          "tae pang korn",
          "the journey 2",
          "boku, unmei no hito desu",
          "koi ga heta demo ikitemasu",
          "the masked lover",
          "the destiny of white snake",
          "bungaku shojo",
          "rak nakara",
          "if paris downcast",
          "let's only walk the flower road",
          "children of a lesser god",
          "rak rai",
          "krong karm",
          "kimi ga kokoro ni sumitsuita",
          "hot blooded youth",
          "we are peaceful brothers",
          "iron ladies",
          "less than evil",
          "the sound of your heart: reboot",
          "bg: personal bodyguard",
          "lion pride",
          "the most beautiful goodbye",
          "khun mae suam roy",
          "between friendship and love",
          "never gone",
          "cross",
          "age of rebellion",
          "lying heart",
          "chihayafuru: tsunagu",
          "nee ruk nai krong fai",
          "on the wings of love",
          "unnatural",
          "first love story season 2",
          "to love, to heal",
          "romance special law",
          "majisuka gakuen",
          "the dark lord",
          "guilty akuma to keiyakushita onna",
          "celeb to binbo taro",
          "day and night",
          "denei shojo: video girl ai 2018",
          "momikeshite fuyu",
          "the rebel princess",
          "mint to be",
          "my poseidon",
          "all is well",
          "todome no parallel",
          "dragon day, you're dead season 2",
          "big white duel",
          "the quiz show 2",
          "godhand teru",
          "miracle that we met",
          "tra barb see chompoo",
          "the confidence man jp",
          "sapuri",
          "4 kinds of house",
          "fates & furies",
          "holiday love",
          "mendol",
          "gakeppuchi hotel",
          "ototo no otto",
          "thong ek: the herbal master",
          "miss sherlock",
          "signal: choki mikaiketsu jiken sosahan",
          "manpuku",
          "natsuzora",
          "kakegurui",
          "should we kiss first?",
          "my robot boyfriend",
          "anone",
          "yellow",
          "kuragehime",
          "wolf",
          "love returns",
          "one and another him",
          "paen rai long tai wa rak",
          "the great ruler",
          "pretty man",
          "youniverse",
          "river flows to you",
          "joker yurusarezaru sousakan",
          "first love story",
          "boku wa mari no naka",
          "my hero series: heart of the motherland",
          "unubore deka",
          "paradise farm",
          "rak kan panlawan",
          "roop thong",
          "the world between us",
          "project s: side by side",
          "delicious gakuin",
          "sanae rak nang cin",
          "hanbun, aoi",
          "miss no good",
          "juunen saki mo kimi ni koishite",
          "eagles and youngster",
          "innocent love",
          "tokyo juliet",
          "likit haeng jan",
          "caught in the heartbeat",
          "jojo's world",
          "risky romance",
          "beautiful reborn flower",
          "1% of anything",
          "the quiz show",
          "my dream",
          "seigi no mikata",
          "wake up ladies",
          "in youth",
          "beloved enemy",
          "the evolution of our love",
          "goodbye to goodbye",
          "fate",
          "the count of monte-cristo: great revenge",
          "juuyou sankounin tantei",
          "nihonjin no shiranai nihongo",
          "borg mom",
          "the big boss",
          "fluttering warning",
          "between",
          "the best moment to quit your job",
          "youth",
          "secret mother",
          "my boyfriend",
          "irreplaceable love",
          "kamen rider build",
          "rookies",
          "the longest day in chang'an",
          "project s: shoot! i love you",
          "project s: skate our souls",
          "tokyo alice",
          "keiji yugami",
          "dear prince",
          "youth",
          "i am...",
          "miss independent ji eun",
          "kangoku no ohimesama",
          "girls' generation 1979",
          "your highness, the class monitor",
          "teenage mom",
          "jigoku shoujo",
          "waiting for you in the future",
          "pure melo district",
          "revolutionary sisters",
          "shitteru waifu",
          "blackout",
          "falling in love",
          "party a who lives beside me",
          "be yourself",
          "talio fukushu daiko no futari",
          "satsui no michinori",
          "he's into her",
          "minning town",
          "dear parents",
          "hook up",
          "the cupid coach",
          "dok go bin is updating",
          "the lost tomb 2: explore with the note",
          "okane no kireme ga koi no hajimari",
          "35sai no shoujo",
          "my dear brothers",
          "call it what you want",
          "my treasure",
          "unusual idol love",
          "today office tomorrow romance",
          "wong wien hua jai",
          "sweet sweet",
          "are we alright?",
          "bossam: steal the fate",
          "dalgona",
          "#remolove: futsuu no koi wa jado",
          "koisuru hahatachi",
          "on the verge of insanity",
          "the shore",
          "tengoku to jigoku: psychona futari",
          "unguarded",
          "serendipity",
          "liar game",
          "kishibe rohan wa ugokanai",
          "i fell in love by accident",
          "why love why",
          "uncle cool",
          "uchi no musume wa, kareshi ga dekinai!!",
          "influencers",
          "the in-laws",
          "ore no ie no hanashi",
          "royal nirvana special",
          "daughters",
          "bokura wa koi ga hetasugiru",
          "maid escort",
          "shinbun kisha",
          "kurosagi",
          "sensei wo kesu houteishiki",
          "loveless society",
          "discipline z: vampire",
          "good and evil",
          "ben x jim",
          "love o'clock",
          "out of the dream",
          "my gear and your gown",
          "my queen",
          "falling into you",
          "sakristan",
          "oh, mando!",
          "candle in the tomb: the worm valley",
          "oyabaka seishun hakusho",
          "game of outlaws",
          "dear diary",
          "wacko at law",
          "girl next room: security love",
          "girl next room: richy rich",
          "girl next room: midnight fantasy",
          "romance talking",
          "pop out boy!",
          "hotaru no hikari",
          "pearl next door",
          "sixteen shoukougun",
          "guilty: kono koi wa tsumi desuka",
          "peanut butter sandwich",
          "hotaru no hikari 2",
          "chip-in",
          "time flies and you are here",
          "miu 404",
          "unsung cinderella: byoin yakuzaishi no shohosen",
          "the rebel",
          "a love so romantic",
          "tokyo love story",
          "ni chang",
          "fah mee tawan",
          "my dear lady",
          "the ideal city",
          "mada mada koi wa tsuzuku yo doko made mo",
          "boys' lockdown",
          "couple of mirrors",
          "bro and me",
          "no, thank you",
          "my boy",
          "youkai sharehouse",
          "the underclass",
          "tumbling",
          "hi my sweetheart",
          "hook",
          "truly very yours",
          "the bond",
          "marvelous women",
          "tatta hitotsu no koi",
          "love script",
          "timing",
          "mute",
          "octogenarian and the 90s",
          "celestial authority academy",
          "okaeri mone",
          "snow lover",
          "gameboys",
          "ohitorisama",
          "the wolf princess",
          "my bubble tea",
          "nodame cantabile",
          "kakenai!?: kyakuhonka yoshimaru keisuke no sujigaki no nai seikatsu",
          "hachimitsu to clover",
          "the other half of me and you",
          "konin todoke ni han wo oshita dake desu ga",
          "samurai high school",
          "shinhannin flag 2",
          "douse mou nigerarenai",
          "49 days with a merman",
          "eroi kareshi ga watashi wo madowasu",
          "best mistake season 3",
          "koi desu: yankee-kun to hakujou garu",
          "gourmet in tang dynasty",
          "junkyouju takatsuki akira no suisatsu 2",
          "junkyouju takatsuki akira no suisatsu",
          "iribito",
          "oshi no oujisama",
          "married first then fall in love",
          "paint with love",
          "country boy",
          "fragrance of the first flower",
          "zenkamono",
          "kazoku boshu shimasu",
          "would you like a cup of coffee?",
          "boku no satsui ga koi wo shita",
          "the comments",
          "midas",
          "tokyo mer: hashiru kinkyuukyuumeishitsu",
          "night doctor",
          "lion no oyatsu",
          "tsumari suki tte iitai n dakedo,",
          "taisetsu na koto wa subete kimi ga oshiete kureta",
          "danger zone season 2: the silver lining",
          "unlucky girl!",
          "please don't spoil me season 2",
          "love destiny uncut",
          "the love of winter",
          "to.two",
          "fuujinshi",
          "kishibe rohan wa ugokanai season 2",
          "oi handsome!",
          "itoshii uso: yasashii yami",
          "fight song",
          "rokuhodo yotsuiro biyori",
          "first love again",
          "the mysterious class",
          "find me if you can",
          "dr. white",
          "koisenu futari",
          "chapter of green",
          "love with benefits",
          "kamiki ryunosuke no satsukyu",
          "the revenge",
          "your playlist",
          "can you deliver time? 2002",
          "the man's voice",
          "avalanche",
          "wadake no otokotachi",
          "mokkoji kitchen",
          "bloody monday",
          "natsu no koi wa nijiiro ni kagayaku",
          "red eyes: kanshi sousa-han",
          "b x j forever",
          "convenience store fling",
          "hello, my youth",
          "emperor or boss",
          "star with a secret",
          "momoiro anzuiro sakurairo",
          "sassy beauty",
          "delicious romance",
          "cinderella is online",
          "higuma",
          "be my dream family",
          "can i step in?",
          "youths in the breeze",
          "breakup probation, a week",
          "smile",
          "influence",
          "you never eat alone",
          "love poison 2",
          "the player",
          "irresistible",
          "55:15 never too late",
          "my toxic lover",
          "kakegurui twin",
          "nihon chinbotsu: kibo no hito",
          "once again",
          "mermaid prince",
          "nijiiro karute",
          "higashino keigo samayou yaiba",
          "nishiogikubo mitsuboshi youshudou",
          "my handsome roommate",
          "renai mangaka",
          "enjiya",
          "yamato nadeshiko shichi henge",
          "falling in love",
          "chef wa meitantei",
          "takane no hana-san",
          "colorful love: genderless danshi ni aisareteimasu",
          "the debut",
          "love kome no okite: kojirase joshi to toshishita danshi",
          "dear uranus",
          "precise shot",
          "kotaro wa hitorigurashi",
          "hidden love",
          "bad roommate",
          "kikazaru koi ni wa riyuu ga atte",
          "rikokatsu",
          "hometown",
          "koi wa deep ni",
          "princess! you have five husbands!",
          "my fake wife",
          "i  can see your mbti",
          "love beneath the stars",
          "black cinderella",
          "the queen of attack",
          "deal lover",
          "atashinchi no danshi",
          "ending again",
          "closer to you",
          "the wonder woman",
          "hakui no senshi!",
          "soshite, ikiru",
          "my dear destiny",
          "kami no shizuku",
          "hotel stars",
          "beethoven virus",
          "everyone wants to meet you",
          "how to hate you",
          "love affairs in the afternoon",
          "just one bite season 2",
          "otto no chinpo ga hairanai",
          "tokyo dokushin danshi",
          "the sleuth of ming dynasty",
          "dive",
          "re-feel",
          "love as you taste",
          "i started following romance",
          "the night of the comet",
          "anata no ban desu",
          "ghostderella",
          "dreaming back to the qing dynasty",
          "becoming a billionaire",
          "in hand",
          "the confidence",
          "the charming step mom",
          "q10",
          "radiation house",
          "followers",
          "the song of glory",
          "mars",
          "the rules of love",
          "nagi no oitoma",
          "not a robot",
          "with love",
          "marn bang jai",
          "dakara watashi wa oshimashita",
          "we are all alone",
          "ping pong life",
          "dating class",
          "unlucky ploy",
          "miss s",
          "maybe, maybe not",
          "i will find you a better home",
          "mada kekkon dekinai otoko",
          "triple fling",
          "zettai reido",
          "real clothes",
          "yuri dano kan dano",
          "prom pissawat",
          "gisou furin",
          "freshman",
          "fujoshi, ukkari gei ni kokuru",
          "bambino!",
          "witch yoo hee",
          "run for young",
          "healer of children",
          "the love lasts two minds",
          "prodigy healer",
          "true ending",
          "dragon zakura",
          "trace: kasouken no otoko",
          "to be with you",
          "winter begonia",
          "liver or die",
          "want more 19",
          "princess at large",
          "spring turns to spring",
          "love in sadness",
          "boys dormitory",
          "brown sugar macchiato",
          "roy leh marnya",
          "a pledge to god",
          "five missions",
          "zekkyou",
          "ie uru onna no gyakushu",
          "growing pain",
          "tokusatsu gagaga",
          "yg future strategy office",
          "go, back diary",
          "society obsessed with love",
          "nice to meet you",
          "bull fighting",
          "tourist",
          "can i hug you tonight?",
          "legal v",
          "buried city to shut all lights",
          "i don't love you yet",
          "perfect crime",
          "bureau of transformer",
          "novoland: the castle in the sky 2",
          "your imagination becomes reality",
          "shall we fall in love",
          "crushes reverse",
          "let's eat something, anna",
          "the effect",
          "the fearless",
          "jin",
          "mother of mine",
          "saka no tochu no ie",
          "when you love yourself",
          "binbo danshi",
          "something just like this",
          "ninkyo helper",
          "broker",
          "my dear warrior",
          "dying eye",
          "the stranded",
          "hammer session!",
          "turn left turn right",
          "3 will be free",
          "endless love",
          "love beyond frontier",
          "boy for rent",
          "visible lie",
          "number six",
          "tokujo kabachi!!",
          "graceful friends",
          "junichi",
          "the life of the white fox",
          "kotaki kyodai to shikuhakku",
          "alibi kuzushi uketamawarimasu",
          "my lonely planet",
          "1 pound no fukuin",
          "shining like you",
          "love at 7-11",
          "amensalism",
          "stars falling from the sky",
          "my ride",
          "the bad kids",
          "i need romance",
          "dear herbal lord",
          "ultimate note",
          "and the winner is love",
          "maou",
          "consummation",
          "amanza",
          "ugly beauty",
          "theseus no fune",
          "soul mechanic",
          "sisyphus",
          "sleepless society: insomnia",
          "kidnapping game",
          "juui dolittle",
          "hidarime tantei eye",
          "girl2k",
          "yameru toki mo, sukoyaka naru toki mo",
          "love poison",
          "kokoro no kizu wo iyasu to iu koto",
          "homeroom",
          "be together",
          "his - koisuru tsumori nante nakatta",
          "nibiiro no hako no naka de",
          "so much in love",
          "qing luo",
          "please classmate",
          "poisoned love",
          "ju-on: noroi no ie",
          "attention please",
          "fai sin chua",
          "love & the emperor",
          "eternal love rain",
          "yanxi palace: princess adventures",
          "orthros no inu",
          "out of breath",
          "yukan club",
          "ghost friends",
          "new face",
          "lovely us",
          "oh my baby",
          "4 reasons why i hate christmas",
          "the attorney is the devil",
          "rahut rissaya",
          "kono otoko wa jinsei saidai no ayamachidesu",
          "raise de wa chanto shimasu",
          "22 flower road",
          "the long night",
          "crash! insignificant roommates",
          "thank god it's friday",
          "don't leave after school",
          "pure",
          "ore no hanashi wa nagai",
          "sherlock: the untold stories",
          "coffee house",
          "in-seoul",
          "count your lucky stars",
          "ruk laek pop",
          "kaibutsu kun",
          "motokare mania",
          "the birth of the drama king",
          "mia archeep",
          "key love",
          "the blessed girl",
          "anata no ban desu - counterattack",
          "monchouchou globalhouse",
          "hotarugusa",
          "sapai import",
          "nothing but thirty",
          "high&low the worst episode.0",
          "a little reunion",
          "young and beautiful",
          "grand maison tokyo",
          "kore wa keihi de ochimasen!",
          "gto",
          "yong jiu grocery store",
          "anego",
          "hotel trainees",
          "doki no sakura",
          "ryusei no kizuna",
          "smiling pasta",
          "like",
          "eccentric! chef moon",
          "cat's bar",
          "the silent criminal",
          "dear my name",
          "love story of court enemies",
          "the little nyonya",
          "standing in the time",
          "lookism",
          "pretty man 2",
          "the witch store",
          "the ghost bride",
          "candle in the tomb: the lost caverns",
          "jark sadtroo soo hua jai",
          "shujin-ko",
          "the guilty secret",
          "make it live: on the beach",
          "never say never",
          "let's fight ghost",
          "someday or one day",
          "to my beautiful woo ri",
          "project 17: side by side",
          "busu no hitomi ni koishiteru",
          "the legend of xiao chuo",
          "please don't spoil me season 3",
          "love to our youth: he falls in love with him",
          "cheer up, mr. kim!",
          "kekkon shinai",
          "aozora no tamago",
          "sugarless",
          "piece",
          "mahoro ekimae bangaichi",
          "battle of changsha",
          "special affairs team ten season 2",
          "ohlala couple",
          "spring love",
          "nakuna, hara-chan",
          "share house no koibito",
          "king flower",
          "xxxholic",
          "all about my romance",
          "tokyo zenryoku shoujo",
          "akumu-chan",
          "nobunaga no chef",
          "ko one return",
          "beginners!",
          "horse doctor",
          "ghost mama sousasen",
          "too late to say i love you",
          "sweet sweet bodyguard",
          "majisuka gakuen 3",
          "the king of dramas",
          "priceless",
          "sora kara furu ichioku no hoshi",
          "monsters",
          "the return of the condor heroes",
          "say that you love me",
          "family",
          "kamen rider wizard",
          "saki",
          "karamazov no kyodai",
          "woman",
          "take five - oretachi wa ai wo nusumeru ka",
          "calling for love",
          "wonderful mama",
          "shark",
          "birth secret",
          "all esper dayo!",
          "black & white",
          "she is wow!",
          "kasuka na kanojo",
          "goddess of marriage",
          "the pursuit of happiness",
          "bread and soup and cat weather",
          "my pig lady",
          "scandal",
          "pin to kona",
          "i summon you, gold!",
          "fallen angel",
          "call of the country",
          "soratobu kouhoushitsu",
          "biblia koshodou no jiken techou",
          "yakou kanransha",
          "amachan",
          "a clear midsummer night",
          "heaven's order",
          "vampire heaven",
          "the queen of office",
          "futatsu no spica",
          "gods of honour",
          "hur jun, the original story",
          "two fathers",
          "bad boys j",
          "the condor heroes 95",
          "last cinderella",
          "higashino keigo mysteries",
          "may queen",
          "haeundae lovers",
          "kamen rider ryuki",
          "aishiteiru to ittekure",
          "feast of the gods",
          "kamen rider blade",
          "kamen rider agito",
          "yoiko no mikata",
          "samurai sentai shinkenger",
          "kamen rider 555",
          "romance in the rain",
          "salamander guru and the gang",
          "the hippocratic crush",
          "saba doru",
          "toshi densetsu no onna",
          "the equator man",
          "partner",
          "the 3rd ward",
          "risou no musuko",
          "soumatou kabushikigaisha",
          "kamen rider den-o",
          "garo: makai senki",
          "brain",
          "special affairs team ten",
          "she is nineteen",
          "fondant garden",
          "my shining girl",
          "bachelor's vegetable store",
          "lady - saigo no hanzai profile",
          "inborn pair",
          "waking love up",
          "strawberry night",
          "operation proposal",
          "saikou no jinsei no owarikata - ending planner",
          "saigo kara nibanme no koi",
          "sound of the desert",
          "can love become money",
          "legal high",
          "triumph in the skies",
          "secret angel",
          "heartbeat love",
          "swordsman",
          "best time",
          "legend of lu zhen",
          "god's quiz season 3",
          "legend of concubine zhen huan",
          "when love walked in",
          "what is love",
          "five fingers",
          "the thousandth man",
          "to my beloved",
          "miss rose",
          "a step into the past",
          "kodoku no gurume",
          "in between",
          "drama go go go",
          "tiger cubs",
          "shiritsu bakaleya koukou",
          "high kick through the roof!",
          "golden time",
          "ooku: the inner chamber",
          "lunch queen",
          "ataru",
          "papadol!",
          "xuan-yuan sword: scar of sky",
          "mikeneko holmes no suiri",
          "w no higeki",
          "ti amo chocolate",
          "witness insecurity",
          "yellow boots",
          "akuryo byoutou",
          "basketball",
          "i am sorry, i love you",
          "soot sanaeha",
          "roy marn",
          "hormones",
          "nobunaga concerto",
          "the sixth sense",
          "the sixth sense 2",
          "oum ruk",
          "petero no souretsu",
          "raeng ngao",
          "majurat see nam pueng",
          "triple",
          "a different kind of pretty man",
          "the cage of love",
          "wayupak montra",
          "pathapee leh ruk",
          "khun chai pawornruj",
          "tawan tor saeng",
          "manee yard fah",
          "raeng pradtanaha",
          "seito shokun!",
          "tawipob",
          "game rai game rak",
          "torranee ni nee krai krong",
          "sawan biang",
          "duang jai akkanee",
          "pin anong",
          "thara himalai",
          "panyachon kon krua",
          "roy lae sanae luang",
          "cubic",
          "ruk sutrit",
          "jao sao rim tang",
          "dok ruk rim tang",
          "kha khong khon",
          "roy fun tawan duerd",
          "summer nude",
          "legend of mi yue",
          "lah ruk sut kob fah",
          "boysitter",
          "ab ruk online",
          "destined to love you",
          "shinya shokudo 3",
          "jigoku sensei nube",
          "subete ga f ni naru",
          "mare",
          "kamen rider drive",
          "legendary witch",
          "the best future",
          "be arrogant",
          "tarm ruk keun jai",
          "love's relativity",
          "ouroboros",
          "dr. champ",
          "aoi honoo",
          "st aka to shiro no sousa file",
          "ban shu legend",
          "roy ruk hak liam tawan",
          "the spring day of my life",
          "kinkyori renai: season zero",
          "the man who can't get married",
          "gto: remake season 2",
          "suikyuu yankees",
          "love cheque charge",
          "dao kiang duen",
          "death notify: the darker",
          "luead mungkorn: suea",
          "seirei no moribito",
          "kiina",
          "valid love",
          "wanida",
          "kindaichi shonen no jikenbo n",
          "line walker",
          "love family",
          "one warm word",
          "dokushin kizoku",
          "melody of love",
          "infinite power",
          "let's eat",
          "cruel love",
          "deja vu",
          "cuo dian yuan yang",
          "please remember, princess",
          "in a good way",
          "never give up, dodo",
          "kinkyu torishirabeshitsu",
          "shitsuren chocolatier",
          "dr. dmat",
          "shikaku tantei higurashi tabito",
          "ando lloyd - a.i. knows love ?",
          "kanojo wa uso wo aishisugiteru - sidestory",
          "potato star 2013qr3",
          "her legend",
          "yamada-kun to 7-nin no majo",
          "tokyo bandwagon",
          "ogon no buta",
          "hanako to anne",
          "medical top team",
          "legend of hua mulan",
          "give love away",
          "yorozu uranaidokoro onmyoya e yokoso",
          "gochisousan",
          "passionate love",
          "unemployed romance",
          "kurokouchi",
          "the virtuous queen of han",
          "can we love?",
          "princess of lanling king",
          "boku no ita jikan",
          "gloria",
          "golden cross",
          "rock 'n' road",
          "wakamono tachi",
          "shinigami-kun",
          "first class",
          "roosevelt game",
          "a new leaf",
          "angel's revenge",
          "pleasantly surprised",
          "the way we were",
          "flower grandpa investigation unit",
          "yoo na's street",
          "legend of fragrance",
          "apple in your eye",
          "loving you a thousand times",
          "meitantei no okite",
          "alice no toge",
          "another parting",
          "triangle",
          "naeil's cantabile",
          "holyland",
          "her lovely heels",
          "shibatora",
          "lady & liar",
          "ressha sentai toqger",
          "gunshi kanbei",
          "shark",
          "nazo no tenkousei",
          "iryu team medical dragon  4",
          "ashita, mama ga inai",
          "lost days",
          "shinya shokudo 2",
          "kamen rider fourze",
          "kamen rider kabuto",
          "atsu hime",
          "that love comes",
          "prince's first love",
          "get karl! oh soo jung",
          "sunny happiness",
          "around 40",
          "beyond the realm of conscience",
          "beautiful life",
          "successful story of a bright girl",
          "90 days of love",
          "love story in harvard",
          "jejoongwon",
          "lavender",
          "ja myung go",
          "ima ai ni yukimasu",
          "love buffet",
          "gourmet",
          "muscle girl",
          "green rose",
          "iryu team medical dragon 2",
          "iryu team medical dragon 3",
          "nine tailed fox",
          "shinya shokudo",
          "if in love like them",
          "gloomy salad days",
          "kimcheed radish cubes",
          "swallow the sun",
          "zhong wu yan",
          "star's lover",
          "soul",
          "deka wanko",
          "secret investigation record",
          "gou - himetachi no sengoku",
          "daisuki!!",
          "shiawase ni narou yo",
          "nankyoku tairiku",
          "damo",
          "lovers",
          "save the last dance for me",
          "golden bride",
          "couple or trouble",
          "crazy for you",
          "dal ja's spring",
          "don't hesitate",
          "what's up, fox?",
          "family's honor",
          "glass slippers",
          "hanoi bride",
          "marrying a millionaire",
          "my sweet seoul",
          "new heart",
          "once upon a time in saengchori",
          "my love patzzi",
          "control - hanzai shinri sousa",
          "rosy business",
          "assorted gems",
          "let's go watch meteor shower",
          "let's watch the meteor shower again",
          "evasive inquiry agency",
          "super rookie",
          "gegege no nyobo",
          "odoru daisousasen",
          "wish to see you again",
          "haken no hinkaku",
          "d.i.e.",
          "exhibition of fireworks",
          "on air",
          "lovers in prague",
          "which star are you from?",
          "thorn birds",
          "kisarazu cat's eye",
          "bad couple",
          "q.e.d.",
          "sekai no chuushin de, ai wo sakebu",
          "himitsu no hanazono",
          "trick 2",
          "trick 3",
          "strawberry on the shortcake",
          "i really really like you",
          "bartender",
          "tamra, the island",
          "haikei, chichiue-sama",
          "9 end 2 outs",
          "kekkon dekinai otoko",
          "long love letter",
          "mysterious incredible terminator",
          "chinese paladin",
          "queen of reversals",
          "puzzle",
          "aishiteru",
          "obstetrics and gynecology doctors",
          "gachi baka!",
          "attack no.1",
          "good luck!!",
          "misaki number one!!",
          "engine",
          "clone baby",
          "ace wo nerae!",
          "east of eden",
          "love or bread",
          "que sera, sera",
          "osen",
          "ko one",
          "summer x summer",
          "zeni geba",
          "the queen's classroom",
          "hanayome to papa",
          "yasha",
          "unfair",
          "majo no jouken",
          "queen of housewives",
          "boku dake no madonna",
          "great inheritance",
          "princess princess d",
          "kamisama mou sukoshi dake",
          "manhattan love story",
          "atami no sousakan",
          "shokojo seira",
          "p.p.o.i.",
          "home drama",
          "byakuyako",
          "sp",
          "my lucky star",
          "life",
          "summer snow",
          "stand up!!",
          "yamada taro monogatari",
          "gakko ja oshierarenai!",
          "anna-san no omame",
          "brother beat",
          "tiger & dragon",
          "taiyo to umi no kyoshitsu",
          "k.o.3an guo",
          "bad family",
          "koshonin",
          "ryomaden",
          "flames of desire",
          "cain and abel",
          "freeze",
          "the legend of brown sugar chivalries",
          "only you",
          "over the rainbow",
          "phoenix",
          "zenkai girl",
          "garo",
          "100 scene no koi",
          "kamen rider decade",
          "material queen",
          "la robe de mariage des cieux",
          "hanawake no yon shimai",
          "journey to the west",
          "yuusha yoshihiko to maou no shiro",
          "birdie buddy",
          "soredemo, ikite yuku",
          "the mysteries of love",
          "meitantei conan",
          "hooray for love",
          "vacation",
          "dr. koto shinryojo",
          "100% senorita",
          "sweet relationship",
          "karei naru ichizoku",
          "absolute boyfriend",
          "mop girl",
          "little mom scandal",
          "can't buy me love",
          "my mvp valentine",
          "hana kimi remake",
          "puzzle",
          "unstoppable high kick",
          "ikemen desu ne",
          "deep love ~ ayu's story ~",
          "kindaichi shonen no jikenbo",
          "kindaichi shonen no jikenbo 2",
          "kindaichi shonen no jikenbo 3",
          "alone in love",
          "sweet room",
          "hi wa mata noboru",
          "the duke of mount deer",
          "nazotoki wa dinner no ato de",
          "high kick! the revenge of the short legged",
          "the empress",
          "runaway - aisuru kimi no tame ni",
          "style",
          "nobuta wo produce",
          "carnation",
          "mitsu no aji",
          "beautiful love: if you're here",
          "shiroi haru",
          "the young warriors",
          "kaito royale",
          "doctors saikyou no meii",
          "new my fair princess",
          "sengyou shufu tantei ~watashi wa shadow",
          "yokai ningen bem",
          "scarlet heart",
          "vampire prosecutor",
          "the heaven sword and dragon saber",
          "shokuzai",
          "watashi ga renai dekinai riyuu",
          "ring ring bell",
          "boku to star no 99 nichi",
          "little girl k",
          "kingyo club",
          "introduction of the princess",
          "kamen rider ooo",
          "the fierce wife",
          "hikari to tomo ni... ~ jiheishou-ji wo kakaete ~",
          "jiu",
          "the little fairy",
          "arakawa under the bridge",
          "antique",
          "forensic heroes",
          "powerful opponents",
          "marumo no okite",
          "ohisama",
          "umareru.",
          "inu wo kau to iu koto",
          "shima shima",
          "jin 2",
          "jotei",
          "asuko march!",
          "hotelier",
          "mukodono!",
          "long vacation",
          "love generation",
          "how to meet a perfect neighbor",
          "jungle fish 2",
          "flowers for my life",
          "capital scandal",
          "boku to kanojo no xxx",
          "we are dating now",
          "summer scent",
          "resurrection",
          "robber",
          "sad love story",
          "single dad in love",
          "smile, again",
          "soulmate",
          "sweet spy",
          "good life - arigatou, papa. sayonara",
          "tazza",
          "what happened in bali",
          "temptation of wife",
          "wedding",
          "when it's at night",
          "women of the sun",
          "manny",
          "at dolphin bay",
          "my rosy life",
          "the rose",
          "oh! my girl!!",
          "h2: kimi to ita hibi",
          "poseidon",
          "king gwanggaeto the great",
          "jungle fish",
          "majisuka gakuen 2",
          "ice world",
          "tokyo friends",
          "papa to musume no nanokakan",
          "romance",
          "a sleeping forest",
          "snow white",
          "princess pearl",
          "loveholic",
          "what's up?",
          "woody sambo",
          "ying ye 3+1",
          "the magicians of love",
          "tadashii ouji no tsukurikata",
          "romance town",
          "heart of greed",
          "moonlight resonance",
          "bump off lover",
          "tsubasa no oreta tenshitachi",
          "sandglass",
          "beach boys",
          "sunshine angel",
          "drunken to love you",
          "change",
          "ikebukuro west gate park",
          "my bratty princess",
          "the classic of mountains and seas",
          "the king's daughter, soo baek hyang",
          "romance blue",
          "legend of nine tails fox",
          "hakuouki ssl: sweet school life",
          "shitamachi rocket",
          "glamorous temptation",
          "yuusha yoshihiko to michibikareshi shichinin",
          "mr. bodyguard",
          "kounodori",
          "yami no bansosha",
          "siren",
          "i'm home",
          "dos deka",
          "immutable law of first love",
          "q series: love of sandstorm",
          "lovey dovey",
          "better man",
          "prison school",
          "love is more than a word",
          "yume wo ataeru",
          "under the black moonlight",
          "jang young shil",
          "sweet 18",
          "alchemist",
          "intouchable",
          "i wanna be sup'tar",
          "kamen rider ghost",
          "me and mr. x season 3: goodbye mr. x",
          "abarenbo mama",
          "rang tawan",
          "corner with love",
          "okashi no ie",
          "on the way to the airport",
          "love detective sherlock k",
          "taste of love",
          "fuben na benriya",
          "nightmare teacher",
          "neung nai suang",
          "chinese hero zhao zi long",
          "v-focus",
          "ngao jai",
          "pitsawat",
          "yes! mr. fashion",
          "rescue",
          "hiyokko",
          "fake couple",
          "tomodachi game",
          "the last cop 2",
          "delicious destiny",
          "seishun tantei haruya: otona no aku wo yurusanai!",
          "troubleman",
          "hokuto",
          "the advisors alliance",
          "start love",
          "game maya",
          "shinzanmono",
          "onna joushu naotora",
          "yokoso wagaya e",
          "underwear",
          "aogeba toutoshi",
          "samurai sensei",
          "love cuisine",
          "because it's the first time",
          "i am your teacher",
          "art in love",
          "legal mavericks",
          "like love",
          "reinoryokusha odagiri kyoko no uso",
          "game payabaht",
          "jumping girl",
          "a daughter just like you",
          "three dads one mom",
          "girl of 0am",
          "nang rai tee rak",
          "piang chai khon nee mai chai poo wised",
          "sore wa, totsuzen, arashi no you ni..",
          "roy leh sanae rai",
          "itazura na kiss",
          "mother game",
          "mia tuean",
          "mai sin rai fai sawart",
          "woman with a suitcase",
          "orange days",
          "liquid - oni no sake, kiseki no kura",
          "ishitachi no renai jijo",
          "koe koi",
          "the man in the mask",
          "marry me, or not?",
          "momo salon",
          "yasuko to kenji",
          "my best ex-boyfriend",
          "asa ga kita",
          "swimming battle",
          "when i see you again",
          "awl",
          "unmei ni, nita koi",
          "evil minds",
          "kimi wa petto",
          "the girl in tassel earring",
          "wu xin: the monster killer",
          "royal sister returns",
          "hello! miss",
          "momin's room",
          "soshite, dare mo inaku natta",
          "my vampire boyfriend",
          "ishi no mayu",
          "blow breeze",
          "37.5°c no namida",
          "oh my geum bi",
          "cinderella formula",
          "on ijou hanzai sousakan todo hinako",
          "omotesando koukou gasshoubu",
          "the rise of phoenixes",
          "the gentlemen of wolgyesu tailor shop",
          "the journey",
          "love of aurora",
          "seisei suruhodo, aishiteru",
          "love relationship",
          "age harassment",
          "tamiou",
          "a game about love",
          "about love",
          "late night restaurant",
          "beautiful secret",
          "ode to joy",
          "higanbana: keishicho sosa nana ka",
          "my little baby",
          "new tales of gisaeng",
          "senior secret love: bake me love",
          "twinkle twinkle",
          "crime squad",
          "singles villa",
          "room alone",
          "tribes and empires: storm of prophecy",
          "one sunny day",
          "revive",
          "iq246: kareinaru jikenbo",
          "kageri yuku natsu",
          "my heart twinkle twinkle",
          "swap",
          "demon girl",
          "shiratori reiko de gozaimasu!",
          "proud of love",
          "men with sword",
          "doll house",
          "kenja no ai",
          "ms. temper & nam jung gi",
          "royal family",
          "padiwaradda",
          "gay ok bangkok",
          "rang mai hua jai derm",
          "jimi ni sugoi! koetsu garu kono etsuko",
          "puer tur",
          "bara no nai hanaya",
          "splendid politics",
          "hello mr. right",
          "candle in the tomb",
          "best get going",
          "99.9: keiji senmon bengoshi",
          "invincible lee pyung kang",
          "omukae desu",
          "dramaworld",
          "our house",
          "love song",
          "yutori desu ga nani ka",
          "momo love",
          "it's not that i can't marry, but i don't want to",
          "fukuyado honpo - kyoto love story",
          "ra raerng fai",
          "what's up with these kids!?",
          "diary of tootsies",
          "thirteen terrors",
          "suna no tou - shiri sugita rinjin",
          "far away love",
          "suishou no kodou",
          "chef: mitsuboshi no kyushoku",
          "nagareboshi",
          "the family is coming",
          "gasohug",
          "legend of the dragon pearl: the indistinguishable road",
          "part time",
          "cat street",
          "love @ seventeen",
          "juhan shuttai!",
          "muean khon la fark fah",
          "seonam girls high school investigators",
          "ie uru onna",
          "the mystic nine",
          "longing for spring",
          "i am legend",
          "high&low",
          "oniichan, gacha",
          "as long as you love me",
          "bokura no yuuki",
          "banana actually",
          "detective alice",
          "cheewit puer kah huajai puer tur",
          "till death tear us apart",
          "majisuka gakuen 4",
          "fragile",
          "heard it through the grapevine",
          "itoshi kimi e",
          "the cupids series: kamathep ork suek",
          "the cupids series: kamathep online",
          "the cupids series: kammathep hunsa",
          "the cupids series: kamathep prab marn",
          "sapai jao",
          "divorce lawyer in love",
          "the disguiser",
          "totto tv",
          "the fire series 2: talay fai",
          "rakuen",
          "women at a game company",
          "house of bluebird",
          "sweet temptation",
          "otona joshi",
          "unkind women",
          "transit girls",
          "spring waltz",
          "still loving you",
          "oh my general",
          "morrasoom sawat",
          "go princess, go!",
          "rush to the dead summer",
          "plerng naree",
          "happy home",
          "mars - tada, kimi wo aishiteru",
          "boku no yabai tsuma",
          "ghost writer",
          "sparrow",
          "sumika sumire",
          "love that makes you cry",
          "aquarium girl",
          "tenno no ryoriban",
          "dame na watashi ni koishite kudasai",
          "second to last love",
          "the legend of zu",
          "bong soon: a cyborg in love",
          "a fist within four walls",
          "majo saiban",
          "konkatsu!",
          "kiseki no hito",
          "shinya shokudo - tokyo stories",
          "chronicle of life",
          "views of love: grey rainbow",
          "a life",
          "perfect couple",
          "the bridal mask",
          "the game: towards zero",
          "thumping spike 2",
          "the virus",
          "plus nine boys",
          "the sound of your heart: reboot season 2",
          "prince of wolf",
          "sword dynasty",
          "you're my sky",
          "queen for seven days",
          "the imperial doctress",
          "hamura akira - sekai de mottomo fuunna tantei",
          "surgeon bong dal hee",
          "bishoku tantei akechi goro",
          "chef hua",
          "delayed justice",
          "sweet first love",
          "symphony's romance",
          "love at first hate",
          "lovers in paris",
          "boyband love",
          "kono koi wa tsumi na no ka!?",
          "high class",
          "love area part 1",
          "i will never let you go",
          "the scholar who walks the night",
          "kissable lips",
          "my fair lady",
          "wish you: your melody from my heart",
          "the world that they live in",
          "road number one",
          "friends",
          "beautiful days",
          "just dance",
          "all about eve",
          "memory",
          "vampire prosecutor 2",
          "seventeen",
          "the suspicious housekeeper",
          "the best ending",
          "big thing",
          "everything and nothing",
          "luv pub",
          "my princess",
          "dr. frost",
          "short",
          "ma boy",
          "woman of dignity",
          "the legend of dugu",
          "love in memory",
          "goddess of fire",
          "fox in the screen",
          "return of the condor heroes",
          "cheo yong",
          "the flatterer",
          "leh nangfah",
          "comrades",
          "where the lost ones go",
          "buzzer beat",
          "switched",
          "schemes of a beauty",
          "kiss goblin",
          "young blood",
          "i cannot hug you season 2",
          "u-prince: the playful comm-arts",
          "team bulldog: off-duty investigation",
          "the great show",
          "my bargain queen",
          "my lovely girl",
          "memory lost",
          "galileo",
          "cold case: shinjitsu no tobira",
          "more than blue: the series",
          "level up",
          "back to 1989",
          "lost romance",
          "hi flower",
          "my neighbour can't sleep",
          "show window: the queen's house",
          "item",
          "watashitachi wa douka shiteiru",
          "u-prince: the extroverted humanist",
          "different dreams",
          "stand by me",
          "my extraordinary",
          "plot love",
          "love a lifetime",
          "cry me a river of stars",
          "2gether",
          "kei×yaku: abunai aibou",
          "prince's prince",
          "my holo love",
          "mob psycho 100",
          "angel beside me",
          "nobleman ryu's wedding",
          "the boy next door",
          "obsessed with heart",
          "aku no hado",
          "ossan's love: in the sky",
          "decoded",
          "my girlfriend's boyfriend",
          "uta no onii-san",
          "sweden laundry",
          "kasa wo motanai aritachi wa",
          "career",
          "life is beautiful",
          "dark blue and moonlight",
          "siew sum noi",
          "mairunovich",
          "otenki onee-san",
          "yankee-kun to megane-chan",
          "g-senjou no anata to watashi",
          "bitter blood",
          "kamen teacher",
          "takane to hana",
          "wang's family",
          "dr. brain",
          "love better than immortality",
          "super star academy",
          "princess silver",
          "just one bite",
          "heart of loyalty",
          "twenty again",
          "gakkou no kaidan",
          "en of love: tossara",
          "bring it on, ghost",
          "the justice",
          "love contract",
          "leh ratree",
          "love cells",
          "the snow queen",
          "koishite akuma",
          "one night steal",
          "tree with deep roots",
          "attention, love!",
          "a thousand goodnights",
          "bulgasal: immortal souls",
          "dear my room",
          "great men academy",
          "ugly duckling series: don't",
          "it's okay, that's friendship",
          "growing season",
          "my country: the new age",
          "she is 200 years old",
          "welcome 2 life",
          "arang and the magistrate",
          "the mermaid prince: the beginning",
          "perfect and casual",
          "novoland: the castle in the sky",
          "my beautiful bride",
          "my husband oh jak doo",
          "perfume",
          "make a wish",
          "tokyo tarareba musume",
          "one fine week",
          "seo yeong, my daughter",
          "goodbye dear wife",
          "mae krua kon mai",
          "together with me",
          "iris",
          "liar game 2",
          "hana yori dango 2",
          "moment at eighteen",
          "smile, you",
          "sparkle love",
          "dark hole",
          "refresh man",
          "prosecutor princess",
          "be loved in house: i do",
          "the good detective",
          "mr honesty",
          "bad guys: city of evil",
          "the ingenuity of the house husband",
          "nitiman",
          "down with love",
          "a love to kill",
          "like in the movies",
          "honey, don't run away",
          "love of summer night",
          "only side by side with you",
          "dine with love",
          "stealth walker",
          "i hear your voice",
          "last minute romance",
          "girl from nowhere",
          "ko one re-act",
          "u-prince: the gentle vet",
          "wild chives and soy bean soup: 12 years reunion",
          "angel 'n' devil",
          "wait, my youth",
          "can we get married?",
          "peach of time",
          "leverage",
          "the eight",
          "the lion's secret",
          "take my brother away",
          "a journey to meet love",
          "mirror: a tale of twin cities",
          "protect the boss",
          "oh my boss",
          "before we get married",
          "hello, the sharpshooter",
          "the cursed",
          "sweet dreams",
          "my fellow citizens!",
          "mistress",
          "feel good to die",
          "meteor garden ii",
          "reborn",
          "singing all along",
          "the heavenly sword and dragon sabre",
          "nothing gold can stay",
          "emperors and me",
          "operation: special warfare",
          "the listener",
          "the wind blows",
          "the journey across the night",
          "my girlfriend",
          "my roommate is a detective",
          "clean with passion for now",
          "god's gift: 14 days",
          "touching you",
          "doctor john",
          "u-prince:  the handsome cowboy",
          "the victims' game",
          "i hate you juliet",
          "hana kimi",
          "kanojo wa kirei datta",
          "to love",
          "storm eye",
          "the empress of china",
          "hana yori dango",
          "kareshi wo loan de kaimashita",
          "my heart",
          "when i was the most beautiful",
          "s.c.i",
          "demi gods & semi devils",
          "suits",
          "the eternal love",
          "cheat on me, if you can",
          "how to be thirty",
          "romanced",
          "saboriman kantarou",
          "miss truth",
          "who is the murderer",
          "medical examiner dr. qin",
          "les interprètes",
          "quaranthings",
          "my bromance 2: 5 years later",
          "love playlist",
          "my id is gangnam beauty",
          "my engineer",
          "padam padam",
          "flower crew: joseon marriage agency",
          "she would never know",
          "senior secret love: puppy honey",
          "go into your heart",
          "flower boy ramen shop",
          "capture lover",
          "night watchman's journal",
          "rich man, poor woman",
          "skate into love",
          "when a man's in love",
          "iljimae",
          "ugly duckling series: boy's paradise",
          "the nokdu flower",
          "ghost doctor",
          "friend zone 2: dangerous area",
          "mood indigo",
          "naked fireman",
          "kinou nani tabeta?",
          "le jun kai",
          "buang hong",
          "royal feast",
          "sisters-in-law",
          "zyuden sentai kyoryuger",
          "hungry!",
          "kamen rider ex-aid",
          "see you in time",
          "persevere, goo hae ra",
          "kamen rider w",
          "love and secret",
          "kamen rider gaim",
          "our gap soon",
          "muchuu-sa, kimi ni",
          "boku dake ga 17-sai no sekai de",
          "two weeks",
          "girlfriend",
          "tomorrow with you",
          "true beauty",
          "my dear guardian",
          "the centimeter of love",
          "king maker: the change of destiny",
          "love of thousand years",
          "princess hours",
          "the school nurse files",
          "secret boutique",
          "history3: trapped",
          "time between dog and wolf",
          "the judgement",
          "police university",
          "long time no see",
          "love in time",
          "golden empire",
          "the master of revenge",
          "d-day",
          "the moon brightens for you",
          "hush",
          "doctor detective",
          "hyena",
          "the chang'an youth",
          "so wayree",
          "kimi wa petto",
          "shadow beauty",
          "best mistake season 2",
          "pretty li hui zhen",
          "song of youth",
          "love scene number",
          "love after school",
          "please don't date him",
          "jiu liu overlord",
          "the vineyard man",
          "the painter of the wind",
          "twelve men in a year",
          "emperor of the sea",
          "the great seer",
          "the best of you in my mind",
          "gye baek",
          "my husband got a family",
          "the great king, sejong",
          "thousand years of love",
          "city hall",
          "gumiho: tale of the fox's child",
          "don't say no",
          "7 project",
          "sweet tai chi",
          "v.i.p",
          "sweet stranger and me",
          "kill it",
          "moon river",
          "alice in wonder city",
          "love frequency 37.2",
          "2 moons 2",
          "love around",
          "maiden holmes",
          "truth",
          "chugakusei nikki",
          "suki na hito ga iru koto",
          "moebius: the veil",
          "lost love in times",
          "legend of two sisters in the chaos",
          "swing to the sky",
          "nothing but you",
          "gokushufudo",
          "mr. nietzsche in the convenience store",
          "trick",
          "super rich",
          "tonari no kazoku wa aoku mieru",
          "final cut",
          "rinsho hanzai gakusha himura hideo no suiri",
          "yuusha yoshihiko to akuryo no kagi",
          "rebound",
          "kono koi atatamemasu ka",
          "saikou no rikon",
          "ramen daisuki koizumi-san",
          "joshi-teki seikatsu",
          "okitegami kyoko no biboroku",
          "scams",
          "kagi no kakatta heya",
          "yuube wa otanoshimi deshita ne",
          "kemono ni narenai watashitachi",
          "yong pal",
          "be love",
          "kingyo tsuma",
          "mrs. cop",
          "black dog",
          "memory of encaustic tile",
          "the taoism grandmaster",
          "pumpkin time",
          "addicted heroin",
          "the queen of sop",
          "big man",
          "star in my heart",
          "love keeps going",
          "together",
          "you are the best!",
          "oh! my lady",
          "i wanna hear your song",
          "a love so beautiful",
          "vampire flower",
          "girl next room: motorbike baby",
          "my mowgli boy",
          "oh! my sweet liar!",
          "my roommate is a gumiho",
          "payakorn sorn ruk",
          "baker boys",
          "midsummer is full of love",
          "the penthouse: war in life",
          "the moment since",
          "goedam",
          "about is love",
          "su yu",
          "twenty your life on",
          "suddenly this summer",
          "monstar",
          "partners for justice season 2",
          "the time we were not in love",
          "hospital playlist season 2",
          "swords of legends",
          "black knight: the man who guards me",
          "marriage, not dating",
          "the legend",
          "shining for one thing",
          "lawyers of korea",
          "arsenal military academy",
          "death note new generation",
          "cinderella's sister",
          "5-ji kara 9-ji made",
          "love is deep",
          "100% era",
          "the king in love",
          "longing heart",
          "marry me now",
          "where your eyes linger",
          "must you go?",
          "check out the event",
          "ancient detective",
          "reply 1997",
          "city of streamer",
          "a gift to the people you hate",
          "super daddy yeol",
          "spec: birth",
          "a murderous affair in horizon tower",
          "lucky's first love",
          "grid",
          "he she it",
          "cheat",
          "the legend of the condor heroes",
          "the fugitive: plan b",
          "cheat my boss",
          "summer guys",
          "boss & me",
          "sisyphus: the myth",
          "love is science?",
          "general's lady",
          "bad papa",
          "tofu personified",
          "let me off the earth",
          "tsuki no koibito",
          "your sensibility my destiny",
          "imaginary cat",
          "rakshasa street",
          "minami-kun no koibito - my little lover",
          "the demon master",
          "3b no koibito",
          "your highness",
          "scripting your destiny",
          "real:time:love",
          "golden garden",
          "best mistake",
          "the romance of hua rong",
          "beautiful time with you",
          "lily fever",
          "rosy lovers",
          "divorce lawyers",
          "rich family's son",
          "the autumn ballad",
          "glorious day",
          "yuttakarn prab nang marn",
          "remember my boy",
          "weaving a tale of love",
          "if voice has memory",
          "sketch",
          "ruyi's royal love in the palace",
          "never twice",
          "smoking",
          "king is not easy",
          "court lady",
          "the princess wei young",
          "missing 9",
          "parallel love",
          "part-time idol",
          "long for you",
          "cute programmer",
          "the journey of flower",
          "praomook",
          "legend of yun xi",
          "renascence",
          "life: senjou no bokura",
          "2 brothers",
          "minami-kun no koibito",
          "so sanaeha",
          "i hate you, i love you",
          "qing qing zi jin",
          "the eccentric daughter-in-law",
          "close friend",
          "heartbeat broadcasting accident",
          "rookie historian goo hae ryung",
          "spy",
          "the third charm",
          "love like white jade",
          "radiant office",
          "the road: the tragedy of one",
          "the goddess of revenge",
          "way back into love",
          "my runway",
          "my secret hotel",
          "stay with me",
          "mr. back",
          "temptation of an angel",
          "sennyuu tantei tokage",
          "kazoku no katachi",
          "time spiral",
          "boss",
          "miss pilot",
          "good-bye, mr. black",
          "the king's face",
          "homemade love story",
          "they kiss again",
          "algernon ni hanataba wo",
          "my love eun dong",
          "diamond lover (special cut)",
          "adventurous romance",
          "tempted",
          "kiss scene in yeonnamdong",
          "goong s",
          "luoyang",
          "miss gu who is silent",
          "summer again",
          "warrior baek dong soo",
          "panthakan rak",
          "a thousand kisses",
          "peng",
          "something in my room",
          "the crossing hero",
          "love is in the air",
          "modern farmer",
          "thirty-nine",
          "mr. x and i season 2",
          "rolling love",
          "the x-family",
          "love & life & lie",
          "the leaked",
          "long khong",
          "master devil do not kiss me",
          "together with me: the next chapter",
          "detective l",
          "missing korea",
          "best chicken",
          "border",
          "starman - this star's love",
          "school 2021",
          "familiar wife",
          "local hero",
          "about time",
          "siege in fog",
          "circle",
          "nabi, my stepdarling",
          "mountains and ocean",
          "shanai marriage honey",
          "eternal love of dream",
          "walk into your memory",
          "my unfamiliar family",
          "lovely swords girl",
          "detention",
          "single & ready to mingle",
          "a girl like me",
          "miss ripley",
          "positive physique",
          "when time stopped",
          "amore",
          "evening café",
          "from survivor to healer",
          "well-intended love",
          "lie to me",
          "the fox's summer season 2",
          "love (ft. marriage and divorce)",
          "nine: nine times time travel",
          "someone like you",
          "glory jane",
          "in time with you",
          "lucifer",
          "the royal gambler",
          "rinko-san wa shite mitai",
          "nail shop paris",
          "i am the years you are the stars",
          "night light",
          "untouchable",
          "can you hear my heart",
          "unrequited love",
          "gank your heart",
          "switch girl!!",
          "revolutionary love",
          "my husband in law",
          "fall in love with me",
          "the silent sea",
          "stop! miss hua",
          "miss the dragon",
          "well-intended love season 2",
          "introverted boss",
          "be my cat",
          "mysterious love",
          "untouchable lovers",
          "our glamorous time",
          "forecasting love and weather",
          "giant",
          "private lives",
          "live up to your name",
          "love is phantom",
          "the world of my 17",
          "the sweet girl",
          "a little thing called first love",
          "the temperature of language: our nineteen",
          "switch: change the world",
          "summer love",
          "the fairy fox",
          "l.u.c.a.: the beginning",
          "witch's love",
          "undercover",
          "one well-raised daughter",
          "one page love",
          "love & wish",
          "reset life",
          "the secret life of my secretary",
          "mary stayed out all night",
          "the ambiguous focus",
          "tong: memories",
          "a river runs through it",
          "pasta",
          "orange marmalade",
          "mimi",
          "mask",
          "was it love?",
          "wild romance",
          "ice fantasy destiny",
          "your house helper",
          "second love",
          "advance bravely",
          "love with flaws",
          "18 vs. 29",
          "a thousand days' promise",
          "insect detective",
          "tonhon chonlatee",
          "the yearbook",
          "reminders",
          "the one and only",
          "heading to the ground",
          "good casting",
          "hello, me!",
          "noble, my love",
          "where stars land",
          "hidden identity",
          "all in",
          "please find her",
          "hana nochi hare: hanadan next season",
          "parfait tic",
          "moonshine",
          "jun jiu ling",
          "goong",
          "the undateables",
          "just an encore",
          "warm and cozy",
          "nee sensei, shiranai no?",
          "dear mayang street",
          "my mate match",
          "gokusen 3",
          "judge vs. judge",
          "discipline",
          "twenty years old",
          "gap dong",
          "re:mind",
          "born again",
          "andante",
          "my classmate from far far away",
          "falling in love with a rival",
          "wonderful days",
          "i hear you",
          "boy hood",
          "you are so sweet",
          "biscuit teacher and star candy",
          "marriage contract",
          "extraordinary you",
          "7th grade civil servant",
          "my amazing boyfriend",
          "time slip dr. jin",
          "i am your king 2",
          "38 task force",
          "cinderella chef",
          "misty",
          "gangnam scandal",
          "you're my destiny",
          "u-prince: the lovely geologist",
          "dragon day, you're dead",
          "angry mom",
          "history1: stay away from me",
          "queen of the ring",
          "failing in love",
          "doubtful victory",
          "shining inheritance",
          "unforgettable love",
          "delicious love",
          "my only love song",
          "personal taste",
          "crocodile and plover bird",
          "well dominated love",
          "magic cell phone",
          "marry me!",
          "hana ni keda mono",
          "mirai nikki",
          "forget you remember love",
          "take care of us, captain",
          "coffee, do me a favor",
          "so not worth it",
          "baby-faced beauty",
          "ito-kun a to e",
          "sweet, savage family",
          "'cause you're my boy",
          "attic cat",
          "don quixote",
          "kyou wa kaisha yasumimasu",
          "dear sister",
          "mr. brain",
          "the ghost detective",
          "you're beautiful",
          "touch",
          "k-pop - the ultimate audition",
          "the naked director",
          "the secret of  love",
          "lovely writer",
          "triad princess",
          "stairway to stardom",
          "hapimari: happy marriage!?",
          "kim soo ro",
          "gen y",
          "my girlfriend is an alien",
          "top management",
          "ghost",
          "heartstrings",
          "tracer",
          "angel's last mission: love",
          "hard nut!",
          "age of legends",
          "lover or stranger",
          "mr. swimmer",
          "the fallen leaf",
          "moonshine and valentine",
          "fish upon the sky",
          "encounter",
          "when the devil calls your name",
          "mackerel run",
          "money flower",
          "behind your smile",
          "possessed",
          "pride",
          "love crossed",
          "meow, the secret boy",
          "legend of awakening",
          "i've fallen for you",
          "do you like brahms?",
          "the devil punisher",
          "ex-girlfriend club",
          "golden blood",
          "wanted",
          "the great shaman ga doo shim",
          "hyde, jekyll, me",
          "good time",
          "beautiful gong shim",
          "emergency couple",
          "behind cut",
          "bel ami",
          "miss hammurabi",
          "hello again!",
          "war of high school",
          "i'm sorry, i love you",
          "cinderella and the four knights",
          "a poem a day",
          "love in black hole",
          "the secret message",
          "my first first love",
          "five",
          "the slave hunters",
          "jugglers",
          "somehow 18",
          "to the beautiful you",
          "game sanaeha",
          "replay: the moment when it starts again",
          "dating in the kitchen",
          "yyy",
          "y-destiny",
          "a-teen",
          "remote",
          "temperature of love",
          "the spies who loved me",
          "use for my talent",
          "craving you",
          "i picked up a star on the road",
          "entourage",
          "me too, flower!",
          "psychopath diary",
          "marry him if you dare",
          "ho goo's love",
          "senior secret love: my lil boy",
          "the shipper",
          "witch's court",
          "guardians of the ancient oath",
          "the sweet blood",
          "oh my ladylord",
          "my first first love 2",
          "romance is a bonus book",
          "meeting you loving you",
          "hot girl",
          "her bucket list",
          "that man oh soo",
          "light on me",
          "dakara korosenakatta",
          "blood",
          "wok of love",
          "the flaming heart",
          "lucky romance",
          "kare ga boku ni koishita wake",
          "falling for do jeon",
          "radio romance",
          "justice",
          "will it snow for christmas?",
          "here to heart",
          "heart surgeons",
          "the psychologist",
          "professional single",
          "sweet combat",
          "tower of babel",
          "i cannot hug you",
          "28 faces of the moon",
          "bangkok g story",
          "so i married an anti-fan",
          "mad for each other",
          "bloody romance",
          "persona",
          "flavour it's yours",
          "shopping king louie",
          "abyss",
          "bride of the century",
          "fantastic",
          "strangers from hell",
          "alice",
          "hello mr. gu",
          "fall in love",
          "my girl",
          "ice fantasy",
          "squid game",
          "love unexpected",
          "lovestruck in the city",
          "love sick",
          "good morning call: our campus days",
          "meeting you",
          "why r u?",
          "the innocent man",
          "unexpected heroes",
          "coffee prince",
          "please love me",
          "my fuxxxxx romance",
          "my secret romance",
          "witch's romance",
          "doctors",
          "by stealth like you",
          "you are my destiny",
          "nevertheless,",
          "the producers",
          "17.3 about a sex",
          "panda and hedgehog",
          "angel eyes",
          "gokusen 2",
          "she is the one",
          "nine kilometers of love",
          "now, we are breaking up",
          "madame antoine",
          "because of you",
          "please come back, mister",
          "invisible life",
          "do do sol sol la la sol",
          "playful kiss",
          "surplus princess",
          "history1: my hero",
          "100 days my prince",
          "i love lee tae ri",
          "a man called god",
          "love at first taste",
          "shut up: flower boy band",
          "accidentally in love",
          "melting me softly",
          "love designer",
          "the bride of habaek",
          "the witch's diner",
          "9 seconds: eternal time",
          "coffee & vanilla"
         ],
         "textfont": {
          "color": "#000000"
         },
         "textposition": "inside",
         "type": "bar",
         "x": [
          9.12349766929514,
          9.123364894814383,
          9.111735772207004,
          9.107353602045407,
          9.107037603333481,
          9.104253110842688,
          9.103875294336785,
          9.102555046377537,
          9.102223431410184,
          9.10143930224774
         ],
         "y": [
          1,
          2,
          3,
          4,
          5,
          6,
          7,
          8,
          9,
          10
         ]
        }
       ],
       "layout": {
        "template": {
         "data": {
          "bar": [
           {
            "error_x": {
             "color": "#2a3f5f"
            },
            "error_y": {
             "color": "#2a3f5f"
            },
            "marker": {
             "line": {
              "color": "#E5ECF6",
              "width": 0.5
             },
             "pattern": {
              "fillmode": "overlay",
              "size": 10,
              "solidity": 0.2
             }
            },
            "type": "bar"
           }
          ],
          "barpolar": [
           {
            "marker": {
             "line": {
              "color": "#E5ECF6",
              "width": 0.5
             },
             "pattern": {
              "fillmode": "overlay",
              "size": 10,
              "solidity": 0.2
             }
            },
            "type": "barpolar"
           }
          ],
          "carpet": [
           {
            "aaxis": {
             "endlinecolor": "#2a3f5f",
             "gridcolor": "white",
             "linecolor": "white",
             "minorgridcolor": "white",
             "startlinecolor": "#2a3f5f"
            },
            "baxis": {
             "endlinecolor": "#2a3f5f",
             "gridcolor": "white",
             "linecolor": "white",
             "minorgridcolor": "white",
             "startlinecolor": "#2a3f5f"
            },
            "type": "carpet"
           }
          ],
          "choropleth": [
           {
            "colorbar": {
             "outlinewidth": 0,
             "ticks": ""
            },
            "type": "choropleth"
           }
          ],
          "contour": [
           {
            "colorbar": {
             "outlinewidth": 0,
             "ticks": ""
            },
            "colorscale": [
             [
              0,
              "#0d0887"
             ],
             [
              0.1111111111111111,
              "#46039f"
             ],
             [
              0.2222222222222222,
              "#7201a8"
             ],
             [
              0.3333333333333333,
              "#9c179e"
             ],
             [
              0.4444444444444444,
              "#bd3786"
             ],
             [
              0.5555555555555556,
              "#d8576b"
             ],
             [
              0.6666666666666666,
              "#ed7953"
             ],
             [
              0.7777777777777778,
              "#fb9f3a"
             ],
             [
              0.8888888888888888,
              "#fdca26"
             ],
             [
              1,
              "#f0f921"
             ]
            ],
            "type": "contour"
           }
          ],
          "contourcarpet": [
           {
            "colorbar": {
             "outlinewidth": 0,
             "ticks": ""
            },
            "type": "contourcarpet"
           }
          ],
          "heatmap": [
           {
            "colorbar": {
             "outlinewidth": 0,
             "ticks": ""
            },
            "colorscale": [
             [
              0,
              "#0d0887"
             ],
             [
              0.1111111111111111,
              "#46039f"
             ],
             [
              0.2222222222222222,
              "#7201a8"
             ],
             [
              0.3333333333333333,
              "#9c179e"
             ],
             [
              0.4444444444444444,
              "#bd3786"
             ],
             [
              0.5555555555555556,
              "#d8576b"
             ],
             [
              0.6666666666666666,
              "#ed7953"
             ],
             [
              0.7777777777777778,
              "#fb9f3a"
             ],
             [
              0.8888888888888888,
              "#fdca26"
             ],
             [
              1,
              "#f0f921"
             ]
            ],
            "type": "heatmap"
           }
          ],
          "heatmapgl": [
           {
            "colorbar": {
             "outlinewidth": 0,
             "ticks": ""
            },
            "colorscale": [
             [
              0,
              "#0d0887"
             ],
             [
              0.1111111111111111,
              "#46039f"
             ],
             [
              0.2222222222222222,
              "#7201a8"
             ],
             [
              0.3333333333333333,
              "#9c179e"
             ],
             [
              0.4444444444444444,
              "#bd3786"
             ],
             [
              0.5555555555555556,
              "#d8576b"
             ],
             [
              0.6666666666666666,
              "#ed7953"
             ],
             [
              0.7777777777777778,
              "#fb9f3a"
             ],
             [
              0.8888888888888888,
              "#fdca26"
             ],
             [
              1,
              "#f0f921"
             ]
            ],
            "type": "heatmapgl"
           }
          ],
          "histogram": [
           {
            "marker": {
             "pattern": {
              "fillmode": "overlay",
              "size": 10,
              "solidity": 0.2
             }
            },
            "type": "histogram"
           }
          ],
          "histogram2d": [
           {
            "colorbar": {
             "outlinewidth": 0,
             "ticks": ""
            },
            "colorscale": [
             [
              0,
              "#0d0887"
             ],
             [
              0.1111111111111111,
              "#46039f"
             ],
             [
              0.2222222222222222,
              "#7201a8"
             ],
             [
              0.3333333333333333,
              "#9c179e"
             ],
             [
              0.4444444444444444,
              "#bd3786"
             ],
             [
              0.5555555555555556,
              "#d8576b"
             ],
             [
              0.6666666666666666,
              "#ed7953"
             ],
             [
              0.7777777777777778,
              "#fb9f3a"
             ],
             [
              0.8888888888888888,
              "#fdca26"
             ],
             [
              1,
              "#f0f921"
             ]
            ],
            "type": "histogram2d"
           }
          ],
          "histogram2dcontour": [
           {
            "colorbar": {
             "outlinewidth": 0,
             "ticks": ""
            },
            "colorscale": [
             [
              0,
              "#0d0887"
             ],
             [
              0.1111111111111111,
              "#46039f"
             ],
             [
              0.2222222222222222,
              "#7201a8"
             ],
             [
              0.3333333333333333,
              "#9c179e"
             ],
             [
              0.4444444444444444,
              "#bd3786"
             ],
             [
              0.5555555555555556,
              "#d8576b"
             ],
             [
              0.6666666666666666,
              "#ed7953"
             ],
             [
              0.7777777777777778,
              "#fb9f3a"
             ],
             [
              0.8888888888888888,
              "#fdca26"
             ],
             [
              1,
              "#f0f921"
             ]
            ],
            "type": "histogram2dcontour"
           }
          ],
          "mesh3d": [
           {
            "colorbar": {
             "outlinewidth": 0,
             "ticks": ""
            },
            "type": "mesh3d"
           }
          ],
          "parcoords": [
           {
            "line": {
             "colorbar": {
              "outlinewidth": 0,
              "ticks": ""
             }
            },
            "type": "parcoords"
           }
          ],
          "pie": [
           {
            "automargin": true,
            "type": "pie"
           }
          ],
          "scatter": [
           {
            "fillpattern": {
             "fillmode": "overlay",
             "size": 10,
             "solidity": 0.2
            },
            "type": "scatter"
           }
          ],
          "scatter3d": [
           {
            "line": {
             "colorbar": {
              "outlinewidth": 0,
              "ticks": ""
             }
            },
            "marker": {
             "colorbar": {
              "outlinewidth": 0,
              "ticks": ""
             }
            },
            "type": "scatter3d"
           }
          ],
          "scattercarpet": [
           {
            "marker": {
             "colorbar": {
              "outlinewidth": 0,
              "ticks": ""
             }
            },
            "type": "scattercarpet"
           }
          ],
          "scattergeo": [
           {
            "marker": {
             "colorbar": {
              "outlinewidth": 0,
              "ticks": ""
             }
            },
            "type": "scattergeo"
           }
          ],
          "scattergl": [
           {
            "marker": {
             "colorbar": {
              "outlinewidth": 0,
              "ticks": ""
             }
            },
            "type": "scattergl"
           }
          ],
          "scattermapbox": [
           {
            "marker": {
             "colorbar": {
              "outlinewidth": 0,
              "ticks": ""
             }
            },
            "type": "scattermapbox"
           }
          ],
          "scatterpolar": [
           {
            "marker": {
             "colorbar": {
              "outlinewidth": 0,
              "ticks": ""
             }
            },
            "type": "scatterpolar"
           }
          ],
          "scatterpolargl": [
           {
            "marker": {
             "colorbar": {
              "outlinewidth": 0,
              "ticks": ""
             }
            },
            "type": "scatterpolargl"
           }
          ],
          "scatterternary": [
           {
            "marker": {
             "colorbar": {
              "outlinewidth": 0,
              "ticks": ""
             }
            },
            "type": "scatterternary"
           }
          ],
          "surface": [
           {
            "colorbar": {
             "outlinewidth": 0,
             "ticks": ""
            },
            "colorscale": [
             [
              0,
              "#0d0887"
             ],
             [
              0.1111111111111111,
              "#46039f"
             ],
             [
              0.2222222222222222,
              "#7201a8"
             ],
             [
              0.3333333333333333,
              "#9c179e"
             ],
             [
              0.4444444444444444,
              "#bd3786"
             ],
             [
              0.5555555555555556,
              "#d8576b"
             ],
             [
              0.6666666666666666,
              "#ed7953"
             ],
             [
              0.7777777777777778,
              "#fb9f3a"
             ],
             [
              0.8888888888888888,
              "#fdca26"
             ],
             [
              1,
              "#f0f921"
             ]
            ],
            "type": "surface"
           }
          ],
          "table": [
           {
            "cells": {
             "fill": {
              "color": "#EBF0F8"
             },
             "line": {
              "color": "white"
             }
            },
            "header": {
             "fill": {
              "color": "#C8D4E3"
             },
             "line": {
              "color": "white"
             }
            },
            "type": "table"
           }
          ]
         },
         "layout": {
          "annotationdefaults": {
           "arrowcolor": "#2a3f5f",
           "arrowhead": 0,
           "arrowwidth": 1
          },
          "autotypenumbers": "strict",
          "coloraxis": {
           "colorbar": {
            "outlinewidth": 0,
            "ticks": ""
           }
          },
          "colorscale": {
           "diverging": [
            [
             0,
             "#8e0152"
            ],
            [
             0.1,
             "#c51b7d"
            ],
            [
             0.2,
             "#de77ae"
            ],
            [
             0.3,
             "#f1b6da"
            ],
            [
             0.4,
             "#fde0ef"
            ],
            [
             0.5,
             "#f7f7f7"
            ],
            [
             0.6,
             "#e6f5d0"
            ],
            [
             0.7,
             "#b8e186"
            ],
            [
             0.8,
             "#7fbc41"
            ],
            [
             0.9,
             "#4d9221"
            ],
            [
             1,
             "#276419"
            ]
           ],
           "sequential": [
            [
             0,
             "#0d0887"
            ],
            [
             0.1111111111111111,
             "#46039f"
            ],
            [
             0.2222222222222222,
             "#7201a8"
            ],
            [
             0.3333333333333333,
             "#9c179e"
            ],
            [
             0.4444444444444444,
             "#bd3786"
            ],
            [
             0.5555555555555556,
             "#d8576b"
            ],
            [
             0.6666666666666666,
             "#ed7953"
            ],
            [
             0.7777777777777778,
             "#fb9f3a"
            ],
            [
             0.8888888888888888,
             "#fdca26"
            ],
            [
             1,
             "#f0f921"
            ]
           ],
           "sequentialminus": [
            [
             0,
             "#0d0887"
            ],
            [
             0.1111111111111111,
             "#46039f"
            ],
            [
             0.2222222222222222,
             "#7201a8"
            ],
            [
             0.3333333333333333,
             "#9c179e"
            ],
            [
             0.4444444444444444,
             "#bd3786"
            ],
            [
             0.5555555555555556,
             "#d8576b"
            ],
            [
             0.6666666666666666,
             "#ed7953"
            ],
            [
             0.7777777777777778,
             "#fb9f3a"
            ],
            [
             0.8888888888888888,
             "#fdca26"
            ],
            [
             1,
             "#f0f921"
            ]
           ]
          },
          "colorway": [
           "#636efa",
           "#EF553B",
           "#00cc96",
           "#ab63fa",
           "#FFA15A",
           "#19d3f3",
           "#FF6692",
           "#B6E880",
           "#FF97FF",
           "#FECB52"
          ],
          "font": {
           "color": "#2a3f5f"
          },
          "geo": {
           "bgcolor": "white",
           "lakecolor": "white",
           "landcolor": "#E5ECF6",
           "showlakes": true,
           "showland": true,
           "subunitcolor": "white"
          },
          "hoverlabel": {
           "align": "left"
          },
          "hovermode": "closest",
          "mapbox": {
           "style": "light"
          },
          "paper_bgcolor": "white",
          "plot_bgcolor": "#E5ECF6",
          "polar": {
           "angularaxis": {
            "gridcolor": "white",
            "linecolor": "white",
            "ticks": ""
           },
           "bgcolor": "#E5ECF6",
           "radialaxis": {
            "gridcolor": "white",
            "linecolor": "white",
            "ticks": ""
           }
          },
          "scene": {
           "xaxis": {
            "backgroundcolor": "#E5ECF6",
            "gridcolor": "white",
            "gridwidth": 2,
            "linecolor": "white",
            "showbackground": true,
            "ticks": "",
            "zerolinecolor": "white"
           },
           "yaxis": {
            "backgroundcolor": "#E5ECF6",
            "gridcolor": "white",
            "gridwidth": 2,
            "linecolor": "white",
            "showbackground": true,
            "ticks": "",
            "zerolinecolor": "white"
           },
           "zaxis": {
            "backgroundcolor": "#E5ECF6",
            "gridcolor": "white",
            "gridwidth": 2,
            "linecolor": "white",
            "showbackground": true,
            "ticks": "",
            "zerolinecolor": "white"
           }
          },
          "shapedefaults": {
           "line": {
            "color": "#2a3f5f"
           }
          },
          "ternary": {
           "aaxis": {
            "gridcolor": "white",
            "linecolor": "white",
            "ticks": ""
           },
           "baxis": {
            "gridcolor": "white",
            "linecolor": "white",
            "ticks": ""
           },
           "bgcolor": "#E5ECF6",
           "caxis": {
            "gridcolor": "white",
            "linecolor": "white",
            "ticks": ""
           }
          },
          "title": {
           "x": 0.05
          },
          "xaxis": {
           "automargin": true,
           "gridcolor": "white",
           "linecolor": "white",
           "ticks": "",
           "title": {
            "standoff": 15
           },
           "zerolinecolor": "white",
           "zerolinewidth": 2
          },
          "yaxis": {
           "automargin": true,
           "gridcolor": "white",
           "linecolor": "white",
           "ticks": "",
           "title": {
            "standoff": 15
           },
           "zerolinecolor": "white",
           "zerolinewidth": 2
          }
         }
        },
        "title": {
         "text": "Ranking Of Top 10 Recommended Dramas For A User Based On Similarity: 3.5094 RMSE"
        },
        "xaxis": {
         "range": [
          8,
          10
         ],
         "title": {
          "text": "Recommendation-Rating"
         }
        },
        "yaxis": {
         "title": {
          "text": "Drama"
         }
        }
       }
      },
      "text/html": [
       "<div>                            <div id=\"0e1c668f-74bb-4f8d-ae6a-91f28e288ce4\" class=\"plotly-graph-div\" style=\"height:525px; width:100%;\"></div>            <script type=\"text/javascript\">                require([\"plotly\"], function(Plotly) {                    window.PLOTLYENV=window.PLOTLYENV || {};                                    if (document.getElementById(\"0e1c668f-74bb-4f8d-ae6a-91f28e288ce4\")) {                    Plotly.newPlot(                        \"0e1c668f-74bb-4f8d-ae6a-91f28e288ce4\",                        [{\"marker\":{\"color\":\"#db0000\"},\"orientation\":\"h\",\"text\":[\"healer\",\"crash landing on you\",\"vincenzo\",\"it's okay to not be okay\",\"goblin\",\"love o2o\",\"signal\",\"hospital playlist\",\"city hunter\",\"moon lovers: scarlet heart ryeo\",\"move to heaven\",\"dr. romantic\",\"strong woman do bong soon\",\"the fiery priest\",\"happiness\",\"vagabond\",\"descendants of the sun\",\"you are my glory\",\"mr. queen\",\"kingdom\",\"kingdom season 2\",\"hotel del luna\",\"tale of the nine-tailed\",\"reply 1988\",\"eulachacha waikiki\",\"love me if you dare\",\"the untamed\",\"flower of evil\",\"navillera\",\"dr. romantic season 2\",\"twenty-five twenty-one\",\"itaewon class\",\"doom at your service\",\"mystic pop-up bar\",\"the devil judge\",\"while you were sleeping\",\"kill me, heal me\",\"tell me what you saw\",\"rooftop prince\",\"the master's sun\",\"it's okay, that's love\",\"fight for my way\",\"secret garden\",\"dali and the cocky prince\",\"life on mars\",\"weightlifting fairy kim bok joo\",\"nobody knows\",\"falling into your smile\",\"w\",\"a korean odyssey\",\"come and hug me\",\"my name\",\"moon embracing the sun\",\"the red sleeve\",\"good manager\",\"my love from the star\",\"her private life\",\"the king: eternal monarch\",\"taxi driver\",\"sword snow stride\",\"intense love\",\"ugly alert\",\"semantic error\",\"ace troops\",\"the k2\",\"joy of life\",\"my heroic husband\",\"hot stove league\",\"another miss oh\",\"the penthouse season 2: war in life\",\"forever and ever\",\"begin again\",\"the legends\",\"hit the top\",\"douluo continent\",\"age of youth\",\"full house\",\"our secret\",\"chicago typewriter\",\"youth of may\",\"the lover\",\"mad dog\",\"the lost tomb 2\",\"search: www\",\"18 again\",\"suspicious partner\",\"koi wa tsuzuku yo doko made mo\",\"just between lovers\",\"class of lies\",\"fated to love you\",\"the heirs\",\"mouse\",\"hello monster\",\"love revolution\",\"le coup de foudre\",\"the tale of nokdu\",\"school 2013\",\"ashes of love\",\"voice\",\"faith\",\"love is sweet\",\"law school\",\"the king\\u2019s avatar\",\"doctor prisoner\",\"go ho's starry night\",\"terius behind me\",\"autumn's concerto\",\"the uncanny counter\",\"hotel king\",\"the package\",\"bad guys\",\"two weeks\",\"extracurricular\",\"dear my friends\",\"my mister\",\"reset\",\"the emperor: owner of the mask\",\"our beloved summer\",\"jewel in the palace\",\"player\",\"sky castle\",\"to my star\",\"find me in your memory\",\"save me\",\"the guest\",\"kieta hatsukoi\",\"the sound of your heart\",\"go ahead\",\"boys over flowers\",\"queen in hyun's man\",\"under the power\",\"itazura na kiss: love in tokyo\",\"the world of fantasy\",\"jealousy incarnate\",\"touch your heart\",\"the smile has left your eyes\",\"secret royal inspector\",\"partners for justice\",\"juvenile justice\",\"something in the rain\",\"dream garden\",\"bad and crazy\",\"bad buddy\",\"thumping spike\",\"the legend of the blue sea\",\"the story of ming lan\",\"oh my ghost\",\"miss in kiss\",\"cunning single lady\",\"mine\",\"the fox's summer\",\"ugly duckling series: perfect match\",\"he is psychometric\",\"imitation\",\"3 nen a gumi: ima kara mina-san wa, hitojichi desu\",\"live\",\"love scenery\",\"temptation\",\"cruel city\",\"kiss me\",\"defendant\",\"one spring night\",\"adult trainee\",\"the imperial coroner\",\"history4: close to you\",\"fighter of the  destiny\",\"sunshine of my life\",\"you're all surrounded\",\"work later, drink now\",\"entertainer\",\"at a distance, spring is green\",\"gibo to musume no blues\",\"are you human too?\",\"catch the ghost\",\"a gentleman's dignity\",\"trial marriage\",\"fall in love\",\"misaeng: incomplete life\",\"hellbound\",\"hometown cha-cha-cha\",\"heavenly sword and dragon slaying sabre\",\"legend of fei\",\"until we meet again\",\"meteor garden\",\"once again\",\"snowdrop\",\"sotus\",\"because this is my first life\",\"bubblegum\",\"hwarang\",\"the lost tomb\",\"go back couple\",\"jao sao jum yorm\",\"you are my hero\",\"the girl who sees scents\",\"advertising genius lee tae baek\",\"why women love\",\"avengers social club\",\"to fly with you\",\"u-prince: the badass baker\",\"chief of staff\",\"rookie cops\",\"my lawyer, mr. jo\",\"she was pretty\",\"en of love: this is love story\",\"we best love: no. 1 for you\",\"the brightest star in the sky\",\"hi bye, mama!\",\"wonderful life\",\"u-prince: the single lawyer\",\"search\",\"noble aspirations\",\"solomon's perjury\",\"the love by hypnotic\",\"rookie agent rouge\",\"don't disturb my study\",\"my little princess\",\"the light in your eyes\",\"tunnel\",\"fairyland lovers\",\"u-prince: the foxy pilot\",\"loving, never forgetting\",\"queen of ambition\",\"forever love\",\"reflection of you\",\"confession\",\"history of the salaryman\",\"last\",\"hwang jin yi\",\"word of honor\",\"in a class of her own\",\"1 litre no namida\",\"cambrian period\",\"put your head on my shoulder\",\"pegasus market\",\"love actually\",\"not me\",\"when the weather is fine\",\"the king's affection\",\"doctor stranger\",\"the kingdom of the winds\",\"365: repeat the year\",\"after school: lucky or not\",\"30-sai made dotei da to mahotsukai ni nareru rashii\",\"god's quiz\",\"through the darkness\",\"gokusen\",\"the sand princess\",\"tharntype\",\"mr. sunshine\",\"six flying dragons\",\"love rain\",\"love and redemption\",\"49 days\",\"designated survivor: 60 days\",\"priest\",\"it started with a kiss\",\"drinking solo\",\"novoland: pearl eclipse\",\"lovers of the red sky\",\"joseon exorcist\",\"the rational life\",\"love through a millennium\",\"king2hearts\",\"my mr. mermaid\",\"one ordinary day\",\"sassy go go\",\"beautiful world\",\"nirvana in fire season 2: the wind blows in chang lin\",\"good bye, my princess\",\"en of love: love mechanics\",\"you are my destiny\",\"love in the moonlight\",\"theory of love\",\"eternal love\",\"the day of becoming you\",\"definitely not today\",\"man to man\",\"special labor inspector jo\",\"win jaime's heart\",\"what happens to my family?\",\"twenty-twenty\",\"the tasty florida\",\"flower ever after\",\"love under the full moon\",\"mr. heart\",\"forest\",\"racket boys\",\"one and only\",\"your honor\",\"why why love\",\"kamen rider zi-o\",\"band of sisters\",\"the sleepless princess\",\"my father is strange\",\"ever night\",\"yi san\",\"smile, dong hae\",\"i have a lover\",\"46 days\",\"the long ballad\",\"uncle\",\"todome no kiss\",\"times\",\"ancient love poetry\",\"dance of the phoenix\",\"who are you\",\"like a flowing river\",\"granting you a dreamlike life\",\"lost in 1949\",\"lovely horribly\",\"boku dake ga inai machi\",\"mother\",\"proposal daisakusen\",\"a beautiful mind\",\"train\",\"hua jai sila\",\"when a snail falls in love\",\"my romantic some recipe\",\"soul plate\",\"the trick of life and love\",\"queen: love and war\",\"my golden life\",\"hong gil dong\",\"gu family book\",\"okusama wa, tori atsukai chui\",\"ichikei no karasu\",\"nigeru wa haji da ga yaku ni tatsu\",\"tokyo dogs\",\"tempest\",\"omameda towako to sannin no motootto\",\"yae no sakura\",\"hanzawa naoki\",\"mondai no aru restaurant\",\"run on\",\"remember you\",\"the miracle\",\"manner of death\",\"killer and healer\",\"to be continued\",\"blade man\",\"dinner mate\",\"u-prince: the crazy artist\",\"live on\",\"my girlfriend is a gumiho\",\"q series: life plan a and b\",\"story of yanxi palace\",\"vampire detective\",\"choco bank\",\"my fated boy\",\"the blooms at ruyi pavilion\",\"school 2017\",\"my only one\",\"reunited worlds\",\"reunion: the sound of the providence season 2\",\"god's quiz season 2\",\"legend of fu yao\",\"neechan no koibito\",\"truth or dare\",\"kkondae  intern\",\"stranger season 2\",\"criminal minds\",\"the love equations\",\"here is my exclusive indulge\",\"ordinary but special\",\"when we were young\",\"my little happiness\",\"inspector koo\",\"kazoku game\",\"bokura wa kiseki de dekite iru\",\"utsukushii kare\",\"trot lovers\",\"make my heart smile\",\"children of nobody\",\"diamond lover\",\"pied piper\",\"oh my drama lover\",\"deep in my heart\",\"for married doctress\",\"river where the moon rises\",\"i promised you the moon\",\"second chance\",\"sachiiro no one room\",\"u-prince: the ambitious boss\",\"five enough\",\"love, now\",\"thank you\",\"to get her\",\"song huajai nee puea tur\",\"i'm a pet at dali temple\",\"the guardians\",\"argon\",\"the prince who turns into a frog\",\"easy fortune happy life\",\"good doctor\",\"black\",\"general and i\",\"secret love affair\",\"doctor x\",\"big issue\",\"candle in the tomb: the wrath of time\",\"no secrets\",\"crisis: kouan kidou sousatai tokusou-han\",\"wonderful fate\",\"missing noir m\",\"oops! the king is in love\",\"massaya\",\"birthcare center\",\"nirvana in fire\",\"return\",\"stranger\",\"love shuffle\",\"jumong\",\"dong yi\",\"rebel: thief who stole the people\",\"missing: the other side\",\"a camellia romance\",\"young lady and gentleman\",\"marry me\",\"queen seon duk\",\"exo next door\",\"the perfect match\",\"papa & daddy\",\"the sword and the brocade\",\"fermentation family\",\"anniversary anyway\",\"diary of a prosecutor\",\"finding soul\",\"11 nin mo iru!\",\"gomenne seishun!\",\"koko wa ima kara rinri desu\",\"49\",\"master of study\",\"holy land\",\"ore no sukato, doko itta?\",\"rental nan mo shinai hito\",\"35 sai no koukousei\",\"goodbye my princess: director's cut\",\"that fool\",\"miss crow with mr. lizard\",\"sweet teeth\",\"because of love\",\"make it right 2\",\"click your heart\",\"the prince of tennis\",\"i'm tee, me too\",\"the best story\",\"all out of love\",\"start-up\",\"listening snow tower\",\"xx\",\"he's coming to me\",\"love and destiny\",\"iris 2\",\"ugly duckling series: pity girl\",\"i don't want to be friends with you\",\"autumn tale\",\"falling for innocence\",\"ten years late\",\"ani ni aisaresugite komattemasu\",\"office girls\",\"aftermath\",\"silence\",\"the good wife\",\"p.s. man\",\"twisted fate of love\",\"my love, enlighten me\",\"be melodramatic\",\"zombie detective\",\"money game\",\"i'm not a robot\",\"the moment the heart shines\",\"the starry night, the starry sea\",\"f4 thailand: boys over flowers\",\"chimera\",\"go go squid!\",\"blue birthday\",\"reunion: the sound of the providence\",\"history3: make our days count\",\"sm:)e\",\"taiyou no uta\",\"all about my mom\",\"best lover\",\"yumi's cells\",\"my sweet dear\",\"code blue\",\"kaitou yamaneko\",\"sunao ni narenakute\",\"iryu team medical dragon\",\"mioka\",\"the gifted\",\"stairway to heaven\",\"sotus s\",\"here's my plan\",\"crush\",\"sweet home\",\"timeless love\",\"quartet\",\"gameboys level-up edition\",\"beautiful love, wonderful life\",\"flipped\",\"my true friend\",\"love alarm\",\"ima kara anata wo kyouhaku shimasu\",\"only kiss without love\",\"tomorrow boy\",\"you are my spring\",\"no boundary season 2\",\"love in between\",\"a hundred year's inheritance\",\"gunman in joseon\",\"lonely enough to love\",\"the princess's man\",\"brothers\",\"rattan\",\"the crowned clown\",\"zettai kareshi\",\"the golden eyes\",\"hot shot\",\"psych-hunter\",\"devil lover\",\"high&low season 2\",\"final life\",\"my love from the ocean\",\"handsome siblings\",\"legend of the condor heroes\",\"the vigilantes in masks\",\"shuttle love millennium\",\"no boundary\",\"secret of three kingdoms\",\"die now\",\"the heiress\",\"lost\",\"surgeons\",\"high-end crush\",\"dr. cutie\",\"shine or go crazy\",\"one more happy ending\",\"a beauty of revenge\",\"the greatest love\",\"my ambulance\",\"crime puzzle\",\"eating existence\",\"the return of iljimae\",\"golden rainbow\",\"murphy's law of love\",\"mengfei comes across\",\"the twin flower legend\",\"the romance of the condor heroes\",\"room no. 9\",\"all-boys high\",\"my unfortunate boyfriend\",\"go go squid 2: dt. appledog's time\",\"high school king of savvy\",\"the wolf\",\"tomb of the sea\",\"two cops\",\"dance of the sky empire\",\"cross fire\",\"devilish joy\",\"all of us are dead\",\"how are you bread\",\"strongest deliveryman\",\"my dear loser: edge of 17\",\"just you\",\"history2: crossing the line\",\"given\",\"my lovely sam soon\",\"promise cinderella\",\"boarding house #24\",\"oh! my boss! koi wa bessatsu de\",\"trap\",\"awaken\",\"lie after lie\",\"pink lipstick\",\"w.h.y.\",\"idol: the coup\",\"ossan's love\",\"cupid's kitchen\",\"rainless love in a godless land\",\"the king's woman\",\"sungkyunkwan scandal\",\"your home\",\"see you after quarantine?\",\"calculating love\",\"hometown's embrace\",\"stuck on you\",\"nighttime\",\"friend forever\",\"honey sir\",\"hikaru no go\",\"jang ok jung\",\"three kingdoms\",\"myung wol the spy\",\"my forever sunshine\",\"golden pouch\",\"choose\",\"miman keisatsu: midnight runner\",\"always have, always will\",\"oxygen\",\"we best love: fighting mr. 2nd\",\"bite me\",\"kuzu no honkai\",\"o-negative\",\"meet me outside\",\"fall in love with a scientist\",\"devil beside you\",\"color rush\",\"3 days\",\"one more time\",\"big\",\"watcher\",\"something about 1 percent\",\"delightful girl, choon hyang\",\"the musical\",\"wish woosh 2\",\"better a lie than a truth\",\"full house take 2\",\"fabulous boys\",\"koizora\",\"the woman who still wants to marry\",\"hajimete koi wo shita hi ni yomu hanashi\",\"i have three boyfriends\",\"sealed with a kiss\",\"dream high\",\"winter sonata\",\"s: saigo no keikan\",\"the sweetest secret\",\"a tale of thousand stars\",\"history2: right or wrong\",\"bromance\",\"athena: goddess of war\",\"mr. fighting\",\"mr. fox and miss rose\",\"my supernatural power\",\"i  do, i do\",\"remembrance of things past\",\"good morning call\",\"the romance of tiger and rose\",\"discovery of romance\",\"u-prince: the absolute economist\",\"the hymn of death\",\"find yourself\",\"a female student arrives at the imperial college\",\"u-prince: the badly politics\",\"my sunshine\",\"rebirth for you\",\"blacklist\",\"secret seven\",\"hello debate opponent\",\"fake princess\",\"guardian\",\"sweet revenge\",\"you raise me up\",\"scent of a woman\",\"monthly magazine home\",\"once upon a time in lingjian mountain\",\"flourish in time\",\"across the ocean to see you\",\"hold on, my lady\",\"love is all\",\"chijo no kiss\",\"more than friends\",\"romantic princess\",\"the first half of my life\",\"blossom in heart\",\"light the night\",\"best wedding\",\"that winter, the wind blows\",\"i see you\",\"leh lub salub rarng\",\"my story for you\",\"dolce amore\",\"the flame's daughter\",\"dating agency: cyrano\",\"project s: spike\",\"lawless lawyer\",\"mia jum pen\",\"khing kor rar khar kor rang\",\"sanaeha sunya kaen\",\"mama\",\"dr. ian\",\"mia taeng\",\"likit kammathep\",\"ton ruk rim rua\",\"nakark kaew\",\"it's okay, daddy's girl\",\"the legend of jin yan\",\"kou kou kyoushi 2003\",\"sud sai pan\",\"suparburoot jorm jon: maturot lohgan\",\"nang ai\",\"kon la kop fah\",\"love forever after\",\"samee\",\"payu sai\",\"who are you?\",\"kleun cheewit\",\"babysitter\",\"onzoshi boys\",\"dao kiao duen\",\"sunny again tomorrow\",\"the last empress\",\"grand prince\",\"my absolute boyfriend\",\"sang doo, let's go to school\",\"matching! boys archery\",\"prince of lan ling\",\"face off\",\"we broke up\",\"in love with your dimples\",\"bread, love and dreams\",\"meloholic\",\"love at night\",\"the crown princess\",\"what's wrong with secretary kim\",\"legally, dad\",\"toki wo kakeru shoujo\",\"colourful bone\",\"be with you\",\"mirror of the witch\",\"one fine day\",\"risky\",\"with you\",\"lie to love\",\"novoland: eagle flag\",\"memory love\",\"the whirlwind girl\",\"be my boyfriend\",\"legal high 2\",\"my boss, my hero\",\"shinya shokudo - tokyo stories season 2\",\"osozaki no himawari\",\"tonbi\",\"ano toki kiss shite okeba\",\"yowakutemo katemasu\",\"saiai\",\"otomen\",\"kokoro ga pokitto ne\",\"mystery to iunakare\",\"watashi, teiji de kaerimasu\",\"date - koi to wa donna mono kashira\",\"last friends\",\"lupin no musume\",\"sekai ichi muzukashii koi\",\"hakozume: tatakau! koban joshi\",\"black pean\",\"watashi wo hanasanaide\",\"tantei no tantei\",\"kaseifu no mita\",\"sutekina sen taxi\",\"n no tame ni\",\"watashi no kaseifu nagisa-san\",\"hello stranger\",\"god's quiz season 4\",\"can't lose\",\"legend of hyang dan\",\"secret door\",\"next door witch j\",\"strongest chil woo\",\"the legend of white snake\",\"ojakgyo brothers\",\"inspiring generation\",\"the lies within\",\"water boyy\",\"limit\",\"last scandal\",\"tree of heaven\",\"mei-chan no shitsuji\",\"arthdal chronicles part 3: the prelude to all legends\",\"kiss\",\"once we get married\",\"happy birthday\",\"seven of me\",\"top secret together\",\"enchant\\u00e9\",\"youth unprescribed\",\"love by chance 2: a chance to love\",\"innocent\",\"ngao asoke\",\"the plough department of song dynasty\",\"hayate the combat butler\",\"cruel romance\",\"love marriage\",\"beyond the clouds\",\"sword and flower\",\"skip beat!\",\"woman of 9.9 billion\",\"hello dear ancestors\",\"uncontrollably fond\",\"secret royal inspector & joy\",\"how to buy a friend\",\"sweet munchies\",\"she knows everything\",\"taste of cat\",\"unexpected\",\"vivid romance\",\"all i want for love is you\",\"dream knight\",\"the king of romance\",\"moonlight\",\"falsify\",\"nice witch\",\"record of youth\",\"please feel at ease mr. ling\",\"my strange hero\",\"my unicorn girl\",\"chasing ball\",\"the flower in prison\",\"the penthouse season 3: war in life\",\"the incarnation of money\",\"lucky with you\",\"into the ring\",\"konto ga hajimaru\",\"the three musketeers\",\"black lighthouse\",\"crossroad bistro\",\"hanazakari no kimitachi e\",\"reply 1994\",\"pinocchio\",\"my dangerous wife\",\"you complete me\",\"hot and sweet\",\"wind-bell\",\"birth of a beauty\",\"one the woman\",\"love the way you are\",\"itsuka, nemuri ni tsuku hi\",\"the best twins\",\"ouran high school host club\",\"14-sai no haha\",\"horimiya\",\"is - otoko demo onna demo nai sei\",\"ashi girl\",\"senior secret love: puppy honey 2\",\"densha otoko\",\"jirisan\",\"scarlet heart 2\",\"first romance\",\"to all the guys who loved me\",\"my day\",\"hospital ship\",\"a man's story\",\"magic school\",\"kinkyu torishirabeshitsu 2\",\"waen dok mai\",\"kaew klang dong\",\"my dear boy\",\"haechi\",\"mi wo tsukushi ryouricho\",\"jao sao chang yon\",\"gomen, aishiteru\",\"the ordinary glory\",\"takane no hana\",\"beyond light years\",\"god's quiz: reboot\",\"unknown woman\",\"tantei gakuen q\",\"100-manen no onna-tachi\",\"miss ma, nemesis\",\"akira to akira\",\"showa genroku rakugo shinju\",\"an oriental odyssey\",\"bad thief, good thief\",\"ms. kim's million dollar quest\",\"my dear loser: monster romance\",\"gay ok bangkok 2\",\"sign\",\"let me introduce her\",\"uchi no otto wa shigoto ga dekinai\",\"bokutachi ga yarimashita\",\"creating destiny\",\"gintama: mitsuba hen\",\"another me\",\"nueng dao fah diew\",\"burning ice\",\"aishite tatte, himitsu wa aru\",\"slam dance\",\"the legend of hao lan\",\"red balloon\",\"l.o.r.d. critical world\",\"god of lost fantasy\",\"survival wedding\",\"tientsin mystic\",\"royal nirvana\",\"top star yoo baek\",\"dele\",\"blowing in the wind\",\"time teaches me to love\",\"chef fang\",\"love destiny\",\"mr. right\",\"my love from another star\",\"saki ni umareta dake no boku\",\"rh plus\",\"hip hop teacher\",\"honou no tenkousei reborn\",\"man in the kitchen\",\"not alright, but it's alright\",\"people you may know\",\"queen dugu\",\"destiny's love\",\"matrimonial chaos\",\"bunlang dok mai\",\"emergency department doctors\",\"super family\",\"detective samoyeds\",\"original sin\",\"vampire host\",\"see you again\",\"love, just come\",\"final fantasy xiv: hikari no otousan\",\"hito wa mita me ga 100%\",\"scrap teacher\",\"frankenstein no koi\",\"the underwear\",\"haha ni naru\",\"kizoku tantei\",\"my huckleberry friends\",\"totsuzen desu ga, ashita kekkon shimasu\",\"tokyo joshi zukan\",\"mangaban nobushi no gurume\",\"let's shake it!\",\"legend of the phoenix\",\"109 strange things\",\"the endless love\",\"ms. perfect\",\"rule the world\",\"no time for love\",\"love for a thousand more\",\"freeter, ie o kau.\",\"kakegurui season 2\",\"dai renai: boku wo wasureru kimi to\",\"tears in heaven\",\"negotiator\",\"sweet revenge season 2\",\"trace of the hand\",\"i love my president though he's a psycho\",\"koo za rot zab\",\"the king of blaze\",\"my woofy poofy love\",\"love and fortune\",\"toumei na yurikago\",\"haru ga kita\",\"20th century boy and girl\",\"kekkon aite wa chusen de\",\"love, timeless\",\"sakurako-san no ashimoto ni wa shitai ga umatteiru\",\"summer's desire\",\"hannari girori no yoriko-san\",\"in family we trust\",\"never say goodbye\",\"dorokei\",\"dae jang geum is watching\",\"reverse\",\"bangkok love stories 2: plead\",\"bangkok love stories 2: innocence\",\"the cupids series: kammathep jum laeng\",\"the cupids series: kammathep sorn kol\",\"the cupids series: sorn ruk kammathep\",\"the cupids series: loob korn kammathep\",\"it's okay to be sensitive\",\"tae pang korn\",\"the journey 2\",\"boku, unmei no hito desu\",\"koi ga heta demo ikitemasu\",\"the masked lover\",\"the destiny of white snake\",\"bungaku shojo\",\"rak nakara\",\"if paris downcast\",\"let's only walk the flower road\",\"children of a lesser god\",\"rak rai\",\"krong karm\",\"kimi ga kokoro ni sumitsuita\",\"hot blooded youth\",\"we are peaceful brothers\",\"iron ladies\",\"less than evil\",\"the sound of your heart: reboot\",\"bg: personal bodyguard\",\"lion pride\",\"the most beautiful goodbye\",\"khun mae suam roy\",\"between friendship and love\",\"never gone\",\"cross\",\"age of rebellion\",\"lying heart\",\"chihayafuru: tsunagu\",\"nee ruk nai krong fai\",\"on the wings of love\",\"unnatural\",\"first love story season 2\",\"to love, to heal\",\"romance special law\",\"majisuka gakuen\",\"the dark lord\",\"guilty akuma to keiyakushita onna\",\"celeb to binbo taro\",\"day and night\",\"denei shojo: video girl ai 2018\",\"momikeshite fuyu\",\"the rebel princess\",\"mint to be\",\"my poseidon\",\"all is well\",\"todome no parallel\",\"dragon day, you're dead season 2\",\"big white duel\",\"the quiz show 2\",\"godhand teru\",\"miracle that we met\",\"tra barb see chompoo\",\"the confidence man jp\",\"sapuri\",\"4 kinds of house\",\"fates & furies\",\"holiday love\",\"mendol\",\"gakeppuchi hotel\",\"ototo no otto\",\"thong ek: the herbal master\",\"miss sherlock\",\"signal: choki mikaiketsu jiken sosahan\",\"manpuku\",\"natsuzora\",\"kakegurui\",\"should we kiss first?\",\"my robot boyfriend\",\"anone\",\"yellow\",\"kuragehime\",\"wolf\",\"love returns\",\"one and another him\",\"paen rai long tai wa rak\",\"the great ruler\",\"pretty man\",\"youniverse\",\"river flows to you\",\"joker yurusarezaru sousakan\",\"first love story\",\"boku wa mari no naka\",\"my hero series: heart of the motherland\",\"unubore deka\",\"paradise farm\",\"rak kan panlawan\",\"roop thong\",\"the world between us\",\"project s: side by side\",\"delicious gakuin\",\"sanae rak nang cin\",\"hanbun, aoi\",\"miss no good\",\"juunen saki mo kimi ni koishite\",\"eagles and youngster\",\"innocent love\",\"tokyo juliet\",\"likit haeng jan\",\"caught in the heartbeat\",\"jojo's world\",\"risky romance\",\"beautiful reborn flower\",\"1% of anything\",\"the quiz show\",\"my dream\",\"seigi no mikata\",\"wake up ladies\",\"in youth\",\"beloved enemy\",\"the evolution of our love\",\"goodbye to goodbye\",\"fate\",\"the count of monte-cristo: great revenge\",\"juuyou sankounin tantei\",\"nihonjin no shiranai nihongo\",\"borg mom\",\"the big boss\",\"fluttering warning\",\"between\",\"the best moment to quit your job\",\"youth\",\"secret mother\",\"my boyfriend\",\"irreplaceable love\",\"kamen rider build\",\"rookies\",\"the longest day in chang'an\",\"project s: shoot! i love you\",\"project s: skate our souls\",\"tokyo alice\",\"keiji yugami\",\"dear prince\",\"youth\",\"i am...\",\"miss independent ji eun\",\"kangoku no ohimesama\",\"girls' generation 1979\",\"your highness, the class monitor\",\"teenage mom\",\"jigoku shoujo\",\"waiting for you in the future\",\"pure melo district\",\"revolutionary sisters\",\"shitteru waifu\",\"blackout\",\"falling in love\",\"party a who lives beside me\",\"be yourself\",\"talio fukushu daiko no futari\",\"satsui no michinori\",\"he's into her\",\"minning town\",\"dear parents\",\"hook up\",\"the cupid coach\",\"dok go bin is updating\",\"the lost tomb 2: explore with the note\",\"okane no kireme ga koi no hajimari\",\"35sai no shoujo\",\"my dear brothers\",\"call it what you want\",\"my treasure\",\"unusual idol love\",\"today office tomorrow romance\",\"wong wien hua jai\",\"sweet sweet\",\"are we alright?\",\"bossam: steal the fate\",\"dalgona\",\"#remolove: futsuu no koi wa jado\",\"koisuru hahatachi\",\"on the verge of insanity\",\"the shore\",\"tengoku to jigoku: psychona futari\",\"unguarded\",\"serendipity\",\"liar game\",\"kishibe rohan wa ugokanai\",\"i fell in love by accident\",\"why love why\",\"uncle cool\",\"uchi no musume wa, kareshi ga dekinai!!\",\"influencers\",\"the in-laws\",\"ore no ie no hanashi\",\"royal nirvana special\",\"daughters\",\"bokura wa koi ga hetasugiru\",\"maid escort\",\"shinbun kisha\",\"kurosagi\",\"sensei wo kesu houteishiki\",\"loveless society\",\"discipline z: vampire\",\"good and evil\",\"ben x jim\",\"love o'clock\",\"out of the dream\",\"my gear and your gown\",\"my queen\",\"falling into you\",\"sakristan\",\"oh, mando!\",\"candle in the tomb: the worm valley\",\"oyabaka seishun hakusho\",\"game of outlaws\",\"dear diary\",\"wacko at law\",\"girl next room: security love\",\"girl next room: richy rich\",\"girl next room: midnight fantasy\",\"romance talking\",\"pop out boy!\",\"hotaru no hikari\",\"pearl next door\",\"sixteen shoukougun\",\"guilty: kono koi wa tsumi desuka\",\"peanut butter sandwich\",\"hotaru no hikari 2\",\"chip-in\",\"time flies and you are here\",\"miu 404\",\"unsung cinderella: byoin yakuzaishi no shohosen\",\"the rebel\",\"a love so romantic\",\"tokyo love story\",\"ni chang\",\"fah mee tawan\",\"my dear lady\",\"the ideal city\",\"mada mada koi wa tsuzuku yo doko made mo\",\"boys' lockdown\",\"couple of mirrors\",\"bro and me\",\"no, thank you\",\"my boy\",\"youkai sharehouse\",\"the underclass\",\"tumbling\",\"hi my sweetheart\",\"hook\",\"truly very yours\",\"the bond\",\"marvelous women\",\"tatta hitotsu no koi\",\"love script\",\"timing\",\"mute\",\"octogenarian and the 90s\",\"celestial authority academy\",\"okaeri mone\",\"snow lover\",\"gameboys\",\"ohitorisama\",\"the wolf princess\",\"my bubble tea\",\"nodame cantabile\",\"kakenai!?: kyakuhonka yoshimaru keisuke no sujigaki no nai seikatsu\",\"hachimitsu to clover\",\"the other half of me and you\",\"konin todoke ni han wo oshita dake desu ga\",\"samurai high school\",\"shinhannin flag 2\",\"douse mou nigerarenai\",\"49 days with a merman\",\"eroi kareshi ga watashi wo madowasu\",\"best mistake season 3\",\"koi desu: yankee-kun to hakujou garu\",\"gourmet in tang dynasty\",\"junkyouju takatsuki akira no suisatsu 2\",\"junkyouju takatsuki akira no suisatsu\",\"iribito\",\"oshi no oujisama\",\"married first then fall in love\",\"paint with love\",\"country boy\",\"fragrance of the first flower\",\"zenkamono\",\"kazoku boshu shimasu\",\"would you like a cup of coffee?\",\"boku no satsui ga koi wo shita\",\"the comments\",\"midas\",\"tokyo mer: hashiru kinkyuukyuumeishitsu\",\"night doctor\",\"lion no oyatsu\",\"tsumari suki tte iitai n dakedo,\",\"taisetsu na koto wa subete kimi ga oshiete kureta\",\"danger zone season 2: the silver lining\",\"unlucky girl!\",\"please don't spoil me season 2\",\"love destiny uncut\",\"the love of winter\",\"to.two\",\"fuujinshi\",\"kishibe rohan wa ugokanai season 2\",\"oi handsome!\",\"itoshii uso: yasashii yami\",\"fight song\",\"rokuhodo yotsuiro biyori\",\"first love again\",\"the mysterious class\",\"find me if you can\",\"dr. white\",\"koisenu futari\",\"chapter of green\",\"love with benefits\",\"kamiki ryunosuke no satsukyu\",\"the revenge\",\"your playlist\",\"can you deliver time? 2002\",\"the man's voice\",\"avalanche\",\"wadake no otokotachi\",\"mokkoji kitchen\",\"bloody monday\",\"natsu no koi wa nijiiro ni kagayaku\",\"red eyes: kanshi sousa-han\",\"b x j forever\",\"convenience store fling\",\"hello, my youth\",\"emperor or boss\",\"star with a secret\",\"momoiro anzuiro sakurairo\",\"sassy beauty\",\"delicious romance\",\"cinderella is online\",\"higuma\",\"be my dream family\",\"can i step in?\",\"youths in the breeze\",\"breakup probation, a week\",\"smile\",\"influence\",\"you never eat alone\",\"love poison 2\",\"the player\",\"irresistible\",\"55:15 never too late\",\"my toxic lover\",\"kakegurui twin\",\"nihon chinbotsu: kibo no hito\",\"once again\",\"mermaid prince\",\"nijiiro karute\",\"higashino keigo samayou yaiba\",\"nishiogikubo mitsuboshi youshudou\",\"my handsome roommate\",\"renai mangaka\",\"enjiya\",\"yamato nadeshiko shichi henge\",\"falling in love\",\"chef wa meitantei\",\"takane no hana-san\",\"colorful love: genderless danshi ni aisareteimasu\",\"the debut\",\"love kome no okite: kojirase joshi to toshishita danshi\",\"dear uranus\",\"precise shot\",\"kotaro wa hitorigurashi\",\"hidden love\",\"bad roommate\",\"kikazaru koi ni wa riyuu ga atte\",\"rikokatsu\",\"hometown\",\"koi wa deep ni\",\"princess! you have five husbands!\",\"my fake wife\",\"i  can see your mbti\",\"love beneath the stars\",\"black cinderella\",\"the queen of attack\",\"deal lover\",\"atashinchi no danshi\",\"ending again\",\"closer to you\",\"the wonder woman\",\"hakui no senshi!\",\"soshite, ikiru\",\"my dear destiny\",\"kami no shizuku\",\"hotel stars\",\"beethoven virus\",\"everyone wants to meet you\",\"how to hate you\",\"love affairs in the afternoon\",\"just one bite season 2\",\"otto no chinpo ga hairanai\",\"tokyo dokushin danshi\",\"the sleuth of ming dynasty\",\"dive\",\"re-feel\",\"love as you taste\",\"i started following romance\",\"the night of the comet\",\"anata no ban desu\",\"ghostderella\",\"dreaming back to the qing dynasty\",\"becoming a billionaire\",\"in hand\",\"the confidence\",\"the charming step mom\",\"q10\",\"radiation house\",\"followers\",\"the song of glory\",\"mars\",\"the rules of love\",\"nagi no oitoma\",\"not a robot\",\"with love\",\"marn bang jai\",\"dakara watashi wa oshimashita\",\"we are all alone\",\"ping pong life\",\"dating class\",\"unlucky ploy\",\"miss s\",\"maybe, maybe not\",\"i will find you a better home\",\"mada kekkon dekinai otoko\",\"triple fling\",\"zettai reido\",\"real clothes\",\"yuri dano kan dano\",\"prom pissawat\",\"gisou furin\",\"freshman\",\"fujoshi, ukkari gei ni kokuru\",\"bambino!\",\"witch yoo hee\",\"run for young\",\"healer of children\",\"the love lasts two minds\",\"prodigy healer\",\"true ending\",\"dragon zakura\",\"trace: kasouken no otoko\",\"to be with you\",\"winter begonia\",\"liver or die\",\"want more 19\",\"princess at large\",\"spring turns to spring\",\"love in sadness\",\"boys dormitory\",\"brown sugar macchiato\",\"roy leh marnya\",\"a pledge to god\",\"five missions\",\"zekkyou\",\"ie uru onna no gyakushu\",\"growing pain\",\"tokusatsu gagaga\",\"yg future strategy office\",\"go, back diary\",\"society obsessed with love\",\"nice to meet you\",\"bull fighting\",\"tourist\",\"can i hug you tonight?\",\"legal v\",\"buried city to shut all lights\",\"i don't love you yet\",\"perfect crime\",\"bureau of transformer\",\"novoland: the castle in the sky 2\",\"your imagination becomes reality\",\"shall we fall in love\",\"crushes reverse\",\"let's eat something, anna\",\"the effect\",\"the fearless\",\"jin\",\"mother of mine\",\"saka no tochu no ie\",\"when you love yourself\",\"binbo danshi\",\"something just like this\",\"ninkyo helper\",\"broker\",\"my dear warrior\",\"dying eye\",\"the stranded\",\"hammer session!\",\"turn left turn right\",\"3 will be free\",\"endless love\",\"love beyond frontier\",\"boy for rent\",\"visible lie\",\"number six\",\"tokujo kabachi!!\",\"graceful friends\",\"junichi\",\"the life of the white fox\",\"kotaki kyodai to shikuhakku\",\"alibi kuzushi uketamawarimasu\",\"my lonely planet\",\"1 pound no fukuin\",\"shining like you\",\"love at 7-11\",\"amensalism\",\"stars falling from the sky\",\"my ride\",\"the bad kids\",\"i need romance\",\"dear herbal lord\",\"ultimate note\",\"and the winner is love\",\"maou\",\"consummation\",\"amanza\",\"ugly beauty\",\"theseus no fune\",\"soul mechanic\",\"sisyphus\",\"sleepless society: insomnia\",\"kidnapping game\",\"juui dolittle\",\"hidarime tantei eye\",\"girl2k\",\"yameru toki mo, sukoyaka naru toki mo\",\"love poison\",\"kokoro no kizu wo iyasu to iu koto\",\"homeroom\",\"be together\",\"his - koisuru tsumori nante nakatta\",\"nibiiro no hako no naka de\",\"so much in love\",\"qing luo\",\"please classmate\",\"poisoned love\",\"ju-on: noroi no ie\",\"attention please\",\"fai sin chua\",\"love & the emperor\",\"eternal love rain\",\"yanxi palace: princess adventures\",\"orthros no inu\",\"out of breath\",\"yukan club\",\"ghost friends\",\"new face\",\"lovely us\",\"oh my baby\",\"4 reasons why i hate christmas\",\"the attorney is the devil\",\"rahut rissaya\",\"kono otoko wa jinsei saidai no ayamachidesu\",\"raise de wa chanto shimasu\",\"22 flower road\",\"the long night\",\"crash! insignificant roommates\",\"thank god it's friday\",\"don't leave after school\",\"pure\",\"ore no hanashi wa nagai\",\"sherlock: the untold stories\",\"coffee house\",\"in-seoul\",\"count your lucky stars\",\"ruk laek pop\",\"kaibutsu kun\",\"motokare mania\",\"the birth of the drama king\",\"mia archeep\",\"key love\",\"the blessed girl\",\"anata no ban desu - counterattack\",\"monchouchou globalhouse\",\"hotarugusa\",\"sapai import\",\"nothing but thirty\",\"high&low the worst episode.0\",\"a little reunion\",\"young and beautiful\",\"grand maison tokyo\",\"kore wa keihi de ochimasen!\",\"gto\",\"yong jiu grocery store\",\"anego\",\"hotel trainees\",\"doki no sakura\",\"ryusei no kizuna\",\"smiling pasta\",\"like\",\"eccentric! chef moon\",\"cat's bar\",\"the silent criminal\",\"dear my name\",\"love story of court enemies\",\"the little nyonya\",\"standing in the time\",\"lookism\",\"pretty man 2\",\"the witch store\",\"the ghost bride\",\"candle in the tomb: the lost caverns\",\"jark sadtroo soo hua jai\",\"shujin-ko\",\"the guilty secret\",\"make it live: on the beach\",\"never say never\",\"let's fight ghost\",\"someday or one day\",\"to my beautiful woo ri\",\"project 17: side by side\",\"busu no hitomi ni koishiteru\",\"the legend of xiao chuo\",\"please don't spoil me season 3\",\"love to our youth: he falls in love with him\",\"cheer up, mr. kim!\",\"kekkon shinai\",\"aozora no tamago\",\"sugarless\",\"piece\",\"mahoro ekimae bangaichi\",\"battle of changsha\",\"special affairs team ten season 2\",\"ohlala couple\",\"spring love\",\"nakuna, hara-chan\",\"share house no koibito\",\"king flower\",\"xxxholic\",\"all about my romance\",\"tokyo zenryoku shoujo\",\"akumu-chan\",\"nobunaga no chef\",\"ko one return\",\"beginners!\",\"horse doctor\",\"ghost mama sousasen\",\"too late to say i love you\",\"sweet sweet bodyguard\",\"majisuka gakuen 3\",\"the king of dramas\",\"priceless\",\"sora kara furu ichioku no hoshi\",\"monsters\",\"the return of the condor heroes\",\"say that you love me\",\"family\",\"kamen rider wizard\",\"saki\",\"karamazov no kyodai\",\"woman\",\"take five - oretachi wa ai wo nusumeru ka\",\"calling for love\",\"wonderful mama\",\"shark\",\"birth secret\",\"all esper dayo!\",\"black & white\",\"she is wow!\",\"kasuka na kanojo\",\"goddess of marriage\",\"the pursuit of happiness\",\"bread and soup and cat weather\",\"my pig lady\",\"scandal\",\"pin to kona\",\"i summon you, gold!\",\"fallen angel\",\"call of the country\",\"soratobu kouhoushitsu\",\"biblia koshodou no jiken techou\",\"yakou kanransha\",\"amachan\",\"a clear midsummer night\",\"heaven's order\",\"vampire heaven\",\"the queen of office\",\"futatsu no spica\",\"gods of honour\",\"hur jun, the original story\",\"two fathers\",\"bad boys j\",\"the condor heroes 95\",\"last cinderella\",\"higashino keigo mysteries\",\"may queen\",\"haeundae lovers\",\"kamen rider ryuki\",\"aishiteiru to ittekure\",\"feast of the gods\",\"kamen rider blade\",\"kamen rider agito\",\"yoiko no mikata\",\"samurai sentai shinkenger\",\"kamen rider 555\",\"romance in the rain\",\"salamander guru and the gang\",\"the hippocratic crush\",\"saba doru\",\"toshi densetsu no onna\",\"the equator man\",\"partner\",\"the 3rd ward\",\"risou no musuko\",\"soumatou kabushikigaisha\",\"kamen rider den-o\",\"garo: makai senki\",\"brain\",\"special affairs team ten\",\"she is nineteen\",\"fondant garden\",\"my shining girl\",\"bachelor's vegetable store\",\"lady - saigo no hanzai profile\",\"inborn pair\",\"waking love up\",\"strawberry night\",\"operation proposal\",\"saikou no jinsei no owarikata - ending planner\",\"saigo kara nibanme no koi\",\"sound of the desert\",\"can love become money\",\"legal high\",\"triumph in the skies\",\"secret angel\",\"heartbeat love\",\"swordsman\",\"best time\",\"legend of lu zhen\",\"god's quiz season 3\",\"legend of concubine zhen huan\",\"when love walked in\",\"what is love\",\"five fingers\",\"the thousandth man\",\"to my beloved\",\"miss rose\",\"a step into the past\",\"kodoku no gurume\",\"in between\",\"drama go go go\",\"tiger cubs\",\"shiritsu bakaleya koukou\",\"high kick through the roof!\",\"golden time\",\"ooku: the inner chamber\",\"lunch queen\",\"ataru\",\"papadol!\",\"xuan-yuan sword: scar of sky\",\"mikeneko holmes no suiri\",\"w no higeki\",\"ti amo chocolate\",\"witness insecurity\",\"yellow boots\",\"akuryo byoutou\",\"basketball\",\"i am sorry, i love you\",\"soot sanaeha\",\"roy marn\",\"hormones\",\"nobunaga concerto\",\"the sixth sense\",\"the sixth sense 2\",\"oum ruk\",\"petero no souretsu\",\"raeng ngao\",\"majurat see nam pueng\",\"triple\",\"a different kind of pretty man\",\"the cage of love\",\"wayupak montra\",\"pathapee leh ruk\",\"khun chai pawornruj\",\"tawan tor saeng\",\"manee yard fah\",\"raeng pradtanaha\",\"seito shokun!\",\"tawipob\",\"game rai game rak\",\"torranee ni nee krai krong\",\"sawan biang\",\"duang jai akkanee\",\"pin anong\",\"thara himalai\",\"panyachon kon krua\",\"roy lae sanae luang\",\"cubic\",\"ruk sutrit\",\"jao sao rim tang\",\"dok ruk rim tang\",\"kha khong khon\",\"roy fun tawan duerd\",\"summer nude\",\"legend of mi yue\",\"lah ruk sut kob fah\",\"boysitter\",\"ab ruk online\",\"destined to love you\",\"shinya shokudo 3\",\"jigoku sensei nube\",\"subete ga f ni naru\",\"mare\",\"kamen rider drive\",\"legendary witch\",\"the best future\",\"be arrogant\",\"tarm ruk keun jai\",\"love's relativity\",\"ouroboros\",\"dr. champ\",\"aoi honoo\",\"st aka to shiro no sousa file\",\"ban shu legend\",\"roy ruk hak liam tawan\",\"the spring day of my life\",\"kinkyori renai: season zero\",\"the man who can't get married\",\"gto: remake season 2\",\"suikyuu yankees\",\"love cheque charge\",\"dao kiang duen\",\"death notify: the darker\",\"luead mungkorn: suea\",\"seirei no moribito\",\"kiina\",\"valid love\",\"wanida\",\"kindaichi shonen no jikenbo n\",\"line walker\",\"love family\",\"one warm word\",\"dokushin kizoku\",\"melody of love\",\"infinite power\",\"let's eat\",\"cruel love\",\"deja vu\",\"cuo dian yuan yang\",\"please remember, princess\",\"in a good way\",\"never give up, dodo\",\"kinkyu torishirabeshitsu\",\"shitsuren chocolatier\",\"dr. dmat\",\"shikaku tantei higurashi tabito\",\"ando lloyd - a.i. knows love ?\",\"kanojo wa uso wo aishisugiteru - sidestory\",\"potato star 2013qr3\",\"her legend\",\"yamada-kun to 7-nin no majo\",\"tokyo bandwagon\",\"ogon no buta\",\"hanako to anne\",\"medical top team\",\"legend of hua mulan\",\"give love away\",\"yorozu uranaidokoro onmyoya e yokoso\",\"gochisousan\",\"passionate love\",\"unemployed romance\",\"kurokouchi\",\"the virtuous queen of han\",\"can we love?\",\"princess of lanling king\",\"boku no ita jikan\",\"gloria\",\"golden cross\",\"rock 'n' road\",\"wakamono tachi\",\"shinigami-kun\",\"first class\",\"roosevelt game\",\"a new leaf\",\"angel's revenge\",\"pleasantly surprised\",\"the way we were\",\"flower grandpa investigation unit\",\"yoo na's street\",\"legend of fragrance\",\"apple in your eye\",\"loving you a thousand times\",\"meitantei no okite\",\"alice no toge\",\"another parting\",\"triangle\",\"naeil's cantabile\",\"holyland\",\"her lovely heels\",\"shibatora\",\"lady & liar\",\"ressha sentai toqger\",\"gunshi kanbei\",\"shark\",\"nazo no tenkousei\",\"iryu team medical dragon  4\",\"ashita, mama ga inai\",\"lost days\",\"shinya shokudo 2\",\"kamen rider fourze\",\"kamen rider kabuto\",\"atsu hime\",\"that love comes\",\"prince's first love\",\"get karl! oh soo jung\",\"sunny happiness\",\"around 40\",\"beyond the realm of conscience\",\"beautiful life\",\"successful story of a bright girl\",\"90 days of love\",\"love story in harvard\",\"jejoongwon\",\"lavender\",\"ja myung go\",\"ima ai ni yukimasu\",\"love buffet\",\"gourmet\",\"muscle girl\",\"green rose\",\"iryu team medical dragon 2\",\"iryu team medical dragon 3\",\"nine tailed fox\",\"shinya shokudo\",\"if in love like them\",\"gloomy salad days\",\"kimcheed radish cubes\",\"swallow the sun\",\"zhong wu yan\",\"star's lover\",\"soul\",\"deka wanko\",\"secret investigation record\",\"gou - himetachi no sengoku\",\"daisuki!!\",\"shiawase ni narou yo\",\"nankyoku tairiku\",\"damo\",\"lovers\",\"save the last dance for me\",\"golden bride\",\"couple or trouble\",\"crazy for you\",\"dal ja's spring\",\"don't hesitate\",\"what's up, fox?\",\"family's honor\",\"glass slippers\",\"hanoi bride\",\"marrying a millionaire\",\"my sweet seoul\",\"new heart\",\"once upon a time in saengchori\",\"my love patzzi\",\"control - hanzai shinri sousa\",\"rosy business\",\"assorted gems\",\"let's go watch meteor shower\",\"let's watch the meteor shower again\",\"evasive inquiry agency\",\"super rookie\",\"gegege no nyobo\",\"odoru daisousasen\",\"wish to see you again\",\"haken no hinkaku\",\"d.i.e.\",\"exhibition of fireworks\",\"on air\",\"lovers in prague\",\"which star are you from?\",\"thorn birds\",\"kisarazu cat's eye\",\"bad couple\",\"q.e.d.\",\"sekai no chuushin de, ai wo sakebu\",\"himitsu no hanazono\",\"trick 2\",\"trick 3\",\"strawberry on the shortcake\",\"i really really like you\",\"bartender\",\"tamra, the island\",\"haikei, chichiue-sama\",\"9 end 2 outs\",\"kekkon dekinai otoko\",\"long love letter\",\"mysterious incredible terminator\",\"chinese paladin\",\"queen of reversals\",\"puzzle\",\"aishiteru\",\"obstetrics and gynecology doctors\",\"gachi baka!\",\"attack no.1\",\"good luck!!\",\"misaki number one!!\",\"engine\",\"clone baby\",\"ace wo nerae!\",\"east of eden\",\"love or bread\",\"que sera, sera\",\"osen\",\"ko one\",\"summer x summer\",\"zeni geba\",\"the queen's classroom\",\"hanayome to papa\",\"yasha\",\"unfair\",\"majo no jouken\",\"queen of housewives\",\"boku dake no madonna\",\"great inheritance\",\"princess princess d\",\"kamisama mou sukoshi dake\",\"manhattan love story\",\"atami no sousakan\",\"shokojo seira\",\"p.p.o.i.\",\"home drama\",\"byakuyako\",\"sp\",\"my lucky star\",\"life\",\"summer snow\",\"stand up!!\",\"yamada taro monogatari\",\"gakko ja oshierarenai!\",\"anna-san no omame\",\"brother beat\",\"tiger & dragon\",\"taiyo to umi no kyoshitsu\",\"k.o.3an guo\",\"bad family\",\"koshonin\",\"ryomaden\",\"flames of desire\",\"cain and abel\",\"freeze\",\"the legend of brown sugar chivalries\",\"only you\",\"over the rainbow\",\"phoenix\",\"zenkai girl\",\"garo\",\"100 scene no koi\",\"kamen rider decade\",\"material queen\",\"la robe de mariage des cieux\",\"hanawake no yon shimai\",\"journey to the west\",\"yuusha yoshihiko to maou no shiro\",\"birdie buddy\",\"soredemo, ikite yuku\",\"the mysteries of love\",\"meitantei conan\",\"hooray for love\",\"vacation\",\"dr. koto shinryojo\",\"100% senorita\",\"sweet relationship\",\"karei naru ichizoku\",\"absolute boyfriend\",\"mop girl\",\"little mom scandal\",\"can't buy me love\",\"my mvp valentine\",\"hana kimi remake\",\"puzzle\",\"unstoppable high kick\",\"ikemen desu ne\",\"deep love ~ ayu's story ~\",\"kindaichi shonen no jikenbo\",\"kindaichi shonen no jikenbo 2\",\"kindaichi shonen no jikenbo 3\",\"alone in love\",\"sweet room\",\"hi wa mata noboru\",\"the duke of mount deer\",\"nazotoki wa dinner no ato de\",\"high kick! the revenge of the short legged\",\"the empress\",\"runaway - aisuru kimi no tame ni\",\"style\",\"nobuta wo produce\",\"carnation\",\"mitsu no aji\",\"beautiful love: if you're here\",\"shiroi haru\",\"the young warriors\",\"kaito royale\",\"doctors saikyou no meii\",\"new my fair princess\",\"sengyou shufu tantei ~watashi wa shadow\",\"yokai ningen bem\",\"scarlet heart\",\"vampire prosecutor\",\"the heaven sword and dragon saber\",\"shokuzai\",\"watashi ga renai dekinai riyuu\",\"ring ring bell\",\"boku to star no 99 nichi\",\"little girl k\",\"kingyo club\",\"introduction of the princess\",\"kamen rider ooo\",\"the fierce wife\",\"hikari to tomo ni... ~ jiheishou-ji wo kakaete ~\",\"jiu\",\"the little fairy\",\"arakawa under the bridge\",\"antique\",\"forensic heroes\",\"powerful opponents\",\"marumo no okite\",\"ohisama\",\"umareru.\",\"inu wo kau to iu koto\",\"shima shima\",\"jin 2\",\"jotei\",\"asuko march!\",\"hotelier\",\"mukodono!\",\"long vacation\",\"love generation\",\"how to meet a perfect neighbor\",\"jungle fish 2\",\"flowers for my life\",\"capital scandal\",\"boku to kanojo no xxx\",\"we are dating now\",\"summer scent\",\"resurrection\",\"robber\",\"sad love story\",\"single dad in love\",\"smile, again\",\"soulmate\",\"sweet spy\",\"good life - arigatou, papa. sayonara\",\"tazza\",\"what happened in bali\",\"temptation of wife\",\"wedding\",\"when it's at night\",\"women of the sun\",\"manny\",\"at dolphin bay\",\"my rosy life\",\"the rose\",\"oh! my girl!!\",\"h2: kimi to ita hibi\",\"poseidon\",\"king gwanggaeto the great\",\"jungle fish\",\"majisuka gakuen 2\",\"ice world\",\"tokyo friends\",\"papa to musume no nanokakan\",\"romance\",\"a sleeping forest\",\"snow white\",\"princess pearl\",\"loveholic\",\"what's up?\",\"woody sambo\",\"ying ye 3+1\",\"the magicians of love\",\"tadashii ouji no tsukurikata\",\"romance town\",\"heart of greed\",\"moonlight resonance\",\"bump off lover\",\"tsubasa no oreta tenshitachi\",\"sandglass\",\"beach boys\",\"sunshine angel\",\"drunken to love you\",\"change\",\"ikebukuro west gate park\",\"my bratty princess\",\"the classic of mountains and seas\",\"the king's daughter, soo baek hyang\",\"romance blue\",\"legend of nine tails fox\",\"hakuouki ssl: sweet school life\",\"shitamachi rocket\",\"glamorous temptation\",\"yuusha yoshihiko to michibikareshi shichinin\",\"mr. bodyguard\",\"kounodori\",\"yami no bansosha\",\"siren\",\"i'm home\",\"dos deka\",\"immutable law of first love\",\"q series: love of sandstorm\",\"lovey dovey\",\"better man\",\"prison school\",\"love is more than a word\",\"yume wo ataeru\",\"under the black moonlight\",\"jang young shil\",\"sweet 18\",\"alchemist\",\"intouchable\",\"i wanna be sup'tar\",\"kamen rider ghost\",\"me and mr. x season 3: goodbye mr. x\",\"abarenbo mama\",\"rang tawan\",\"corner with love\",\"okashi no ie\",\"on the way to the airport\",\"love detective sherlock k\",\"taste of love\",\"fuben na benriya\",\"nightmare teacher\",\"neung nai suang\",\"chinese hero zhao zi long\",\"v-focus\",\"ngao jai\",\"pitsawat\",\"yes! mr. fashion\",\"rescue\",\"hiyokko\",\"fake couple\",\"tomodachi game\",\"the last cop 2\",\"delicious destiny\",\"seishun tantei haruya: otona no aku wo yurusanai!\",\"troubleman\",\"hokuto\",\"the advisors alliance\",\"start love\",\"game maya\",\"shinzanmono\",\"onna joushu naotora\",\"yokoso wagaya e\",\"underwear\",\"aogeba toutoshi\",\"samurai sensei\",\"love cuisine\",\"because it's the first time\",\"i am your teacher\",\"art in love\",\"legal mavericks\",\"like love\",\"reinoryokusha odagiri kyoko no uso\",\"game payabaht\",\"jumping girl\",\"a daughter just like you\",\"three dads one mom\",\"girl of 0am\",\"nang rai tee rak\",\"piang chai khon nee mai chai poo wised\",\"sore wa, totsuzen, arashi no you ni..\",\"roy leh sanae rai\",\"itazura na kiss\",\"mother game\",\"mia tuean\",\"mai sin rai fai sawart\",\"woman with a suitcase\",\"orange days\",\"liquid - oni no sake, kiseki no kura\",\"ishitachi no renai jijo\",\"koe koi\",\"the man in the mask\",\"marry me, or not?\",\"momo salon\",\"yasuko to kenji\",\"my best ex-boyfriend\",\"asa ga kita\",\"swimming battle\",\"when i see you again\",\"awl\",\"unmei ni, nita koi\",\"evil minds\",\"kimi wa petto\",\"the girl in tassel earring\",\"wu xin: the monster killer\",\"royal sister returns\",\"hello! miss\",\"momin's room\",\"soshite, dare mo inaku natta\",\"my vampire boyfriend\",\"ishi no mayu\",\"blow breeze\",\"37.5\\u00b0c no namida\",\"oh my geum bi\",\"cinderella formula\",\"on ijou hanzai sousakan todo hinako\",\"omotesando koukou gasshoubu\",\"the rise of phoenixes\",\"the gentlemen of wolgyesu tailor shop\",\"the journey\",\"love of aurora\",\"seisei suruhodo, aishiteru\",\"love relationship\",\"age harassment\",\"tamiou\",\"a game about love\",\"about love\",\"late night restaurant\",\"beautiful secret\",\"ode to joy\",\"higanbana: keishicho sosa nana ka\",\"my little baby\",\"new tales of gisaeng\",\"senior secret love: bake me love\",\"twinkle twinkle\",\"crime squad\",\"singles villa\",\"room alone\",\"tribes and empires: storm of prophecy\",\"one sunny day\",\"revive\",\"iq246: kareinaru jikenbo\",\"kageri yuku natsu\",\"my heart twinkle twinkle\",\"swap\",\"demon girl\",\"shiratori reiko de gozaimasu!\",\"proud of love\",\"men with sword\",\"doll house\",\"kenja no ai\",\"ms. temper & nam jung gi\",\"royal family\",\"padiwaradda\",\"gay ok bangkok\",\"rang mai hua jai derm\",\"jimi ni sugoi! koetsu garu kono etsuko\",\"puer tur\",\"bara no nai hanaya\",\"splendid politics\",\"hello mr. right\",\"candle in the tomb\",\"best get going\",\"99.9: keiji senmon bengoshi\",\"invincible lee pyung kang\",\"omukae desu\",\"dramaworld\",\"our house\",\"love song\",\"yutori desu ga nani ka\",\"momo love\",\"it's not that i can't marry, but i don't want to\",\"fukuyado honpo - kyoto love story\",\"ra raerng fai\",\"what's up with these kids!?\",\"diary of tootsies\",\"thirteen terrors\",\"suna no tou - shiri sugita rinjin\",\"far away love\",\"suishou no kodou\",\"chef: mitsuboshi no kyushoku\",\"nagareboshi\",\"the family is coming\",\"gasohug\",\"legend of the dragon pearl: the indistinguishable road\",\"part time\",\"cat street\",\"love @ seventeen\",\"juhan shuttai!\",\"muean khon la fark fah\",\"seonam girls high school investigators\",\"ie uru onna\",\"the mystic nine\",\"longing for spring\",\"i am legend\",\"high&low\",\"oniichan, gacha\",\"as long as you love me\",\"bokura no yuuki\",\"banana actually\",\"detective alice\",\"cheewit puer kah huajai puer tur\",\"till death tear us apart\",\"majisuka gakuen 4\",\"fragile\",\"heard it through the grapevine\",\"itoshi kimi e\",\"the cupids series: kamathep ork suek\",\"the cupids series: kamathep online\",\"the cupids series: kammathep hunsa\",\"the cupids series: kamathep prab marn\",\"sapai jao\",\"divorce lawyer in love\",\"the disguiser\",\"totto tv\",\"the fire series 2: talay fai\",\"rakuen\",\"women at a game company\",\"house of bluebird\",\"sweet temptation\",\"otona joshi\",\"unkind women\",\"transit girls\",\"spring waltz\",\"still loving you\",\"oh my general\",\"morrasoom sawat\",\"go princess, go!\",\"rush to the dead summer\",\"plerng naree\",\"happy home\",\"mars - tada, kimi wo aishiteru\",\"boku no yabai tsuma\",\"ghost writer\",\"sparrow\",\"sumika sumire\",\"love that makes you cry\",\"aquarium girl\",\"tenno no ryoriban\",\"dame na watashi ni koishite kudasai\",\"second to last love\",\"the legend of zu\",\"bong soon: a cyborg in love\",\"a fist within four walls\",\"majo saiban\",\"konkatsu!\",\"kiseki no hito\",\"shinya shokudo - tokyo stories\",\"chronicle of life\",\"views of love: grey rainbow\",\"a life\",\"perfect couple\",\"the bridal mask\",\"the game: towards zero\",\"thumping spike 2\",\"the virus\",\"plus nine boys\",\"the sound of your heart: reboot season 2\",\"prince of wolf\",\"sword dynasty\",\"you're my sky\",\"queen for seven days\",\"the imperial doctress\",\"hamura akira - sekai de mottomo fuunna tantei\",\"surgeon bong dal hee\",\"bishoku tantei akechi goro\",\"chef hua\",\"delayed justice\",\"sweet first love\",\"symphony's romance\",\"love at first hate\",\"lovers in paris\",\"boyband love\",\"kono koi wa tsumi na no ka!?\",\"high class\",\"love area part 1\",\"i will never let you go\",\"the scholar who walks the night\",\"kissable lips\",\"my fair lady\",\"wish you: your melody from my heart\",\"the world that they live in\",\"road number one\",\"friends\",\"beautiful days\",\"just dance\",\"all about eve\",\"memory\",\"vampire prosecutor 2\",\"seventeen\",\"the suspicious housekeeper\",\"the best ending\",\"big thing\",\"everything and nothing\",\"luv pub\",\"my princess\",\"dr. frost\",\"short\",\"ma boy\",\"woman of dignity\",\"the legend of dugu\",\"love in memory\",\"goddess of fire\",\"fox in the screen\",\"return of the condor heroes\",\"cheo yong\",\"the flatterer\",\"leh nangfah\",\"comrades\",\"where the lost ones go\",\"buzzer beat\",\"switched\",\"schemes of a beauty\",\"kiss goblin\",\"young blood\",\"i cannot hug you season 2\",\"u-prince: the playful comm-arts\",\"team bulldog: off-duty investigation\",\"the great show\",\"my bargain queen\",\"my lovely girl\",\"memory lost\",\"galileo\",\"cold case: shinjitsu no tobira\",\"more than blue: the series\",\"level up\",\"back to 1989\",\"lost romance\",\"hi flower\",\"my neighbour can't sleep\",\"show window: the queen's house\",\"item\",\"watashitachi wa douka shiteiru\",\"u-prince: the extroverted humanist\",\"different dreams\",\"stand by me\",\"my extraordinary\",\"plot love\",\"love a lifetime\",\"cry me a river of stars\",\"2gether\",\"kei\\u00d7yaku: abunai aibou\",\"prince's prince\",\"my holo love\",\"mob psycho 100\",\"angel beside me\",\"nobleman ryu's wedding\",\"the boy next door\",\"obsessed with heart\",\"aku no hado\",\"ossan's love: in the sky\",\"decoded\",\"my girlfriend's boyfriend\",\"uta no onii-san\",\"sweden laundry\",\"kasa wo motanai aritachi wa\",\"career\",\"life is beautiful\",\"dark blue and moonlight\",\"siew sum noi\",\"mairunovich\",\"otenki onee-san\",\"yankee-kun to megane-chan\",\"g-senjou no anata to watashi\",\"bitter blood\",\"kamen teacher\",\"takane to hana\",\"wang's family\",\"dr. brain\",\"love better than immortality\",\"super star academy\",\"princess silver\",\"just one bite\",\"heart of loyalty\",\"twenty again\",\"gakkou no kaidan\",\"en of love: tossara\",\"bring it on, ghost\",\"the justice\",\"love contract\",\"leh ratree\",\"love cells\",\"the snow queen\",\"koishite akuma\",\"one night steal\",\"tree with deep roots\",\"attention, love!\",\"a thousand goodnights\",\"bulgasal: immortal souls\",\"dear my room\",\"great men academy\",\"ugly duckling series: don't\",\"it's okay, that's friendship\",\"growing season\",\"my country: the new age\",\"she is 200 years old\",\"welcome 2 life\",\"arang and the magistrate\",\"the mermaid prince: the beginning\",\"perfect and casual\",\"novoland: the castle in the sky\",\"my beautiful bride\",\"my husband oh jak doo\",\"perfume\",\"make a wish\",\"tokyo tarareba musume\",\"one fine week\",\"seo yeong, my daughter\",\"goodbye dear wife\",\"mae krua kon mai\",\"together with me\",\"iris\",\"liar game 2\",\"hana yori dango 2\",\"moment at eighteen\",\"smile, you\",\"sparkle love\",\"dark hole\",\"refresh man\",\"prosecutor princess\",\"be loved in house: i do\",\"the good detective\",\"mr honesty\",\"bad guys: city of evil\",\"the ingenuity of the house husband\",\"nitiman\",\"down with love\",\"a love to kill\",\"like in the movies\",\"honey, don't run away\",\"love of summer night\",\"only side by side with you\",\"dine with love\",\"stealth walker\",\"i hear your voice\",\"last minute romance\",\"girl from nowhere\",\"ko one re-act\",\"u-prince: the gentle vet\",\"wild chives and soy bean soup: 12 years reunion\",\"angel 'n' devil\",\"wait, my youth\",\"can we get married?\",\"peach of time\",\"leverage\",\"the eight\",\"the lion's secret\",\"take my brother away\",\"a journey to meet love\",\"mirror: a tale of twin cities\",\"protect the boss\",\"oh my boss\",\"before we get married\",\"hello, the sharpshooter\",\"the cursed\",\"sweet dreams\",\"my fellow citizens!\",\"mistress\",\"feel good to die\",\"meteor garden ii\",\"reborn\",\"singing all along\",\"the heavenly sword and dragon sabre\",\"nothing gold can stay\",\"emperors and me\",\"operation: special warfare\",\"the listener\",\"the wind blows\",\"the journey across the night\",\"my girlfriend\",\"my roommate is a detective\",\"clean with passion for now\",\"god's gift: 14 days\",\"touching you\",\"doctor john\",\"u-prince:  the handsome cowboy\",\"the victims' game\",\"i hate you juliet\",\"hana kimi\",\"kanojo wa kirei datta\",\"to love\",\"storm eye\",\"the empress of china\",\"hana yori dango\",\"kareshi wo loan de kaimashita\",\"my heart\",\"when i was the most beautiful\",\"s.c.i\",\"demi gods & semi devils\",\"suits\",\"the eternal love\",\"cheat on me, if you can\",\"how to be thirty\",\"romanced\",\"saboriman kantarou\",\"miss truth\",\"who is the murderer\",\"medical examiner dr. qin\",\"les interpr\\u00e8tes\",\"quaranthings\",\"my bromance 2: 5 years later\",\"love playlist\",\"my id is gangnam beauty\",\"my engineer\",\"padam padam\",\"flower crew: joseon marriage agency\",\"she would never know\",\"senior secret love: puppy honey\",\"go into your heart\",\"flower boy ramen shop\",\"capture lover\",\"night watchman's journal\",\"rich man, poor woman\",\"skate into love\",\"when a man's in love\",\"iljimae\",\"ugly duckling series: boy's paradise\",\"the nokdu flower\",\"ghost doctor\",\"friend zone 2: dangerous area\",\"mood indigo\",\"naked fireman\",\"kinou nani tabeta?\",\"le jun kai\",\"buang hong\",\"royal feast\",\"sisters-in-law\",\"zyuden sentai kyoryuger\",\"hungry!\",\"kamen rider ex-aid\",\"see you in time\",\"persevere, goo hae ra\",\"kamen rider w\",\"love and secret\",\"kamen rider gaim\",\"our gap soon\",\"muchuu-sa, kimi ni\",\"boku dake ga 17-sai no sekai de\",\"two weeks\",\"girlfriend\",\"tomorrow with you\",\"true beauty\",\"my dear guardian\",\"the centimeter of love\",\"king maker: the change of destiny\",\"love of thousand years\",\"princess hours\",\"the school nurse files\",\"secret boutique\",\"history3: trapped\",\"time between dog and wolf\",\"the judgement\",\"police university\",\"long time no see\",\"love in time\",\"golden empire\",\"the master of revenge\",\"d-day\",\"the moon brightens for you\",\"hush\",\"doctor detective\",\"hyena\",\"the chang'an youth\",\"so wayree\",\"kimi wa petto\",\"shadow beauty\",\"best mistake season 2\",\"pretty li hui zhen\",\"song of youth\",\"love scene number\",\"love after school\",\"please don't date him\",\"jiu liu overlord\",\"the vineyard man\",\"the painter of the wind\",\"twelve men in a year\",\"emperor of the sea\",\"the great seer\",\"the best of you in my mind\",\"gye baek\",\"my husband got a family\",\"the great king, sejong\",\"thousand years of love\",\"city hall\",\"gumiho: tale of the fox's child\",\"don't say no\",\"7 project\",\"sweet tai chi\",\"v.i.p\",\"sweet stranger and me\",\"kill it\",\"moon river\",\"alice in wonder city\",\"love frequency 37.2\",\"2 moons 2\",\"love around\",\"maiden holmes\",\"truth\",\"chugakusei nikki\",\"suki na hito ga iru koto\",\"moebius: the veil\",\"lost love in times\",\"legend of two sisters in the chaos\",\"swing to the sky\",\"nothing but you\",\"gokushufudo\",\"mr. nietzsche in the convenience store\",\"trick\",\"super rich\",\"tonari no kazoku wa aoku mieru\",\"final cut\",\"rinsho hanzai gakusha himura hideo no suiri\",\"yuusha yoshihiko to akuryo no kagi\",\"rebound\",\"kono koi atatamemasu ka\",\"saikou no rikon\",\"ramen daisuki koizumi-san\",\"joshi-teki seikatsu\",\"okitegami kyoko no biboroku\",\"scams\",\"kagi no kakatta heya\",\"yuube wa otanoshimi deshita ne\",\"kemono ni narenai watashitachi\",\"yong pal\",\"be love\",\"kingyo tsuma\",\"mrs. cop\",\"black dog\",\"memory of encaustic tile\",\"the taoism grandmaster\",\"pumpkin time\",\"addicted heroin\",\"the queen of sop\",\"big man\",\"star in my heart\",\"love keeps going\",\"together\",\"you are the best!\",\"oh! my lady\",\"i wanna hear your song\",\"a love so beautiful\",\"vampire flower\",\"girl next room: motorbike baby\",\"my mowgli boy\",\"oh! my sweet liar!\",\"my roommate is a gumiho\",\"payakorn sorn ruk\",\"baker boys\",\"midsummer is full of love\",\"the penthouse: war in life\",\"the moment since\",\"goedam\",\"about is love\",\"su yu\",\"twenty your life on\",\"suddenly this summer\",\"monstar\",\"partners for justice season 2\",\"the time we were not in love\",\"hospital playlist season 2\",\"swords of legends\",\"black knight: the man who guards me\",\"marriage, not dating\",\"the legend\",\"shining for one thing\",\"lawyers of korea\",\"arsenal military academy\",\"death note new generation\",\"cinderella's sister\",\"5-ji kara 9-ji made\",\"love is deep\",\"100% era\",\"the king in love\",\"longing heart\",\"marry me now\",\"where your eyes linger\",\"must you go?\",\"check out the event\",\"ancient detective\",\"reply 1997\",\"city of streamer\",\"a gift to the people you hate\",\"super daddy yeol\",\"spec: birth\",\"a murderous affair in horizon tower\",\"lucky's first love\",\"grid\",\"he she it\",\"cheat\",\"the legend of the condor heroes\",\"the fugitive: plan b\",\"cheat my boss\",\"summer guys\",\"boss & me\",\"sisyphus: the myth\",\"love is science?\",\"general's lady\",\"bad papa\",\"tofu personified\",\"let me off the earth\",\"tsuki no koibito\",\"your sensibility my destiny\",\"imaginary cat\",\"rakshasa street\",\"minami-kun no koibito - my little lover\",\"the demon master\",\"3b no koibito\",\"your highness\",\"scripting your destiny\",\"real:time:love\",\"golden garden\",\"best mistake\",\"the romance of hua rong\",\"beautiful time with you\",\"lily fever\",\"rosy lovers\",\"divorce lawyers\",\"rich family's son\",\"the autumn ballad\",\"glorious day\",\"yuttakarn prab nang marn\",\"remember my boy\",\"weaving a tale of love\",\"if voice has memory\",\"sketch\",\"ruyi's royal love in the palace\",\"never twice\",\"smoking\",\"king is not easy\",\"court lady\",\"the princess wei young\",\"missing 9\",\"parallel love\",\"part-time idol\",\"long for you\",\"cute programmer\",\"the journey of flower\",\"praomook\",\"legend of yun xi\",\"renascence\",\"life: senjou no bokura\",\"2 brothers\",\"minami-kun no koibito\",\"so sanaeha\",\"i hate you, i love you\",\"qing qing zi jin\",\"the eccentric daughter-in-law\",\"close friend\",\"heartbeat broadcasting accident\",\"rookie historian goo hae ryung\",\"spy\",\"the third charm\",\"love like white jade\",\"radiant office\",\"the road: the tragedy of one\",\"the goddess of revenge\",\"way back into love\",\"my runway\",\"my secret hotel\",\"stay with me\",\"mr. back\",\"temptation of an angel\",\"sennyuu tantei tokage\",\"kazoku no katachi\",\"time spiral\",\"boss\",\"miss pilot\",\"good-bye, mr. black\",\"the king's face\",\"homemade love story\",\"they kiss again\",\"algernon ni hanataba wo\",\"my love eun dong\",\"diamond lover (special cut)\",\"adventurous romance\",\"tempted\",\"kiss scene in yeonnamdong\",\"goong s\",\"luoyang\",\"miss gu who is silent\",\"summer again\",\"warrior baek dong soo\",\"panthakan rak\",\"a thousand kisses\",\"peng\",\"something in my room\",\"the crossing hero\",\"love is in the air\",\"modern farmer\",\"thirty-nine\",\"mr. x and i season 2\",\"rolling love\",\"the x-family\",\"love & life & lie\",\"the leaked\",\"long khong\",\"master devil do not kiss me\",\"together with me: the next chapter\",\"detective l\",\"missing korea\",\"best chicken\",\"border\",\"starman - this star's love\",\"school 2021\",\"familiar wife\",\"local hero\",\"about time\",\"siege in fog\",\"circle\",\"nabi, my stepdarling\",\"mountains and ocean\",\"shanai marriage honey\",\"eternal love of dream\",\"walk into your memory\",\"my unfamiliar family\",\"lovely swords girl\",\"detention\",\"single & ready to mingle\",\"a girl like me\",\"miss ripley\",\"positive physique\",\"when time stopped\",\"amore\",\"evening caf\\u00e9\",\"from survivor to healer\",\"well-intended love\",\"lie to me\",\"the fox's summer season 2\",\"love (ft. marriage and divorce)\",\"nine: nine times time travel\",\"someone like you\",\"glory jane\",\"in time with you\",\"lucifer\",\"the royal gambler\",\"rinko-san wa shite mitai\",\"nail shop paris\",\"i am the years you are the stars\",\"night light\",\"untouchable\",\"can you hear my heart\",\"unrequited love\",\"gank your heart\",\"switch girl!!\",\"revolutionary love\",\"my husband in law\",\"fall in love with me\",\"the silent sea\",\"stop! miss hua\",\"miss the dragon\",\"well-intended love season 2\",\"introverted boss\",\"be my cat\",\"mysterious love\",\"untouchable lovers\",\"our glamorous time\",\"forecasting love and weather\",\"giant\",\"private lives\",\"live up to your name\",\"love is phantom\",\"the world of my 17\",\"the sweet girl\",\"a little thing called first love\",\"the temperature of language: our nineteen\",\"switch: change the world\",\"summer love\",\"the fairy fox\",\"l.u.c.a.: the beginning\",\"witch's love\",\"undercover\",\"one well-raised daughter\",\"one page love\",\"love & wish\",\"reset life\",\"the secret life of my secretary\",\"mary stayed out all night\",\"the ambiguous focus\",\"tong: memories\",\"a river runs through it\",\"pasta\",\"orange marmalade\",\"mimi\",\"mask\",\"was it love?\",\"wild romance\",\"ice fantasy destiny\",\"your house helper\",\"second love\",\"advance bravely\",\"love with flaws\",\"18 vs. 29\",\"a thousand days' promise\",\"insect detective\",\"tonhon chonlatee\",\"the yearbook\",\"reminders\",\"the one and only\",\"heading to the ground\",\"good casting\",\"hello, me!\",\"noble, my love\",\"where stars land\",\"hidden identity\",\"all in\",\"please find her\",\"hana nochi hare: hanadan next season\",\"parfait tic\",\"moonshine\",\"jun jiu ling\",\"goong\",\"the undateables\",\"just an encore\",\"warm and cozy\",\"nee sensei, shiranai no?\",\"dear mayang street\",\"my mate match\",\"gokusen 3\",\"judge vs. judge\",\"discipline\",\"twenty years old\",\"gap dong\",\"re:mind\",\"born again\",\"andante\",\"my classmate from far far away\",\"falling in love with a rival\",\"wonderful days\",\"i hear you\",\"boy hood\",\"you are so sweet\",\"biscuit teacher and star candy\",\"marriage contract\",\"extraordinary you\",\"7th grade civil servant\",\"my amazing boyfriend\",\"time slip dr. jin\",\"i am your king 2\",\"38 task force\",\"cinderella chef\",\"misty\",\"gangnam scandal\",\"you're my destiny\",\"u-prince: the lovely geologist\",\"dragon day, you're dead\",\"angry mom\",\"history1: stay away from me\",\"queen of the ring\",\"failing in love\",\"doubtful victory\",\"shining inheritance\",\"unforgettable love\",\"delicious love\",\"my only love song\",\"personal taste\",\"crocodile and plover bird\",\"well dominated love\",\"magic cell phone\",\"marry me!\",\"hana ni keda mono\",\"mirai nikki\",\"forget you remember love\",\"take care of us, captain\",\"coffee, do me a favor\",\"so not worth it\",\"baby-faced beauty\",\"ito-kun a to e\",\"sweet, savage family\",\"'cause you're my boy\",\"attic cat\",\"don quixote\",\"kyou wa kaisha yasumimasu\",\"dear sister\",\"mr. brain\",\"the ghost detective\",\"you're beautiful\",\"touch\",\"k-pop - the ultimate audition\",\"the naked director\",\"the secret of  love\",\"lovely writer\",\"triad princess\",\"stairway to stardom\",\"hapimari: happy marriage!?\",\"kim soo ro\",\"gen y\",\"my girlfriend is an alien\",\"top management\",\"ghost\",\"heartstrings\",\"tracer\",\"angel's last mission: love\",\"hard nut!\",\"age of legends\",\"lover or stranger\",\"mr. swimmer\",\"the fallen leaf\",\"moonshine and valentine\",\"fish upon the sky\",\"encounter\",\"when the devil calls your name\",\"mackerel run\",\"money flower\",\"behind your smile\",\"possessed\",\"pride\",\"love crossed\",\"meow, the secret boy\",\"legend of awakening\",\"i've fallen for you\",\"do you like brahms?\",\"the devil punisher\",\"ex-girlfriend club\",\"golden blood\",\"wanted\",\"the great shaman ga doo shim\",\"hyde, jekyll, me\",\"good time\",\"beautiful gong shim\",\"emergency couple\",\"behind cut\",\"bel ami\",\"miss hammurabi\",\"hello again!\",\"war of high school\",\"i'm sorry, i love you\",\"cinderella and the four knights\",\"a poem a day\",\"love in black hole\",\"the secret message\",\"my first first love\",\"five\",\"the slave hunters\",\"jugglers\",\"somehow 18\",\"to the beautiful you\",\"game sanaeha\",\"replay: the moment when it starts again\",\"dating in the kitchen\",\"yyy\",\"y-destiny\",\"a-teen\",\"remote\",\"temperature of love\",\"the spies who loved me\",\"use for my talent\",\"craving you\",\"i picked up a star on the road\",\"entourage\",\"me too, flower!\",\"psychopath diary\",\"marry him if you dare\",\"ho goo's love\",\"senior secret love: my lil boy\",\"the shipper\",\"witch's court\",\"guardians of the ancient oath\",\"the sweet blood\",\"oh my ladylord\",\"my first first love 2\",\"romance is a bonus book\",\"meeting you loving you\",\"hot girl\",\"her bucket list\",\"that man oh soo\",\"light on me\",\"dakara korosenakatta\",\"blood\",\"wok of love\",\"the flaming heart\",\"lucky romance\",\"kare ga boku ni koishita wake\",\"falling for do jeon\",\"radio romance\",\"justice\",\"will it snow for christmas?\",\"here to heart\",\"heart surgeons\",\"the psychologist\",\"professional single\",\"sweet combat\",\"tower of babel\",\"i cannot hug you\",\"28 faces of the moon\",\"bangkok g story\",\"so i married an anti-fan\",\"mad for each other\",\"bloody romance\",\"persona\",\"flavour it's yours\",\"shopping king louie\",\"abyss\",\"bride of the century\",\"fantastic\",\"strangers from hell\",\"alice\",\"hello mr. gu\",\"fall in love\",\"my girl\",\"ice fantasy\",\"squid game\",\"love unexpected\",\"lovestruck in the city\",\"love sick\",\"good morning call: our campus days\",\"meeting you\",\"why r u?\",\"the innocent man\",\"unexpected heroes\",\"coffee prince\",\"please love me\",\"my fuxxxxx romance\",\"my secret romance\",\"witch's romance\",\"doctors\",\"by stealth like you\",\"you are my destiny\",\"nevertheless,\",\"the producers\",\"17.3 about a sex\",\"panda and hedgehog\",\"angel eyes\",\"gokusen 2\",\"she is the one\",\"nine kilometers of love\",\"now, we are breaking up\",\"madame antoine\",\"because of you\",\"please come back, mister\",\"invisible life\",\"do do sol sol la la sol\",\"playful kiss\",\"surplus princess\",\"history1: my hero\",\"100 days my prince\",\"i love lee tae ri\",\"a man called god\",\"love at first taste\",\"shut up: flower boy band\",\"accidentally in love\",\"melting me softly\",\"love designer\",\"the bride of habaek\",\"the witch's diner\",\"9 seconds: eternal time\",\"coffee & vanilla\"],\"textfont\":{\"color\":\"#000000\"},\"textposition\":\"inside\",\"x\":[9.12349766929514,9.123364894814383,9.111735772207004,9.107353602045407,9.107037603333481,9.104253110842688,9.103875294336785,9.102555046377537,9.102223431410184,9.10143930224774],\"y\":[1,2,3,4,5,6,7,8,9,10],\"type\":\"bar\"}],                        {\"template\":{\"data\":{\"barpolar\":[{\"marker\":{\"line\":{\"color\":\"#E5ECF6\",\"width\":0.5},\"pattern\":{\"fillmode\":\"overlay\",\"size\":10,\"solidity\":0.2}},\"type\":\"barpolar\"}],\"bar\":[{\"error_x\":{\"color\":\"#2a3f5f\"},\"error_y\":{\"color\":\"#2a3f5f\"},\"marker\":{\"line\":{\"color\":\"#E5ECF6\",\"width\":0.5},\"pattern\":{\"fillmode\":\"overlay\",\"size\":10,\"solidity\":0.2}},\"type\":\"bar\"}],\"carpet\":[{\"aaxis\":{\"endlinecolor\":\"#2a3f5f\",\"gridcolor\":\"white\",\"linecolor\":\"white\",\"minorgridcolor\":\"white\",\"startlinecolor\":\"#2a3f5f\"},\"baxis\":{\"endlinecolor\":\"#2a3f5f\",\"gridcolor\":\"white\",\"linecolor\":\"white\",\"minorgridcolor\":\"white\",\"startlinecolor\":\"#2a3f5f\"},\"type\":\"carpet\"}],\"choropleth\":[{\"colorbar\":{\"outlinewidth\":0,\"ticks\":\"\"},\"type\":\"choropleth\"}],\"contourcarpet\":[{\"colorbar\":{\"outlinewidth\":0,\"ticks\":\"\"},\"type\":\"contourcarpet\"}],\"contour\":[{\"colorbar\":{\"outlinewidth\":0,\"ticks\":\"\"},\"colorscale\":[[0.0,\"#0d0887\"],[0.1111111111111111,\"#46039f\"],[0.2222222222222222,\"#7201a8\"],[0.3333333333333333,\"#9c179e\"],[0.4444444444444444,\"#bd3786\"],[0.5555555555555556,\"#d8576b\"],[0.6666666666666666,\"#ed7953\"],[0.7777777777777778,\"#fb9f3a\"],[0.8888888888888888,\"#fdca26\"],[1.0,\"#f0f921\"]],\"type\":\"contour\"}],\"heatmapgl\":[{\"colorbar\":{\"outlinewidth\":0,\"ticks\":\"\"},\"colorscale\":[[0.0,\"#0d0887\"],[0.1111111111111111,\"#46039f\"],[0.2222222222222222,\"#7201a8\"],[0.3333333333333333,\"#9c179e\"],[0.4444444444444444,\"#bd3786\"],[0.5555555555555556,\"#d8576b\"],[0.6666666666666666,\"#ed7953\"],[0.7777777777777778,\"#fb9f3a\"],[0.8888888888888888,\"#fdca26\"],[1.0,\"#f0f921\"]],\"type\":\"heatmapgl\"}],\"heatmap\":[{\"colorbar\":{\"outlinewidth\":0,\"ticks\":\"\"},\"colorscale\":[[0.0,\"#0d0887\"],[0.1111111111111111,\"#46039f\"],[0.2222222222222222,\"#7201a8\"],[0.3333333333333333,\"#9c179e\"],[0.4444444444444444,\"#bd3786\"],[0.5555555555555556,\"#d8576b\"],[0.6666666666666666,\"#ed7953\"],[0.7777777777777778,\"#fb9f3a\"],[0.8888888888888888,\"#fdca26\"],[1.0,\"#f0f921\"]],\"type\":\"heatmap\"}],\"histogram2dcontour\":[{\"colorbar\":{\"outlinewidth\":0,\"ticks\":\"\"},\"colorscale\":[[0.0,\"#0d0887\"],[0.1111111111111111,\"#46039f\"],[0.2222222222222222,\"#7201a8\"],[0.3333333333333333,\"#9c179e\"],[0.4444444444444444,\"#bd3786\"],[0.5555555555555556,\"#d8576b\"],[0.6666666666666666,\"#ed7953\"],[0.7777777777777778,\"#fb9f3a\"],[0.8888888888888888,\"#fdca26\"],[1.0,\"#f0f921\"]],\"type\":\"histogram2dcontour\"}],\"histogram2d\":[{\"colorbar\":{\"outlinewidth\":0,\"ticks\":\"\"},\"colorscale\":[[0.0,\"#0d0887\"],[0.1111111111111111,\"#46039f\"],[0.2222222222222222,\"#7201a8\"],[0.3333333333333333,\"#9c179e\"],[0.4444444444444444,\"#bd3786\"],[0.5555555555555556,\"#d8576b\"],[0.6666666666666666,\"#ed7953\"],[0.7777777777777778,\"#fb9f3a\"],[0.8888888888888888,\"#fdca26\"],[1.0,\"#f0f921\"]],\"type\":\"histogram2d\"}],\"histogram\":[{\"marker\":{\"pattern\":{\"fillmode\":\"overlay\",\"size\":10,\"solidity\":0.2}},\"type\":\"histogram\"}],\"mesh3d\":[{\"colorbar\":{\"outlinewidth\":0,\"ticks\":\"\"},\"type\":\"mesh3d\"}],\"parcoords\":[{\"line\":{\"colorbar\":{\"outlinewidth\":0,\"ticks\":\"\"}},\"type\":\"parcoords\"}],\"pie\":[{\"automargin\":true,\"type\":\"pie\"}],\"scatter3d\":[{\"line\":{\"colorbar\":{\"outlinewidth\":0,\"ticks\":\"\"}},\"marker\":{\"colorbar\":{\"outlinewidth\":0,\"ticks\":\"\"}},\"type\":\"scatter3d\"}],\"scattercarpet\":[{\"marker\":{\"colorbar\":{\"outlinewidth\":0,\"ticks\":\"\"}},\"type\":\"scattercarpet\"}],\"scattergeo\":[{\"marker\":{\"colorbar\":{\"outlinewidth\":0,\"ticks\":\"\"}},\"type\":\"scattergeo\"}],\"scattergl\":[{\"marker\":{\"colorbar\":{\"outlinewidth\":0,\"ticks\":\"\"}},\"type\":\"scattergl\"}],\"scattermapbox\":[{\"marker\":{\"colorbar\":{\"outlinewidth\":0,\"ticks\":\"\"}},\"type\":\"scattermapbox\"}],\"scatterpolargl\":[{\"marker\":{\"colorbar\":{\"outlinewidth\":0,\"ticks\":\"\"}},\"type\":\"scatterpolargl\"}],\"scatterpolar\":[{\"marker\":{\"colorbar\":{\"outlinewidth\":0,\"ticks\":\"\"}},\"type\":\"scatterpolar\"}],\"scatter\":[{\"fillpattern\":{\"fillmode\":\"overlay\",\"size\":10,\"solidity\":0.2},\"type\":\"scatter\"}],\"scatterternary\":[{\"marker\":{\"colorbar\":{\"outlinewidth\":0,\"ticks\":\"\"}},\"type\":\"scatterternary\"}],\"surface\":[{\"colorbar\":{\"outlinewidth\":0,\"ticks\":\"\"},\"colorscale\":[[0.0,\"#0d0887\"],[0.1111111111111111,\"#46039f\"],[0.2222222222222222,\"#7201a8\"],[0.3333333333333333,\"#9c179e\"],[0.4444444444444444,\"#bd3786\"],[0.5555555555555556,\"#d8576b\"],[0.6666666666666666,\"#ed7953\"],[0.7777777777777778,\"#fb9f3a\"],[0.8888888888888888,\"#fdca26\"],[1.0,\"#f0f921\"]],\"type\":\"surface\"}],\"table\":[{\"cells\":{\"fill\":{\"color\":\"#EBF0F8\"},\"line\":{\"color\":\"white\"}},\"header\":{\"fill\":{\"color\":\"#C8D4E3\"},\"line\":{\"color\":\"white\"}},\"type\":\"table\"}]},\"layout\":{\"annotationdefaults\":{\"arrowcolor\":\"#2a3f5f\",\"arrowhead\":0,\"arrowwidth\":1},\"autotypenumbers\":\"strict\",\"coloraxis\":{\"colorbar\":{\"outlinewidth\":0,\"ticks\":\"\"}},\"colorscale\":{\"diverging\":[[0,\"#8e0152\"],[0.1,\"#c51b7d\"],[0.2,\"#de77ae\"],[0.3,\"#f1b6da\"],[0.4,\"#fde0ef\"],[0.5,\"#f7f7f7\"],[0.6,\"#e6f5d0\"],[0.7,\"#b8e186\"],[0.8,\"#7fbc41\"],[0.9,\"#4d9221\"],[1,\"#276419\"]],\"sequential\":[[0.0,\"#0d0887\"],[0.1111111111111111,\"#46039f\"],[0.2222222222222222,\"#7201a8\"],[0.3333333333333333,\"#9c179e\"],[0.4444444444444444,\"#bd3786\"],[0.5555555555555556,\"#d8576b\"],[0.6666666666666666,\"#ed7953\"],[0.7777777777777778,\"#fb9f3a\"],[0.8888888888888888,\"#fdca26\"],[1.0,\"#f0f921\"]],\"sequentialminus\":[[0.0,\"#0d0887\"],[0.1111111111111111,\"#46039f\"],[0.2222222222222222,\"#7201a8\"],[0.3333333333333333,\"#9c179e\"],[0.4444444444444444,\"#bd3786\"],[0.5555555555555556,\"#d8576b\"],[0.6666666666666666,\"#ed7953\"],[0.7777777777777778,\"#fb9f3a\"],[0.8888888888888888,\"#fdca26\"],[1.0,\"#f0f921\"]]},\"colorway\":[\"#636efa\",\"#EF553B\",\"#00cc96\",\"#ab63fa\",\"#FFA15A\",\"#19d3f3\",\"#FF6692\",\"#B6E880\",\"#FF97FF\",\"#FECB52\"],\"font\":{\"color\":\"#2a3f5f\"},\"geo\":{\"bgcolor\":\"white\",\"lakecolor\":\"white\",\"landcolor\":\"#E5ECF6\",\"showlakes\":true,\"showland\":true,\"subunitcolor\":\"white\"},\"hoverlabel\":{\"align\":\"left\"},\"hovermode\":\"closest\",\"mapbox\":{\"style\":\"light\"},\"paper_bgcolor\":\"white\",\"plot_bgcolor\":\"#E5ECF6\",\"polar\":{\"angularaxis\":{\"gridcolor\":\"white\",\"linecolor\":\"white\",\"ticks\":\"\"},\"bgcolor\":\"#E5ECF6\",\"radialaxis\":{\"gridcolor\":\"white\",\"linecolor\":\"white\",\"ticks\":\"\"}},\"scene\":{\"xaxis\":{\"backgroundcolor\":\"#E5ECF6\",\"gridcolor\":\"white\",\"gridwidth\":2,\"linecolor\":\"white\",\"showbackground\":true,\"ticks\":\"\",\"zerolinecolor\":\"white\"},\"yaxis\":{\"backgroundcolor\":\"#E5ECF6\",\"gridcolor\":\"white\",\"gridwidth\":2,\"linecolor\":\"white\",\"showbackground\":true,\"ticks\":\"\",\"zerolinecolor\":\"white\"},\"zaxis\":{\"backgroundcolor\":\"#E5ECF6\",\"gridcolor\":\"white\",\"gridwidth\":2,\"linecolor\":\"white\",\"showbackground\":true,\"ticks\":\"\",\"zerolinecolor\":\"white\"}},\"shapedefaults\":{\"line\":{\"color\":\"#2a3f5f\"}},\"ternary\":{\"aaxis\":{\"gridcolor\":\"white\",\"linecolor\":\"white\",\"ticks\":\"\"},\"baxis\":{\"gridcolor\":\"white\",\"linecolor\":\"white\",\"ticks\":\"\"},\"bgcolor\":\"#E5ECF6\",\"caxis\":{\"gridcolor\":\"white\",\"linecolor\":\"white\",\"ticks\":\"\"}},\"title\":{\"x\":0.05},\"xaxis\":{\"automargin\":true,\"gridcolor\":\"white\",\"linecolor\":\"white\",\"ticks\":\"\",\"title\":{\"standoff\":15},\"zerolinecolor\":\"white\",\"zerolinewidth\":2},\"yaxis\":{\"automargin\":true,\"gridcolor\":\"white\",\"linecolor\":\"white\",\"ticks\":\"\",\"title\":{\"standoff\":15},\"zerolinecolor\":\"white\",\"zerolinewidth\":2}}},\"title\":{\"text\":\"Ranking Of Top 10 Recommended Dramas For A User Based On Similarity: 3.5094 RMSE\"},\"xaxis\":{\"range\":[8,10],\"title\":{\"text\":\"Recommendation-Rating\"}},\"yaxis\":{\"title\":{\"text\":\"Drama\"}}},                        {\"responsive\": true}                    ).then(function(){\n",
       "                            \n",
       "var gd = document.getElementById('0e1c668f-74bb-4f8d-ae6a-91f28e288ce4');\n",
       "var x = new MutationObserver(function (mutations, observer) {{\n",
       "        var display = window.getComputedStyle(gd).display;\n",
       "        if (!display || display === 'none') {{\n",
       "            console.log([gd, 'removed!']);\n",
       "            Plotly.purge(gd);\n",
       "            observer.disconnect();\n",
       "        }}\n",
       "}});\n",
       "\n",
       "// Listen for the removal of the full notebook cells\n",
       "var notebookContainer = gd.closest('#notebook-container');\n",
       "if (notebookContainer) {{\n",
       "    x.observe(notebookContainer, {childList: true});\n",
       "}}\n",
       "\n",
       "// Listen for the clearing of the current output cell\n",
       "var outputEl = gd.closest('.output');\n",
       "if (outputEl) {{\n",
       "    x.observe(outputEl, {childList: true});\n",
       "}}\n",
       "\n",
       "                        })                };                });            </script>        </div>"
      ]
     },
     "metadata": {},
     "output_type": "display_data"
    }
   ],
   "source": [
    "# Create trace\n",
    "trace = go.Bar(x = best_drama_recommendations.iloc[:n_plot, 0],\n",
    "               text = best_drama_recommendations['Name'],\n",
    "               textposition = 'inside',\n",
    "               textfont = dict(color = '#000000'),\n",
    "               orientation = 'h',\n",
    "               y = list(range(1, n_plot+1)),\n",
    "               marker = dict(color = '#db0000'))\n",
    "# Create layout\n",
    "layout = dict(title = 'Ranking Of Top {} Recommended Dramas For A User Based On Similarity: {:.4f} RMSE'.format(n_plot, rmse),\n",
    "              xaxis = dict(title = 'Recommendation-Rating',\n",
    "                           range = (8, 10)),\n",
    "              yaxis = dict(title = 'Drama'))\n",
    "# Create plot\n",
    "fig = go.Figure(data=[trace], layout=layout)\n",
    "iplot(fig)"
   ]
  },
  {
   "cell_type": "code",
   "execution_count": 101,
   "id": "4b3c3df4",
   "metadata": {},
   "outputs": [
    {
     "ename": "NameError",
     "evalue": "name 'df_use' is not defined",
     "output_type": "error",
     "traceback": [
      "\u001b[1;31m---------------------------------------------------------------------------\u001b[0m",
      "\u001b[1;31mNameError\u001b[0m                                 Traceback (most recent call last)",
      "Cell \u001b[1;32mIn[101], line 2\u001b[0m\n\u001b[0;32m      1\u001b[0m \u001b[38;5;66;03m## TFIDF based on tags? \u001b[39;00m\n\u001b[1;32m----> 2\u001b[0m \u001b[43mdf_use\u001b[49m\u001b[38;5;241m.\u001b[39mhead()\n",
      "\u001b[1;31mNameError\u001b[0m: name 'df_use' is not defined"
     ]
    }
   ],
   "source": [
    "## TFIDF based on tags? \n",
    "df_use.head()"
   ]
  },
  {
   "cell_type": "code",
   "execution_count": null,
   "id": "c966dda0",
   "metadata": {},
   "outputs": [],
   "source": [
    "# maybe try combining genre and tag columns? maybe just try with tag_names first, then see if combining helps "
   ]
  },
  {
   "cell_type": "code",
   "execution_count": null,
   "id": "668ed08b",
   "metadata": {},
   "outputs": [],
   "source": [
    "df_tags = df_use[['Name','tag_names']]\n",
    "df_tags.set_index('Name', inplace=True)\n",
    "df_tags.head()"
   ]
  },
  {
   "cell_type": "code",
   "execution_count": null,
   "id": "96cfb4bb",
   "metadata": {},
   "outputs": [],
   "source": [
    "df_tags[df_tags.index==\"semantic error\"]"
   ]
  },
  {
   "cell_type": "code",
   "execution_count": null,
   "id": "e4c4d73b",
   "metadata": {},
   "outputs": [],
   "source": [
    "tfidf = TfidfVectorizer()\n",
    "tfidf_matrix = tfidf.fit_transform(df_tags['tag_names'].dropna())\n",
    "\n",
    "\n",
    "# Compute cosine similarity between all movie-descriptions\n",
    "similarity = cosine_similarity(tfidf_matrix)\n",
    "# Remove self-similarity from matrix\n",
    "similarity -= np.eye(similarity.shape[0])\n",
    "\n",
    "\n",
    "# Get index of movie to find similar movies\n",
    "movie = 'semantic error'\n",
    "n_plot = 10\n",
    "index = df_tags.reset_index(drop=True)[df_tags.index==movie].index[0]\n",
    "\n",
    "# Get indices and scores of similar movies\n",
    "similar_drama_index = np.argsort(similarity[index])[::-1][:n_plot]\n",
    "similar_drama_score = np.sort(similarity[index])[::-1][:n_plot]\n",
    "\n",
    "# Get titles of similar movies\n",
    "similar_drama_titles = df_tags.iloc[similar_drama_index].index\n",
    "\n",
    "\n",
    "# Create trace\n",
    "trace = go.Bar(x = similar_drama_score,\n",
    "               text = similar_drama_titles,\n",
    "               textposition = 'inside',\n",
    "               textfont = dict(color = '#000000'),\n",
    "               orientation = 'h',\n",
    "               y = list(range(1, n_plot+1)),\n",
    "               marker = dict(color = '#db0000'))\n",
    "# Create layout\n",
    "layout = dict(title = 'Ranking Of Top {} Most Similar Drama Descriptions For \"{}\"'.format(n_plot, movie),\n",
    "              xaxis = dict(title = 'Cosine TFIDF Description Similarity',\n",
    "                           #range = (0, 0.4)\n",
    "                          ),\n",
    "              yaxis = dict(title = 'Drama'))\n",
    "# Create plot\n",
    "fig = go.Figure(data=[trace], layout=layout)\n",
    "iplot(fig)"
   ]
  },
  {
   "cell_type": "code",
   "execution_count": null,
   "id": "e10852c2",
   "metadata": {},
   "outputs": [],
   "source": [
    "# lets combine the genre and tags \n",
    "# Combine 'genre_names' and 'tag_names' into a new column\n",
    "df_use['combined_genres_tags'] = df_use.apply(lambda row: str(row['genre_names']) + \" \" + str(row['tag_names']), axis=1)\n",
    "df_gtags = df_use[['Name','combined_genres_tags']]\n",
    "df_gtags.set_index('Name', inplace=True)\n",
    "df_gtags.head()"
   ]
  },
  {
   "cell_type": "code",
   "execution_count": null,
   "id": "571750d2",
   "metadata": {},
   "outputs": [],
   "source": [
    "tfidf = TfidfVectorizer()\n",
    "tfidf_matrix = tfidf.fit_transform(df_gtags['combined_genres_tags'].dropna())\n",
    "\n",
    "\n",
    "# Compute cosine similarity between all movie-descriptions\n",
    "similarity = cosine_similarity(tfidf_matrix)\n",
    "# Remove self-similarity from matrix\n",
    "similarity -= np.eye(similarity.shape[0])\n",
    "\n",
    "\n",
    "# Get index of movie to find similar movies\n",
    "movie = 'semantic error'\n",
    "n_plot = 10\n",
    "index = df_gtags.reset_index(drop=True)[df_gtags.index==movie].index[0]\n",
    "\n",
    "# Get indices and scores of similar movies\n",
    "similar_drama_index = np.argsort(similarity[index])[::-1][:n_plot]\n",
    "similar_drama_score = np.sort(similarity[index])[::-1][:n_plot]\n",
    "\n",
    "# Get titles of similar movies\n",
    "similar_movie_titles = df_gtags.iloc[similar_drama_index].index\n",
    "\n",
    "\n",
    "# Create trace\n",
    "trace = go.Bar(x = similar_drama_score,\n",
    "               text = similar_drama_titles,\n",
    "               textposition = 'inside',\n",
    "               textfont = dict(color = '#000000'),\n",
    "               orientation = 'h',\n",
    "               y = list(range(1, n_plot+1)),\n",
    "               marker = dict(color = '#db0000'))\n",
    "# Create layout\n",
    "layout = dict(title = 'Ranking Of Top {} Most Similar Drama Descriptions For \"{}\"'.format(n_plot, movie),\n",
    "              xaxis = dict(title = 'Cosine TFIDF Description Similarity',\n",
    "                           #range = (0, 0.4)\n",
    "                          ),\n",
    "              yaxis = dict(title = 'Drama'))\n",
    "# Create plot\n",
    "fig = go.Figure(data=[trace], layout=layout)\n",
    "iplot(fig)"
   ]
  },
  {
   "cell_type": "code",
   "execution_count": null,
   "id": "98514c16",
   "metadata": {},
   "outputs": [],
   "source": [
    "## Matrix Factorisation With Keras And Gradient Descent"
   ]
  },
  {
   "cell_type": "code",
   "execution_count": null,
   "id": "e0a3469a",
   "metadata": {},
   "outputs": [],
   "source": [
    "# genres are too ... general. so will go for the tags instead which goes deeper into the content of the story\n",
    "# Create user- & movie-id mapping\n",
    "user_id_mapping = {id:i for i, id in enumerate(reviews['User'].unique())}\n",
    "movie_id_mapping = {id:i for i, id in enumerate(reviews['Drama'].unique())}\n",
    "\n",
    "\n",
    "# Create correctly mapped train- & testset\n",
    "train_user_data = df_train['User'].map(user_id_mapping)\n",
    "train_movie_data = df_train['Drama'].map(movie_id_mapping)\n",
    "\n",
    "test_user_data = df_test['User'].map(user_id_mapping)\n",
    "test_movie_data = df_test['Drama'].map(movie_id_mapping)\n",
    "\n",
    "\n",
    "# Get input variable-sizes\n",
    "users = len(user_id_mapping)\n",
    "movies = len(movie_id_mapping)\n",
    "embedding_size = 10\n",
    "\n",
    "\n",
    "##### Create model\n",
    "# Set input layers\n",
    "user_id_input = Input(shape=[1], name='user')\n",
    "movie_id_input = Input(shape=[1], name='drama')\n",
    "\n",
    "# Create embedding layers for users and movies\n",
    "user_embedding = Embedding(output_dim=embedding_size, \n",
    "                           input_dim=users,\n",
    "                           input_length=1, \n",
    "                           name='user_embedding')(user_id_input)\n",
    "movie_embedding = Embedding(output_dim=embedding_size, \n",
    "                            input_dim=movies,\n",
    "                            input_length=1, \n",
    "                            name='item_embedding')(movie_id_input)\n",
    "\n",
    "# Reshape the embedding layers\n",
    "user_vector = Reshape([embedding_size])(user_embedding)\n",
    "movie_vector = Reshape([embedding_size])(movie_embedding)\n",
    "\n",
    "# Compute dot-product of reshaped embedding layers as prediction\n",
    "y = Dot(1, normalize=False)([user_vector, movie_vector])\n",
    "\n",
    "# Setup model\n",
    "model = Model(inputs=[user_id_input, movie_id_input], outputs=y)\n",
    "model.compile(loss='mse', optimizer='adam')\n",
    "\n",
    "\n",
    "# Fit model\n",
    "model.fit([train_user_data, train_movie_data],\n",
    "          df_train['Rating'],\n",
    "          batch_size=256, \n",
    "          epochs=1,\n",
    "          validation_split=0.1,\n",
    "          shuffle=True)\n",
    "\n",
    "# Test model\n",
    "y_pred = model.predict([test_user_data, test_movie_data])\n",
    "y_true = df_test['Rating'].values\n",
    "\n",
    "#  Compute RMSE\n",
    "rmse = np.sqrt(mean_squared_error(y_pred=y_pred, y_true=y_true))\n",
    "print('\\n\\nTesting Result With Keras Matrix-Factorization: {:.4f} RMSE'.format(rmse))\n"
   ]
  },
  {
   "cell_type": "code",
   "execution_count": null,
   "id": "d0fc3e9c",
   "metadata": {},
   "outputs": [],
   "source": []
  },
  {
   "cell_type": "code",
   "execution_count": null,
   "id": "2512dab5",
   "metadata": {},
   "outputs": [],
   "source": []
  },
  {
   "cell_type": "code",
   "execution_count": null,
   "id": "f807fa7d",
   "metadata": {},
   "outputs": [],
   "source": []
  },
  {
   "cell_type": "code",
   "execution_count": null,
   "id": "e9960b3a",
   "metadata": {},
   "outputs": [],
   "source": []
  }
 ],
 "metadata": {
  "kernelspec": {
   "display_name": "bus_analytics",
   "language": "python",
   "name": "bus_analytics"
  },
  "language_info": {
   "codemirror_mode": {
    "name": "ipython",
    "version": 3
   },
   "file_extension": ".py",
   "mimetype": "text/x-python",
   "name": "python",
   "nbconvert_exporter": "python",
   "pygments_lexer": "ipython3",
   "version": "3.10.13"
  }
 },
 "nbformat": 4,
 "nbformat_minor": 5
}
